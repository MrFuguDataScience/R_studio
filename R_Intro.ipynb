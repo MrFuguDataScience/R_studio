{
 "cells": [
  {
   "cell_type": "markdown",
   "metadata": {},
   "source": [
    "# `An Introduction to R-Studio` \n",
    "\n",
    "**With**\n",
    "\n",
    "# <font color=red>Mr Fugu Data Science</font>\n",
    "\n",
    "# (◕‿◕✿)"
   ]
  },
  {
   "cell_type": "code",
   "execution_count": 141,
   "metadata": {},
   "outputs": [
    {
     "data": {
      "text/html": [
       "'/Users/zatoichi59'"
      ],
      "text/latex": [
       "'/Users/zatoichi59'"
      ],
      "text/markdown": [
       "'/Users/zatoichi59'"
      ],
      "text/plain": [
       "[1] \"/Users/zatoichi59\""
      ]
     },
     "metadata": {},
     "output_type": "display_data"
    }
   ],
   "source": [
    "# Basic useful commands:\n",
    "\n",
    "# get the current working directory:\n",
    "getwd()\n",
    "\n",
    "# set working directory:\n",
    "setwd()\n",
    "\n"
   ]
  },
  {
   "cell_type": "code",
   "execution_count": 1,
   "metadata": {},
   "outputs": [
    {
     "data": {
      "text/html": [
       "120"
      ],
      "text/latex": [
       "120"
      ],
      "text/markdown": [
       "120"
      ],
      "text/plain": [
       "[1] 120"
      ]
     },
     "metadata": {},
     "output_type": "display_data"
    }
   ],
   "source": [
    "# you can use R like a calculator:\n",
    "\n",
    "factorial(5)"
   ]
  },
  {
   "cell_type": "code",
   "execution_count": null,
   "metadata": {},
   "outputs": [],
   "source": [
    "# Assign Variables:"
   ]
  },
  {
   "cell_type": "code",
   "execution_count": 1,
   "metadata": {},
   "outputs": [
    {
     "data": {
      "text/html": [
       "10.5830052442584"
      ],
      "text/latex": [
       "10.5830052442584"
      ],
      "text/markdown": [
       "10.5830052442584"
      ],
      "text/plain": [
       "[1] 10.58301"
      ]
     },
     "metadata": {},
     "output_type": "display_data"
    },
    {
     "data": {
      "text/html": [
       "10.583"
      ],
      "text/latex": [
       "10.583"
      ],
      "text/markdown": [
       "10.583"
      ],
      "text/plain": [
       "[1] 10.583"
      ]
     },
     "metadata": {},
     "output_type": "display_data"
    },
    {
     "data": {
      "text/html": [
       "10"
      ],
      "text/latex": [
       "10"
      ],
      "text/markdown": [
       "10"
      ],
      "text/plain": [
       "[1] 10"
      ]
     },
     "metadata": {},
     "output_type": "display_data"
    },
    {
     "data": {
      "text/html": [
       "10"
      ],
      "text/latex": [
       "10"
      ],
      "text/markdown": [
       "10"
      ],
      "text/plain": [
       "[1] 10"
      ]
     },
     "metadata": {},
     "output_type": "display_data"
    },
    {
     "data": {
      "text/html": [
       "11"
      ],
      "text/latex": [
       "11"
      ],
      "text/markdown": [
       "11"
      ],
      "text/plain": [
       "[1] 11"
      ]
     },
     "metadata": {},
     "output_type": "display_data"
    }
   ],
   "source": [
    "x<-4\n",
    "y<- sqrt(7)\n",
    "\n",
    "x*y\n",
    "\n",
    "# Round to specified number of decimals\n",
    "round(x*y,4)\n",
    "\n",
    "# truncate: cutting of decimal\n",
    "trunc(x*y)\n",
    "\n",
    "# Floor:\n",
    "floor(x*y)\n",
    "\n",
    "# Ceiling:\n",
    "ceiling(x*y)"
   ]
  },
  {
   "cell_type": "code",
   "execution_count": 2,
   "metadata": {},
   "outputs": [
    {
     "data": {
      "text/html": [
       "<style>\n",
       ".list-inline {list-style: none; margin:0; padding: 0}\n",
       ".list-inline>li {display: inline-block}\n",
       ".list-inline>li:not(:last-child)::after {content: \"\\00b7\"; padding: 0 .5ex}\n",
       "</style>\n",
       "<ol class=list-inline><li>0</li><li>0</li><li>0</li><li>0</li><li>0</li></ol>\n"
      ],
      "text/latex": [
       "\\begin{enumerate*}\n",
       "\\item 0\n",
       "\\item 0\n",
       "\\item 0\n",
       "\\item 0\n",
       "\\item 0\n",
       "\\end{enumerate*}\n"
      ],
      "text/markdown": [
       "1. 0\n",
       "2. 0\n",
       "3. 0\n",
       "4. 0\n",
       "5. 0\n",
       "\n",
       "\n"
      ],
      "text/plain": [
       "[1] 0 0 0 0 0"
      ]
     },
     "metadata": {},
     "output_type": "display_data"
    },
    {
     "data": {
      "text/html": [
       "<style>\n",
       ".list-inline {list-style: none; margin:0; padding: 0}\n",
       ".list-inline>li {display: inline-block}\n",
       ".list-inline>li:not(:last-child)::after {content: \"\\00b7\"; padding: 0 .5ex}\n",
       "</style>\n",
       "<ol class=list-inline><li>'0'</li><li>'0'</li><li>'yay'</li><li>'0'</li><li>'0'</li></ol>\n"
      ],
      "text/latex": [
       "\\begin{enumerate*}\n",
       "\\item '0'\n",
       "\\item '0'\n",
       "\\item 'yay'\n",
       "\\item '0'\n",
       "\\item '0'\n",
       "\\end{enumerate*}\n"
      ],
      "text/markdown": [
       "1. '0'\n",
       "2. '0'\n",
       "3. 'yay'\n",
       "4. '0'\n",
       "5. '0'\n",
       "\n",
       "\n"
      ],
      "text/plain": [
       "[1] \"0\"   \"0\"   \"yay\" \"0\"   \"0\"  "
      ]
     },
     "metadata": {},
     "output_type": "display_data"
    }
   ],
   "source": [
    "# Replace variables:\n",
    "\n",
    "old<-c(0,0,0,0,0)\n",
    "old\n",
    "\n",
    "old[3]<-'yay'\n",
    "old"
   ]
  },
  {
   "cell_type": "markdown",
   "metadata": {},
   "source": [
    "# Vectors: basic syntax `c( , )`\n",
    "+ One of the palces R, shines; as well as matrices and data frames"
   ]
  },
  {
   "cell_type": "code",
   "execution_count": 18,
   "metadata": {},
   "outputs": [
    {
     "data": {
      "text/html": [
       "<style>\n",
       ".list-inline {list-style: none; margin:0; padding: 0}\n",
       ".list-inline>li {display: inline-block}\n",
       ".list-inline>li:not(:last-child)::after {content: \"\\00b7\"; padding: 0 .5ex}\n",
       "</style>\n",
       "<ol class=list-inline><li>-1</li><li>-3</li><li>0</li><li>9</li></ol>\n"
      ],
      "text/latex": [
       "\\begin{enumerate*}\n",
       "\\item -1\n",
       "\\item -3\n",
       "\\item 0\n",
       "\\item 9\n",
       "\\end{enumerate*}\n"
      ],
      "text/markdown": [
       "1. -1\n",
       "2. -3\n",
       "3. 0\n",
       "4. 9\n",
       "\n",
       "\n"
      ],
      "text/plain": [
       "[1] -1 -3  0  9"
      ]
     },
     "metadata": {},
     "output_type": "display_data"
    },
    {
     "data": {
      "text/html": [
       "<style>\n",
       ".list-inline {list-style: none; margin:0; padding: 0}\n",
       ".list-inline>li {display: inline-block}\n",
       ".list-inline>li:not(:last-child)::after {content: \"\\00b7\"; padding: 0 .5ex}\n",
       "</style>\n",
       "<ol class=list-inline><li>'Icecream'</li><li>'-1'</li><li>'0.5'</li></ol>\n"
      ],
      "text/latex": [
       "\\begin{enumerate*}\n",
       "\\item 'Icecream'\n",
       "\\item '-1'\n",
       "\\item '0.5'\n",
       "\\end{enumerate*}\n"
      ],
      "text/markdown": [
       "1. 'Icecream'\n",
       "2. '-1'\n",
       "3. '0.5'\n",
       "\n",
       "\n"
      ],
      "text/plain": [
       "[1] \"Icecream\" \"-1\"       \"0.5\"     "
      ]
     },
     "metadata": {},
     "output_type": "display_data"
    },
    {
     "data": {
      "text/html": [
       "<style>\n",
       ".list-inline {list-style: none; margin:0; padding: 0}\n",
       ".list-inline>li {display: inline-block}\n",
       ".list-inline>li:not(:last-child)::after {content: \"\\00b7\"; padding: 0 .5ex}\n",
       "</style>\n",
       "<ol class=list-inline><li>5</li><li>6</li><li>7</li></ol>\n"
      ],
      "text/latex": [
       "\\begin{enumerate*}\n",
       "\\item 5\n",
       "\\item 6\n",
       "\\item 7\n",
       "\\end{enumerate*}\n"
      ],
      "text/markdown": [
       "1. 5\n",
       "2. 6\n",
       "3. 7\n",
       "\n",
       "\n"
      ],
      "text/plain": [
       "[1] 5 6 7"
      ]
     },
     "metadata": {},
     "output_type": "display_data"
    }
   ],
   "source": [
    "my_firstVec <- c(-1,-3,0,9)\n",
    "my_firstVec\n",
    "\n",
    "\n",
    "# A vector will default to its weakest type:\n",
    "new_vec<- c('Icecream',-1,0.5)\n",
    "\n",
    "#Notice the strings around the digits\n",
    "new_vec\n",
    "\n"
   ]
  },
  {
   "cell_type": "code",
   "execution_count": 20,
   "metadata": {},
   "outputs": [
    {
     "data": {
      "text/html": [
       "<style>\n",
       ".list-inline {list-style: none; margin:0; padding: 0}\n",
       ".list-inline>li {display: inline-block}\n",
       ".list-inline>li:not(:last-child)::after {content: \"\\00b7\"; padding: 0 .5ex}\n",
       "</style>\n",
       "<ol class=list-inline><li>5</li><li>6</li><li>7</li></ol>\n"
      ],
      "text/latex": [
       "\\begin{enumerate*}\n",
       "\\item 5\n",
       "\\item 6\n",
       "\\item 7\n",
       "\\end{enumerate*}\n"
      ],
      "text/markdown": [
       "1. 5\n",
       "2. 6\n",
       "3. 7\n",
       "\n",
       "\n"
      ],
      "text/plain": [
       "[1] 5 6 7"
      ]
     },
     "metadata": {},
     "output_type": "display_data"
    },
    {
     "data": {
      "text/html": [
       "<style>\n",
       ".list-inline {list-style: none; margin:0; padding: 0}\n",
       ".list-inline>li {display: inline-block}\n",
       ".list-inline>li:not(:last-child)::after {content: \"\\00b7\"; padding: 0 .5ex}\n",
       "</style>\n",
       "<ol class=list-inline><li>5</li><li>5.6</li><li>6.2</li><li>6.8</li><li>7.4</li><li>8</li><li>8.6</li></ol>\n"
      ],
      "text/latex": [
       "\\begin{enumerate*}\n",
       "\\item 5\n",
       "\\item 5.6\n",
       "\\item 6.2\n",
       "\\item 6.8\n",
       "\\item 7.4\n",
       "\\item 8\n",
       "\\item 8.6\n",
       "\\end{enumerate*}\n"
      ],
      "text/markdown": [
       "1. 5\n",
       "2. 5.6\n",
       "3. 6.2\n",
       "4. 6.8\n",
       "5. 7.4\n",
       "6. 8\n",
       "7. 8.6\n",
       "\n",
       "\n"
      ],
      "text/plain": [
       "[1] 5.0 5.6 6.2 6.8 7.4 8.0 8.6"
      ]
     },
     "metadata": {},
     "output_type": "display_data"
    },
    {
     "data": {
      "text/html": [
       "<style>\n",
       ".list-inline {list-style: none; margin:0; padding: 0}\n",
       ".list-inline>li {display: inline-block}\n",
       ".list-inline>li:not(:last-child)::after {content: \"\\00b7\"; padding: 0 .5ex}\n",
       "</style>\n",
       "<ol class=list-inline><li>2</li><li>2.75</li><li>3.5</li><li>4.25</li><li>5</li><li>5.75</li><li>6.5</li><li>7.25</li><li>8</li></ol>\n"
      ],
      "text/latex": [
       "\\begin{enumerate*}\n",
       "\\item 2\n",
       "\\item 2.75\n",
       "\\item 3.5\n",
       "\\item 4.25\n",
       "\\item 5\n",
       "\\item 5.75\n",
       "\\item 6.5\n",
       "\\item 7.25\n",
       "\\item 8\n",
       "\\end{enumerate*}\n"
      ],
      "text/markdown": [
       "1. 2\n",
       "2. 2.75\n",
       "3. 3.5\n",
       "4. 4.25\n",
       "5. 5\n",
       "6. 5.75\n",
       "7. 6.5\n",
       "8. 7.25\n",
       "9. 8\n",
       "\n",
       "\n"
      ],
      "text/plain": [
       "[1] 2.00 2.75 3.50 4.25 5.00 5.75 6.50 7.25 8.00"
      ]
     },
     "metadata": {},
     "output_type": "display_data"
    }
   ],
   "source": [
    "# Sequence \n",
    "seq_vec<- 5:7\n",
    "seq_vec\n",
    "\n",
    "# sequence with range\n",
    "sq_vec<-seq(5,9,by=.6)\n",
    "sq_vec\n",
    "\n",
    "# vector of specified length within your input range\n",
    "sq_vec_len<-seq(2,8,length=9)\n",
    "sq_vec_len"
   ]
  },
  {
   "cell_type": "code",
   "execution_count": 32,
   "metadata": {},
   "outputs": [
    {
     "data": {
      "text/html": [
       "<style>\n",
       ".list-inline {list-style: none; margin:0; padding: 0}\n",
       ".list-inline>li {display: inline-block}\n",
       ".list-inline>li:not(:last-child)::after {content: \"\\00b7\"; padding: 0 .5ex}\n",
       "</style>\n",
       "<ol class=list-inline><li>'I'</li><li>'love'</li><li>'data'</li><li>'science'</li><li>'I'</li><li>'love'</li><li>'data'</li><li>'science'</li></ol>\n"
      ],
      "text/latex": [
       "\\begin{enumerate*}\n",
       "\\item 'I'\n",
       "\\item 'love'\n",
       "\\item 'data'\n",
       "\\item 'science'\n",
       "\\item 'I'\n",
       "\\item 'love'\n",
       "\\item 'data'\n",
       "\\item 'science'\n",
       "\\end{enumerate*}\n"
      ],
      "text/markdown": [
       "1. 'I'\n",
       "2. 'love'\n",
       "3. 'data'\n",
       "4. 'science'\n",
       "5. 'I'\n",
       "6. 'love'\n",
       "7. 'data'\n",
       "8. 'science'\n",
       "\n",
       "\n"
      ],
      "text/plain": [
       "[1] \"I\"       \"love\"    \"data\"    \"science\" \"I\"       \"love\"    \"data\"   \n",
       "[8] \"science\""
      ]
     },
     "metadata": {},
     "output_type": "display_data"
    },
    {
     "data": {
      "text/html": [
       "<style>\n",
       ".list-inline {list-style: none; margin:0; padding: 0}\n",
       ".list-inline>li {display: inline-block}\n",
       ".list-inline>li:not(:last-child)::after {content: \"\\00b7\"; padding: 0 .5ex}\n",
       "</style>\n",
       "<ol class=list-inline><li>'I'</li><li>'love'</li><li>'love'</li><li>'data'</li><li>'data'</li><li>'data'</li><li>'science'</li><li>'science'</li><li>'science'</li></ol>\n"
      ],
      "text/latex": [
       "\\begin{enumerate*}\n",
       "\\item 'I'\n",
       "\\item 'love'\n",
       "\\item 'love'\n",
       "\\item 'data'\n",
       "\\item 'data'\n",
       "\\item 'data'\n",
       "\\item 'science'\n",
       "\\item 'science'\n",
       "\\item 'science'\n",
       "\\end{enumerate*}\n"
      ],
      "text/markdown": [
       "1. 'I'\n",
       "2. 'love'\n",
       "3. 'love'\n",
       "4. 'data'\n",
       "5. 'data'\n",
       "6. 'data'\n",
       "7. 'science'\n",
       "8. 'science'\n",
       "9. 'science'\n",
       "\n",
       "\n"
      ],
      "text/plain": [
       "[1] \"I\"       \"love\"    \"love\"    \"data\"    \"data\"    \"data\"    \"science\"\n",
       "[8] \"science\" \"science\""
      ]
     },
     "metadata": {},
     "output_type": "display_data"
    }
   ],
   "source": [
    "# Repetitions:\n",
    "\n",
    "# think concatinating to end:\n",
    "rep(c('I',\"love\",'data',\"science\"),2)\n",
    "\n",
    "# repeats sequence in place\n",
    "rep(c('I',\"love\",'data',\"science\"),c(1,2,3,3))\n",
    "\n",
    "# -----------"
   ]
  },
  {
   "cell_type": "code",
   "execution_count": 35,
   "metadata": {},
   "outputs": [
    {
     "data": {
      "text/html": [
       "<style>\n",
       ".list-inline {list-style: none; margin:0; padding: 0}\n",
       ".list-inline>li {display: inline-block}\n",
       ".list-inline>li:not(:last-child)::after {content: \"\\00b7\"; padding: 0 .5ex}\n",
       "</style>\n",
       "<ol class=list-inline><li>15</li><li>18</li><li>21</li></ol>\n"
      ],
      "text/latex": [
       "\\begin{enumerate*}\n",
       "\\item 15\n",
       "\\item 18\n",
       "\\item 21\n",
       "\\end{enumerate*}\n"
      ],
      "text/markdown": [
       "1. 15\n",
       "2. 18\n",
       "3. 21\n",
       "\n",
       "\n"
      ],
      "text/plain": [
       "[1] 15 18 21"
      ]
     },
     "metadata": {},
     "output_type": "display_data"
    },
    {
     "data": {
      "text/html": [
       "<style>\n",
       ".list-inline {list-style: none; margin:0; padding: 0}\n",
       ".list-inline>li {display: inline-block}\n",
       ".list-inline>li:not(:last-child)::after {content: \"\\00b7\"; padding: 0 .5ex}\n",
       "</style>\n",
       "<ol class=list-inline><li>9</li><li>11.5</li><li>14</li><li>13.5</li><li>16</li><li>18.5</li><li>18</li><li>20.5</li><li>23</li></ol>\n"
      ],
      "text/latex": [
       "\\begin{enumerate*}\n",
       "\\item 9\n",
       "\\item 11.5\n",
       "\\item 14\n",
       "\\item 13.5\n",
       "\\item 16\n",
       "\\item 18.5\n",
       "\\item 18\n",
       "\\item 20.5\n",
       "\\item 23\n",
       "\\end{enumerate*}\n"
      ],
      "text/markdown": [
       "1. 9\n",
       "2. 11.5\n",
       "3. 14\n",
       "4. 13.5\n",
       "5. 16\n",
       "6. 18.5\n",
       "7. 18\n",
       "8. 20.5\n",
       "9. 23\n",
       "\n",
       "\n"
      ],
      "text/plain": [
       "[1]  9.0 11.5 14.0 13.5 16.0 18.5 18.0 20.5 23.0"
      ]
     },
     "metadata": {},
     "output_type": "display_data"
    },
    {
     "data": {
      "text/html": [
       "5"
      ],
      "text/latex": [
       "5"
      ],
      "text/markdown": [
       "5"
      ],
      "text/plain": [
       "[1] 5"
      ]
     },
     "metadata": {},
     "output_type": "display_data"
    },
    {
     "data": {
      "text/html": [
       "<style>\n",
       ".list-inline {list-style: none; margin:0; padding: 0}\n",
       ".list-inline>li {display: inline-block}\n",
       ".list-inline>li:not(:last-child)::after {content: \"\\00b7\"; padding: 0 .5ex}\n",
       "</style>\n",
       "<ol class=list-inline><li>6</li><li>7</li></ol>\n"
      ],
      "text/latex": [
       "\\begin{enumerate*}\n",
       "\\item 6\n",
       "\\item 7\n",
       "\\end{enumerate*}\n"
      ],
      "text/markdown": [
       "1. 6\n",
       "2. 7\n",
       "\n",
       "\n"
      ],
      "text/plain": [
       "[1] 6 7"
      ]
     },
     "metadata": {},
     "output_type": "display_data"
    },
    {
     "data": {
      "text/html": [
       "<style>\n",
       ".list-inline {list-style: none; margin:0; padding: 0}\n",
       ".list-inline>li {display: inline-block}\n",
       ".list-inline>li:not(:last-child)::after {content: \"\\00b7\"; padding: 0 .5ex}\n",
       "</style>\n",
       "<ol class=list-inline><li>2</li><li>3.5</li><li>5.75</li></ol>\n"
      ],
      "text/latex": [
       "\\begin{enumerate*}\n",
       "\\item 2\n",
       "\\item 3.5\n",
       "\\item 5.75\n",
       "\\end{enumerate*}\n"
      ],
      "text/markdown": [
       "1. 2\n",
       "2. 3.5\n",
       "3. 5.75\n",
       "\n",
       "\n"
      ],
      "text/plain": [
       "[1] 2.00 3.50 5.75"
      ]
     },
     "metadata": {},
     "output_type": "display_data"
    }
   ],
   "source": [
    "# Vector operations such as multiply and addition (term by term) can be done:\n",
    "\n",
    "seq_vec*3\n",
    "\n",
    "seq_vec+2*sq_vec_len\n",
    "\n",
    "# you can access values by index: one at a time or many\n",
    "seq_vec[1]\n",
    "\n",
    "seq_vec[2:3]\n",
    "\n",
    "sq_vec_len[c(1,3,6)]"
   ]
  },
  {
   "cell_type": "code",
   "execution_count": 42,
   "metadata": {},
   "outputs": [
    {
     "data": {
      "text/html": [
       "<style>\n",
       ".list-inline {list-style: none; margin:0; padding: 0}\n",
       ".list-inline>li {display: inline-block}\n",
       ".list-inline>li:not(:last-child)::after {content: \"\\00b7\"; padding: 0 .5ex}\n",
       "</style>\n",
       "<ol class=list-inline><li>FALSE</li><li>FALSE</li><li>FALSE</li><li>FALSE</li><li>FALSE</li><li>TRUE</li><li>TRUE</li><li>TRUE</li><li>TRUE</li></ol>\n"
      ],
      "text/latex": [
       "\\begin{enumerate*}\n",
       "\\item FALSE\n",
       "\\item FALSE\n",
       "\\item FALSE\n",
       "\\item FALSE\n",
       "\\item FALSE\n",
       "\\item TRUE\n",
       "\\item TRUE\n",
       "\\item TRUE\n",
       "\\item TRUE\n",
       "\\end{enumerate*}\n"
      ],
      "text/markdown": [
       "1. FALSE\n",
       "2. FALSE\n",
       "3. FALSE\n",
       "4. FALSE\n",
       "5. FALSE\n",
       "6. TRUE\n",
       "7. TRUE\n",
       "8. TRUE\n",
       "9. TRUE\n",
       "\n",
       "\n"
      ],
      "text/plain": [
       "[1] FALSE FALSE FALSE FALSE FALSE  TRUE  TRUE  TRUE  TRUE"
      ]
     },
     "metadata": {},
     "output_type": "display_data"
    },
    {
     "data": {
      "text/html": [
       "<style>\n",
       ".list-inline {list-style: none; margin:0; padding: 0}\n",
       ".list-inline>li {display: inline-block}\n",
       ".list-inline>li:not(:last-child)::after {content: \"\\00b7\"; padding: 0 .5ex}\n",
       "</style>\n",
       "<ol class=list-inline><li>18.5</li><li>18</li><li>20.5</li><li>23</li></ol>\n"
      ],
      "text/latex": [
       "\\begin{enumerate*}\n",
       "\\item 18.5\n",
       "\\item 18\n",
       "\\item 20.5\n",
       "\\item 23\n",
       "\\end{enumerate*}\n"
      ],
      "text/markdown": [
       "1. 18.5\n",
       "2. 18\n",
       "3. 20.5\n",
       "4. 23\n",
       "\n",
       "\n"
      ],
      "text/plain": [
       "[1] 18.5 18.0 20.5 23.0"
      ]
     },
     "metadata": {},
     "output_type": "display_data"
    }
   ],
   "source": [
    "# can do a Boolean comparison:\n",
    "comp_vec<-seq_vec+2*sq_vec_len\n",
    "comp_vec>16\n",
    "\n",
    "#find values meeting boolean operation\n",
    "comparison_vec<-comp_vec>16\n",
    "comp_vec[comparison_vec]"
   ]
  },
  {
   "cell_type": "markdown",
   "metadata": {},
   "source": [
    "# Plotting:\n",
    "\n",
    "+ Base R, has plotting functionality\n",
    "    + Libraries such as `ggplot2` are often used for advanced features"
   ]
  },
  {
   "cell_type": "code",
   "execution_count": 138,
   "metadata": {},
   "outputs": [
    {
     "data": {
      "image/png": "[encoded data removed]",
      "text/plain": [
       "plot without title"
      ]
     },
     "metadata": {
      "image/png": {
       "height": 420,
       "width": 420
      },
      "text/plain": {
       "height": 420,
       "width": 420
      }
     },
     "output_type": "display_data"
    }
   ],
   "source": [
    "v3<-seq(1,3,length=10)\n",
    "plot(v3,v3^2)"
   ]
  },
  {
   "cell_type": "code",
   "execution_count": 140,
   "metadata": {},
   "outputs": [
    {
     "data": {
      "image/png": "[encoded data removed]",
      "text/plain": [
       "plot without title"
      ]
     },
     "metadata": {
      "image/png": {
       "height": 420,
       "width": 420
      },
      "text/plain": {
       "height": 420,
       "width": 420
      }
     },
     "output_type": "display_data"
    }
   ],
   "source": [
    "# Simple Barplot:\n",
    "barplot(sq_vec_len )"
   ]
  },
  {
   "cell_type": "code",
   "execution_count": null,
   "metadata": {},
   "outputs": [],
   "source": [
    "# can do various other plots such as histograms etc.."
   ]
  },
  {
   "cell_type": "markdown",
   "metadata": {},
   "source": [
    "# We can write functions or equations using Latex:\n",
    "this can be used to make literature or presentations look professional\n",
    "\n",
    "encapsulate what you want to write within dollar signs: `$$something_you want $$`\n",
    "\n",
    "\n",
    "$$\\sum_{n=1}^{10} n^2$$\n"
   ]
  },
  {
   "cell_type": "markdown",
   "metadata": {},
   "source": [
    "# Probability & Statistics (*Built in functions*) Base R\n",
    "\n",
    "+ `what if you know a function or have an idea but not what it does?`\n",
    "\n",
    "    + for example we have `runif()` , but what does it do or how to use it?\n",
    "     \n",
    "\n",
    "well put a question mark in front and you will get the documentation: `?runif`"
   ]
  },
  {
   "cell_type": "code",
   "execution_count": 4,
   "metadata": {},
   "outputs": [
    {
     "data": {
      "text/html": [
       "<style>\n",
       ".list-inline {list-style: none; margin:0; padding: 0}\n",
       ".list-inline>li {display: inline-block}\n",
       ".list-inline>li:not(:last-child)::after {content: \"\\00b7\"; padding: 0 .5ex}\n",
       "</style>\n",
       "<ol class=list-inline><li>0.245535854250193</li><li>0.367100795265287</li><li>-0.870561884250492</li><li>0.187113768886775</li><li>-0.844769279938191</li><li>0.813514930661768</li><li>0.847346059512347</li><li>0.225478164386004</li><li>0.321629679761827</li><li>0.55576233798638</li></ol>\n"
      ],
      "text/latex": [
       "\\begin{enumerate*}\n",
       "\\item 0.245535854250193\n",
       "\\item 0.367100795265287\n",
       "\\item -0.870561884250492\n",
       "\\item 0.187113768886775\n",
       "\\item -0.844769279938191\n",
       "\\item 0.813514930661768\n",
       "\\item 0.847346059512347\n",
       "\\item 0.225478164386004\n",
       "\\item 0.321629679761827\n",
       "\\item 0.55576233798638\n",
       "\\end{enumerate*}\n"
      ],
      "text/markdown": [
       "1. 0.245535854250193\n",
       "2. 0.367100795265287\n",
       "3. -0.870561884250492\n",
       "4. 0.187113768886775\n",
       "5. -0.844769279938191\n",
       "6. 0.813514930661768\n",
       "7. 0.847346059512347\n",
       "8. 0.225478164386004\n",
       "9. 0.321629679761827\n",
       "10. 0.55576233798638\n",
       "\n",
       "\n"
      ],
      "text/plain": [
       " [1]  0.2455359  0.3671008 -0.8705619  0.1871138 -0.8447693  0.8135149\n",
       " [7]  0.8473461  0.2254782  0.3216297  0.5557623"
      ]
     },
     "metadata": {},
     "output_type": "display_data"
    }
   ],
   "source": [
    "# The runif() function is part of a family of functions for (Uniform Distribution)\n",
    "\n",
    "uniform_sample <- runif(min = -1 ,max = 1 ,n = 100)\n",
    "uniform_sample[1:10]"
   ]
  },
  {
   "cell_type": "code",
   "execution_count": 5,
   "metadata": {},
   "outputs": [
    {
     "data": {
      "image/png": "[encoded data removed]",
      "text/plain": [
       "Plot with title “Histogram of uniform_sample”"
      ]
     },
     "metadata": {
      "image/png": {
       "height": 420,
       "width": 420
      },
      "text/plain": {
       "height": 420,
       "width": 420
      }
     },
     "output_type": "display_data"
    }
   ],
   "source": [
    "hist(x = uniform_sample)"
   ]
  },
  {
   "cell_type": "code",
   "execution_count": 89,
   "metadata": {},
   "outputs": [
    {
     "data": {
      "text/html": [
       "<style>\n",
       ".list-inline {list-style: none; margin:0; padding: 0}\n",
       ".list-inline>li {display: inline-block}\n",
       ".list-inline>li:not(:last-child)::after {content: \"\\00b7\"; padding: 0 .5ex}\n",
       "</style>\n",
       "<ol class=list-inline><li>65.4222058834153</li><li>48.2715114868533</li><li>62.1456234440552</li><li>62.5302794607879</li><li>57.1263001993268</li><li>57.2668407210791</li><li>57.1777400045336</li><li>55.5498108547795</li></ol>\n"
      ],
      "text/latex": [
       "\\begin{enumerate*}\n",
       "\\item 65.4222058834153\n",
       "\\item 48.2715114868533\n",
       "\\item 62.1456234440552\n",
       "\\item 62.5302794607879\n",
       "\\item 57.1263001993268\n",
       "\\item 57.2668407210791\n",
       "\\item 57.1777400045336\n",
       "\\item 55.5498108547795\n",
       "\\end{enumerate*}\n"
      ],
      "text/markdown": [
       "1. 65.4222058834153\n",
       "2. 48.2715114868533\n",
       "3. 62.1456234440552\n",
       "4. 62.5302794607879\n",
       "5. 57.1263001993268\n",
       "6. 57.2668407210791\n",
       "7. 57.1777400045336\n",
       "8. 55.5498108547795\n",
       "\n",
       "\n"
      ],
      "text/plain": [
       "[1] 65.42221 48.27151 62.14562 62.53028 57.12630 57.26684 57.17774 55.54981"
      ]
     },
     "metadata": {},
     "output_type": "display_data"
    },
    {
     "data": {
      "image/png": "[encoded data removed]",
      "text/plain": [
       "Plot with title “Histogram of normal_dist”"
      ]
     },
     "metadata": {
      "image/png": {
       "height": 420,
       "width": 420
      },
      "text/plain": {
       "height": 420,
       "width": 420
      }
     },
     "output_type": "display_data"
    }
   ],
   "source": [
    "# Normal distribution: we have options if you do ?rnorm, and notice [q,p,d]norm\n",
    "\n",
    "# if you don't set a (seed), then your results will change each time code is run\n",
    "set.seed(1234)\n",
    "rnorm(100,60,5)[3:10]\n",
    "\n",
    "\n",
    "normal_dist<-rnorm(100,70,5)\n",
    "hist(normal_dist)"
   ]
  },
  {
   "cell_type": "code",
   "execution_count": 108,
   "metadata": {},
   "outputs": [
    {
     "data": {
      "image/png": "[encoded data removed]",
      "text/plain": [
       "plot without title"
      ]
     },
     "metadata": {
      "image/png": {
       "height": 420,
       "width": 420
      },
      "text/plain": {
       "height": 420,
       "width": 420
      }
     },
     "output_type": "display_data"
    }
   ],
   "source": [
    "# Let's look at the actual distribution: \n",
    "x<-seq(50,150,by=.2) \n",
    "y<-dnorm(x,mean=90,sd=12) \n",
    "plot(x,y,type = \"l\")\n",
    "# ?plot"
   ]
  },
  {
   "cell_type": "markdown",
   "metadata": {},
   "source": [
    "# matrices:"
   ]
  },
  {
   "cell_type": "code",
   "execution_count": 113,
   "metadata": {},
   "outputs": [
    {
     "name": "stderr",
     "output_type": "stream",
     "text": [
      "Warning message in matrix(data = dat, byrow = TRUE, nrow = 3, ncol = 2):\n",
      "“data length [5] is not a sub-multiple or multiple of the number of rows [3]”\n"
     ]
    },
    {
     "data": {
      "text/html": [
       "<table>\n",
       "<caption>A matrix: 3 × 2 of type dbl</caption>\n",
       "<tbody>\n",
       "\t<tr><td> 2</td><td>4</td></tr>\n",
       "\t<tr><td> 6</td><td>8</td></tr>\n",
       "\t<tr><td>11</td><td>2</td></tr>\n",
       "</tbody>\n",
       "</table>\n"
      ],
      "text/latex": [
       "A matrix: 3 × 2 of type dbl\n",
       "\\begin{tabular}{ll}\n",
       "\t  2 & 4\\\\\n",
       "\t  6 & 8\\\\\n",
       "\t 11 & 2\\\\\n",
       "\\end{tabular}\n"
      ],
      "text/markdown": [
       "\n",
       "A matrix: 3 × 2 of type dbl\n",
       "\n",
       "|  2 | 4 |\n",
       "|  6 | 8 |\n",
       "| 11 | 2 |\n",
       "\n"
      ],
      "text/plain": [
       "     [,1] [,2]\n",
       "[1,]  2   4   \n",
       "[2,]  6   8   \n",
       "[3,] 11   2   "
      ]
     },
     "metadata": {},
     "output_type": "display_data"
    }
   ],
   "source": [
    "# Pay Attention here:\n",
    "\n",
    "dat<-c(2,4,6,8,11)\n",
    "first_mat <- matrix(data =dat ,byrow =TRUE,nrow = 3,ncol = 2 )\n",
    "first_mat"
   ]
  },
  {
   "cell_type": "code",
   "execution_count": 137,
   "metadata": {},
   "outputs": [
    {
     "data": {
      "text/html": [
       "<table>\n",
       "<caption>A matrix: 4 × 4 of type dbl</caption>\n",
       "<tbody>\n",
       "\t<tr><td>2</td><td>6</td><td>2</td><td>6</td></tr>\n",
       "\t<tr><td>3</td><td>7</td><td>3</td><td>7</td></tr>\n",
       "\t<tr><td>4</td><td>8</td><td>4</td><td>8</td></tr>\n",
       "\t<tr><td>5</td><td>9</td><td>5</td><td>9</td></tr>\n",
       "</tbody>\n",
       "</table>\n"
      ],
      "text/latex": [
       "A matrix: 4 × 4 of type dbl\n",
       "\\begin{tabular}{llll}\n",
       "\t 2 & 6 & 2 & 6\\\\\n",
       "\t 3 & 7 & 3 & 7\\\\\n",
       "\t 4 & 8 & 4 & 8\\\\\n",
       "\t 5 & 9 & 5 & 9\\\\\n",
       "\\end{tabular}\n"
      ],
      "text/markdown": [
       "\n",
       "A matrix: 4 × 4 of type dbl\n",
       "\n",
       "| 2 | 6 | 2 | 6 |\n",
       "| 3 | 7 | 3 | 7 |\n",
       "| 4 | 8 | 4 | 8 |\n",
       "| 5 | 9 | 5 | 9 |\n",
       "\n"
      ],
      "text/plain": [
       "     [,1] [,2] [,3] [,4]\n",
       "[1,] 2    6    2    6   \n",
       "[2,] 3    7    3    7   \n",
       "[3,] 4    8    4    8   \n",
       "[4,] 5    9    5    9   "
      ]
     },
     "metadata": {},
     "output_type": "display_data"
    },
    {
     "data": {
      "text/html": [
       "6"
      ],
      "text/latex": [
       "6"
      ],
      "text/markdown": [
       "6"
      ],
      "text/plain": [
       "[1] 6"
      ]
     },
     "metadata": {},
     "output_type": "display_data"
    },
    {
     "data": {
      "text/html": [
       "<style>\n",
       ".list-inline {list-style: none; margin:0; padding: 0}\n",
       ".list-inline>li {display: inline-block}\n",
       ".list-inline>li:not(:last-child)::after {content: \"\\00b7\"; padding: 0 .5ex}\n",
       "</style>\n",
       "<ol class=list-inline><li>2</li><li>3</li><li>4</li><li>5</li></ol>\n"
      ],
      "text/latex": [
       "\\begin{enumerate*}\n",
       "\\item 2\n",
       "\\item 3\n",
       "\\item 4\n",
       "\\item 5\n",
       "\\end{enumerate*}\n"
      ],
      "text/markdown": [
       "1. 2\n",
       "2. 3\n",
       "3. 4\n",
       "4. 5\n",
       "\n",
       "\n"
      ],
      "text/plain": [
       "[1] 2 3 4 5"
      ]
     },
     "metadata": {},
     "output_type": "display_data"
    },
    {
     "data": {
      "text/html": [
       "<table>\n",
       "<caption>A matrix: 3 × 4 of type dbl</caption>\n",
       "<tbody>\n",
       "\t<tr><td>2</td><td>6</td><td>2</td><td>6</td></tr>\n",
       "\t<tr><td>3</td><td>7</td><td>3</td><td>7</td></tr>\n",
       "\t<tr><td>4</td><td>8</td><td>4</td><td>8</td></tr>\n",
       "</tbody>\n",
       "</table>\n"
      ],
      "text/latex": [
       "A matrix: 3 × 4 of type dbl\n",
       "\\begin{tabular}{llll}\n",
       "\t 2 & 6 & 2 & 6\\\\\n",
       "\t 3 & 7 & 3 & 7\\\\\n",
       "\t 4 & 8 & 4 & 8\\\\\n",
       "\\end{tabular}\n"
      ],
      "text/markdown": [
       "\n",
       "A matrix: 3 × 4 of type dbl\n",
       "\n",
       "| 2 | 6 | 2 | 6 |\n",
       "| 3 | 7 | 3 | 7 |\n",
       "| 4 | 8 | 4 | 8 |\n",
       "\n"
      ],
      "text/plain": [
       "     [,1] [,2] [,3] [,4]\n",
       "[1,] 2    6    2    6   \n",
       "[2,] 3    7    3    7   \n",
       "[3,] 4    8    4    8   "
      ]
     },
     "metadata": {},
     "output_type": "display_data"
    },
    {
     "data": {
      "text/html": [
       "<table>\n",
       "<caption>A matrix: 2 × 2 of type dbl</caption>\n",
       "<tbody>\n",
       "\t<tr><td>2</td><td>6</td></tr>\n",
       "\t<tr><td>4</td><td>8</td></tr>\n",
       "</tbody>\n",
       "</table>\n"
      ],
      "text/latex": [
       "A matrix: 2 × 2 of type dbl\n",
       "\\begin{tabular}{ll}\n",
       "\t 2 & 6\\\\\n",
       "\t 4 & 8\\\\\n",
       "\\end{tabular}\n"
      ],
      "text/markdown": [
       "\n",
       "A matrix: 2 × 2 of type dbl\n",
       "\n",
       "| 2 | 6 |\n",
       "| 4 | 8 |\n",
       "\n"
      ],
      "text/plain": [
       "     [,1] [,2]\n",
       "[1,] 2    6   \n",
       "[2,] 4    8   "
      ]
     },
     "metadata": {},
     "output_type": "display_data"
    },
    {
     "data": {
      "text/html": [
       "<style>\n",
       ".list-inline {list-style: none; margin:0; padding: 0}\n",
       ".list-inline>li {display: inline-block}\n",
       ".list-inline>li:not(:last-child)::after {content: \"\\00b7\"; padding: 0 .5ex}\n",
       "</style>\n",
       "<ol class=list-inline><li>4</li><li>4</li></ol>\n"
      ],
      "text/latex": [
       "\\begin{enumerate*}\n",
       "\\item 4\n",
       "\\item 4\n",
       "\\end{enumerate*}\n"
      ],
      "text/markdown": [
       "1. 4\n",
       "2. 4\n",
       "\n",
       "\n"
      ],
      "text/plain": [
       "[1] 4 4"
      ]
     },
     "metadata": {},
     "output_type": "display_data"
    }
   ],
   "source": [
    "# if you know the number of rows you want; R can figure columns\n",
    "dta<-c(2,3,4,5,6,7,8,9,2,3,4,5,6,7,8,9)\n",
    "second_mat<-matrix(dta,nrow = 4)\n",
    "second_mat\n",
    "\n",
    "# access elements within the matrix:\n",
    "\n",
    "# row 1, column 2\n",
    "second_mat[1,2]\n",
    "\n",
    "# column 1:\n",
    "second_mat[,1]\n",
    "\n",
    "# range values for rows, and all columns\n",
    "second_mat[1:3,]\n",
    "\n",
    "# specific rows or columns:\n",
    "second_mat[c(1,3),c(1,4)]\n",
    "\n",
    "# find the dimensions of matrix\n",
    "dim(second_mat)"
   ]
  },
  {
   "cell_type": "code",
   "execution_count": 136,
   "metadata": {},
   "outputs": [
    {
     "data": {
      "text/html": [
       "6.2"
      ],
      "text/latex": [
       "6.2"
      ],
      "text/markdown": [
       "6.2"
      ],
      "text/plain": [
       "[1] 6.2"
      ]
     },
     "metadata": {},
     "output_type": "display_data"
    },
    {
     "data": {
      "text/html": [
       "6"
      ],
      "text/latex": [
       "6"
      ],
      "text/markdown": [
       "6"
      ],
      "text/plain": [
       "[1] 6"
      ]
     },
     "metadata": {},
     "output_type": "display_data"
    },
    {
     "data": {
      "text/html": [
       "3.4928498393146"
      ],
      "text/latex": [
       "3.4928498393146"
      ],
      "text/markdown": [
       "3.4928498393146"
      ],
      "text/plain": [
       "[1] 3.49285"
      ]
     },
     "metadata": {},
     "output_type": "display_data"
    }
   ],
   "source": [
    "# descriptive stats:\n",
    "\n",
    "mean(x = dat)\n",
    "\n",
    "median(dat)\n",
    "\n",
    "sd(dat)"
   ]
  },
  {
   "cell_type": "markdown",
   "metadata": {},
   "source": [
    "# <font color=red>LIKE</font> Share &\n",
    "\n",
    "# <font color=red>SUB</font>scribe"
   ]
  },
  {
   "cell_type": "markdown",
   "metadata": {},
   "source": [
    "# Further Useful Help:\n",
    "\n",
    "https://dss.princeton.edu/training/RStudio101.pdf\n",
    "\n",
    "https://sites.tufts.edu/datalab/files/2018/04/R_RStudio_Basics.pdf\n",
    "\n",
    "https://support.rstudio.com/hc/en-us/articles/115010737148-Using-the-RStudio-Terminal\n",
    "\n",
    "https://sites.calvin.edu/scofield/courses/m143/materials/RcmdsFromClass.pdf"
   ]
  }
 ],
 "metadata": {
  "kernelspec": {
   "display_name": "R",
   "language": "R",
   "name": "ir"
  },
  "language_info": {
   "codemirror_mode": "r",
   "file_extension": ".r",
   "mimetype": "text/x-r-source",
   "name": "R",
   "pygments_lexer": "r",
   "version": "4.0.0"
  }
 },
 "nbformat": 4,
 "nbformat_minor": 4
}
