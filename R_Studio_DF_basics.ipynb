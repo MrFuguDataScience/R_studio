{
 "cells": [
  {
   "cell_type": "markdown",
   "metadata": {},
   "source": [
    "# `Dataframe Manipulation Using: R-Studio`\n",
    "\n",
    "# <font color= red>Mr Fugu Data Sceicne</font>\n",
    "\n",
    "# (◕‿◕✿)\n",
    "\n",
    "# Purpose & Outcome:\n",
    "\n",
    "+ Subsetting\n",
    "\n",
    "+ Adding Rows or Columns\n",
    "\n",
    "+ Sorting & Filtering\n",
    "\n",
    "+ Find Null Values, Duplicates\n",
    "\n",
    "+ Use Arrange function and Mutate"
   ]
  },
  {
   "cell_type": "code",
   "execution_count": 3,
   "metadata": {},
   "outputs": [
    {
     "name": "stderr",
     "output_type": "stream",
     "text": [
      "── \u001b[1mAttaching packages\u001b[22m ─────────────────────────────────────── tidyverse 1.3.0 ──\n",
      "\n",
      "\u001b[32m✔\u001b[39m \u001b[34mggplot2\u001b[39m 3.3.2     \u001b[32m✔\u001b[39m \u001b[34mpurrr  \u001b[39m 0.3.4\n",
      "\u001b[32m✔\u001b[39m \u001b[34mtibble \u001b[39m 3.0.1     \u001b[32m✔\u001b[39m \u001b[34mdplyr  \u001b[39m 1.0.0\n",
      "\u001b[32m✔\u001b[39m \u001b[34mtidyr  \u001b[39m 1.1.0     \u001b[32m✔\u001b[39m \u001b[34mstringr\u001b[39m 1.4.0\n",
      "\u001b[32m✔\u001b[39m \u001b[34mreadr  \u001b[39m 1.3.1     \u001b[32m✔\u001b[39m \u001b[34mforcats\u001b[39m 0.5.0\n",
      "\n",
      "── \u001b[1mConflicts\u001b[22m ────────────────────────────────────────── tidyverse_conflicts() ──\n",
      "\u001b[31m✖\u001b[39m \u001b[34mdplyr\u001b[39m::\u001b[32mfilter()\u001b[39m masks \u001b[34mstats\u001b[39m::filter()\n",
      "\u001b[31m✖\u001b[39m \u001b[34mdplyr\u001b[39m::\u001b[32mlag()\u001b[39m    masks \u001b[34mstats\u001b[39m::lag()\n",
      "\n"
     ]
    }
   ],
   "source": [
    "library(markdown)\n",
    "library(knitr)\n",
    "library(tidyverse)"
   ]
  },
  {
   "cell_type": "code",
   "execution_count": 12,
   "metadata": {},
   "outputs": [
    {
     "data": {
      "text/html": [
       "<table>\n",
       "<caption>A data.frame: 6 × 5</caption>\n",
       "<thead>\n",
       "\t<tr><th></th><th scope=col>credit_card</th><th scope=col>email</th><th scope=col>first_name</th><th scope=col>last_name</th><th scope=col>primary_phone_number</th></tr>\n",
       "\t<tr><th></th><th scope=col>&lt;chr&gt;</th><th scope=col>&lt;chr&gt;</th><th scope=col>&lt;chr&gt;</th><th scope=col>&lt;chr&gt;</th><th scope=col>&lt;dbl&gt;</th></tr>\n",
       "</thead>\n",
       "<tbody>\n",
       "\t<tr><th scope=row>1</th><td>5399-3484-4724-7187</td><td>gso@qiegan.sqe          </td><td>Donyell Ann</td><td>Ospina</td><td>5219459148</td></tr>\n",
       "\t<tr><th scope=row>2</th><td>1630-5261-6108-7631</td><td>xnji@gfruaxqnvm.fha     </td><td>Bishop     </td><td>Siyed </td><td>4164254716</td></tr>\n",
       "\t<tr><th scope=row>3</th><td>4435-3866-1076-3595</td><td>dvyco@tkzhsop.zxg       </td><td>Connor     </td><td>Powers</td><td>3627413915</td></tr>\n",
       "\t<tr><th scope=row>4</th><td>3489-7099-9906-8660</td><td>fy@uvfhplatmz.cam       </td><td>Kylie      </td><td>Her   </td><td>3562764561</td></tr>\n",
       "\t<tr><th scope=row>5</th><td>8631-4500-5666-1510</td><td>rztkvliou@dkeinhgysf.deo</td><td>Anthony    </td><td>Vo    </td><td>7345795348</td></tr>\n",
       "\t<tr><th scope=row>6</th><td>1459-9918-1722-7369</td><td>jofmezlbp@iw.evx        </td><td>Mutammam   </td><td>Mares </td><td>3247247289</td></tr>\n",
       "</tbody>\n",
       "</table>\n"
      ],
      "text/latex": [
       "A data.frame: 6 × 5\n",
       "\\begin{tabular}{r|lllll}\n",
       "  & credit\\_card & email & first\\_name & last\\_name & primary\\_phone\\_number\\\\\n",
       "  & <chr> & <chr> & <chr> & <chr> & <dbl>\\\\\n",
       "\\hline\n",
       "\t1 & 5399-3484-4724-7187 & gso@qiegan.sqe           & Donyell Ann & Ospina & 5219459148\\\\\n",
       "\t2 & 1630-5261-6108-7631 & xnji@gfruaxqnvm.fha      & Bishop      & Siyed  & 4164254716\\\\\n",
       "\t3 & 4435-3866-1076-3595 & dvyco@tkzhsop.zxg        & Connor      & Powers & 3627413915\\\\\n",
       "\t4 & 3489-7099-9906-8660 & fy@uvfhplatmz.cam        & Kylie       & Her    & 3562764561\\\\\n",
       "\t5 & 8631-4500-5666-1510 & rztkvliou@dkeinhgysf.deo & Anthony     & Vo     & 7345795348\\\\\n",
       "\t6 & 1459-9918-1722-7369 & jofmezlbp@iw.evx         & Mutammam    & Mares  & 3247247289\\\\\n",
       "\\end{tabular}\n"
      ],
      "text/markdown": [
       "\n",
       "A data.frame: 6 × 5\n",
       "\n",
       "| <!--/--> | credit_card &lt;chr&gt; | email &lt;chr&gt; | first_name &lt;chr&gt; | last_name &lt;chr&gt; | primary_phone_number &lt;dbl&gt; |\n",
       "|---|---|---|---|---|---|\n",
       "| 1 | 5399-3484-4724-7187 | gso@qiegan.sqe           | Donyell Ann | Ospina | 5219459148 |\n",
       "| 2 | 1630-5261-6108-7631 | xnji@gfruaxqnvm.fha      | Bishop      | Siyed  | 4164254716 |\n",
       "| 3 | 4435-3866-1076-3595 | dvyco@tkzhsop.zxg        | Connor      | Powers | 3627413915 |\n",
       "| 4 | 3489-7099-9906-8660 | fy@uvfhplatmz.cam        | Kylie       | Her    | 3562764561 |\n",
       "| 5 | 8631-4500-5666-1510 | rztkvliou@dkeinhgysf.deo | Anthony     | Vo     | 7345795348 |\n",
       "| 6 | 1459-9918-1722-7369 | jofmezlbp@iw.evx         | Mutammam    | Mares  | 3247247289 |\n",
       "\n"
      ],
      "text/plain": [
       "  credit_card         email                    first_name  last_name\n",
       "1 5399-3484-4724-7187 gso@qiegan.sqe           Donyell Ann Ospina   \n",
       "2 1630-5261-6108-7631 xnji@gfruaxqnvm.fha      Bishop      Siyed    \n",
       "3 4435-3866-1076-3595 dvyco@tkzhsop.zxg        Connor      Powers   \n",
       "4 3489-7099-9906-8660 fy@uvfhplatmz.cam        Kylie       Her      \n",
       "5 8631-4500-5666-1510 rztkvliou@dkeinhgysf.deo Anthony     Vo       \n",
       "6 1459-9918-1722-7369 jofmezlbp@iw.evx         Mutammam    Mares    \n",
       "  primary_phone_number\n",
       "1 5219459148          \n",
       "2 4164254716          \n",
       "3 3627413915          \n",
       "4 3562764561          \n",
       "5 7345795348          \n",
       "6 3247247289          "
      ]
     },
     "metadata": {},
     "output_type": "display_data"
    }
   ],
   "source": [
    "fake_ppl<-read.csv('noIndx.csv')\n",
    "head(fake_ppl)"
   ]
  },
  {
   "cell_type": "code",
   "execution_count": 15,
   "metadata": {},
   "outputs": [
    {
     "data": {
      "text/html": [
       "<table>\n",
       "<caption>A data.frame: 6 × 8</caption>\n",
       "<thead>\n",
       "\t<tr><th></th><th scope=col>InvoiceNo</th><th scope=col>StockCode</th><th scope=col>Description</th><th scope=col>Quantity</th><th scope=col>InvoiceDate</th><th scope=col>UnitPrice</th><th scope=col>CustomerID</th><th scope=col>Country</th></tr>\n",
       "\t<tr><th></th><th scope=col>&lt;chr&gt;</th><th scope=col>&lt;chr&gt;</th><th scope=col>&lt;chr&gt;</th><th scope=col>&lt;int&gt;</th><th scope=col>&lt;chr&gt;</th><th scope=col>&lt;dbl&gt;</th><th scope=col>&lt;int&gt;</th><th scope=col>&lt;chr&gt;</th></tr>\n",
       "</thead>\n",
       "<tbody>\n",
       "\t<tr><th scope=row>1</th><td>536365</td><td>85123A</td><td>WHITE HANGING HEART T-LIGHT HOLDER </td><td>6</td><td>12/1/2010 8:26</td><td>2.55</td><td>17850</td><td>United Kingdom</td></tr>\n",
       "\t<tr><th scope=row>2</th><td>536365</td><td>71053 </td><td>WHITE METAL LANTERN                </td><td>6</td><td>12/1/2010 8:26</td><td>3.39</td><td>17850</td><td>United Kingdom</td></tr>\n",
       "\t<tr><th scope=row>3</th><td>536365</td><td>84406B</td><td>CREAM CUPID HEARTS COAT HANGER     </td><td>8</td><td>12/1/2010 8:26</td><td>2.75</td><td>17850</td><td>United Kingdom</td></tr>\n",
       "\t<tr><th scope=row>4</th><td>536365</td><td>84029G</td><td>KNITTED UNION FLAG HOT WATER BOTTLE</td><td>6</td><td>12/1/2010 8:26</td><td>3.39</td><td>17850</td><td>United Kingdom</td></tr>\n",
       "\t<tr><th scope=row>5</th><td>536365</td><td>84029E</td><td>RED WOOLLY HOTTIE WHITE HEART.     </td><td>6</td><td>12/1/2010 8:26</td><td>3.39</td><td>17850</td><td>United Kingdom</td></tr>\n",
       "\t<tr><th scope=row>6</th><td>536365</td><td>22752 </td><td>SET 7 BABUSHKA NESTING BOXES       </td><td>2</td><td>12/1/2010 8:26</td><td>7.65</td><td>17850</td><td>United Kingdom</td></tr>\n",
       "</tbody>\n",
       "</table>\n"
      ],
      "text/latex": [
       "A data.frame: 6 × 8\n",
       "\\begin{tabular}{r|llllllll}\n",
       "  & InvoiceNo & StockCode & Description & Quantity & InvoiceDate & UnitPrice & CustomerID & Country\\\\\n",
       "  & <chr> & <chr> & <chr> & <int> & <chr> & <dbl> & <int> & <chr>\\\\\n",
       "\\hline\n",
       "\t1 & 536365 & 85123A & WHITE HANGING HEART T-LIGHT HOLDER  & 6 & 12/1/2010 8:26 & 2.55 & 17850 & United Kingdom\\\\\n",
       "\t2 & 536365 & 71053  & WHITE METAL LANTERN                 & 6 & 12/1/2010 8:26 & 3.39 & 17850 & United Kingdom\\\\\n",
       "\t3 & 536365 & 84406B & CREAM CUPID HEARTS COAT HANGER      & 8 & 12/1/2010 8:26 & 2.75 & 17850 & United Kingdom\\\\\n",
       "\t4 & 536365 & 84029G & KNITTED UNION FLAG HOT WATER BOTTLE & 6 & 12/1/2010 8:26 & 3.39 & 17850 & United Kingdom\\\\\n",
       "\t5 & 536365 & 84029E & RED WOOLLY HOTTIE WHITE HEART.      & 6 & 12/1/2010 8:26 & 3.39 & 17850 & United Kingdom\\\\\n",
       "\t6 & 536365 & 22752  & SET 7 BABUSHKA NESTING BOXES        & 2 & 12/1/2010 8:26 & 7.65 & 17850 & United Kingdom\\\\\n",
       "\\end{tabular}\n"
      ],
      "text/markdown": [
       "\n",
       "A data.frame: 6 × 8\n",
       "\n",
       "| <!--/--> | InvoiceNo &lt;chr&gt; | StockCode &lt;chr&gt; | Description &lt;chr&gt; | Quantity &lt;int&gt; | InvoiceDate &lt;chr&gt; | UnitPrice &lt;dbl&gt; | CustomerID &lt;int&gt; | Country &lt;chr&gt; |\n",
       "|---|---|---|---|---|---|---|---|---|\n",
       "| 1 | 536365 | 85123A | WHITE HANGING HEART T-LIGHT HOLDER  | 6 | 12/1/2010 8:26 | 2.55 | 17850 | United Kingdom |\n",
       "| 2 | 536365 | 71053  | WHITE METAL LANTERN                 | 6 | 12/1/2010 8:26 | 3.39 | 17850 | United Kingdom |\n",
       "| 3 | 536365 | 84406B | CREAM CUPID HEARTS COAT HANGER      | 8 | 12/1/2010 8:26 | 2.75 | 17850 | United Kingdom |\n",
       "| 4 | 536365 | 84029G | KNITTED UNION FLAG HOT WATER BOTTLE | 6 | 12/1/2010 8:26 | 3.39 | 17850 | United Kingdom |\n",
       "| 5 | 536365 | 84029E | RED WOOLLY HOTTIE WHITE HEART.      | 6 | 12/1/2010 8:26 | 3.39 | 17850 | United Kingdom |\n",
       "| 6 | 536365 | 22752  | SET 7 BABUSHKA NESTING BOXES        | 2 | 12/1/2010 8:26 | 7.65 | 17850 | United Kingdom |\n",
       "\n"
      ],
      "text/plain": [
       "  InvoiceNo StockCode Description                         Quantity\n",
       "1 536365    85123A    WHITE HANGING HEART T-LIGHT HOLDER  6       \n",
       "2 536365    71053     WHITE METAL LANTERN                 6       \n",
       "3 536365    84406B    CREAM CUPID HEARTS COAT HANGER      8       \n",
       "4 536365    84029G    KNITTED UNION FLAG HOT WATER BOTTLE 6       \n",
       "5 536365    84029E    RED WOOLLY HOTTIE WHITE HEART.      6       \n",
       "6 536365    22752     SET 7 BABUSHKA NESTING BOXES        2       \n",
       "  InvoiceDate    UnitPrice CustomerID Country       \n",
       "1 12/1/2010 8:26 2.55      17850      United Kingdom\n",
       "2 12/1/2010 8:26 3.39      17850      United Kingdom\n",
       "3 12/1/2010 8:26 2.75      17850      United Kingdom\n",
       "4 12/1/2010 8:26 3.39      17850      United Kingdom\n",
       "5 12/1/2010 8:26 3.39      17850      United Kingdom\n",
       "6 12/1/2010 8:26 7.65      17850      United Kingdom"
      ]
     },
     "metadata": {},
     "output_type": "display_data"
    }
   ],
   "source": [
    "sales_data<-read.csv('online_sales.csv')\n",
    "head(sales_data)"
   ]
  },
  {
   "cell_type": "markdown",
   "metadata": {},
   "source": [
    "# Slicing Dataframe:\n",
    "+ `If we want to subset or manipulate our dataframe we need to think of it as 2 dimensions: dataframe[rows,columns].`"
   ]
  },
  {
   "cell_type": "code",
   "execution_count": 30,
   "metadata": {},
   "outputs": [
    {
     "data": {
      "text/html": [
       "'character'"
      ],
      "text/latex": [
       "'character'"
      ],
      "text/markdown": [
       "'character'"
      ],
      "text/plain": [
       "[1] \"character\""
      ]
     },
     "metadata": {},
     "output_type": "display_data"
    },
    {
     "data": {
      "text/html": [
       "'character'"
      ],
      "text/latex": [
       "'character'"
      ],
      "text/markdown": [
       "'character'"
      ],
      "text/plain": [
       "[1] \"character\""
      ]
     },
     "metadata": {},
     "output_type": "display_data"
    },
    {
     "data": {
      "text/html": [
       "'list'"
      ],
      "text/latex": [
       "'list'"
      ],
      "text/markdown": [
       "'list'"
      ],
      "text/plain": [
       "[1] \"list\""
      ]
     },
     "metadata": {},
     "output_type": "display_data"
    },
    {
     "data": {
      "text/html": [
       "'data.frame'"
      ],
      "text/latex": [
       "'data.frame'"
      ],
      "text/markdown": [
       "'data.frame'"
      ],
      "text/plain": [
       "[1] \"data.frame\""
      ]
     },
     "metadata": {},
     "output_type": "display_data"
    },
    {
     "data": {
      "text/html": [
       "'list'"
      ],
      "text/latex": [
       "'list'"
      ],
      "text/markdown": [
       "'list'"
      ],
      "text/plain": [
       "[1] \"list\""
      ]
     },
     "metadata": {},
     "output_type": "display_data"
    },
    {
     "data": {
      "text/html": [
       "'data.frame'"
      ],
      "text/latex": [
       "'data.frame'"
      ],
      "text/markdown": [
       "'data.frame'"
      ],
      "text/plain": [
       "[1] \"data.frame\""
      ]
     },
     "metadata": {},
     "output_type": "display_data"
    }
   ],
   "source": [
    "typeof(fake_ppl[[2]])\n",
    "typeof(fake_ppl$email)\n",
    "typeof(fake_ppl[2])\n",
    "class(fake_ppl)\n",
    "typeof(fake_ppl)\n",
    "class(fake_ppl)"
   ]
  },
  {
   "cell_type": "code",
   "execution_count": 34,
   "metadata": {},
   "outputs": [
    {
     "data": {
      "text/html": [
       "<table>\n",
       "<caption>A data.frame: 1 × 5</caption>\n",
       "<thead>\n",
       "\t<tr><th></th><th scope=col>credit_card</th><th scope=col>email</th><th scope=col>first_name</th><th scope=col>last_name</th><th scope=col>primary_phone_number</th></tr>\n",
       "\t<tr><th></th><th scope=col>&lt;chr&gt;</th><th scope=col>&lt;chr&gt;</th><th scope=col>&lt;chr&gt;</th><th scope=col>&lt;chr&gt;</th><th scope=col>&lt;dbl&gt;</th></tr>\n",
       "</thead>\n",
       "<tbody>\n",
       "\t<tr><th scope=row>2</th><td>1630-5261-6108-7631</td><td>xnji@gfruaxqnvm.fha</td><td>Bishop</td><td>Siyed</td><td>4164254716</td></tr>\n",
       "</tbody>\n",
       "</table>\n"
      ],
      "text/latex": [
       "A data.frame: 1 × 5\n",
       "\\begin{tabular}{r|lllll}\n",
       "  & credit\\_card & email & first\\_name & last\\_name & primary\\_phone\\_number\\\\\n",
       "  & <chr> & <chr> & <chr> & <chr> & <dbl>\\\\\n",
       "\\hline\n",
       "\t2 & 1630-5261-6108-7631 & xnji@gfruaxqnvm.fha & Bishop & Siyed & 4164254716\\\\\n",
       "\\end{tabular}\n"
      ],
      "text/markdown": [
       "\n",
       "A data.frame: 1 × 5\n",
       "\n",
       "| <!--/--> | credit_card &lt;chr&gt; | email &lt;chr&gt; | first_name &lt;chr&gt; | last_name &lt;chr&gt; | primary_phone_number &lt;dbl&gt; |\n",
       "|---|---|---|---|---|---|\n",
       "| 2 | 1630-5261-6108-7631 | xnji@gfruaxqnvm.fha | Bishop | Siyed | 4164254716 |\n",
       "\n"
      ],
      "text/plain": [
       "  credit_card         email               first_name last_name\n",
       "2 1630-5261-6108-7631 xnji@gfruaxqnvm.fha Bishop     Siyed    \n",
       "  primary_phone_number\n",
       "2 4164254716          "
      ]
     },
     "metadata": {},
     "output_type": "display_data"
    }
   ],
   "source": [
    "# one row and all columns:\n",
    "fake_ppl[2,]"
   ]
  },
  {
   "cell_type": "code",
   "execution_count": 35,
   "metadata": {},
   "outputs": [
    {
     "data": {
      "text/html": [
       "<table>\n",
       "<caption>A data.frame: 1 × 2</caption>\n",
       "<thead>\n",
       "\t<tr><th></th><th scope=col>first_name</th><th scope=col>last_name</th></tr>\n",
       "\t<tr><th></th><th scope=col>&lt;chr&gt;</th><th scope=col>&lt;chr&gt;</th></tr>\n",
       "</thead>\n",
       "<tbody>\n",
       "\t<tr><th scope=row>2</th><td>Bishop</td><td>Siyed</td></tr>\n",
       "</tbody>\n",
       "</table>\n"
      ],
      "text/latex": [
       "A data.frame: 1 × 2\n",
       "\\begin{tabular}{r|ll}\n",
       "  & first\\_name & last\\_name\\\\\n",
       "  & <chr> & <chr>\\\\\n",
       "\\hline\n",
       "\t2 & Bishop & Siyed\\\\\n",
       "\\end{tabular}\n"
      ],
      "text/markdown": [
       "\n",
       "A data.frame: 1 × 2\n",
       "\n",
       "| <!--/--> | first_name &lt;chr&gt; | last_name &lt;chr&gt; |\n",
       "|---|---|---|\n",
       "| 2 | Bishop | Siyed |\n",
       "\n"
      ],
      "text/plain": [
       "  first_name last_name\n",
       "2 Bishop     Siyed    "
      ]
     },
     "metadata": {},
     "output_type": "display_data"
    }
   ],
   "source": [
    "# take only 1 row and 2 specified columns:\n",
    "fake_ppl[2,c('first_name',\"last_name\")]"
   ]
  },
  {
   "cell_type": "code",
   "execution_count": 252,
   "metadata": {},
   "outputs": [
    {
     "data": {
      "text/html": [
       "<style>\n",
       ".list-inline {list-style: none; margin:0; padding: 0}\n",
       ".list-inline>li {display: inline-block}\n",
       ".list-inline>li:not(:last-child)::after {content: \"\\00b7\"; padding: 0 .5ex}\n",
       "</style>\n",
       "<ol class=list-inline><li>'5399-3484-4724-7187'</li><li>'1630-5261-6108-7631'</li><li>'4435-3866-1076-3595'</li><li>'3489-7099-9906-8660'</li><li>'8631-4500-5666-1510'</li><li>'1459-9918-1722-7369'</li></ol>\n"
      ],
      "text/latex": [
       "\\begin{enumerate*}\n",
       "\\item '5399-3484-4724-7187'\n",
       "\\item '1630-5261-6108-7631'\n",
       "\\item '4435-3866-1076-3595'\n",
       "\\item '3489-7099-9906-8660'\n",
       "\\item '8631-4500-5666-1510'\n",
       "\\item '1459-9918-1722-7369'\n",
       "\\end{enumerate*}\n"
      ],
      "text/markdown": [
       "1. '5399-3484-4724-7187'\n",
       "2. '1630-5261-6108-7631'\n",
       "3. '4435-3866-1076-3595'\n",
       "4. '3489-7099-9906-8660'\n",
       "5. '8631-4500-5666-1510'\n",
       "6. '1459-9918-1722-7369'\n",
       "\n",
       "\n"
      ],
      "text/plain": [
       "[1] \"5399-3484-4724-7187\" \"1630-5261-6108-7631\" \"4435-3866-1076-3595\"\n",
       "[4] \"3489-7099-9906-8660\" \"8631-4500-5666-1510\" \"1459-9918-1722-7369\""
      ]
     },
     "metadata": {},
     "output_type": "display_data"
    },
    {
     "data": {
      "text/html": [
       "<style>\n",
       ".list-inline {list-style: none; margin:0; padding: 0}\n",
       ".list-inline>li {display: inline-block}\n",
       ".list-inline>li:not(:last-child)::after {content: \"\\00b7\"; padding: 0 .5ex}\n",
       "</style>\n",
       "<ol class=list-inline><li>'5399-3484-4724-7187'</li><li>'1630-5261-6108-7631'</li><li>'4435-3866-1076-3595'</li><li>'3489-7099-9906-8660'</li><li>'8631-4500-5666-1510'</li><li>'1459-9918-1722-7369'</li></ol>\n"
      ],
      "text/latex": [
       "\\begin{enumerate*}\n",
       "\\item '5399-3484-4724-7187'\n",
       "\\item '1630-5261-6108-7631'\n",
       "\\item '4435-3866-1076-3595'\n",
       "\\item '3489-7099-9906-8660'\n",
       "\\item '8631-4500-5666-1510'\n",
       "\\item '1459-9918-1722-7369'\n",
       "\\end{enumerate*}\n"
      ],
      "text/markdown": [
       "1. '5399-3484-4724-7187'\n",
       "2. '1630-5261-6108-7631'\n",
       "3. '4435-3866-1076-3595'\n",
       "4. '3489-7099-9906-8660'\n",
       "5. '8631-4500-5666-1510'\n",
       "6. '1459-9918-1722-7369'\n",
       "\n",
       "\n"
      ],
      "text/plain": [
       "[1] \"5399-3484-4724-7187\" \"1630-5261-6108-7631\" \"4435-3866-1076-3595\"\n",
       "[4] \"3489-7099-9906-8660\" \"8631-4500-5666-1510\" \"1459-9918-1722-7369\""
      ]
     },
     "metadata": {},
     "output_type": "display_data"
    }
   ],
   "source": [
    "# two ways to get credit_card:\n",
    "head(fake_ppl[[1]])\n",
    "head(fake_ppl$credit_card)"
   ]
  },
  {
   "cell_type": "code",
   "execution_count": 244,
   "metadata": {},
   "outputs": [
    {
     "data": {
      "text/html": [
       "<table>\n",
       "<caption>A data.frame: 6 × 4</caption>\n",
       "<thead>\n",
       "\t<tr><th></th><th scope=col>email</th><th scope=col>first_name</th><th scope=col>last_name</th><th scope=col>primary_phone_number</th></tr>\n",
       "\t<tr><th></th><th scope=col>&lt;chr&gt;</th><th scope=col>&lt;chr&gt;</th><th scope=col>&lt;chr&gt;</th><th scope=col>&lt;dbl&gt;</th></tr>\n",
       "</thead>\n",
       "<tbody>\n",
       "\t<tr><th scope=row>1</th><td>gso@qiegan.sqe          </td><td>Donyell Ann</td><td>Ospina</td><td>5219459148</td></tr>\n",
       "\t<tr><th scope=row>2</th><td>xnji@gfruaxqnvm.fha     </td><td>Bishop     </td><td>Siyed </td><td>4164254716</td></tr>\n",
       "\t<tr><th scope=row>3</th><td>dvyco@tkzhsop.zxg       </td><td>Connor     </td><td>Powers</td><td>3627413915</td></tr>\n",
       "\t<tr><th scope=row>4</th><td>fy@uvfhplatmz.cam       </td><td>Kylie      </td><td>Her   </td><td>3562764561</td></tr>\n",
       "\t<tr><th scope=row>5</th><td>rztkvliou@dkeinhgysf.deo</td><td>Anthony    </td><td>Vo    </td><td>7345795348</td></tr>\n",
       "\t<tr><th scope=row>6</th><td>jofmezlbp@iw.evx        </td><td>Mutammam   </td><td>Mares </td><td>3247247289</td></tr>\n",
       "</tbody>\n",
       "</table>\n"
      ],
      "text/latex": [
       "A data.frame: 6 × 4\n",
       "\\begin{tabular}{r|llll}\n",
       "  & email & first\\_name & last\\_name & primary\\_phone\\_number\\\\\n",
       "  & <chr> & <chr> & <chr> & <dbl>\\\\\n",
       "\\hline\n",
       "\t1 & gso@qiegan.sqe           & Donyell Ann & Ospina & 5219459148\\\\\n",
       "\t2 & xnji@gfruaxqnvm.fha      & Bishop      & Siyed  & 4164254716\\\\\n",
       "\t3 & dvyco@tkzhsop.zxg        & Connor      & Powers & 3627413915\\\\\n",
       "\t4 & fy@uvfhplatmz.cam        & Kylie       & Her    & 3562764561\\\\\n",
       "\t5 & rztkvliou@dkeinhgysf.deo & Anthony     & Vo     & 7345795348\\\\\n",
       "\t6 & jofmezlbp@iw.evx         & Mutammam    & Mares  & 3247247289\\\\\n",
       "\\end{tabular}\n"
      ],
      "text/markdown": [
       "\n",
       "A data.frame: 6 × 4\n",
       "\n",
       "| <!--/--> | email &lt;chr&gt; | first_name &lt;chr&gt; | last_name &lt;chr&gt; | primary_phone_number &lt;dbl&gt; |\n",
       "|---|---|---|---|---|\n",
       "| 1 | gso@qiegan.sqe           | Donyell Ann | Ospina | 5219459148 |\n",
       "| 2 | xnji@gfruaxqnvm.fha      | Bishop      | Siyed  | 4164254716 |\n",
       "| 3 | dvyco@tkzhsop.zxg        | Connor      | Powers | 3627413915 |\n",
       "| 4 | fy@uvfhplatmz.cam        | Kylie       | Her    | 3562764561 |\n",
       "| 5 | rztkvliou@dkeinhgysf.deo | Anthony     | Vo     | 7345795348 |\n",
       "| 6 | jofmezlbp@iw.evx         | Mutammam    | Mares  | 3247247289 |\n",
       "\n"
      ],
      "text/plain": [
       "  email                    first_name  last_name primary_phone_number\n",
       "1 gso@qiegan.sqe           Donyell Ann Ospina    5219459148          \n",
       "2 xnji@gfruaxqnvm.fha      Bishop      Siyed     4164254716          \n",
       "3 dvyco@tkzhsop.zxg        Connor      Powers    3627413915          \n",
       "4 fy@uvfhplatmz.cam        Kylie       Her       3562764561          \n",
       "5 rztkvliou@dkeinhgysf.deo Anthony     Vo        7345795348          \n",
       "6 jofmezlbp@iw.evx         Mutammam    Mares     3247247289          "
      ]
     },
     "metadata": {},
     "output_type": "display_data"
    }
   ],
   "source": [
    "# exclude credit_card column:\n",
    "head(subset(fake_ppl,select=-credit_card))"
   ]
  },
  {
   "cell_type": "code",
   "execution_count": 57,
   "metadata": {},
   "outputs": [
    {
     "data": {
      "text/html": [
       "<style>\n",
       ".list-inline {list-style: none; margin:0; padding: 0}\n",
       ".list-inline>li {display: inline-block}\n",
       ".list-inline>li:not(:last-child)::after {content: \"\\00b7\"; padding: 0 .5ex}\n",
       "</style>\n",
       "<ol class=list-inline><li>'1630-5261-6108-7631'</li><li>'4435-3866-1076-3595'</li></ol>\n"
      ],
      "text/latex": [
       "\\begin{enumerate*}\n",
       "\\item '1630-5261-6108-7631'\n",
       "\\item '4435-3866-1076-3595'\n",
       "\\end{enumerate*}\n"
      ],
      "text/markdown": [
       "1. '1630-5261-6108-7631'\n",
       "2. '4435-3866-1076-3595'\n",
       "\n",
       "\n"
      ],
      "text/plain": [
       "[1] \"1630-5261-6108-7631\" \"4435-3866-1076-3595\""
      ]
     },
     "metadata": {},
     "output_type": "display_data"
    }
   ],
   "source": [
    "# range of rows of first column:\n",
    "\n",
    "fake_ppl[2:3,1]"
   ]
  },
  {
   "cell_type": "code",
   "execution_count": 63,
   "metadata": {},
   "outputs": [
    {
     "data": {
      "text/html": [
       "<style>\n",
       ".list-inline {list-style: none; margin:0; padding: 0}\n",
       ".list-inline>li {display: inline-block}\n",
       ".list-inline>li:not(:last-child)::after {content: \"\\00b7\"; padding: 0 .5ex}\n",
       "</style>\n",
       "<ol class=list-inline><li>'3489-7099-9906-8660'</li><li>'8631-4500-5666-1510'</li><li>'1459-9918-1722-7369'</li><li>'6736-8932-8180-5826'</li></ol>\n"
      ],
      "text/latex": [
       "\\begin{enumerate*}\n",
       "\\item '3489-7099-9906-8660'\n",
       "\\item '8631-4500-5666-1510'\n",
       "\\item '1459-9918-1722-7369'\n",
       "\\item '6736-8932-8180-5826'\n",
       "\\end{enumerate*}\n"
      ],
      "text/markdown": [
       "1. '3489-7099-9906-8660'\n",
       "2. '8631-4500-5666-1510'\n",
       "3. '1459-9918-1722-7369'\n",
       "4. '6736-8932-8180-5826'\n",
       "\n",
       "\n"
      ],
      "text/plain": [
       "[1] \"3489-7099-9906-8660\" \"8631-4500-5666-1510\" \"1459-9918-1722-7369\"\n",
       "[4] \"6736-8932-8180-5826\""
      ]
     },
     "metadata": {},
     "output_type": "display_data"
    },
    {
     "data": {
      "text/html": [
       "<style>\n",
       ".list-inline {list-style: none; margin:0; padding: 0}\n",
       ".list-inline>li {display: inline-block}\n",
       ".list-inline>li:not(:last-child)::after {content: \"\\00b7\"; padding: 0 .5ex}\n",
       "</style>\n",
       "<ol class=list-inline><li>'3489-7099-9906-8660'</li><li>'8631-4500-5666-1510'</li><li>'1459-9918-1722-7369'</li><li>'6736-8932-8180-5826'</li></ol>\n"
      ],
      "text/latex": [
       "\\begin{enumerate*}\n",
       "\\item '3489-7099-9906-8660'\n",
       "\\item '8631-4500-5666-1510'\n",
       "\\item '1459-9918-1722-7369'\n",
       "\\item '6736-8932-8180-5826'\n",
       "\\end{enumerate*}\n"
      ],
      "text/markdown": [
       "1. '3489-7099-9906-8660'\n",
       "2. '8631-4500-5666-1510'\n",
       "3. '1459-9918-1722-7369'\n",
       "4. '6736-8932-8180-5826'\n",
       "\n",
       "\n"
      ],
      "text/plain": [
       "[1] \"3489-7099-9906-8660\" \"8631-4500-5666-1510\" \"1459-9918-1722-7369\"\n",
       "[4] \"6736-8932-8180-5826\""
      ]
     },
     "metadata": {},
     "output_type": "display_data"
    }
   ],
   "source": [
    "# two ways to subset/slice the credit cards again: rows 4:7 of column 1\n",
    "\n",
    "fake_ppl[4:7,1]\n",
    "fake_ppl[[1]][4:7]"
   ]
  },
  {
   "cell_type": "markdown",
   "metadata": {},
   "source": [
    "# Sort , Order , Rank:\n",
    "\n",
    "+ `Sort`: returns the input as (ascending or descending) order\n",
    "\n",
    "+ `Order`: the position 'index' of each input (ascending or descending) order\n",
    "\n",
    "+ `Rank`: Will return the value of how it ranks from low to high or vice versa\n",
    "\n",
    "https://statisticsglobe.com/sort-order-rank-r-function-example"
   ]
  },
  {
   "cell_type": "code",
   "execution_count": 229,
   "metadata": {},
   "outputs": [
    {
     "data": {
      "text/html": [
       "<style>\n",
       ".list-inline {list-style: none; margin:0; padding: 0}\n",
       ".list-inline>li {display: inline-block}\n",
       ".list-inline>li:not(:last-child)::after {content: \"\\00b7\"; padding: 0 .5ex}\n",
       "</style>\n",
       "<ol class=list-inline><li>33</li><li>9</li><li>7</li><li>5</li><li>1</li><li>-1</li><li>-4</li></ol>\n"
      ],
      "text/latex": [
       "\\begin{enumerate*}\n",
       "\\item 33\n",
       "\\item 9\n",
       "\\item 7\n",
       "\\item 5\n",
       "\\item 1\n",
       "\\item -1\n",
       "\\item -4\n",
       "\\end{enumerate*}\n"
      ],
      "text/markdown": [
       "1. 33\n",
       "2. 9\n",
       "3. 7\n",
       "4. 5\n",
       "5. 1\n",
       "6. -1\n",
       "7. -4\n",
       "\n",
       "\n"
      ],
      "text/plain": [
       "[1] 33  9  7  5  1 -1 -4"
      ]
     },
     "metadata": {},
     "output_type": "display_data"
    }
   ],
   "source": [
    "# Sort:\n",
    "\n",
    "fun_list<- c(1,5,7,9,33,-4,-1)\n",
    "\n",
    "sort(fun_list,decreasing = TRUE)"
   ]
  },
  {
   "cell_type": "code",
   "execution_count": 231,
   "metadata": {},
   "outputs": [
    {
     "data": {
      "text/html": [
       "<style>\n",
       ".list-inline {list-style: none; margin:0; padding: 0}\n",
       ".list-inline>li {display: inline-block}\n",
       ".list-inline>li:not(:last-child)::after {content: \"\\00b7\"; padding: 0 .5ex}\n",
       "</style>\n",
       "<ol class=list-inline><li>5</li><li>4</li><li>3</li><li>2</li><li>1</li><li>7</li><li>6</li></ol>\n"
      ],
      "text/latex": [
       "\\begin{enumerate*}\n",
       "\\item 5\n",
       "\\item 4\n",
       "\\item 3\n",
       "\\item 2\n",
       "\\item 1\n",
       "\\item 7\n",
       "\\item 6\n",
       "\\end{enumerate*}\n"
      ],
      "text/markdown": [
       "1. 5\n",
       "2. 4\n",
       "3. 3\n",
       "4. 2\n",
       "5. 1\n",
       "6. 7\n",
       "7. 6\n",
       "\n",
       "\n"
      ],
      "text/plain": [
       "[1] 5 4 3 2 1 7 6"
      ]
     },
     "metadata": {},
     "output_type": "display_data"
    }
   ],
   "source": [
    "# Order:\n",
    "\n",
    "order(fun_list,decreasing = TRUE)"
   ]
  },
  {
   "cell_type": "code",
   "execution_count": 233,
   "metadata": {},
   "outputs": [
    {
     "data": {
      "text/html": [
       "<style>\n",
       ".list-inline {list-style: none; margin:0; padding: 0}\n",
       ".list-inline>li {display: inline-block}\n",
       ".list-inline>li:not(:last-child)::after {content: \"\\00b7\"; padding: 0 .5ex}\n",
       "</style>\n",
       "<ol class=list-inline><li>3</li><li>4</li><li>5</li><li>6</li><li>7</li><li>1</li><li>2</li></ol>\n"
      ],
      "text/latex": [
       "\\begin{enumerate*}\n",
       "\\item 3\n",
       "\\item 4\n",
       "\\item 5\n",
       "\\item 6\n",
       "\\item 7\n",
       "\\item 1\n",
       "\\item 2\n",
       "\\end{enumerate*}\n"
      ],
      "text/markdown": [
       "1. 3\n",
       "2. 4\n",
       "3. 5\n",
       "4. 6\n",
       "5. 7\n",
       "6. 1\n",
       "7. 2\n",
       "\n",
       "\n"
      ],
      "text/plain": [
       "[1] 3 4 5 6 7 1 2"
      ]
     },
     "metadata": {},
     "output_type": "display_data"
    }
   ],
   "source": [
    "# Rank: \n",
    "\n",
    "rank(fun_list)"
   ]
  },
  {
   "cell_type": "markdown",
   "metadata": {},
   "source": [
    "# Find `Null Values` & `Duplicates`:"
   ]
  },
  {
   "cell_type": "code",
   "execution_count": 93,
   "metadata": {},
   "outputs": [
    {
     "data": {
      "text/html": [
       "135080"
      ],
      "text/latex": [
       "135080"
      ],
      "text/markdown": [
       "135080"
      ],
      "text/plain": [
       "[1] 135080"
      ]
     },
     "metadata": {},
     "output_type": "display_data"
    },
    {
     "data": {
      "text/html": [
       "<style>\n",
       ".dl-inline {width: auto; margin:0; padding: 0}\n",
       ".dl-inline>dt, .dl-inline>dd {float: none; width: auto; display: inline-block}\n",
       ".dl-inline>dt::after {content: \":\\0020\"; padding-right: .5ex}\n",
       ".dl-inline>dt:not(:first-of-type) {padding-left: .5ex}\n",
       "</style><dl class=dl-inline><dt>InvoiceNo</dt><dd>0</dd><dt>StockCode</dt><dd>0</dd><dt>Description</dt><dd>0</dd><dt>Quantity</dt><dd>0</dd><dt>InvoiceDate</dt><dd>0</dd><dt>UnitPrice</dt><dd>0</dd><dt>CustomerID</dt><dd>135080</dd><dt>Country</dt><dd>0</dd></dl>\n"
      ],
      "text/latex": [
       "\\begin{description*}\n",
       "\\item[InvoiceNo] 0\n",
       "\\item[StockCode] 0\n",
       "\\item[Description] 0\n",
       "\\item[Quantity] 0\n",
       "\\item[InvoiceDate] 0\n",
       "\\item[UnitPrice] 0\n",
       "\\item[CustomerID] 135080\n",
       "\\item[Country] 0\n",
       "\\end{description*}\n"
      ],
      "text/markdown": [
       "InvoiceNo\n",
       ":   0StockCode\n",
       ":   0Description\n",
       ":   0Quantity\n",
       ":   0InvoiceDate\n",
       ":   0UnitPrice\n",
       ":   0CustomerID\n",
       ":   135080Country\n",
       ":   0\n",
       "\n"
      ],
      "text/plain": [
       "  InvoiceNo   StockCode Description    Quantity InvoiceDate   UnitPrice \n",
       "          0           0           0           0           0           0 \n",
       " CustomerID     Country \n",
       "     135080           0 "
      ]
     },
     "metadata": {},
     "output_type": "display_data"
    },
    {
     "data": {
      "text/html": [
       "<style>\n",
       ".list-inline {list-style: none; margin:0; padding: 0}\n",
       ".list-inline>li {display: inline-block}\n",
       ".list-inline>li:not(:last-child)::after {content: \"\\00b7\"; padding: 0 .5ex}\n",
       "</style>\n",
       "<ol class=list-inline><li>1447</li><li>1448</li><li>1449</li><li>1450</li><li>1451</li><li>1452</li></ol>\n"
      ],
      "text/latex": [
       "\\begin{enumerate*}\n",
       "\\item 1447\n",
       "\\item 1448\n",
       "\\item 1449\n",
       "\\item 1450\n",
       "\\item 1451\n",
       "\\item 1452\n",
       "\\end{enumerate*}\n"
      ],
      "text/markdown": [
       "1. 1447\n",
       "2. 1448\n",
       "3. 1449\n",
       "4. 1450\n",
       "5. 1451\n",
       "6. 1452\n",
       "\n",
       "\n"
      ],
      "text/plain": [
       "[1] 1447 1448 1449 1450 1451 1452"
      ]
     },
     "metadata": {},
     "output_type": "display_data"
    },
    {
     "data": {
      "text/html": [
       "<table>\n",
       "<caption>A data.frame: 6 × 8</caption>\n",
       "<thead>\n",
       "\t<tr><th></th><th scope=col>InvoiceNo</th><th scope=col>StockCode</th><th scope=col>Description</th><th scope=col>Quantity</th><th scope=col>InvoiceDate</th><th scope=col>UnitPrice</th><th scope=col>CustomerID</th><th scope=col>Country</th></tr>\n",
       "\t<tr><th></th><th scope=col>&lt;chr&gt;</th><th scope=col>&lt;chr&gt;</th><th scope=col>&lt;chr&gt;</th><th scope=col>&lt;int&gt;</th><th scope=col>&lt;chr&gt;</th><th scope=col>&lt;dbl&gt;</th><th scope=col>&lt;int&gt;</th><th scope=col>&lt;chr&gt;</th></tr>\n",
       "</thead>\n",
       "<tbody>\n",
       "\t<tr><th scope=row>623</th><td>536414</td><td>22139</td><td>                               </td><td>56</td><td>12/1/2010 11:52</td><td>0.00</td><td>NA</td><td>United Kingdom</td></tr>\n",
       "\t<tr><th scope=row>1444</th><td>536544</td><td>21773</td><td>DECORATIVE ROSE BATHROOM BOTTLE</td><td> 1</td><td>12/1/2010 14:32</td><td>2.51</td><td>NA</td><td>United Kingdom</td></tr>\n",
       "\t<tr><th scope=row>1445</th><td>536544</td><td>21774</td><td>DECORATIVE CATS BATHROOM BOTTLE</td><td> 2</td><td>12/1/2010 14:32</td><td>2.51</td><td>NA</td><td>United Kingdom</td></tr>\n",
       "\t<tr><th scope=row>1446</th><td>536544</td><td>21786</td><td>POLKADOT RAIN HAT              </td><td> 4</td><td>12/1/2010 14:32</td><td>0.85</td><td>NA</td><td>United Kingdom</td></tr>\n",
       "\t<tr><th scope=row>1447</th><td>536544</td><td>21787</td><td>RAIN PONCHO RETROSPOT          </td><td> 2</td><td>12/1/2010 14:32</td><td>1.66</td><td>NA</td><td>United Kingdom</td></tr>\n",
       "\t<tr><th scope=row>1448</th><td>536544</td><td>21790</td><td>VINTAGE SNAP CARDS             </td><td> 9</td><td>12/1/2010 14:32</td><td>1.66</td><td>NA</td><td>United Kingdom</td></tr>\n",
       "</tbody>\n",
       "</table>\n"
      ],
      "text/latex": [
       "A data.frame: 6 × 8\n",
       "\\begin{tabular}{r|llllllll}\n",
       "  & InvoiceNo & StockCode & Description & Quantity & InvoiceDate & UnitPrice & CustomerID & Country\\\\\n",
       "  & <chr> & <chr> & <chr> & <int> & <chr> & <dbl> & <int> & <chr>\\\\\n",
       "\\hline\n",
       "\t623 & 536414 & 22139 &                                 & 56 & 12/1/2010 11:52 & 0.00 & NA & United Kingdom\\\\\n",
       "\t1444 & 536544 & 21773 & DECORATIVE ROSE BATHROOM BOTTLE &  1 & 12/1/2010 14:32 & 2.51 & NA & United Kingdom\\\\\n",
       "\t1445 & 536544 & 21774 & DECORATIVE CATS BATHROOM BOTTLE &  2 & 12/1/2010 14:32 & 2.51 & NA & United Kingdom\\\\\n",
       "\t1446 & 536544 & 21786 & POLKADOT RAIN HAT               &  4 & 12/1/2010 14:32 & 0.85 & NA & United Kingdom\\\\\n",
       "\t1447 & 536544 & 21787 & RAIN PONCHO RETROSPOT           &  2 & 12/1/2010 14:32 & 1.66 & NA & United Kingdom\\\\\n",
       "\t1448 & 536544 & 21790 & VINTAGE SNAP CARDS              &  9 & 12/1/2010 14:32 & 1.66 & NA & United Kingdom\\\\\n",
       "\\end{tabular}\n"
      ],
      "text/markdown": [
       "\n",
       "A data.frame: 6 × 8\n",
       "\n",
       "| <!--/--> | InvoiceNo &lt;chr&gt; | StockCode &lt;chr&gt; | Description &lt;chr&gt; | Quantity &lt;int&gt; | InvoiceDate &lt;chr&gt; | UnitPrice &lt;dbl&gt; | CustomerID &lt;int&gt; | Country &lt;chr&gt; |\n",
       "|---|---|---|---|---|---|---|---|---|\n",
       "| 623 | 536414 | 22139 | <!----> | 56 | 12/1/2010 11:52 | 0.00 | NA | United Kingdom |\n",
       "| 1444 | 536544 | 21773 | DECORATIVE ROSE BATHROOM BOTTLE |  1 | 12/1/2010 14:32 | 2.51 | NA | United Kingdom |\n",
       "| 1445 | 536544 | 21774 | DECORATIVE CATS BATHROOM BOTTLE |  2 | 12/1/2010 14:32 | 2.51 | NA | United Kingdom |\n",
       "| 1446 | 536544 | 21786 | POLKADOT RAIN HAT               |  4 | 12/1/2010 14:32 | 0.85 | NA | United Kingdom |\n",
       "| 1447 | 536544 | 21787 | RAIN PONCHO RETROSPOT           |  2 | 12/1/2010 14:32 | 1.66 | NA | United Kingdom |\n",
       "| 1448 | 536544 | 21790 | VINTAGE SNAP CARDS              |  9 | 12/1/2010 14:32 | 1.66 | NA | United Kingdom |\n",
       "\n"
      ],
      "text/plain": [
       "     InvoiceNo StockCode Description                     Quantity\n",
       "623  536414    22139                                     56      \n",
       "1444 536544    21773     DECORATIVE ROSE BATHROOM BOTTLE  1      \n",
       "1445 536544    21774     DECORATIVE CATS BATHROOM BOTTLE  2      \n",
       "1446 536544    21786     POLKADOT RAIN HAT                4      \n",
       "1447 536544    21787     RAIN PONCHO RETROSPOT            2      \n",
       "1448 536544    21790     VINTAGE SNAP CARDS               9      \n",
       "     InvoiceDate     UnitPrice CustomerID Country       \n",
       "623  12/1/2010 11:52 0.00      NA         United Kingdom\n",
       "1444 12/1/2010 14:32 2.51      NA         United Kingdom\n",
       "1445 12/1/2010 14:32 2.51      NA         United Kingdom\n",
       "1446 12/1/2010 14:32 0.85      NA         United Kingdom\n",
       "1447 12/1/2010 14:32 1.66      NA         United Kingdom\n",
       "1448 12/1/2010 14:32 1.66      NA         United Kingdom"
      ]
     },
     "metadata": {},
     "output_type": "display_data"
    }
   ],
   "source": [
    "# Total NA values summed\n",
    "sum(is.na(sales_data))\n",
    "\n",
    "# Number of NA values by Column\n",
    "colSums(is.na(sales_data))\n",
    "\n",
    "# Print Out rows with NA: subset entries 5-10\n",
    "unique(unlist (lapply (sales_data, function (x) which (is.na (x)))))[5:10]\n",
    "\n",
    "#Print DF with NA Rows\n",
    "head(sales_data[!!rowSums(is.na(sales_data)),])"
   ]
  },
  {
   "cell_type": "code",
   "execution_count": 237,
   "metadata": {},
   "outputs": [
    {
     "data": {
      "text/html": [
       "0"
      ],
      "text/latex": [
       "0"
      ],
      "text/markdown": [
       "0"
      ],
      "text/plain": [
       "[1] 0"
      ]
     },
     "metadata": {},
     "output_type": "display_data"
    },
    {
     "data": {
      "text/html": [
       "135080"
      ],
      "text/latex": [
       "135080"
      ],
      "text/markdown": [
       "135080"
      ],
      "text/plain": [
       "[1] 135080"
      ]
     },
     "metadata": {},
     "output_type": "display_data"
    }
   ],
   "source": [
    "# Take Care of NA values: REMOVE\n",
    "no_naSales<-na.omit(sales_data)\n",
    "\n",
    "#---------- Compare ------------\n",
    "# Remove NA:\n",
    "sum(is.na(no_naSales))\n",
    "\n",
    "#original Data\n",
    "sum(is.na(sales_data))"
   ]
  },
  {
   "cell_type": "code",
   "execution_count": 239,
   "metadata": {},
   "outputs": [
    {
     "data": {
      "text/html": [
       "0"
      ],
      "text/latex": [
       "0"
      ],
      "text/markdown": [
       "0"
      ],
      "text/plain": [
       "[1] 0"
      ]
     },
     "metadata": {},
     "output_type": "display_data"
    }
   ],
   "source": [
    "# Fill NA with other value: This is just 1 way of doing it\n",
    "\n",
    "m<-sales_data %>% replace_na(list(CustomerID = \"unknown\"))\n",
    "sum(is.na(m))"
   ]
  },
  {
   "cell_type": "code",
   "execution_count": 97,
   "metadata": {},
   "outputs": [
    {
     "data": {
      "text/html": [
       "<table>\n",
       "<caption>A data.frame: 6 × 8</caption>\n",
       "<thead>\n",
       "\t<tr><th></th><th scope=col>InvoiceNo</th><th scope=col>StockCode</th><th scope=col>Description</th><th scope=col>Quantity</th><th scope=col>InvoiceDate</th><th scope=col>UnitPrice</th><th scope=col>CustomerID</th><th scope=col>Country</th></tr>\n",
       "\t<tr><th></th><th scope=col>&lt;chr&gt;</th><th scope=col>&lt;chr&gt;</th><th scope=col>&lt;chr&gt;</th><th scope=col>&lt;int&gt;</th><th scope=col>&lt;chr&gt;</th><th scope=col>&lt;dbl&gt;</th><th scope=col>&lt;int&gt;</th><th scope=col>&lt;chr&gt;</th></tr>\n",
       "</thead>\n",
       "<tbody>\n",
       "\t<tr><th scope=row>518</th><td>536409</td><td>21866</td><td>UNION JACK FLAG LUGGAGE TAG      </td><td>1</td><td>12/1/2010 11:45</td><td>1.25</td><td>17908</td><td>United Kingdom</td></tr>\n",
       "\t<tr><th scope=row>528</th><td>536409</td><td>22866</td><td>HAND WARMER SCOTTY DOG DESIGN    </td><td>1</td><td>12/1/2010 11:45</td><td>2.10</td><td>17908</td><td>United Kingdom</td></tr>\n",
       "\t<tr><th scope=row>538</th><td>536409</td><td>22900</td><td> SET 2 TEA TOWELS I LOVE LONDON  </td><td>1</td><td>12/1/2010 11:45</td><td>2.95</td><td>17908</td><td>United Kingdom</td></tr>\n",
       "\t<tr><th scope=row>540</th><td>536409</td><td>22111</td><td>SCOTTIE DOG HOT WATER BOTTLE     </td><td>1</td><td>12/1/2010 11:45</td><td>4.95</td><td>17908</td><td>United Kingdom</td></tr>\n",
       "\t<tr><th scope=row>556</th><td>536412</td><td>22327</td><td>ROUND SNACK BOXES SET OF 4 SKULLS</td><td>1</td><td>12/1/2010 11:49</td><td>2.95</td><td>17920</td><td>United Kingdom</td></tr>\n",
       "\t<tr><th scope=row>588</th><td>536412</td><td>22273</td><td>FELTCRAFT DOLL MOLLY             </td><td>1</td><td>12/1/2010 11:49</td><td>2.95</td><td>17920</td><td>United Kingdom</td></tr>\n",
       "</tbody>\n",
       "</table>\n"
      ],
      "text/latex": [
       "A data.frame: 6 × 8\n",
       "\\begin{tabular}{r|llllllll}\n",
       "  & InvoiceNo & StockCode & Description & Quantity & InvoiceDate & UnitPrice & CustomerID & Country\\\\\n",
       "  & <chr> & <chr> & <chr> & <int> & <chr> & <dbl> & <int> & <chr>\\\\\n",
       "\\hline\n",
       "\t518 & 536409 & 21866 & UNION JACK FLAG LUGGAGE TAG       & 1 & 12/1/2010 11:45 & 1.25 & 17908 & United Kingdom\\\\\n",
       "\t528 & 536409 & 22866 & HAND WARMER SCOTTY DOG DESIGN     & 1 & 12/1/2010 11:45 & 2.10 & 17908 & United Kingdom\\\\\n",
       "\t538 & 536409 & 22900 &  SET 2 TEA TOWELS I LOVE LONDON   & 1 & 12/1/2010 11:45 & 2.95 & 17908 & United Kingdom\\\\\n",
       "\t540 & 536409 & 22111 & SCOTTIE DOG HOT WATER BOTTLE      & 1 & 12/1/2010 11:45 & 4.95 & 17908 & United Kingdom\\\\\n",
       "\t556 & 536412 & 22327 & ROUND SNACK BOXES SET OF 4 SKULLS & 1 & 12/1/2010 11:49 & 2.95 & 17920 & United Kingdom\\\\\n",
       "\t588 & 536412 & 22273 & FELTCRAFT DOLL MOLLY              & 1 & 12/1/2010 11:49 & 2.95 & 17920 & United Kingdom\\\\\n",
       "\\end{tabular}\n"
      ],
      "text/markdown": [
       "\n",
       "A data.frame: 6 × 8\n",
       "\n",
       "| <!--/--> | InvoiceNo &lt;chr&gt; | StockCode &lt;chr&gt; | Description &lt;chr&gt; | Quantity &lt;int&gt; | InvoiceDate &lt;chr&gt; | UnitPrice &lt;dbl&gt; | CustomerID &lt;int&gt; | Country &lt;chr&gt; |\n",
       "|---|---|---|---|---|---|---|---|---|\n",
       "| 518 | 536409 | 21866 | UNION JACK FLAG LUGGAGE TAG       | 1 | 12/1/2010 11:45 | 1.25 | 17908 | United Kingdom |\n",
       "| 528 | 536409 | 22866 | HAND WARMER SCOTTY DOG DESIGN     | 1 | 12/1/2010 11:45 | 2.10 | 17908 | United Kingdom |\n",
       "| 538 | 536409 | 22900 |  SET 2 TEA TOWELS I LOVE LONDON   | 1 | 12/1/2010 11:45 | 2.95 | 17908 | United Kingdom |\n",
       "| 540 | 536409 | 22111 | SCOTTIE DOG HOT WATER BOTTLE      | 1 | 12/1/2010 11:45 | 4.95 | 17908 | United Kingdom |\n",
       "| 556 | 536412 | 22327 | ROUND SNACK BOXES SET OF 4 SKULLS | 1 | 12/1/2010 11:49 | 2.95 | 17920 | United Kingdom |\n",
       "| 588 | 536412 | 22273 | FELTCRAFT DOLL MOLLY              | 1 | 12/1/2010 11:49 | 2.95 | 17920 | United Kingdom |\n",
       "\n"
      ],
      "text/plain": [
       "    InvoiceNo StockCode Description                       Quantity\n",
       "518 536409    21866     UNION JACK FLAG LUGGAGE TAG       1       \n",
       "528 536409    22866     HAND WARMER SCOTTY DOG DESIGN     1       \n",
       "538 536409    22900      SET 2 TEA TOWELS I LOVE LONDON   1       \n",
       "540 536409    22111     SCOTTIE DOG HOT WATER BOTTLE      1       \n",
       "556 536412    22327     ROUND SNACK BOXES SET OF 4 SKULLS 1       \n",
       "588 536412    22273     FELTCRAFT DOLL MOLLY              1       \n",
       "    InvoiceDate     UnitPrice CustomerID Country       \n",
       "518 12/1/2010 11:45 1.25      17908      United Kingdom\n",
       "528 12/1/2010 11:45 2.10      17908      United Kingdom\n",
       "538 12/1/2010 11:45 2.95      17908      United Kingdom\n",
       "540 12/1/2010 11:45 4.95      17908      United Kingdom\n",
       "556 12/1/2010 11:49 2.95      17920      United Kingdom\n",
       "588 12/1/2010 11:49 2.95      17920      United Kingdom"
      ]
     },
     "metadata": {},
     "output_type": "display_data"
    }
   ],
   "source": [
    "# Find Duplicates:\n",
    "\n",
    "head(sales_data[duplicated(sales_data),])"
   ]
  },
  {
   "cell_type": "code",
   "execution_count": 98,
   "metadata": {},
   "outputs": [
    {
     "data": {
      "text/html": [
       "<table>\n",
       "<caption>A data.frame: 6 × 8</caption>\n",
       "<thead>\n",
       "\t<tr><th></th><th scope=col>InvoiceNo</th><th scope=col>StockCode</th><th scope=col>Description</th><th scope=col>Quantity</th><th scope=col>InvoiceDate</th><th scope=col>UnitPrice</th><th scope=col>CustomerID</th><th scope=col>Country</th></tr>\n",
       "\t<tr><th></th><th scope=col>&lt;chr&gt;</th><th scope=col>&lt;chr&gt;</th><th scope=col>&lt;chr&gt;</th><th scope=col>&lt;int&gt;</th><th scope=col>&lt;chr&gt;</th><th scope=col>&lt;dbl&gt;</th><th scope=col>&lt;int&gt;</th><th scope=col>&lt;chr&gt;</th></tr>\n",
       "</thead>\n",
       "<tbody>\n",
       "\t<tr><th scope=row>1</th><td>536365</td><td>85123A</td><td>WHITE HANGING HEART T-LIGHT HOLDER </td><td>6</td><td>12/1/2010 8:26</td><td>2.55</td><td>17850</td><td>United Kingdom</td></tr>\n",
       "\t<tr><th scope=row>2</th><td>536365</td><td>71053 </td><td>WHITE METAL LANTERN                </td><td>6</td><td>12/1/2010 8:26</td><td>3.39</td><td>17850</td><td>United Kingdom</td></tr>\n",
       "\t<tr><th scope=row>3</th><td>536365</td><td>84406B</td><td>CREAM CUPID HEARTS COAT HANGER     </td><td>8</td><td>12/1/2010 8:26</td><td>2.75</td><td>17850</td><td>United Kingdom</td></tr>\n",
       "\t<tr><th scope=row>4</th><td>536365</td><td>84029G</td><td>KNITTED UNION FLAG HOT WATER BOTTLE</td><td>6</td><td>12/1/2010 8:26</td><td>3.39</td><td>17850</td><td>United Kingdom</td></tr>\n",
       "\t<tr><th scope=row>5</th><td>536365</td><td>84029E</td><td>RED WOOLLY HOTTIE WHITE HEART.     </td><td>6</td><td>12/1/2010 8:26</td><td>3.39</td><td>17850</td><td>United Kingdom</td></tr>\n",
       "\t<tr><th scope=row>6</th><td>536365</td><td>22752 </td><td>SET 7 BABUSHKA NESTING BOXES       </td><td>2</td><td>12/1/2010 8:26</td><td>7.65</td><td>17850</td><td>United Kingdom</td></tr>\n",
       "</tbody>\n",
       "</table>\n"
      ],
      "text/latex": [
       "A data.frame: 6 × 8\n",
       "\\begin{tabular}{r|llllllll}\n",
       "  & InvoiceNo & StockCode & Description & Quantity & InvoiceDate & UnitPrice & CustomerID & Country\\\\\n",
       "  & <chr> & <chr> & <chr> & <int> & <chr> & <dbl> & <int> & <chr>\\\\\n",
       "\\hline\n",
       "\t1 & 536365 & 85123A & WHITE HANGING HEART T-LIGHT HOLDER  & 6 & 12/1/2010 8:26 & 2.55 & 17850 & United Kingdom\\\\\n",
       "\t2 & 536365 & 71053  & WHITE METAL LANTERN                 & 6 & 12/1/2010 8:26 & 3.39 & 17850 & United Kingdom\\\\\n",
       "\t3 & 536365 & 84406B & CREAM CUPID HEARTS COAT HANGER      & 8 & 12/1/2010 8:26 & 2.75 & 17850 & United Kingdom\\\\\n",
       "\t4 & 536365 & 84029G & KNITTED UNION FLAG HOT WATER BOTTLE & 6 & 12/1/2010 8:26 & 3.39 & 17850 & United Kingdom\\\\\n",
       "\t5 & 536365 & 84029E & RED WOOLLY HOTTIE WHITE HEART.      & 6 & 12/1/2010 8:26 & 3.39 & 17850 & United Kingdom\\\\\n",
       "\t6 & 536365 & 22752  & SET 7 BABUSHKA NESTING BOXES        & 2 & 12/1/2010 8:26 & 7.65 & 17850 & United Kingdom\\\\\n",
       "\\end{tabular}\n"
      ],
      "text/markdown": [
       "\n",
       "A data.frame: 6 × 8\n",
       "\n",
       "| <!--/--> | InvoiceNo &lt;chr&gt; | StockCode &lt;chr&gt; | Description &lt;chr&gt; | Quantity &lt;int&gt; | InvoiceDate &lt;chr&gt; | UnitPrice &lt;dbl&gt; | CustomerID &lt;int&gt; | Country &lt;chr&gt; |\n",
       "|---|---|---|---|---|---|---|---|---|\n",
       "| 1 | 536365 | 85123A | WHITE HANGING HEART T-LIGHT HOLDER  | 6 | 12/1/2010 8:26 | 2.55 | 17850 | United Kingdom |\n",
       "| 2 | 536365 | 71053  | WHITE METAL LANTERN                 | 6 | 12/1/2010 8:26 | 3.39 | 17850 | United Kingdom |\n",
       "| 3 | 536365 | 84406B | CREAM CUPID HEARTS COAT HANGER      | 8 | 12/1/2010 8:26 | 2.75 | 17850 | United Kingdom |\n",
       "| 4 | 536365 | 84029G | KNITTED UNION FLAG HOT WATER BOTTLE | 6 | 12/1/2010 8:26 | 3.39 | 17850 | United Kingdom |\n",
       "| 5 | 536365 | 84029E | RED WOOLLY HOTTIE WHITE HEART.      | 6 | 12/1/2010 8:26 | 3.39 | 17850 | United Kingdom |\n",
       "| 6 | 536365 | 22752  | SET 7 BABUSHKA NESTING BOXES        | 2 | 12/1/2010 8:26 | 7.65 | 17850 | United Kingdom |\n",
       "\n"
      ],
      "text/plain": [
       "  InvoiceNo StockCode Description                         Quantity\n",
       "1 536365    85123A    WHITE HANGING HEART T-LIGHT HOLDER  6       \n",
       "2 536365    71053     WHITE METAL LANTERN                 6       \n",
       "3 536365    84406B    CREAM CUPID HEARTS COAT HANGER      8       \n",
       "4 536365    84029G    KNITTED UNION FLAG HOT WATER BOTTLE 6       \n",
       "5 536365    84029E    RED WOOLLY HOTTIE WHITE HEART.      6       \n",
       "6 536365    22752     SET 7 BABUSHKA NESTING BOXES        2       \n",
       "  InvoiceDate    UnitPrice CustomerID Country       \n",
       "1 12/1/2010 8:26 2.55      17850      United Kingdom\n",
       "2 12/1/2010 8:26 3.39      17850      United Kingdom\n",
       "3 12/1/2010 8:26 2.75      17850      United Kingdom\n",
       "4 12/1/2010 8:26 3.39      17850      United Kingdom\n",
       "5 12/1/2010 8:26 3.39      17850      United Kingdom\n",
       "6 12/1/2010 8:26 7.65      17850      United Kingdom"
      ]
     },
     "metadata": {},
     "output_type": "display_data"
    }
   ],
   "source": [
    "# Remove Duplicates:\n",
    "\n",
    "head(sales_data[!duplicated(sales_data),])"
   ]
  },
  {
   "cell_type": "code",
   "execution_count": 101,
   "metadata": {},
   "outputs": [
    {
     "data": {
      "text/html": [
       "<table>\n",
       "<caption>A data.frame: 6 × 8</caption>\n",
       "<thead>\n",
       "\t<tr><th></th><th scope=col>InvoiceNo</th><th scope=col>StockCode</th><th scope=col>Description</th><th scope=col>Quantity</th><th scope=col>InvoiceDate</th><th scope=col>UnitPrice</th><th scope=col>CustomerID</th><th scope=col>Country</th></tr>\n",
       "\t<tr><th></th><th scope=col>&lt;chr&gt;</th><th scope=col>&lt;chr&gt;</th><th scope=col>&lt;chr&gt;</th><th scope=col>&lt;int&gt;</th><th scope=col>&lt;chr&gt;</th><th scope=col>&lt;dbl&gt;</th><th scope=col>&lt;int&gt;</th><th scope=col>&lt;chr&gt;</th></tr>\n",
       "</thead>\n",
       "<tbody>\n",
       "\t<tr><th scope=row>1</th><td>536365</td><td>85123A</td><td>WHITE HANGING HEART T-LIGHT HOLDER </td><td>6</td><td>12/1/2010 8:26</td><td>2.55</td><td>17850</td><td>United Kingdom</td></tr>\n",
       "\t<tr><th scope=row>2</th><td>536365</td><td>71053 </td><td>WHITE METAL LANTERN                </td><td>6</td><td>12/1/2010 8:26</td><td>3.39</td><td>17850</td><td>United Kingdom</td></tr>\n",
       "\t<tr><th scope=row>3</th><td>536365</td><td>84406B</td><td>CREAM CUPID HEARTS COAT HANGER     </td><td>8</td><td>12/1/2010 8:26</td><td>2.75</td><td>17850</td><td>United Kingdom</td></tr>\n",
       "\t<tr><th scope=row>4</th><td>536365</td><td>84029G</td><td>KNITTED UNION FLAG HOT WATER BOTTLE</td><td>6</td><td>12/1/2010 8:26</td><td>3.39</td><td>17850</td><td>United Kingdom</td></tr>\n",
       "\t<tr><th scope=row>5</th><td>536365</td><td>84029E</td><td>RED WOOLLY HOTTIE WHITE HEART.     </td><td>6</td><td>12/1/2010 8:26</td><td>3.39</td><td>17850</td><td>United Kingdom</td></tr>\n",
       "\t<tr><th scope=row>6</th><td>536365</td><td>22752 </td><td>SET 7 BABUSHKA NESTING BOXES       </td><td>2</td><td>12/1/2010 8:26</td><td>7.65</td><td>17850</td><td>United Kingdom</td></tr>\n",
       "</tbody>\n",
       "</table>\n"
      ],
      "text/latex": [
       "A data.frame: 6 × 8\n",
       "\\begin{tabular}{r|llllllll}\n",
       "  & InvoiceNo & StockCode & Description & Quantity & InvoiceDate & UnitPrice & CustomerID & Country\\\\\n",
       "  & <chr> & <chr> & <chr> & <int> & <chr> & <dbl> & <int> & <chr>\\\\\n",
       "\\hline\n",
       "\t1 & 536365 & 85123A & WHITE HANGING HEART T-LIGHT HOLDER  & 6 & 12/1/2010 8:26 & 2.55 & 17850 & United Kingdom\\\\\n",
       "\t2 & 536365 & 71053  & WHITE METAL LANTERN                 & 6 & 12/1/2010 8:26 & 3.39 & 17850 & United Kingdom\\\\\n",
       "\t3 & 536365 & 84406B & CREAM CUPID HEARTS COAT HANGER      & 8 & 12/1/2010 8:26 & 2.75 & 17850 & United Kingdom\\\\\n",
       "\t4 & 536365 & 84029G & KNITTED UNION FLAG HOT WATER BOTTLE & 6 & 12/1/2010 8:26 & 3.39 & 17850 & United Kingdom\\\\\n",
       "\t5 & 536365 & 84029E & RED WOOLLY HOTTIE WHITE HEART.      & 6 & 12/1/2010 8:26 & 3.39 & 17850 & United Kingdom\\\\\n",
       "\t6 & 536365 & 22752  & SET 7 BABUSHKA NESTING BOXES        & 2 & 12/1/2010 8:26 & 7.65 & 17850 & United Kingdom\\\\\n",
       "\\end{tabular}\n"
      ],
      "text/markdown": [
       "\n",
       "A data.frame: 6 × 8\n",
       "\n",
       "| <!--/--> | InvoiceNo &lt;chr&gt; | StockCode &lt;chr&gt; | Description &lt;chr&gt; | Quantity &lt;int&gt; | InvoiceDate &lt;chr&gt; | UnitPrice &lt;dbl&gt; | CustomerID &lt;int&gt; | Country &lt;chr&gt; |\n",
       "|---|---|---|---|---|---|---|---|---|\n",
       "| 1 | 536365 | 85123A | WHITE HANGING HEART T-LIGHT HOLDER  | 6 | 12/1/2010 8:26 | 2.55 | 17850 | United Kingdom |\n",
       "| 2 | 536365 | 71053  | WHITE METAL LANTERN                 | 6 | 12/1/2010 8:26 | 3.39 | 17850 | United Kingdom |\n",
       "| 3 | 536365 | 84406B | CREAM CUPID HEARTS COAT HANGER      | 8 | 12/1/2010 8:26 | 2.75 | 17850 | United Kingdom |\n",
       "| 4 | 536365 | 84029G | KNITTED UNION FLAG HOT WATER BOTTLE | 6 | 12/1/2010 8:26 | 3.39 | 17850 | United Kingdom |\n",
       "| 5 | 536365 | 84029E | RED WOOLLY HOTTIE WHITE HEART.      | 6 | 12/1/2010 8:26 | 3.39 | 17850 | United Kingdom |\n",
       "| 6 | 536365 | 22752  | SET 7 BABUSHKA NESTING BOXES        | 2 | 12/1/2010 8:26 | 7.65 | 17850 | United Kingdom |\n",
       "\n"
      ],
      "text/plain": [
       "  InvoiceNo StockCode Description                         Quantity\n",
       "1 536365    85123A    WHITE HANGING HEART T-LIGHT HOLDER  6       \n",
       "2 536365    71053     WHITE METAL LANTERN                 6       \n",
       "3 536365    84406B    CREAM CUPID HEARTS COAT HANGER      8       \n",
       "4 536365    84029G    KNITTED UNION FLAG HOT WATER BOTTLE 6       \n",
       "5 536365    84029E    RED WOOLLY HOTTIE WHITE HEART.      6       \n",
       "6 536365    22752     SET 7 BABUSHKA NESTING BOXES        2       \n",
       "  InvoiceDate    UnitPrice CustomerID Country       \n",
       "1 12/1/2010 8:26 2.55      17850      United Kingdom\n",
       "2 12/1/2010 8:26 3.39      17850      United Kingdom\n",
       "3 12/1/2010 8:26 2.75      17850      United Kingdom\n",
       "4 12/1/2010 8:26 3.39      17850      United Kingdom\n",
       "5 12/1/2010 8:26 3.39      17850      United Kingdom\n",
       "6 12/1/2010 8:26 7.65      17850      United Kingdom"
      ]
     },
     "metadata": {},
     "output_type": "display_data"
    }
   ],
   "source": [
    "# Find Unique Values:\n",
    "\n",
    "head(unique(sales_data))"
   ]
  },
  {
   "cell_type": "code",
   "execution_count": 103,
   "metadata": {},
   "outputs": [
    {
     "data": {
      "text/html": [
       "<table>\n",
       "<caption>A data.frame: 6 × 8</caption>\n",
       "<thead>\n",
       "\t<tr><th></th><th scope=col>InvoiceNo</th><th scope=col>StockCode</th><th scope=col>Description</th><th scope=col>Quantity</th><th scope=col>InvoiceDate</th><th scope=col>UnitPrice</th><th scope=col>CustomerID</th><th scope=col>Country</th></tr>\n",
       "\t<tr><th></th><th scope=col>&lt;chr&gt;</th><th scope=col>&lt;chr&gt;</th><th scope=col>&lt;chr&gt;</th><th scope=col>&lt;int&gt;</th><th scope=col>&lt;chr&gt;</th><th scope=col>&lt;dbl&gt;</th><th scope=col>&lt;int&gt;</th><th scope=col>&lt;chr&gt;</th></tr>\n",
       "</thead>\n",
       "<tbody>\n",
       "\t<tr><th scope=row>1</th><td>536365</td><td>85123A</td><td>WHITE HANGING HEART T-LIGHT HOLDER </td><td>6</td><td>12/1/2010 8:26</td><td>2.55</td><td>17850</td><td>United Kingdom</td></tr>\n",
       "\t<tr><th scope=row>2</th><td>536365</td><td>71053 </td><td>WHITE METAL LANTERN                </td><td>6</td><td>12/1/2010 8:26</td><td>3.39</td><td>17850</td><td>United Kingdom</td></tr>\n",
       "\t<tr><th scope=row>3</th><td>536365</td><td>84406B</td><td>CREAM CUPID HEARTS COAT HANGER     </td><td>8</td><td>12/1/2010 8:26</td><td>2.75</td><td>17850</td><td>United Kingdom</td></tr>\n",
       "\t<tr><th scope=row>4</th><td>536365</td><td>84029G</td><td>KNITTED UNION FLAG HOT WATER BOTTLE</td><td>6</td><td>12/1/2010 8:26</td><td>3.39</td><td>17850</td><td>United Kingdom</td></tr>\n",
       "\t<tr><th scope=row>5</th><td>536365</td><td>84029E</td><td>RED WOOLLY HOTTIE WHITE HEART.     </td><td>6</td><td>12/1/2010 8:26</td><td>3.39</td><td>17850</td><td>United Kingdom</td></tr>\n",
       "\t<tr><th scope=row>6</th><td>536365</td><td>22752 </td><td>SET 7 BABUSHKA NESTING BOXES       </td><td>2</td><td>12/1/2010 8:26</td><td>7.65</td><td>17850</td><td>United Kingdom</td></tr>\n",
       "</tbody>\n",
       "</table>\n"
      ],
      "text/latex": [
       "A data.frame: 6 × 8\n",
       "\\begin{tabular}{r|llllllll}\n",
       "  & InvoiceNo & StockCode & Description & Quantity & InvoiceDate & UnitPrice & CustomerID & Country\\\\\n",
       "  & <chr> & <chr> & <chr> & <int> & <chr> & <dbl> & <int> & <chr>\\\\\n",
       "\\hline\n",
       "\t1 & 536365 & 85123A & WHITE HANGING HEART T-LIGHT HOLDER  & 6 & 12/1/2010 8:26 & 2.55 & 17850 & United Kingdom\\\\\n",
       "\t2 & 536365 & 71053  & WHITE METAL LANTERN                 & 6 & 12/1/2010 8:26 & 3.39 & 17850 & United Kingdom\\\\\n",
       "\t3 & 536365 & 84406B & CREAM CUPID HEARTS COAT HANGER      & 8 & 12/1/2010 8:26 & 2.75 & 17850 & United Kingdom\\\\\n",
       "\t4 & 536365 & 84029G & KNITTED UNION FLAG HOT WATER BOTTLE & 6 & 12/1/2010 8:26 & 3.39 & 17850 & United Kingdom\\\\\n",
       "\t5 & 536365 & 84029E & RED WOOLLY HOTTIE WHITE HEART.      & 6 & 12/1/2010 8:26 & 3.39 & 17850 & United Kingdom\\\\\n",
       "\t6 & 536365 & 22752  & SET 7 BABUSHKA NESTING BOXES        & 2 & 12/1/2010 8:26 & 7.65 & 17850 & United Kingdom\\\\\n",
       "\\end{tabular}\n"
      ],
      "text/markdown": [
       "\n",
       "A data.frame: 6 × 8\n",
       "\n",
       "| <!--/--> | InvoiceNo &lt;chr&gt; | StockCode &lt;chr&gt; | Description &lt;chr&gt; | Quantity &lt;int&gt; | InvoiceDate &lt;chr&gt; | UnitPrice &lt;dbl&gt; | CustomerID &lt;int&gt; | Country &lt;chr&gt; |\n",
       "|---|---|---|---|---|---|---|---|---|\n",
       "| 1 | 536365 | 85123A | WHITE HANGING HEART T-LIGHT HOLDER  | 6 | 12/1/2010 8:26 | 2.55 | 17850 | United Kingdom |\n",
       "| 2 | 536365 | 71053  | WHITE METAL LANTERN                 | 6 | 12/1/2010 8:26 | 3.39 | 17850 | United Kingdom |\n",
       "| 3 | 536365 | 84406B | CREAM CUPID HEARTS COAT HANGER      | 8 | 12/1/2010 8:26 | 2.75 | 17850 | United Kingdom |\n",
       "| 4 | 536365 | 84029G | KNITTED UNION FLAG HOT WATER BOTTLE | 6 | 12/1/2010 8:26 | 3.39 | 17850 | United Kingdom |\n",
       "| 5 | 536365 | 84029E | RED WOOLLY HOTTIE WHITE HEART.      | 6 | 12/1/2010 8:26 | 3.39 | 17850 | United Kingdom |\n",
       "| 6 | 536365 | 22752  | SET 7 BABUSHKA NESTING BOXES        | 2 | 12/1/2010 8:26 | 7.65 | 17850 | United Kingdom |\n",
       "\n"
      ],
      "text/plain": [
       "  InvoiceNo StockCode Description                         Quantity\n",
       "1 536365    85123A    WHITE HANGING HEART T-LIGHT HOLDER  6       \n",
       "2 536365    71053     WHITE METAL LANTERN                 6       \n",
       "3 536365    84406B    CREAM CUPID HEARTS COAT HANGER      8       \n",
       "4 536365    84029G    KNITTED UNION FLAG HOT WATER BOTTLE 6       \n",
       "5 536365    84029E    RED WOOLLY HOTTIE WHITE HEART.      6       \n",
       "6 536365    22752     SET 7 BABUSHKA NESTING BOXES        2       \n",
       "  InvoiceDate    UnitPrice CustomerID Country       \n",
       "1 12/1/2010 8:26 2.55      17850      United Kingdom\n",
       "2 12/1/2010 8:26 3.39      17850      United Kingdom\n",
       "3 12/1/2010 8:26 2.75      17850      United Kingdom\n",
       "4 12/1/2010 8:26 3.39      17850      United Kingdom\n",
       "5 12/1/2010 8:26 3.39      17850      United Kingdom\n",
       "6 12/1/2010 8:26 7.65      17850      United Kingdom"
      ]
     },
     "metadata": {},
     "output_type": "display_data"
    }
   ],
   "source": [
    "# Same as Unique, but uses the dplyr method of distinct. If there is a duplicate row\n",
    "# only the first is preserved\n",
    "\n",
    "head(sales_data %>% distinct())"
   ]
  },
  {
   "cell_type": "markdown",
   "metadata": {},
   "source": [
    "# Filter: `find rows where some condition is TRUE`"
   ]
  },
  {
   "cell_type": "code",
   "execution_count": 226,
   "metadata": {},
   "outputs": [
    {
     "data": {
      "text/html": [
       "<table>\n",
       "<caption>A data.frame: 6 × 5</caption>\n",
       "<thead>\n",
       "\t<tr><th></th><th scope=col>credit_card</th><th scope=col>email</th><th scope=col>first_name</th><th scope=col>last_name</th><th scope=col>primary_phone_number</th></tr>\n",
       "\t<tr><th></th><th scope=col>&lt;chr&gt;</th><th scope=col>&lt;chr&gt;</th><th scope=col>&lt;chr&gt;</th><th scope=col>&lt;chr&gt;</th><th scope=col>&lt;dbl&gt;</th></tr>\n",
       "</thead>\n",
       "<tbody>\n",
       "\t<tr><th scope=row>1</th><td>8631-4500-5666-1510</td><td>rztkvliou@dkeinhgysf.deo</td><td>Anthony</td><td>Vo      </td><td>7345795348</td></tr>\n",
       "\t<tr><th scope=row>2</th><td>1280-4584-5250-1133</td><td>axthrlcob@kdqvoabtw.nmg </td><td>Anthony</td><td>Henley  </td><td>6958349723</td></tr>\n",
       "\t<tr><th scope=row>3</th><td>6921-1083-1797-8702</td><td>xzgefkqlh@nhocyb.qwy    </td><td>Anthony</td><td>Hazelman</td><td>9315684987</td></tr>\n",
       "\t<tr><th scope=row>4</th><td>5725-6056-1230-2423</td><td>kj@tr.jdt               </td><td>Anthony</td><td>Garcia  </td><td>7244972846</td></tr>\n",
       "\t<tr><th scope=row>5</th><td>8170-8477-1042-3899</td><td>rexi@eitlpqv.pce        </td><td>Anthony</td><td>Green   </td><td>8362748419</td></tr>\n",
       "\t<tr><th scope=row>6</th><td>9895-2493-1052-5470</td><td>rm@fa.yka               </td><td>Anthony</td><td>Colorow </td><td>6813253162</td></tr>\n",
       "</tbody>\n",
       "</table>\n"
      ],
      "text/latex": [
       "A data.frame: 6 × 5\n",
       "\\begin{tabular}{r|lllll}\n",
       "  & credit\\_card & email & first\\_name & last\\_name & primary\\_phone\\_number\\\\\n",
       "  & <chr> & <chr> & <chr> & <chr> & <dbl>\\\\\n",
       "\\hline\n",
       "\t1 & 8631-4500-5666-1510 & rztkvliou@dkeinhgysf.deo & Anthony & Vo       & 7345795348\\\\\n",
       "\t2 & 1280-4584-5250-1133 & axthrlcob@kdqvoabtw.nmg  & Anthony & Henley   & 6958349723\\\\\n",
       "\t3 & 6921-1083-1797-8702 & xzgefkqlh@nhocyb.qwy     & Anthony & Hazelman & 9315684987\\\\\n",
       "\t4 & 5725-6056-1230-2423 & kj@tr.jdt                & Anthony & Garcia   & 7244972846\\\\\n",
       "\t5 & 8170-8477-1042-3899 & rexi@eitlpqv.pce         & Anthony & Green    & 8362748419\\\\\n",
       "\t6 & 9895-2493-1052-5470 & rm@fa.yka                & Anthony & Colorow  & 6813253162\\\\\n",
       "\\end{tabular}\n"
      ],
      "text/markdown": [
       "\n",
       "A data.frame: 6 × 5\n",
       "\n",
       "| <!--/--> | credit_card &lt;chr&gt; | email &lt;chr&gt; | first_name &lt;chr&gt; | last_name &lt;chr&gt; | primary_phone_number &lt;dbl&gt; |\n",
       "|---|---|---|---|---|---|\n",
       "| 1 | 8631-4500-5666-1510 | rztkvliou@dkeinhgysf.deo | Anthony | Vo       | 7345795348 |\n",
       "| 2 | 1280-4584-5250-1133 | axthrlcob@kdqvoabtw.nmg  | Anthony | Henley   | 6958349723 |\n",
       "| 3 | 6921-1083-1797-8702 | xzgefkqlh@nhocyb.qwy     | Anthony | Hazelman | 9315684987 |\n",
       "| 4 | 5725-6056-1230-2423 | kj@tr.jdt                | Anthony | Garcia   | 7244972846 |\n",
       "| 5 | 8170-8477-1042-3899 | rexi@eitlpqv.pce         | Anthony | Green    | 8362748419 |\n",
       "| 6 | 9895-2493-1052-5470 | rm@fa.yka                | Anthony | Colorow  | 6813253162 |\n",
       "\n"
      ],
      "text/plain": [
       "  credit_card         email                    first_name last_name\n",
       "1 8631-4500-5666-1510 rztkvliou@dkeinhgysf.deo Anthony    Vo       \n",
       "2 1280-4584-5250-1133 axthrlcob@kdqvoabtw.nmg  Anthony    Henley   \n",
       "3 6921-1083-1797-8702 xzgefkqlh@nhocyb.qwy     Anthony    Hazelman \n",
       "4 5725-6056-1230-2423 kj@tr.jdt                Anthony    Garcia   \n",
       "5 8170-8477-1042-3899 rexi@eitlpqv.pce         Anthony    Green    \n",
       "6 9895-2493-1052-5470 rm@fa.yka                Anthony    Colorow  \n",
       "  primary_phone_number\n",
       "1 7345795348          \n",
       "2 6958349723          \n",
       "3 9315684987          \n",
       "4 7244972846          \n",
       "5 8362748419          \n",
       "6 6813253162          "
      ]
     },
     "metadata": {},
     "output_type": "display_data"
    },
    {
     "data": {
      "text/html": [
       "<table>\n",
       "<caption>A data.frame: 6 × 5</caption>\n",
       "<thead>\n",
       "\t<tr><th></th><th scope=col>credit_card</th><th scope=col>email</th><th scope=col>first_name</th><th scope=col>last_name</th><th scope=col>primary_phone_number</th></tr>\n",
       "\t<tr><th></th><th scope=col>&lt;chr&gt;</th><th scope=col>&lt;chr&gt;</th><th scope=col>&lt;chr&gt;</th><th scope=col>&lt;chr&gt;</th><th scope=col>&lt;dbl&gt;</th></tr>\n",
       "</thead>\n",
       "<tbody>\n",
       "\t<tr><th scope=row>1</th><td>8631-4500-5666-1510</td><td>rztkvliou@dkeinhgysf.deo</td><td>Anthony</td><td>Vo      </td><td>7345795348</td></tr>\n",
       "\t<tr><th scope=row>2</th><td>1280-4584-5250-1133</td><td>axthrlcob@kdqvoabtw.nmg </td><td>Anthony</td><td>Henley  </td><td>6958349723</td></tr>\n",
       "\t<tr><th scope=row>3</th><td>6921-1083-1797-8702</td><td>xzgefkqlh@nhocyb.qwy    </td><td>Anthony</td><td>Hazelman</td><td>9315684987</td></tr>\n",
       "\t<tr><th scope=row>4</th><td>5725-6056-1230-2423</td><td>kj@tr.jdt               </td><td>Anthony</td><td>Garcia  </td><td>7244972846</td></tr>\n",
       "\t<tr><th scope=row>5</th><td>8170-8477-1042-3899</td><td>rexi@eitlpqv.pce        </td><td>Anthony</td><td>Green   </td><td>8362748419</td></tr>\n",
       "\t<tr><th scope=row>6</th><td>9895-2493-1052-5470</td><td>rm@fa.yka               </td><td>Anthony</td><td>Colorow </td><td>6813253162</td></tr>\n",
       "</tbody>\n",
       "</table>\n"
      ],
      "text/latex": [
       "A data.frame: 6 × 5\n",
       "\\begin{tabular}{r|lllll}\n",
       "  & credit\\_card & email & first\\_name & last\\_name & primary\\_phone\\_number\\\\\n",
       "  & <chr> & <chr> & <chr> & <chr> & <dbl>\\\\\n",
       "\\hline\n",
       "\t1 & 8631-4500-5666-1510 & rztkvliou@dkeinhgysf.deo & Anthony & Vo       & 7345795348\\\\\n",
       "\t2 & 1280-4584-5250-1133 & axthrlcob@kdqvoabtw.nmg  & Anthony & Henley   & 6958349723\\\\\n",
       "\t3 & 6921-1083-1797-8702 & xzgefkqlh@nhocyb.qwy     & Anthony & Hazelman & 9315684987\\\\\n",
       "\t4 & 5725-6056-1230-2423 & kj@tr.jdt                & Anthony & Garcia   & 7244972846\\\\\n",
       "\t5 & 8170-8477-1042-3899 & rexi@eitlpqv.pce         & Anthony & Green    & 8362748419\\\\\n",
       "\t6 & 9895-2493-1052-5470 & rm@fa.yka                & Anthony & Colorow  & 6813253162\\\\\n",
       "\\end{tabular}\n"
      ],
      "text/markdown": [
       "\n",
       "A data.frame: 6 × 5\n",
       "\n",
       "| <!--/--> | credit_card &lt;chr&gt; | email &lt;chr&gt; | first_name &lt;chr&gt; | last_name &lt;chr&gt; | primary_phone_number &lt;dbl&gt; |\n",
       "|---|---|---|---|---|---|\n",
       "| 1 | 8631-4500-5666-1510 | rztkvliou@dkeinhgysf.deo | Anthony | Vo       | 7345795348 |\n",
       "| 2 | 1280-4584-5250-1133 | axthrlcob@kdqvoabtw.nmg  | Anthony | Henley   | 6958349723 |\n",
       "| 3 | 6921-1083-1797-8702 | xzgefkqlh@nhocyb.qwy     | Anthony | Hazelman | 9315684987 |\n",
       "| 4 | 5725-6056-1230-2423 | kj@tr.jdt                | Anthony | Garcia   | 7244972846 |\n",
       "| 5 | 8170-8477-1042-3899 | rexi@eitlpqv.pce         | Anthony | Green    | 8362748419 |\n",
       "| 6 | 9895-2493-1052-5470 | rm@fa.yka                | Anthony | Colorow  | 6813253162 |\n",
       "\n"
      ],
      "text/plain": [
       "  credit_card         email                    first_name last_name\n",
       "1 8631-4500-5666-1510 rztkvliou@dkeinhgysf.deo Anthony    Vo       \n",
       "2 1280-4584-5250-1133 axthrlcob@kdqvoabtw.nmg  Anthony    Henley   \n",
       "3 6921-1083-1797-8702 xzgefkqlh@nhocyb.qwy     Anthony    Hazelman \n",
       "4 5725-6056-1230-2423 kj@tr.jdt                Anthony    Garcia   \n",
       "5 8170-8477-1042-3899 rexi@eitlpqv.pce         Anthony    Green    \n",
       "6 9895-2493-1052-5470 rm@fa.yka                Anthony    Colorow  \n",
       "  primary_phone_number\n",
       "1 7345795348          \n",
       "2 6958349723          \n",
       "3 9315684987          \n",
       "4 7244972846          \n",
       "5 8362748419          \n",
       "6 6813253162          "
      ]
     },
     "metadata": {},
     "output_type": "display_data"
    },
    {
     "data": {
      "text/html": [
       "<table>\n",
       "<caption>A data.frame: 1 × 5</caption>\n",
       "<thead>\n",
       "\t<tr><th></th><th scope=col>credit_card</th><th scope=col>email</th><th scope=col>first_name</th><th scope=col>last_name</th><th scope=col>primary_phone_number</th></tr>\n",
       "\t<tr><th></th><th scope=col>&lt;chr&gt;</th><th scope=col>&lt;chr&gt;</th><th scope=col>&lt;chr&gt;</th><th scope=col>&lt;chr&gt;</th><th scope=col>&lt;dbl&gt;</th></tr>\n",
       "</thead>\n",
       "<tbody>\n",
       "\t<tr><th scope=row>1</th><td>5725-6056-1230-2423</td><td>kj@tr.jdt</td><td>Anthony</td><td>Garcia</td><td>7244972846</td></tr>\n",
       "</tbody>\n",
       "</table>\n"
      ],
      "text/latex": [
       "A data.frame: 1 × 5\n",
       "\\begin{tabular}{r|lllll}\n",
       "  & credit\\_card & email & first\\_name & last\\_name & primary\\_phone\\_number\\\\\n",
       "  & <chr> & <chr> & <chr> & <chr> & <dbl>\\\\\n",
       "\\hline\n",
       "\t1 & 5725-6056-1230-2423 & kj@tr.jdt & Anthony & Garcia & 7244972846\\\\\n",
       "\\end{tabular}\n"
      ],
      "text/markdown": [
       "\n",
       "A data.frame: 1 × 5\n",
       "\n",
       "| <!--/--> | credit_card &lt;chr&gt; | email &lt;chr&gt; | first_name &lt;chr&gt; | last_name &lt;chr&gt; | primary_phone_number &lt;dbl&gt; |\n",
       "|---|---|---|---|---|---|\n",
       "| 1 | 5725-6056-1230-2423 | kj@tr.jdt | Anthony | Garcia | 7244972846 |\n",
       "\n"
      ],
      "text/plain": [
       "  credit_card         email     first_name last_name primary_phone_number\n",
       "1 5725-6056-1230-2423 kj@tr.jdt Anthony    Garcia    7244972846          "
      ]
     },
     "metadata": {},
     "output_type": "display_data"
    },
    {
     "data": {
      "text/html": [
       "<table>\n",
       "<caption>A data.frame: 6 × 5</caption>\n",
       "<thead>\n",
       "\t<tr><th></th><th scope=col>credit_card</th><th scope=col>email</th><th scope=col>first_name</th><th scope=col>last_name</th><th scope=col>primary_phone_number</th></tr>\n",
       "\t<tr><th></th><th scope=col>&lt;chr&gt;</th><th scope=col>&lt;chr&gt;</th><th scope=col>&lt;chr&gt;</th><th scope=col>&lt;chr&gt;</th><th scope=col>&lt;dbl&gt;</th></tr>\n",
       "</thead>\n",
       "<tbody>\n",
       "\t<tr><th scope=row>1</th><td>7332-5925-1286-6862</td><td>t@o.etk                 </td><td>Megana  </td><td>Garcia   </td><td>8961741498</td></tr>\n",
       "\t<tr><th scope=row>2</th><td>3580-5949-4055-7190</td><td>xbj@jvgxe.qhr           </td><td>Dylan   </td><td>Gashwazra</td><td>2657391284</td></tr>\n",
       "\t<tr><th scope=row>3</th><td>1320-8094-5183-6336</td><td>xedyh@ios.csh           </td><td>Noori   </td><td>Galbearth</td><td>8456758643</td></tr>\n",
       "\t<tr><th scope=row>4</th><td>9977-6665-6790-9118</td><td>fudyevgcrx@lsrxehqmn.rhv</td><td>Laquasea</td><td>Garcia   </td><td>4623196982</td></tr>\n",
       "\t<tr><th scope=row>5</th><td>9755-5822-3879-4403</td><td>ktsexfv@mxefpivrk.jeu   </td><td>Corey   </td><td>Gardner  </td><td>9538368157</td></tr>\n",
       "\t<tr><th scope=row>6</th><td>5725-6056-1230-2423</td><td>kj@tr.jdt               </td><td>Anthony </td><td>Garcia   </td><td>7244972846</td></tr>\n",
       "</tbody>\n",
       "</table>\n"
      ],
      "text/latex": [
       "A data.frame: 6 × 5\n",
       "\\begin{tabular}{r|lllll}\n",
       "  & credit\\_card & email & first\\_name & last\\_name & primary\\_phone\\_number\\\\\n",
       "  & <chr> & <chr> & <chr> & <chr> & <dbl>\\\\\n",
       "\\hline\n",
       "\t1 & 7332-5925-1286-6862 & t@o.etk                  & Megana   & Garcia    & 8961741498\\\\\n",
       "\t2 & 3580-5949-4055-7190 & xbj@jvgxe.qhr            & Dylan    & Gashwazra & 2657391284\\\\\n",
       "\t3 & 1320-8094-5183-6336 & xedyh@ios.csh            & Noori    & Galbearth & 8456758643\\\\\n",
       "\t4 & 9977-6665-6790-9118 & fudyevgcrx@lsrxehqmn.rhv & Laquasea & Garcia    & 4623196982\\\\\n",
       "\t5 & 9755-5822-3879-4403 & ktsexfv@mxefpivrk.jeu    & Corey    & Gardner   & 9538368157\\\\\n",
       "\t6 & 5725-6056-1230-2423 & kj@tr.jdt                & Anthony  & Garcia    & 7244972846\\\\\n",
       "\\end{tabular}\n"
      ],
      "text/markdown": [
       "\n",
       "A data.frame: 6 × 5\n",
       "\n",
       "| <!--/--> | credit_card &lt;chr&gt; | email &lt;chr&gt; | first_name &lt;chr&gt; | last_name &lt;chr&gt; | primary_phone_number &lt;dbl&gt; |\n",
       "|---|---|---|---|---|---|\n",
       "| 1 | 7332-5925-1286-6862 | t@o.etk                  | Megana   | Garcia    | 8961741498 |\n",
       "| 2 | 3580-5949-4055-7190 | xbj@jvgxe.qhr            | Dylan    | Gashwazra | 2657391284 |\n",
       "| 3 | 1320-8094-5183-6336 | xedyh@ios.csh            | Noori    | Galbearth | 8456758643 |\n",
       "| 4 | 9977-6665-6790-9118 | fudyevgcrx@lsrxehqmn.rhv | Laquasea | Garcia    | 4623196982 |\n",
       "| 5 | 9755-5822-3879-4403 | ktsexfv@mxefpivrk.jeu    | Corey    | Gardner   | 9538368157 |\n",
       "| 6 | 5725-6056-1230-2423 | kj@tr.jdt                | Anthony  | Garcia    | 7244972846 |\n",
       "\n"
      ],
      "text/plain": [
       "  credit_card         email                    first_name last_name\n",
       "1 7332-5925-1286-6862 t@o.etk                  Megana     Garcia   \n",
       "2 3580-5949-4055-7190 xbj@jvgxe.qhr            Dylan      Gashwazra\n",
       "3 1320-8094-5183-6336 xedyh@ios.csh            Noori      Galbearth\n",
       "4 9977-6665-6790-9118 fudyevgcrx@lsrxehqmn.rhv Laquasea   Garcia   \n",
       "5 9755-5822-3879-4403 ktsexfv@mxefpivrk.jeu    Corey      Gardner  \n",
       "6 5725-6056-1230-2423 kj@tr.jdt                Anthony    Garcia   \n",
       "  primary_phone_number\n",
       "1 8961741498          \n",
       "2 2657391284          \n",
       "3 8456758643          \n",
       "4 4623196982          \n",
       "5 9538368157          \n",
       "6 7244972846          "
      ]
     },
     "metadata": {},
     "output_type": "display_data"
    }
   ],
   "source": [
    "# Basic R:\n",
    "head(filter(fake_ppl,first_name=='Anthony'))\n",
    "\n",
    "# Dplyr Method:\n",
    "head(fake_ppl %>% filter(first_name=='Anthony'))\n",
    "\n",
    "# Can Also, Add other parameters:\n",
    "head(fake_ppl %>% filter(first_name=='Anthony' & last_name=='Garcia'))\n",
    "\n",
    "\n",
    "# Using filter to extract last names with specific starting character\n",
    "head(filter(fake_ppl, grepl(\"Ga\",last_name)))\n",
    "\n",
    "\n",
    "# https://rstudio.com/wp-content/uploads/2016/09/RegExCheatsheet.pdf"
   ]
  },
  {
   "cell_type": "markdown",
   "metadata": {},
   "source": [
    "# `Arrange` & `Mutate`:\n",
    "\n",
    "+ `Arrange`: reorder or sort rows by column values\n",
    "\n",
    "+ `Mutate`: adds new variables such as columns"
   ]
  },
  {
   "cell_type": "code",
   "execution_count": 123,
   "metadata": {},
   "outputs": [
    {
     "data": {
      "text/html": [
       "<table>\n",
       "<caption>A data.frame: 6 × 8</caption>\n",
       "<thead>\n",
       "\t<tr><th></th><th scope=col>InvoiceNo</th><th scope=col>StockCode</th><th scope=col>Description</th><th scope=col>Quantity</th><th scope=col>InvoiceDate</th><th scope=col>UnitPrice</th><th scope=col>CustomerID</th><th scope=col>Country</th></tr>\n",
       "\t<tr><th></th><th scope=col>&lt;chr&gt;</th><th scope=col>&lt;chr&gt;</th><th scope=col>&lt;chr&gt;</th><th scope=col>&lt;int&gt;</th><th scope=col>&lt;chr&gt;</th><th scope=col>&lt;dbl&gt;</th><th scope=col>&lt;int&gt;</th><th scope=col>&lt;chr&gt;</th></tr>\n",
       "</thead>\n",
       "<tbody>\n",
       "\t<tr><th scope=row>1</th><td>536389</td><td>22941 </td><td>CHRISTMAS LIGHTS 10 REINDEER      </td><td> 6</td><td>12/1/2010 10:03</td><td>8.50</td><td>12431</td><td>Australia</td></tr>\n",
       "\t<tr><th scope=row>2</th><td>536389</td><td>21622 </td><td>VINTAGE UNION JACK CUSHION COVER  </td><td> 8</td><td>12/1/2010 10:03</td><td>4.95</td><td>12431</td><td>Australia</td></tr>\n",
       "\t<tr><th scope=row>3</th><td>536389</td><td>21791 </td><td>VINTAGE HEADS AND TAILS CARD GAME </td><td>12</td><td>12/1/2010 10:03</td><td>1.25</td><td>12431</td><td>Australia</td></tr>\n",
       "\t<tr><th scope=row>4</th><td>536389</td><td>35004C</td><td>SET OF 3 COLOURED  FLYING DUCKS   </td><td> 6</td><td>12/1/2010 10:03</td><td>5.45</td><td>12431</td><td>Australia</td></tr>\n",
       "\t<tr><th scope=row>5</th><td>536389</td><td>35004G</td><td>SET OF 3 GOLD FLYING DUCKS        </td><td> 4</td><td>12/1/2010 10:03</td><td>6.35</td><td>12431</td><td>Australia</td></tr>\n",
       "\t<tr><th scope=row>6</th><td>536389</td><td>85014B</td><td>RED RETROSPOT UMBRELLA            </td><td> 6</td><td>12/1/2010 10:03</td><td>5.95</td><td>12431</td><td>Australia</td></tr>\n",
       "</tbody>\n",
       "</table>\n"
      ],
      "text/latex": [
       "A data.frame: 6 × 8\n",
       "\\begin{tabular}{r|llllllll}\n",
       "  & InvoiceNo & StockCode & Description & Quantity & InvoiceDate & UnitPrice & CustomerID & Country\\\\\n",
       "  & <chr> & <chr> & <chr> & <int> & <chr> & <dbl> & <int> & <chr>\\\\\n",
       "\\hline\n",
       "\t1 & 536389 & 22941  & CHRISTMAS LIGHTS 10 REINDEER       &  6 & 12/1/2010 10:03 & 8.50 & 12431 & Australia\\\\\n",
       "\t2 & 536389 & 21622  & VINTAGE UNION JACK CUSHION COVER   &  8 & 12/1/2010 10:03 & 4.95 & 12431 & Australia\\\\\n",
       "\t3 & 536389 & 21791  & VINTAGE HEADS AND TAILS CARD GAME  & 12 & 12/1/2010 10:03 & 1.25 & 12431 & Australia\\\\\n",
       "\t4 & 536389 & 35004C & SET OF 3 COLOURED  FLYING DUCKS    &  6 & 12/1/2010 10:03 & 5.45 & 12431 & Australia\\\\\n",
       "\t5 & 536389 & 35004G & SET OF 3 GOLD FLYING DUCKS         &  4 & 12/1/2010 10:03 & 6.35 & 12431 & Australia\\\\\n",
       "\t6 & 536389 & 85014B & RED RETROSPOT UMBRELLA             &  6 & 12/1/2010 10:03 & 5.95 & 12431 & Australia\\\\\n",
       "\\end{tabular}\n"
      ],
      "text/markdown": [
       "\n",
       "A data.frame: 6 × 8\n",
       "\n",
       "| <!--/--> | InvoiceNo &lt;chr&gt; | StockCode &lt;chr&gt; | Description &lt;chr&gt; | Quantity &lt;int&gt; | InvoiceDate &lt;chr&gt; | UnitPrice &lt;dbl&gt; | CustomerID &lt;int&gt; | Country &lt;chr&gt; |\n",
       "|---|---|---|---|---|---|---|---|---|\n",
       "| 1 | 536389 | 22941  | CHRISTMAS LIGHTS 10 REINDEER       |  6 | 12/1/2010 10:03 | 8.50 | 12431 | Australia |\n",
       "| 2 | 536389 | 21622  | VINTAGE UNION JACK CUSHION COVER   |  8 | 12/1/2010 10:03 | 4.95 | 12431 | Australia |\n",
       "| 3 | 536389 | 21791  | VINTAGE HEADS AND TAILS CARD GAME  | 12 | 12/1/2010 10:03 | 1.25 | 12431 | Australia |\n",
       "| 4 | 536389 | 35004C | SET OF 3 COLOURED  FLYING DUCKS    |  6 | 12/1/2010 10:03 | 5.45 | 12431 | Australia |\n",
       "| 5 | 536389 | 35004G | SET OF 3 GOLD FLYING DUCKS         |  4 | 12/1/2010 10:03 | 6.35 | 12431 | Australia |\n",
       "| 6 | 536389 | 85014B | RED RETROSPOT UMBRELLA             |  6 | 12/1/2010 10:03 | 5.95 | 12431 | Australia |\n",
       "\n"
      ],
      "text/plain": [
       "  InvoiceNo StockCode Description                        Quantity\n",
       "1 536389    22941     CHRISTMAS LIGHTS 10 REINDEER        6      \n",
       "2 536389    21622     VINTAGE UNION JACK CUSHION COVER    8      \n",
       "3 536389    21791     VINTAGE HEADS AND TAILS CARD GAME  12      \n",
       "4 536389    35004C    SET OF 3 COLOURED  FLYING DUCKS     6      \n",
       "5 536389    35004G    SET OF 3 GOLD FLYING DUCKS          4      \n",
       "6 536389    85014B    RED RETROSPOT UMBRELLA              6      \n",
       "  InvoiceDate     UnitPrice CustomerID Country  \n",
       "1 12/1/2010 10:03 8.50      12431      Australia\n",
       "2 12/1/2010 10:03 4.95      12431      Australia\n",
       "3 12/1/2010 10:03 1.25      12431      Australia\n",
       "4 12/1/2010 10:03 5.45      12431      Australia\n",
       "5 12/1/2010 10:03 6.35      12431      Australia\n",
       "6 12/1/2010 10:03 5.95      12431      Australia"
      ]
     },
     "metadata": {},
     "output_type": "display_data"
    }
   ],
   "source": [
    "# Arrange:\n",
    "\n",
    "head(sales_data  %>% arrange(Country))"
   ]
  },
  {
   "cell_type": "code",
   "execution_count": 118,
   "metadata": {},
   "outputs": [
    {
     "data": {
      "text/html": [
       "<table>\n",
       "<caption>A data.frame: 6 × 9</caption>\n",
       "<thead>\n",
       "\t<tr><th></th><th scope=col>InvoiceNo</th><th scope=col>StockCode</th><th scope=col>Description</th><th scope=col>Quantity</th><th scope=col>InvoiceDate</th><th scope=col>UnitPrice</th><th scope=col>CustomerID</th><th scope=col>Country</th><th scope=col>Total_Price</th></tr>\n",
       "\t<tr><th></th><th scope=col>&lt;chr&gt;</th><th scope=col>&lt;chr&gt;</th><th scope=col>&lt;chr&gt;</th><th scope=col>&lt;int&gt;</th><th scope=col>&lt;chr&gt;</th><th scope=col>&lt;dbl&gt;</th><th scope=col>&lt;int&gt;</th><th scope=col>&lt;chr&gt;</th><th scope=col>&lt;dbl&gt;</th></tr>\n",
       "</thead>\n",
       "<tbody>\n",
       "\t<tr><th scope=row>1</th><td>536365</td><td>85123A</td><td>WHITE HANGING HEART T-LIGHT HOLDER </td><td>6</td><td>12/1/2010 8:26</td><td>2.55</td><td>17850</td><td>United Kingdom</td><td>15.30</td></tr>\n",
       "\t<tr><th scope=row>2</th><td>536365</td><td>71053 </td><td>WHITE METAL LANTERN                </td><td>6</td><td>12/1/2010 8:26</td><td>3.39</td><td>17850</td><td>United Kingdom</td><td>20.34</td></tr>\n",
       "\t<tr><th scope=row>3</th><td>536365</td><td>84406B</td><td>CREAM CUPID HEARTS COAT HANGER     </td><td>8</td><td>12/1/2010 8:26</td><td>2.75</td><td>17850</td><td>United Kingdom</td><td>22.00</td></tr>\n",
       "\t<tr><th scope=row>4</th><td>536365</td><td>84029G</td><td>KNITTED UNION FLAG HOT WATER BOTTLE</td><td>6</td><td>12/1/2010 8:26</td><td>3.39</td><td>17850</td><td>United Kingdom</td><td>20.34</td></tr>\n",
       "\t<tr><th scope=row>5</th><td>536365</td><td>84029E</td><td>RED WOOLLY HOTTIE WHITE HEART.     </td><td>6</td><td>12/1/2010 8:26</td><td>3.39</td><td>17850</td><td>United Kingdom</td><td>20.34</td></tr>\n",
       "\t<tr><th scope=row>6</th><td>536365</td><td>22752 </td><td>SET 7 BABUSHKA NESTING BOXES       </td><td>2</td><td>12/1/2010 8:26</td><td>7.65</td><td>17850</td><td>United Kingdom</td><td>15.30</td></tr>\n",
       "</tbody>\n",
       "</table>\n"
      ],
      "text/latex": [
       "A data.frame: 6 × 9\n",
       "\\begin{tabular}{r|lllllllll}\n",
       "  & InvoiceNo & StockCode & Description & Quantity & InvoiceDate & UnitPrice & CustomerID & Country & Total\\_Price\\\\\n",
       "  & <chr> & <chr> & <chr> & <int> & <chr> & <dbl> & <int> & <chr> & <dbl>\\\\\n",
       "\\hline\n",
       "\t1 & 536365 & 85123A & WHITE HANGING HEART T-LIGHT HOLDER  & 6 & 12/1/2010 8:26 & 2.55 & 17850 & United Kingdom & 15.30\\\\\n",
       "\t2 & 536365 & 71053  & WHITE METAL LANTERN                 & 6 & 12/1/2010 8:26 & 3.39 & 17850 & United Kingdom & 20.34\\\\\n",
       "\t3 & 536365 & 84406B & CREAM CUPID HEARTS COAT HANGER      & 8 & 12/1/2010 8:26 & 2.75 & 17850 & United Kingdom & 22.00\\\\\n",
       "\t4 & 536365 & 84029G & KNITTED UNION FLAG HOT WATER BOTTLE & 6 & 12/1/2010 8:26 & 3.39 & 17850 & United Kingdom & 20.34\\\\\n",
       "\t5 & 536365 & 84029E & RED WOOLLY HOTTIE WHITE HEART.      & 6 & 12/1/2010 8:26 & 3.39 & 17850 & United Kingdom & 20.34\\\\\n",
       "\t6 & 536365 & 22752  & SET 7 BABUSHKA NESTING BOXES        & 2 & 12/1/2010 8:26 & 7.65 & 17850 & United Kingdom & 15.30\\\\\n",
       "\\end{tabular}\n"
      ],
      "text/markdown": [
       "\n",
       "A data.frame: 6 × 9\n",
       "\n",
       "| <!--/--> | InvoiceNo &lt;chr&gt; | StockCode &lt;chr&gt; | Description &lt;chr&gt; | Quantity &lt;int&gt; | InvoiceDate &lt;chr&gt; | UnitPrice &lt;dbl&gt; | CustomerID &lt;int&gt; | Country &lt;chr&gt; | Total_Price &lt;dbl&gt; |\n",
       "|---|---|---|---|---|---|---|---|---|---|\n",
       "| 1 | 536365 | 85123A | WHITE HANGING HEART T-LIGHT HOLDER  | 6 | 12/1/2010 8:26 | 2.55 | 17850 | United Kingdom | 15.30 |\n",
       "| 2 | 536365 | 71053  | WHITE METAL LANTERN                 | 6 | 12/1/2010 8:26 | 3.39 | 17850 | United Kingdom | 20.34 |\n",
       "| 3 | 536365 | 84406B | CREAM CUPID HEARTS COAT HANGER      | 8 | 12/1/2010 8:26 | 2.75 | 17850 | United Kingdom | 22.00 |\n",
       "| 4 | 536365 | 84029G | KNITTED UNION FLAG HOT WATER BOTTLE | 6 | 12/1/2010 8:26 | 3.39 | 17850 | United Kingdom | 20.34 |\n",
       "| 5 | 536365 | 84029E | RED WOOLLY HOTTIE WHITE HEART.      | 6 | 12/1/2010 8:26 | 3.39 | 17850 | United Kingdom | 20.34 |\n",
       "| 6 | 536365 | 22752  | SET 7 BABUSHKA NESTING BOXES        | 2 | 12/1/2010 8:26 | 7.65 | 17850 | United Kingdom | 15.30 |\n",
       "\n"
      ],
      "text/plain": [
       "  InvoiceNo StockCode Description                         Quantity\n",
       "1 536365    85123A    WHITE HANGING HEART T-LIGHT HOLDER  6       \n",
       "2 536365    71053     WHITE METAL LANTERN                 6       \n",
       "3 536365    84406B    CREAM CUPID HEARTS COAT HANGER      8       \n",
       "4 536365    84029G    KNITTED UNION FLAG HOT WATER BOTTLE 6       \n",
       "5 536365    84029E    RED WOOLLY HOTTIE WHITE HEART.      6       \n",
       "6 536365    22752     SET 7 BABUSHKA NESTING BOXES        2       \n",
       "  InvoiceDate    UnitPrice CustomerID Country        Total_Price\n",
       "1 12/1/2010 8:26 2.55      17850      United Kingdom 15.30      \n",
       "2 12/1/2010 8:26 3.39      17850      United Kingdom 20.34      \n",
       "3 12/1/2010 8:26 2.75      17850      United Kingdom 22.00      \n",
       "4 12/1/2010 8:26 3.39      17850      United Kingdom 20.34      \n",
       "5 12/1/2010 8:26 3.39      17850      United Kingdom 20.34      \n",
       "6 12/1/2010 8:26 7.65      17850      United Kingdom 15.30      "
      ]
     },
     "metadata": {},
     "output_type": "display_data"
    }
   ],
   "source": [
    "# Mutate: adding a new column called Total_Price\n",
    "\n",
    "head(sales_data  %>% mutate(Total_Price=Quantity*UnitPrice))"
   ]
  },
  {
   "cell_type": "markdown",
   "metadata": {},
   "source": [
    "# `Cbind` & `Rbind`: combines by vector, matrix or dataframe\n",
    "\n",
    "+ `Cbind`: columns\n",
    "\n",
    "+ `Rbind`: rows\n",
    "\n",
    "+ The number of rows [vector] will need to be the same length, if not then the shorter one will have repeating values to make up the difference in length\n",
    "\n",
    "+ Matrices: they must be of same number of columns, or rows and if shorter there will be recyled values.\n",
    "    + Matrices are restricted to a length of 2^31 rows\n",
    "\n",
    "https://www.rdocumentation.org/packages/base/versions/3.6.2/topics/cbind"
   ]
  },
  {
   "cell_type": "code",
   "execution_count": 140,
   "metadata": {},
   "outputs": [],
   "source": [
    "#cbind: add a column total_price\n",
    "\n",
    "total_price <- c(sales_data$Quantity*sales_data$UnitPrice)\n",
    "\n",
    "updated_sales<-cbind(sales_data,total_price)\n",
    "# head(cbind(sales_data,total_price))"
   ]
  },
  {
   "cell_type": "code",
   "execution_count": 132,
   "metadata": {},
   "outputs": [
    {
     "data": {
      "text/html": [
       "<table>\n",
       "<caption>A data.frame: 6 × 5</caption>\n",
       "<thead>\n",
       "\t<tr><th></th><th scope=col>credit_card</th><th scope=col>email</th><th scope=col>first_name</th><th scope=col>last_name</th><th scope=col>primary_phone_number</th></tr>\n",
       "\t<tr><th></th><th scope=col>&lt;chr&gt;</th><th scope=col>&lt;chr&gt;</th><th scope=col>&lt;chr&gt;</th><th scope=col>&lt;chr&gt;</th><th scope=col>&lt;chr&gt;</th></tr>\n",
       "</thead>\n",
       "<tbody>\n",
       "\t<tr><th scope=row>5822</th><td>4796-8595-9965-5748</td><td>knzos@jxlrmzk.xml     </td><td>Lavi           </td><td>Burd       </td><td>5266414287</td></tr>\n",
       "\t<tr><th scope=row>5823</th><td>1264-4045-4294-5090</td><td>swuljgompn@rgtxhba.jam</td><td>Leann          </td><td>Fang       </td><td>8398676395</td></tr>\n",
       "\t<tr><th scope=row>5824</th><td>6316-4730-8906-3877</td><td>xfsbe@kr.qbr          </td><td>Michael        </td><td>Song       </td><td>9867243254</td></tr>\n",
       "\t<tr><th scope=row>5825</th><td>8879-3013-4641-6431</td><td>bkmyozdafc@xnosg.pud  </td><td>Abraham Dejesus</td><td>Stevens    </td><td>7597526823</td></tr>\n",
       "\t<tr><th scope=row>5826</th><td>4360-6727-6740-5933</td><td>swkhc@vlme.dfx        </td><td>Angela         </td><td>al-Greiss  </td><td>7592516193</td></tr>\n",
       "\t<tr><th scope=row>5827</th><td>1111-1111-1111-1111</td><td>MrFugu@funtimes.gov   </td><td>Mr Fugu        </td><td>DataScience</td><td>9999999999</td></tr>\n",
       "</tbody>\n",
       "</table>\n"
      ],
      "text/latex": [
       "A data.frame: 6 × 5\n",
       "\\begin{tabular}{r|lllll}\n",
       "  & credit\\_card & email & first\\_name & last\\_name & primary\\_phone\\_number\\\\\n",
       "  & <chr> & <chr> & <chr> & <chr> & <chr>\\\\\n",
       "\\hline\n",
       "\t5822 & 4796-8595-9965-5748 & knzos@jxlrmzk.xml      & Lavi            & Burd        & 5266414287\\\\\n",
       "\t5823 & 1264-4045-4294-5090 & swuljgompn@rgtxhba.jam & Leann           & Fang        & 8398676395\\\\\n",
       "\t5824 & 6316-4730-8906-3877 & xfsbe@kr.qbr           & Michael         & Song        & 9867243254\\\\\n",
       "\t5825 & 8879-3013-4641-6431 & bkmyozdafc@xnosg.pud   & Abraham Dejesus & Stevens     & 7597526823\\\\\n",
       "\t5826 & 4360-6727-6740-5933 & swkhc@vlme.dfx         & Angela          & al-Greiss   & 7592516193\\\\\n",
       "\t5827 & 1111-1111-1111-1111 & MrFugu@funtimes.gov    & Mr Fugu         & DataScience & 9999999999\\\\\n",
       "\\end{tabular}\n"
      ],
      "text/markdown": [
       "\n",
       "A data.frame: 6 × 5\n",
       "\n",
       "| <!--/--> | credit_card &lt;chr&gt; | email &lt;chr&gt; | first_name &lt;chr&gt; | last_name &lt;chr&gt; | primary_phone_number &lt;chr&gt; |\n",
       "|---|---|---|---|---|---|\n",
       "| 5822 | 4796-8595-9965-5748 | knzos@jxlrmzk.xml      | Lavi            | Burd        | 5266414287 |\n",
       "| 5823 | 1264-4045-4294-5090 | swuljgompn@rgtxhba.jam | Leann           | Fang        | 8398676395 |\n",
       "| 5824 | 6316-4730-8906-3877 | xfsbe@kr.qbr           | Michael         | Song        | 9867243254 |\n",
       "| 5825 | 8879-3013-4641-6431 | bkmyozdafc@xnosg.pud   | Abraham Dejesus | Stevens     | 7597526823 |\n",
       "| 5826 | 4360-6727-6740-5933 | swkhc@vlme.dfx         | Angela          | al-Greiss   | 7592516193 |\n",
       "| 5827 | 1111-1111-1111-1111 | MrFugu@funtimes.gov    | Mr Fugu         | DataScience | 9999999999 |\n",
       "\n"
      ],
      "text/plain": [
       "     credit_card         email                  first_name      last_name  \n",
       "5822 4796-8595-9965-5748 knzos@jxlrmzk.xml      Lavi            Burd       \n",
       "5823 1264-4045-4294-5090 swuljgompn@rgtxhba.jam Leann           Fang       \n",
       "5824 6316-4730-8906-3877 xfsbe@kr.qbr           Michael         Song       \n",
       "5825 8879-3013-4641-6431 bkmyozdafc@xnosg.pud   Abraham Dejesus Stevens    \n",
       "5826 4360-6727-6740-5933 swkhc@vlme.dfx         Angela          al-Greiss  \n",
       "5827 1111-1111-1111-1111 MrFugu@funtimes.gov    Mr Fugu         DataScience\n",
       "     primary_phone_number\n",
       "5822 5266414287          \n",
       "5823 8398676395          \n",
       "5824 9867243254          \n",
       "5825 7597526823          \n",
       "5826 7592516193          \n",
       "5827 9999999999          "
      ]
     },
     "metadata": {},
     "output_type": "display_data"
    }
   ],
   "source": [
    "# rbind: Add a row to end\n",
    "\n",
    "vals<- c('1111-1111-1111-1111','MrFugu@funtimes.gov','Mr Fugu','DataScience','9999999999')\n",
    "\n",
    "tail(rbind(fake_ppl,vals))"
   ]
  },
  {
   "cell_type": "markdown",
   "metadata": {},
   "source": [
    "# Drop a Column:"
   ]
  },
  {
   "cell_type": "code",
   "execution_count": 161,
   "metadata": {},
   "outputs": [
    {
     "data": {
      "text/html": [
       "<table>\n",
       "<caption>A data.frame: 6 × 9</caption>\n",
       "<thead>\n",
       "\t<tr><th></th><th scope=col>InvoiceNo</th><th scope=col>StockCode</th><th scope=col>Description</th><th scope=col>Quantity</th><th scope=col>InvoiceDate</th><th scope=col>UnitPrice</th><th scope=col>CustomerID</th><th scope=col>Country</th><th scope=col>total_price</th></tr>\n",
       "\t<tr><th></th><th scope=col>&lt;chr&gt;</th><th scope=col>&lt;chr&gt;</th><th scope=col>&lt;chr&gt;</th><th scope=col>&lt;int&gt;</th><th scope=col>&lt;chr&gt;</th><th scope=col>&lt;dbl&gt;</th><th scope=col>&lt;int&gt;</th><th scope=col>&lt;chr&gt;</th><th scope=col>&lt;dbl&gt;</th></tr>\n",
       "</thead>\n",
       "<tbody>\n",
       "\t<tr><th scope=row>1</th><td>536365</td><td>85123A</td><td>WHITE HANGING HEART T-LIGHT HOLDER </td><td>6</td><td>12/1/2010 8:26</td><td>2.55</td><td>17850</td><td>United Kingdom</td><td>15.30</td></tr>\n",
       "\t<tr><th scope=row>2</th><td>536365</td><td>71053 </td><td>WHITE METAL LANTERN                </td><td>6</td><td>12/1/2010 8:26</td><td>3.39</td><td>17850</td><td>United Kingdom</td><td>20.34</td></tr>\n",
       "\t<tr><th scope=row>3</th><td>536365</td><td>84406B</td><td>CREAM CUPID HEARTS COAT HANGER     </td><td>8</td><td>12/1/2010 8:26</td><td>2.75</td><td>17850</td><td>United Kingdom</td><td>22.00</td></tr>\n",
       "\t<tr><th scope=row>4</th><td>536365</td><td>84029G</td><td>KNITTED UNION FLAG HOT WATER BOTTLE</td><td>6</td><td>12/1/2010 8:26</td><td>3.39</td><td>17850</td><td>United Kingdom</td><td>20.34</td></tr>\n",
       "\t<tr><th scope=row>5</th><td>536365</td><td>84029E</td><td>RED WOOLLY HOTTIE WHITE HEART.     </td><td>6</td><td>12/1/2010 8:26</td><td>3.39</td><td>17850</td><td>United Kingdom</td><td>20.34</td></tr>\n",
       "\t<tr><th scope=row>6</th><td>536365</td><td>22752 </td><td>SET 7 BABUSHKA NESTING BOXES       </td><td>2</td><td>12/1/2010 8:26</td><td>7.65</td><td>17850</td><td>United Kingdom</td><td>15.30</td></tr>\n",
       "</tbody>\n",
       "</table>\n"
      ],
      "text/latex": [
       "A data.frame: 6 × 9\n",
       "\\begin{tabular}{r|lllllllll}\n",
       "  & InvoiceNo & StockCode & Description & Quantity & InvoiceDate & UnitPrice & CustomerID & Country & total\\_price\\\\\n",
       "  & <chr> & <chr> & <chr> & <int> & <chr> & <dbl> & <int> & <chr> & <dbl>\\\\\n",
       "\\hline\n",
       "\t1 & 536365 & 85123A & WHITE HANGING HEART T-LIGHT HOLDER  & 6 & 12/1/2010 8:26 & 2.55 & 17850 & United Kingdom & 15.30\\\\\n",
       "\t2 & 536365 & 71053  & WHITE METAL LANTERN                 & 6 & 12/1/2010 8:26 & 3.39 & 17850 & United Kingdom & 20.34\\\\\n",
       "\t3 & 536365 & 84406B & CREAM CUPID HEARTS COAT HANGER      & 8 & 12/1/2010 8:26 & 2.75 & 17850 & United Kingdom & 22.00\\\\\n",
       "\t4 & 536365 & 84029G & KNITTED UNION FLAG HOT WATER BOTTLE & 6 & 12/1/2010 8:26 & 3.39 & 17850 & United Kingdom & 20.34\\\\\n",
       "\t5 & 536365 & 84029E & RED WOOLLY HOTTIE WHITE HEART.      & 6 & 12/1/2010 8:26 & 3.39 & 17850 & United Kingdom & 20.34\\\\\n",
       "\t6 & 536365 & 22752  & SET 7 BABUSHKA NESTING BOXES        & 2 & 12/1/2010 8:26 & 7.65 & 17850 & United Kingdom & 15.30\\\\\n",
       "\\end{tabular}\n"
      ],
      "text/markdown": [
       "\n",
       "A data.frame: 6 × 9\n",
       "\n",
       "| <!--/--> | InvoiceNo &lt;chr&gt; | StockCode &lt;chr&gt; | Description &lt;chr&gt; | Quantity &lt;int&gt; | InvoiceDate &lt;chr&gt; | UnitPrice &lt;dbl&gt; | CustomerID &lt;int&gt; | Country &lt;chr&gt; | total_price &lt;dbl&gt; |\n",
       "|---|---|---|---|---|---|---|---|---|---|\n",
       "| 1 | 536365 | 85123A | WHITE HANGING HEART T-LIGHT HOLDER  | 6 | 12/1/2010 8:26 | 2.55 | 17850 | United Kingdom | 15.30 |\n",
       "| 2 | 536365 | 71053  | WHITE METAL LANTERN                 | 6 | 12/1/2010 8:26 | 3.39 | 17850 | United Kingdom | 20.34 |\n",
       "| 3 | 536365 | 84406B | CREAM CUPID HEARTS COAT HANGER      | 8 | 12/1/2010 8:26 | 2.75 | 17850 | United Kingdom | 22.00 |\n",
       "| 4 | 536365 | 84029G | KNITTED UNION FLAG HOT WATER BOTTLE | 6 | 12/1/2010 8:26 | 3.39 | 17850 | United Kingdom | 20.34 |\n",
       "| 5 | 536365 | 84029E | RED WOOLLY HOTTIE WHITE HEART.      | 6 | 12/1/2010 8:26 | 3.39 | 17850 | United Kingdom | 20.34 |\n",
       "| 6 | 536365 | 22752  | SET 7 BABUSHKA NESTING BOXES        | 2 | 12/1/2010 8:26 | 7.65 | 17850 | United Kingdom | 15.30 |\n",
       "\n"
      ],
      "text/plain": [
       "  InvoiceNo StockCode Description                         Quantity\n",
       "1 536365    85123A    WHITE HANGING HEART T-LIGHT HOLDER  6       \n",
       "2 536365    71053     WHITE METAL LANTERN                 6       \n",
       "3 536365    84406B    CREAM CUPID HEARTS COAT HANGER      8       \n",
       "4 536365    84029G    KNITTED UNION FLAG HOT WATER BOTTLE 6       \n",
       "5 536365    84029E    RED WOOLLY HOTTIE WHITE HEART.      6       \n",
       "6 536365    22752     SET 7 BABUSHKA NESTING BOXES        2       \n",
       "  InvoiceDate    UnitPrice CustomerID Country        total_price\n",
       "1 12/1/2010 8:26 2.55      17850      United Kingdom 15.30      \n",
       "2 12/1/2010 8:26 3.39      17850      United Kingdom 20.34      \n",
       "3 12/1/2010 8:26 2.75      17850      United Kingdom 22.00      \n",
       "4 12/1/2010 8:26 3.39      17850      United Kingdom 20.34      \n",
       "5 12/1/2010 8:26 3.39      17850      United Kingdom 20.34      \n",
       "6 12/1/2010 8:26 7.65      17850      United Kingdom 15.30      "
      ]
     },
     "metadata": {},
     "output_type": "display_data"
    },
    {
     "data": {
      "text/html": [
       "<table>\n",
       "<caption>A data.frame: 6 × 8</caption>\n",
       "<thead>\n",
       "\t<tr><th></th><th scope=col>InvoiceNo</th><th scope=col>StockCode</th><th scope=col>Description</th><th scope=col>Quantity</th><th scope=col>InvoiceDate</th><th scope=col>UnitPrice</th><th scope=col>CustomerID</th><th scope=col>Country</th></tr>\n",
       "\t<tr><th></th><th scope=col>&lt;chr&gt;</th><th scope=col>&lt;chr&gt;</th><th scope=col>&lt;chr&gt;</th><th scope=col>&lt;int&gt;</th><th scope=col>&lt;chr&gt;</th><th scope=col>&lt;dbl&gt;</th><th scope=col>&lt;int&gt;</th><th scope=col>&lt;chr&gt;</th></tr>\n",
       "</thead>\n",
       "<tbody>\n",
       "\t<tr><th scope=row>1</th><td>536365</td><td>85123A</td><td>WHITE HANGING HEART T-LIGHT HOLDER </td><td>6</td><td>12/1/2010 8:26</td><td>2.55</td><td>17850</td><td>United Kingdom</td></tr>\n",
       "\t<tr><th scope=row>2</th><td>536365</td><td>71053 </td><td>WHITE METAL LANTERN                </td><td>6</td><td>12/1/2010 8:26</td><td>3.39</td><td>17850</td><td>United Kingdom</td></tr>\n",
       "\t<tr><th scope=row>3</th><td>536365</td><td>84406B</td><td>CREAM CUPID HEARTS COAT HANGER     </td><td>8</td><td>12/1/2010 8:26</td><td>2.75</td><td>17850</td><td>United Kingdom</td></tr>\n",
       "\t<tr><th scope=row>4</th><td>536365</td><td>84029G</td><td>KNITTED UNION FLAG HOT WATER BOTTLE</td><td>6</td><td>12/1/2010 8:26</td><td>3.39</td><td>17850</td><td>United Kingdom</td></tr>\n",
       "\t<tr><th scope=row>5</th><td>536365</td><td>84029E</td><td>RED WOOLLY HOTTIE WHITE HEART.     </td><td>6</td><td>12/1/2010 8:26</td><td>3.39</td><td>17850</td><td>United Kingdom</td></tr>\n",
       "\t<tr><th scope=row>6</th><td>536365</td><td>22752 </td><td>SET 7 BABUSHKA NESTING BOXES       </td><td>2</td><td>12/1/2010 8:26</td><td>7.65</td><td>17850</td><td>United Kingdom</td></tr>\n",
       "</tbody>\n",
       "</table>\n"
      ],
      "text/latex": [
       "A data.frame: 6 × 8\n",
       "\\begin{tabular}{r|llllllll}\n",
       "  & InvoiceNo & StockCode & Description & Quantity & InvoiceDate & UnitPrice & CustomerID & Country\\\\\n",
       "  & <chr> & <chr> & <chr> & <int> & <chr> & <dbl> & <int> & <chr>\\\\\n",
       "\\hline\n",
       "\t1 & 536365 & 85123A & WHITE HANGING HEART T-LIGHT HOLDER  & 6 & 12/1/2010 8:26 & 2.55 & 17850 & United Kingdom\\\\\n",
       "\t2 & 536365 & 71053  & WHITE METAL LANTERN                 & 6 & 12/1/2010 8:26 & 3.39 & 17850 & United Kingdom\\\\\n",
       "\t3 & 536365 & 84406B & CREAM CUPID HEARTS COAT HANGER      & 8 & 12/1/2010 8:26 & 2.75 & 17850 & United Kingdom\\\\\n",
       "\t4 & 536365 & 84029G & KNITTED UNION FLAG HOT WATER BOTTLE & 6 & 12/1/2010 8:26 & 3.39 & 17850 & United Kingdom\\\\\n",
       "\t5 & 536365 & 84029E & RED WOOLLY HOTTIE WHITE HEART.      & 6 & 12/1/2010 8:26 & 3.39 & 17850 & United Kingdom\\\\\n",
       "\t6 & 536365 & 22752  & SET 7 BABUSHKA NESTING BOXES        & 2 & 12/1/2010 8:26 & 7.65 & 17850 & United Kingdom\\\\\n",
       "\\end{tabular}\n"
      ],
      "text/markdown": [
       "\n",
       "A data.frame: 6 × 8\n",
       "\n",
       "| <!--/--> | InvoiceNo &lt;chr&gt; | StockCode &lt;chr&gt; | Description &lt;chr&gt; | Quantity &lt;int&gt; | InvoiceDate &lt;chr&gt; | UnitPrice &lt;dbl&gt; | CustomerID &lt;int&gt; | Country &lt;chr&gt; |\n",
       "|---|---|---|---|---|---|---|---|---|\n",
       "| 1 | 536365 | 85123A | WHITE HANGING HEART T-LIGHT HOLDER  | 6 | 12/1/2010 8:26 | 2.55 | 17850 | United Kingdom |\n",
       "| 2 | 536365 | 71053  | WHITE METAL LANTERN                 | 6 | 12/1/2010 8:26 | 3.39 | 17850 | United Kingdom |\n",
       "| 3 | 536365 | 84406B | CREAM CUPID HEARTS COAT HANGER      | 8 | 12/1/2010 8:26 | 2.75 | 17850 | United Kingdom |\n",
       "| 4 | 536365 | 84029G | KNITTED UNION FLAG HOT WATER BOTTLE | 6 | 12/1/2010 8:26 | 3.39 | 17850 | United Kingdom |\n",
       "| 5 | 536365 | 84029E | RED WOOLLY HOTTIE WHITE HEART.      | 6 | 12/1/2010 8:26 | 3.39 | 17850 | United Kingdom |\n",
       "| 6 | 536365 | 22752  | SET 7 BABUSHKA NESTING BOXES        | 2 | 12/1/2010 8:26 | 7.65 | 17850 | United Kingdom |\n",
       "\n"
      ],
      "text/plain": [
       "  InvoiceNo StockCode Description                         Quantity\n",
       "1 536365    85123A    WHITE HANGING HEART T-LIGHT HOLDER  6       \n",
       "2 536365    71053     WHITE METAL LANTERN                 6       \n",
       "3 536365    84406B    CREAM CUPID HEARTS COAT HANGER      8       \n",
       "4 536365    84029G    KNITTED UNION FLAG HOT WATER BOTTLE 6       \n",
       "5 536365    84029E    RED WOOLLY HOTTIE WHITE HEART.      6       \n",
       "6 536365    22752     SET 7 BABUSHKA NESTING BOXES        2       \n",
       "  InvoiceDate    UnitPrice CustomerID Country       \n",
       "1 12/1/2010 8:26 2.55      17850      United Kingdom\n",
       "2 12/1/2010 8:26 3.39      17850      United Kingdom\n",
       "3 12/1/2010 8:26 2.75      17850      United Kingdom\n",
       "4 12/1/2010 8:26 3.39      17850      United Kingdom\n",
       "5 12/1/2010 8:26 3.39      17850      United Kingdom\n",
       "6 12/1/2010 8:26 7.65      17850      United Kingdom"
      ]
     },
     "metadata": {},
     "output_type": "display_data"
    }
   ],
   "source": [
    "head(updated_sales)\n",
    "head(subset(updated_sales,select = -c(total_price)))"
   ]
  },
  {
   "cell_type": "markdown",
   "metadata": {},
   "source": [
    "# Data.table\n"
   ]
  },
  {
   "cell_type": "code",
   "execution_count": 183,
   "metadata": {},
   "outputs": [
    {
     "data": {
      "text/html": [
       "<table>\n",
       "<caption>A data.table: 6 × 2</caption>\n",
       "<thead>\n",
       "\t<tr><th scope=col>Country</th><th scope=col>Sum</th></tr>\n",
       "\t<tr><th scope=col>&lt;chr&gt;</th><th scope=col>&lt;dbl&gt;</th></tr>\n",
       "</thead>\n",
       "<tbody>\n",
       "\t<tr><td>United Kingdom</td><td>8187806.36</td></tr>\n",
       "\t<tr><td>France        </td><td> 197403.90</td></tr>\n",
       "\t<tr><td>Australia     </td><td> 137077.27</td></tr>\n",
       "\t<tr><td>Netherlands   </td><td> 284661.54</td></tr>\n",
       "\t<tr><td>Germany       </td><td> 221698.21</td></tr>\n",
       "\t<tr><td>Norway        </td><td>  35163.46</td></tr>\n",
       "</tbody>\n",
       "</table>\n"
      ],
      "text/latex": [
       "A data.table: 6 × 2\n",
       "\\begin{tabular}{ll}\n",
       " Country & Sum\\\\\n",
       " <chr> & <dbl>\\\\\n",
       "\\hline\n",
       "\t United Kingdom & 8187806.36\\\\\n",
       "\t France         &  197403.90\\\\\n",
       "\t Australia      &  137077.27\\\\\n",
       "\t Netherlands    &  284661.54\\\\\n",
       "\t Germany        &  221698.21\\\\\n",
       "\t Norway         &   35163.46\\\\\n",
       "\\end{tabular}\n"
      ],
      "text/markdown": [
       "\n",
       "A data.table: 6 × 2\n",
       "\n",
       "| Country &lt;chr&gt; | Sum &lt;dbl&gt; |\n",
       "|---|---|\n",
       "| United Kingdom | 8187806.36 |\n",
       "| France         |  197403.90 |\n",
       "| Australia      |  137077.27 |\n",
       "| Netherlands    |  284661.54 |\n",
       "| Germany        |  221698.21 |\n",
       "| Norway         |   35163.46 |\n",
       "\n"
      ],
      "text/plain": [
       "  Country        Sum       \n",
       "1 United Kingdom 8187806.36\n",
       "2 France          197403.90\n",
       "3 Australia       137077.27\n",
       "4 Netherlands     284661.54\n",
       "5 Germany         221698.21\n",
       "6 Norway           35163.46"
      ]
     },
     "metadata": {},
     "output_type": "display_data"
    }
   ],
   "source": [
    "total_by_country<-updated_sales[,c('Country','total_price')]\n",
    "dt<-data.table(total_by_country)\n",
    "head(dt[,list(Sum=sum(total_price)),by=Country])"
   ]
  },
  {
   "cell_type": "markdown",
   "metadata": {},
   "source": [
    "# Writing to a file:\n",
    "+ Write a file as a matrix\n",
    "+ wirte a file as a vector"
   ]
  },
  {
   "cell_type": "markdown",
   "metadata": {},
   "source": [
    "`write.csv(sub_meta, file=\"data/subset_meta.csv\")`\n",
    "\n",
    "or vector form: \n",
    "\n",
    "`write(glengths, file=\"data/genome_lengths.txt\", ncolumns=1)`\n",
    "\n",
    "Also, another option:\n",
    "\n",
    "`write.table()`\n",
    "\n",
    "\n",
    "`------------------------------------`\n",
    "\n",
    "# <font color=red>Like</font>, Share &\n",
    "\n",
    "# <font color=red>SUB</font>scribe"
   ]
  },
  {
   "cell_type": "markdown",
   "metadata": {},
   "source": [
    "# Help & Citations:\n",
    "\n",
    "# ◔̯◔\n",
    "\n",
    "https://hbctraining.github.io/Intro-to-R/lessons/05_introR-data-wrangling2.html\n",
    "\n",
    "https://stackoverflow.com/questions/25599139/identifying-rows-in-data-frame-with-only-na-values-in-r\n",
    "\n",
    "https://www.datanovia.com/en/lessons/identify-and-remove-duplicate-data-in-r/#:~:text=The%20R%20function%20duplicated(),or%20data%20frame%20are%20duplicates.&text=!%20is%20a%20logical%20negation.%20!,don't%20want%20duplicate%20rows\n",
    "\n",
    "https://stats.stackexchange.com/questions/8225/how-to-summarize-data-by-group-in-r\n",
    "\n",
    "https://www.listendata.com/2016/10/r-data-table.html\n",
    "\n",
    "https://stackoverflow.com/questions/24892529/dplyr-package-how-can-i-query-large-data-frame-using-like-xyz-sql-syntax"
   ]
  }
 ],
 "metadata": {
  "kernelspec": {
   "display_name": "R",
   "language": "R",
   "name": "ir"
  },
  "language_info": {
   "codemirror_mode": "r",
   "file_extension": ".r",
   "mimetype": "text/x-r-source",
   "name": "R",
   "pygments_lexer": "r",
   "version": "4.0.0"
  }
 },
 "nbformat": 4,
 "nbformat_minor": 4
}
