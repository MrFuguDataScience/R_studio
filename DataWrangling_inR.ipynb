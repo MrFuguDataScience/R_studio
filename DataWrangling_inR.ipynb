{
 "cells": [
  {
   "cell_type": "markdown",
   "metadata": {},
   "source": [
    "# R-Studio Data Wrangling and Cleaning:\n",
    "\n",
    "# <font color=red>Mr Fugu Data Science</font>\n",
    "\n",
    "# (◕‿◕✿)\n",
    "\n",
    "\n",
    "# Purpose & Outcome:\n",
    "\n",
    "+ Learn Different Techniques to manipulate your data\n",
    "\n",
    "+ Extend your skills and learn something useful, and remember: `always, be leery of steely-eyed orange guys with weird hair and fake news.`\n",
    "\n",
    "**Disclaimer**: always, evaluate your data and look at examples as just that; and NOT a savior to all your problems. These are tools to aid you NOT answer every concernt that comes up, because they are all different. \n"
   ]
  },
  {
   "cell_type": "code",
   "execution_count": 1,
   "metadata": {},
   "outputs": [
    {
     "name": "stderr",
     "output_type": "stream",
     "text": [
      "── \u001b[1mAttaching packages\u001b[22m ─────────────────────────────────────── tidyverse 1.3.0 ──\n",
      "\n",
      "\u001b[32m✔\u001b[39m \u001b[34mggplot2\u001b[39m 3.3.2     \u001b[32m✔\u001b[39m \u001b[34mpurrr  \u001b[39m 0.3.4\n",
      "\u001b[32m✔\u001b[39m \u001b[34mtibble \u001b[39m 3.0.1     \u001b[32m✔\u001b[39m \u001b[34mdplyr  \u001b[39m 1.0.0\n",
      "\u001b[32m✔\u001b[39m \u001b[34mtidyr  \u001b[39m 1.1.0     \u001b[32m✔\u001b[39m \u001b[34mstringr\u001b[39m 1.4.0\n",
      "\u001b[32m✔\u001b[39m \u001b[34mreadr  \u001b[39m 1.3.1     \u001b[32m✔\u001b[39m \u001b[34mforcats\u001b[39m 0.5.0\n",
      "\n",
      "── \u001b[1mConflicts\u001b[22m ────────────────────────────────────────── tidyverse_conflicts() ──\n",
      "\u001b[31m✖\u001b[39m \u001b[34mdplyr\u001b[39m::\u001b[32mfilter()\u001b[39m masks \u001b[34mstats\u001b[39m::filter()\n",
      "\u001b[31m✖\u001b[39m \u001b[34mdplyr\u001b[39m::\u001b[32mlag()\u001b[39m    masks \u001b[34mstats\u001b[39m::lag()\n",
      "\n"
     ]
    }
   ],
   "source": [
    "library(tidyverse)\n",
    "library(knitr) # \n"
   ]
  },
  {
   "cell_type": "markdown",
   "metadata": {},
   "source": [
    "# Sales Data With Removed Canceled Orders:\n",
    " "
   ]
  },
  {
   "cell_type": "code",
   "execution_count": 2,
   "metadata": {},
   "outputs": [],
   "source": [
    "sales_orders<-read.csv('SalesDataNoCancels.csv')\n",
    "\n",
    "# head(sales_orders)\n",
    "\n",
    "# head(subset(sales_orders$Country!='United Kingdom'))\n",
    "# sales_wo_uk<-subset(sales_orders, Country!='United Kingdom')"
   ]
  },
  {
   "cell_type": "code",
   "execution_count": 3,
   "metadata": {},
   "outputs": [
    {
     "data": {
      "text/html": [
       "<table>\n",
       "<caption>A data.frame: 6 × 10</caption>\n",
       "<thead>\n",
       "\t<tr><th></th><th scope=col>InvoiceNo</th><th scope=col>StockCode</th><th scope=col>Description</th><th scope=col>Quantity</th><th scope=col>InvoiceDate</th><th scope=col>UnitPrice</th><th scope=col>CustomerID</th><th scope=col>Country</th><th scope=col>CanceledQty</th><th scope=col>Matches</th></tr>\n",
       "\t<tr><th></th><th scope=col>&lt;int&gt;</th><th scope=col>&lt;chr&gt;</th><th scope=col>&lt;chr&gt;</th><th scope=col>&lt;int&gt;</th><th scope=col>&lt;date&gt;</th><th scope=col>&lt;dbl&gt;</th><th scope=col>&lt;int&gt;</th><th scope=col>&lt;chr&gt;</th><th scope=col>&lt;int&gt;</th><th scope=col>&lt;lgl&gt;</th></tr>\n",
       "</thead>\n",
       "<tbody>\n",
       "\t<tr><th scope=row>1</th><td>563614</td><td>23345</td><td> DOLLY GIRL BEAKER           </td><td>200</td><td>2011-08-18</td><td>1.08</td><td>12415</td><td>Australia</td><td>1</td><td>FALSE</td></tr>\n",
       "\t<tr><th scope=row>2</th><td>568708</td><td>23391</td><td> I LOVE LONDON MINI BACKPACK </td><td>  4</td><td>2011-09-28</td><td>4.15</td><td>12393</td><td>Australia</td><td>1</td><td>FALSE</td></tr>\n",
       "\t<tr><th scope=row>3</th><td>556917</td><td>22418</td><td>10 COLOUR SPACEBOY PEN       </td><td> 48</td><td>2011-06-15</td><td>0.85</td><td>12415</td><td>Australia</td><td>1</td><td>FALSE</td></tr>\n",
       "\t<tr><th scope=row>4</th><td>543989</td><td>20973</td><td>12 PENCIL SMALL TUBE WOODLAND</td><td>384</td><td>2011-02-15</td><td>0.55</td><td>12415</td><td>Australia</td><td>1</td><td>FALSE</td></tr>\n",
       "\t<tr><th scope=row>5</th><td>547659</td><td>20984</td><td>12 PENCILS TALL TUBE POSY    </td><td> 12</td><td>2011-03-24</td><td>0.85</td><td>12434</td><td>Australia</td><td>1</td><td>FALSE</td></tr>\n",
       "\t<tr><th scope=row>6</th><td>556917</td><td>20984</td><td>12 PENCILS TALL TUBE POSY    </td><td>240</td><td>2011-06-15</td><td>0.29</td><td>12415</td><td>Australia</td><td>1</td><td>FALSE</td></tr>\n",
       "</tbody>\n",
       "</table>\n"
      ],
      "text/latex": [
       "A data.frame: 6 × 10\n",
       "\\begin{tabular}{r|llllllllll}\n",
       "  & InvoiceNo & StockCode & Description & Quantity & InvoiceDate & UnitPrice & CustomerID & Country & CanceledQty & Matches\\\\\n",
       "  & <int> & <chr> & <chr> & <int> & <date> & <dbl> & <int> & <chr> & <int> & <lgl>\\\\\n",
       "\\hline\n",
       "\t1 & 563614 & 23345 &  DOLLY GIRL BEAKER            & 200 & 2011-08-18 & 1.08 & 12415 & Australia & 1 & FALSE\\\\\n",
       "\t2 & 568708 & 23391 &  I LOVE LONDON MINI BACKPACK  &   4 & 2011-09-28 & 4.15 & 12393 & Australia & 1 & FALSE\\\\\n",
       "\t3 & 556917 & 22418 & 10 COLOUR SPACEBOY PEN        &  48 & 2011-06-15 & 0.85 & 12415 & Australia & 1 & FALSE\\\\\n",
       "\t4 & 543989 & 20973 & 12 PENCIL SMALL TUBE WOODLAND & 384 & 2011-02-15 & 0.55 & 12415 & Australia & 1 & FALSE\\\\\n",
       "\t5 & 547659 & 20984 & 12 PENCILS TALL TUBE POSY     &  12 & 2011-03-24 & 0.85 & 12434 & Australia & 1 & FALSE\\\\\n",
       "\t6 & 556917 & 20984 & 12 PENCILS TALL TUBE POSY     & 240 & 2011-06-15 & 0.29 & 12415 & Australia & 1 & FALSE\\\\\n",
       "\\end{tabular}\n"
      ],
      "text/markdown": [
       "\n",
       "A data.frame: 6 × 10\n",
       "\n",
       "| <!--/--> | InvoiceNo &lt;int&gt; | StockCode &lt;chr&gt; | Description &lt;chr&gt; | Quantity &lt;int&gt; | InvoiceDate &lt;date&gt; | UnitPrice &lt;dbl&gt; | CustomerID &lt;int&gt; | Country &lt;chr&gt; | CanceledQty &lt;int&gt; | Matches &lt;lgl&gt; |\n",
       "|---|---|---|---|---|---|---|---|---|---|---|\n",
       "| 1 | 563614 | 23345 |  DOLLY GIRL BEAKER            | 200 | 2011-08-18 | 1.08 | 12415 | Australia | 1 | FALSE |\n",
       "| 2 | 568708 | 23391 |  I LOVE LONDON MINI BACKPACK  |   4 | 2011-09-28 | 4.15 | 12393 | Australia | 1 | FALSE |\n",
       "| 3 | 556917 | 22418 | 10 COLOUR SPACEBOY PEN        |  48 | 2011-06-15 | 0.85 | 12415 | Australia | 1 | FALSE |\n",
       "| 4 | 543989 | 20973 | 12 PENCIL SMALL TUBE WOODLAND | 384 | 2011-02-15 | 0.55 | 12415 | Australia | 1 | FALSE |\n",
       "| 5 | 547659 | 20984 | 12 PENCILS TALL TUBE POSY     |  12 | 2011-03-24 | 0.85 | 12434 | Australia | 1 | FALSE |\n",
       "| 6 | 556917 | 20984 | 12 PENCILS TALL TUBE POSY     | 240 | 2011-06-15 | 0.29 | 12415 | Australia | 1 | FALSE |\n",
       "\n"
      ],
      "text/plain": [
       "  InvoiceNo StockCode Description                   Quantity InvoiceDate\n",
       "1 563614    23345      DOLLY GIRL BEAKER            200      2011-08-18 \n",
       "2 568708    23391      I LOVE LONDON MINI BACKPACK    4      2011-09-28 \n",
       "3 556917    22418     10 COLOUR SPACEBOY PEN         48      2011-06-15 \n",
       "4 543989    20973     12 PENCIL SMALL TUBE WOODLAND 384      2011-02-15 \n",
       "5 547659    20984     12 PENCILS TALL TUBE POSY      12      2011-03-24 \n",
       "6 556917    20984     12 PENCILS TALL TUBE POSY     240      2011-06-15 \n",
       "  UnitPrice CustomerID Country   CanceledQty Matches\n",
       "1 1.08      12415      Australia 1           FALSE  \n",
       "2 4.15      12393      Australia 1           FALSE  \n",
       "3 0.85      12415      Australia 1           FALSE  \n",
       "4 0.55      12415      Australia 1           FALSE  \n",
       "5 0.85      12434      Australia 1           FALSE  \n",
       "6 0.29      12415      Australia 1           FALSE  "
      ]
     },
     "metadata": {},
     "output_type": "display_data"
    }
   ],
   "source": [
    "# One Way To Change to Date Format:\n",
    "date_t_01<-sales_orders%>% mutate_at(vars(InvoiceDate), as.Date, format=\"%m/%d/%Y %H:%M\")\n",
    "head(date_t_01)"
   ]
  },
  {
   "cell_type": "code",
   "execution_count": 4,
   "metadata": {},
   "outputs": [],
   "source": [
    "# the UK dwarfs the data, that is why I remove it here:\n",
    "sales_wo_uk<-subset(sales_orders, Country!='United Kingdom')"
   ]
  },
  {
   "cell_type": "markdown",
   "metadata": {},
   "source": [
    "# Parsing the dates from the data for our examples today."
   ]
  },
  {
   "cell_type": "code",
   "execution_count": 5,
   "metadata": {},
   "outputs": [
    {
     "data": {
      "text/html": [
       "<table>\n",
       "<caption>A data.frame: 6 × 6</caption>\n",
       "<thead>\n",
       "\t<tr><th></th><th scope=col>date</th><th scope=col>hour</th><th scope=col>day</th><th scope=col>month</th><th scope=col>year</th><th scope=col>month_year</th></tr>\n",
       "\t<tr><th></th><th scope=col>&lt;dttm&gt;</th><th scope=col>&lt;chr&gt;</th><th scope=col>&lt;chr&gt;</th><th scope=col>&lt;chr&gt;</th><th scope=col>&lt;chr&gt;</th><th scope=col>&lt;chr&gt;</th></tr>\n",
       "</thead>\n",
       "<tbody>\n",
       "\t<tr><th scope=row>1</th><td>2011-08-18 08:51:00</td><td>08</td><td>18</td><td>08</td><td>2011</td><td>08/2011</td></tr>\n",
       "\t<tr><th scope=row>2</th><td>2011-09-28 15:41:00</td><td>15</td><td>28</td><td>09</td><td>2011</td><td>09/2011</td></tr>\n",
       "\t<tr><th scope=row>3</th><td>2011-06-15 13:37:00</td><td>13</td><td>15</td><td>06</td><td>2011</td><td>06/2011</td></tr>\n",
       "\t<tr><th scope=row>4</th><td>2011-02-15 09:52:00</td><td>09</td><td>15</td><td>02</td><td>2011</td><td>02/2011</td></tr>\n",
       "\t<tr><th scope=row>5</th><td>2011-03-24 13:05:00</td><td>13</td><td>24</td><td>03</td><td>2011</td><td>03/2011</td></tr>\n",
       "\t<tr><th scope=row>6</th><td>2011-06-15 13:37:00</td><td>13</td><td>15</td><td>06</td><td>2011</td><td>06/2011</td></tr>\n",
       "</tbody>\n",
       "</table>\n"
      ],
      "text/latex": [
       "A data.frame: 6 × 6\n",
       "\\begin{tabular}{r|llllll}\n",
       "  & date & hour & day & month & year & month\\_year\\\\\n",
       "  & <dttm> & <chr> & <chr> & <chr> & <chr> & <chr>\\\\\n",
       "\\hline\n",
       "\t1 & 2011-08-18 08:51:00 & 08 & 18 & 08 & 2011 & 08/2011\\\\\n",
       "\t2 & 2011-09-28 15:41:00 & 15 & 28 & 09 & 2011 & 09/2011\\\\\n",
       "\t3 & 2011-06-15 13:37:00 & 13 & 15 & 06 & 2011 & 06/2011\\\\\n",
       "\t4 & 2011-02-15 09:52:00 & 09 & 15 & 02 & 2011 & 02/2011\\\\\n",
       "\t5 & 2011-03-24 13:05:00 & 13 & 24 & 03 & 2011 & 03/2011\\\\\n",
       "\t6 & 2011-06-15 13:37:00 & 13 & 15 & 06 & 2011 & 06/2011\\\\\n",
       "\\end{tabular}\n"
      ],
      "text/markdown": [
       "\n",
       "A data.frame: 6 × 6\n",
       "\n",
       "| <!--/--> | date &lt;dttm&gt; | hour &lt;chr&gt; | day &lt;chr&gt; | month &lt;chr&gt; | year &lt;chr&gt; | month_year &lt;chr&gt; |\n",
       "|---|---|---|---|---|---|---|\n",
       "| 1 | 2011-08-18 08:51:00 | 08 | 18 | 08 | 2011 | 08/2011 |\n",
       "| 2 | 2011-09-28 15:41:00 | 15 | 28 | 09 | 2011 | 09/2011 |\n",
       "| 3 | 2011-06-15 13:37:00 | 13 | 15 | 06 | 2011 | 06/2011 |\n",
       "| 4 | 2011-02-15 09:52:00 | 09 | 15 | 02 | 2011 | 02/2011 |\n",
       "| 5 | 2011-03-24 13:05:00 | 13 | 24 | 03 | 2011 | 03/2011 |\n",
       "| 6 | 2011-06-15 13:37:00 | 13 | 15 | 06 | 2011 | 06/2011 |\n",
       "\n"
      ],
      "text/plain": [
       "  date                hour day month year month_year\n",
       "1 2011-08-18 08:51:00 08   18  08    2011 08/2011   \n",
       "2 2011-09-28 15:41:00 15   28  09    2011 09/2011   \n",
       "3 2011-06-15 13:37:00 13   15  06    2011 06/2011   \n",
       "4 2011-02-15 09:52:00 09   15  02    2011 02/2011   \n",
       "5 2011-03-24 13:05:00 13   24  03    2011 03/2011   \n",
       "6 2011-06-15 13:37:00 13   15  06    2011 06/2011   "
      ]
     },
     "metadata": {},
     "output_type": "display_data"
    }
   ],
   "source": [
    "# Taking the Date column and converting from char -> date/time\n",
    "time_<-strptime(sales_wo_uk$InvoiceDate, \"%m/%d/%Y %H:%M\")\n",
    "\n",
    "time_conversion<-as.POSIXct(time_) # convert object to class: date/time\n",
    "\n",
    "dates_fix<-data.frame(\n",
    "   date=time_conversion,\n",
    "   hour=format(time_conversion, \"%H\"),\n",
    "   day=format(time_conversion,\"%d\"),\n",
    "   month=format(time_conversion,\"%m\"),\n",
    "   year=format(time_conversion,\"%Y\"),\n",
    "month_year=format(time_conversion,\"%m/%Y\"))\n",
    "\n",
    "\n",
    "\n",
    "head(dates_fix)"
   ]
  },
  {
   "cell_type": "code",
   "execution_count": 6,
   "metadata": {},
   "outputs": [
    {
     "data": {
      "text/html": [
       "<table>\n",
       "<caption>A data.frame: 6 × 8</caption>\n",
       "<thead>\n",
       "\t<tr><th></th><th scope=col>date</th><th scope=col>hour</th><th scope=col>day</th><th scope=col>month</th><th scope=col>year</th><th scope=col>month_year</th><th scope=col>month_abbrv</th><th scope=col>day_of_week</th></tr>\n",
       "\t<tr><th></th><th scope=col>&lt;dttm&gt;</th><th scope=col>&lt;chr&gt;</th><th scope=col>&lt;chr&gt;</th><th scope=col>&lt;chr&gt;</th><th scope=col>&lt;chr&gt;</th><th scope=col>&lt;chr&gt;</th><th scope=col>&lt;chr&gt;</th><th scope=col>&lt;chr&gt;</th></tr>\n",
       "</thead>\n",
       "<tbody>\n",
       "\t<tr><th scope=row>1</th><td>2011-08-18 08:51:00</td><td>08</td><td>18</td><td>08</td><td>2011</td><td>08/2011</td><td>Aug</td><td>Thursday </td></tr>\n",
       "\t<tr><th scope=row>2</th><td>2011-09-28 15:41:00</td><td>15</td><td>28</td><td>09</td><td>2011</td><td>09/2011</td><td>Sep</td><td>Wednesday</td></tr>\n",
       "\t<tr><th scope=row>3</th><td>2011-06-15 13:37:00</td><td>13</td><td>15</td><td>06</td><td>2011</td><td>06/2011</td><td>Jun</td><td>Wednesday</td></tr>\n",
       "\t<tr><th scope=row>4</th><td>2011-02-15 09:52:00</td><td>09</td><td>15</td><td>02</td><td>2011</td><td>02/2011</td><td>Feb</td><td>Tuesday  </td></tr>\n",
       "\t<tr><th scope=row>5</th><td>2011-03-24 13:05:00</td><td>13</td><td>24</td><td>03</td><td>2011</td><td>03/2011</td><td>Mar</td><td>Thursday </td></tr>\n",
       "\t<tr><th scope=row>6</th><td>2011-06-15 13:37:00</td><td>13</td><td>15</td><td>06</td><td>2011</td><td>06/2011</td><td>Jun</td><td>Wednesday</td></tr>\n",
       "</tbody>\n",
       "</table>\n"
      ],
      "text/latex": [
       "A data.frame: 6 × 8\n",
       "\\begin{tabular}{r|llllllll}\n",
       "  & date & hour & day & month & year & month\\_year & month\\_abbrv & day\\_of\\_week\\\\\n",
       "  & <dttm> & <chr> & <chr> & <chr> & <chr> & <chr> & <chr> & <chr>\\\\\n",
       "\\hline\n",
       "\t1 & 2011-08-18 08:51:00 & 08 & 18 & 08 & 2011 & 08/2011 & Aug & Thursday \\\\\n",
       "\t2 & 2011-09-28 15:41:00 & 15 & 28 & 09 & 2011 & 09/2011 & Sep & Wednesday\\\\\n",
       "\t3 & 2011-06-15 13:37:00 & 13 & 15 & 06 & 2011 & 06/2011 & Jun & Wednesday\\\\\n",
       "\t4 & 2011-02-15 09:52:00 & 09 & 15 & 02 & 2011 & 02/2011 & Feb & Tuesday  \\\\\n",
       "\t5 & 2011-03-24 13:05:00 & 13 & 24 & 03 & 2011 & 03/2011 & Mar & Thursday \\\\\n",
       "\t6 & 2011-06-15 13:37:00 & 13 & 15 & 06 & 2011 & 06/2011 & Jun & Wednesday\\\\\n",
       "\\end{tabular}\n"
      ],
      "text/markdown": [
       "\n",
       "A data.frame: 6 × 8\n",
       "\n",
       "| <!--/--> | date &lt;dttm&gt; | hour &lt;chr&gt; | day &lt;chr&gt; | month &lt;chr&gt; | year &lt;chr&gt; | month_year &lt;chr&gt; | month_abbrv &lt;chr&gt; | day_of_week &lt;chr&gt; |\n",
       "|---|---|---|---|---|---|---|---|---|\n",
       "| 1 | 2011-08-18 08:51:00 | 08 | 18 | 08 | 2011 | 08/2011 | Aug | Thursday  |\n",
       "| 2 | 2011-09-28 15:41:00 | 15 | 28 | 09 | 2011 | 09/2011 | Sep | Wednesday |\n",
       "| 3 | 2011-06-15 13:37:00 | 13 | 15 | 06 | 2011 | 06/2011 | Jun | Wednesday |\n",
       "| 4 | 2011-02-15 09:52:00 | 09 | 15 | 02 | 2011 | 02/2011 | Feb | Tuesday   |\n",
       "| 5 | 2011-03-24 13:05:00 | 13 | 24 | 03 | 2011 | 03/2011 | Mar | Thursday  |\n",
       "| 6 | 2011-06-15 13:37:00 | 13 | 15 | 06 | 2011 | 06/2011 | Jun | Wednesday |\n",
       "\n"
      ],
      "text/plain": [
       "  date                hour day month year month_year month_abbrv day_of_week\n",
       "1 2011-08-18 08:51:00 08   18  08    2011 08/2011    Aug         Thursday   \n",
       "2 2011-09-28 15:41:00 15   28  09    2011 09/2011    Sep         Wednesday  \n",
       "3 2011-06-15 13:37:00 13   15  06    2011 06/2011    Jun         Wednesday  \n",
       "4 2011-02-15 09:52:00 09   15  02    2011 02/2011    Feb         Tuesday    \n",
       "5 2011-03-24 13:05:00 13   24  03    2011 03/2011    Mar         Thursday   \n",
       "6 2011-06-15 13:37:00 13   15  06    2011 06/2011    Jun         Wednesday  "
      ]
     },
     "metadata": {},
     "output_type": "display_data"
    }
   ],
   "source": [
    "# Month Name:\n",
    "dates_fix$month_abbrv<-month.abb[as.numeric(dates_fix$month)]\n",
    "\n",
    "\n",
    "# Day of Week Names\n",
    "dates_fix$day_of_week<-strftime(dates_fix$date,'%A')\n",
    "head(dates_fix)"
   ]
  },
  {
   "cell_type": "markdown",
   "metadata": {},
   "source": [
    "# Create a new column of `Sales totals=Qty*Price`\n",
    "\n",
    "+ This is just 1 way of doing this by the way"
   ]
  },
  {
   "cell_type": "code",
   "execution_count": 7,
   "metadata": {},
   "outputs": [
    {
     "data": {
      "text/html": [
       "<table>\n",
       "<caption>A data.frame: 6 × 11</caption>\n",
       "<thead>\n",
       "\t<tr><th></th><th scope=col>InvoiceNo</th><th scope=col>StockCode</th><th scope=col>Description</th><th scope=col>Quantity</th><th scope=col>InvoiceDate</th><th scope=col>UnitPrice</th><th scope=col>CustomerID</th><th scope=col>Country</th><th scope=col>CanceledQty</th><th scope=col>Matches</th><th scope=col>Sales_Tot</th></tr>\n",
       "\t<tr><th></th><th scope=col>&lt;int&gt;</th><th scope=col>&lt;chr&gt;</th><th scope=col>&lt;chr&gt;</th><th scope=col>&lt;int&gt;</th><th scope=col>&lt;chr&gt;</th><th scope=col>&lt;dbl&gt;</th><th scope=col>&lt;int&gt;</th><th scope=col>&lt;chr&gt;</th><th scope=col>&lt;int&gt;</th><th scope=col>&lt;lgl&gt;</th><th scope=col>&lt;dbl&gt;</th></tr>\n",
       "</thead>\n",
       "<tbody>\n",
       "\t<tr><th scope=row>1</th><td>563614</td><td>23345</td><td> DOLLY GIRL BEAKER           </td><td>200</td><td>8/18/2011 8:51 </td><td>1.08</td><td>12415</td><td>Australia</td><td>1</td><td>FALSE</td><td>216.0</td></tr>\n",
       "\t<tr><th scope=row>2</th><td>568708</td><td>23391</td><td> I LOVE LONDON MINI BACKPACK </td><td>  4</td><td>9/28/2011 15:41</td><td>4.15</td><td>12393</td><td>Australia</td><td>1</td><td>FALSE</td><td> 16.6</td></tr>\n",
       "\t<tr><th scope=row>3</th><td>556917</td><td>22418</td><td>10 COLOUR SPACEBOY PEN       </td><td> 48</td><td>6/15/2011 13:37</td><td>0.85</td><td>12415</td><td>Australia</td><td>1</td><td>FALSE</td><td> 40.8</td></tr>\n",
       "\t<tr><th scope=row>4</th><td>543989</td><td>20973</td><td>12 PENCIL SMALL TUBE WOODLAND</td><td>384</td><td>2/15/2011 9:52 </td><td>0.55</td><td>12415</td><td>Australia</td><td>1</td><td>FALSE</td><td>211.2</td></tr>\n",
       "\t<tr><th scope=row>5</th><td>547659</td><td>20984</td><td>12 PENCILS TALL TUBE POSY    </td><td> 12</td><td>3/24/2011 13:05</td><td>0.85</td><td>12434</td><td>Australia</td><td>1</td><td>FALSE</td><td> 10.2</td></tr>\n",
       "\t<tr><th scope=row>6</th><td>556917</td><td>20984</td><td>12 PENCILS TALL TUBE POSY    </td><td>240</td><td>6/15/2011 13:37</td><td>0.29</td><td>12415</td><td>Australia</td><td>1</td><td>FALSE</td><td> 69.6</td></tr>\n",
       "</tbody>\n",
       "</table>\n"
      ],
      "text/latex": [
       "A data.frame: 6 × 11\n",
       "\\begin{tabular}{r|lllllllllll}\n",
       "  & InvoiceNo & StockCode & Description & Quantity & InvoiceDate & UnitPrice & CustomerID & Country & CanceledQty & Matches & Sales\\_Tot\\\\\n",
       "  & <int> & <chr> & <chr> & <int> & <chr> & <dbl> & <int> & <chr> & <int> & <lgl> & <dbl>\\\\\n",
       "\\hline\n",
       "\t1 & 563614 & 23345 &  DOLLY GIRL BEAKER            & 200 & 8/18/2011 8:51  & 1.08 & 12415 & Australia & 1 & FALSE & 216.0\\\\\n",
       "\t2 & 568708 & 23391 &  I LOVE LONDON MINI BACKPACK  &   4 & 9/28/2011 15:41 & 4.15 & 12393 & Australia & 1 & FALSE &  16.6\\\\\n",
       "\t3 & 556917 & 22418 & 10 COLOUR SPACEBOY PEN        &  48 & 6/15/2011 13:37 & 0.85 & 12415 & Australia & 1 & FALSE &  40.8\\\\\n",
       "\t4 & 543989 & 20973 & 12 PENCIL SMALL TUBE WOODLAND & 384 & 2/15/2011 9:52  & 0.55 & 12415 & Australia & 1 & FALSE & 211.2\\\\\n",
       "\t5 & 547659 & 20984 & 12 PENCILS TALL TUBE POSY     &  12 & 3/24/2011 13:05 & 0.85 & 12434 & Australia & 1 & FALSE &  10.2\\\\\n",
       "\t6 & 556917 & 20984 & 12 PENCILS TALL TUBE POSY     & 240 & 6/15/2011 13:37 & 0.29 & 12415 & Australia & 1 & FALSE &  69.6\\\\\n",
       "\\end{tabular}\n"
      ],
      "text/markdown": [
       "\n",
       "A data.frame: 6 × 11\n",
       "\n",
       "| <!--/--> | InvoiceNo &lt;int&gt; | StockCode &lt;chr&gt; | Description &lt;chr&gt; | Quantity &lt;int&gt; | InvoiceDate &lt;chr&gt; | UnitPrice &lt;dbl&gt; | CustomerID &lt;int&gt; | Country &lt;chr&gt; | CanceledQty &lt;int&gt; | Matches &lt;lgl&gt; | Sales_Tot &lt;dbl&gt; |\n",
       "|---|---|---|---|---|---|---|---|---|---|---|---|\n",
       "| 1 | 563614 | 23345 |  DOLLY GIRL BEAKER            | 200 | 8/18/2011 8:51  | 1.08 | 12415 | Australia | 1 | FALSE | 216.0 |\n",
       "| 2 | 568708 | 23391 |  I LOVE LONDON MINI BACKPACK  |   4 | 9/28/2011 15:41 | 4.15 | 12393 | Australia | 1 | FALSE |  16.6 |\n",
       "| 3 | 556917 | 22418 | 10 COLOUR SPACEBOY PEN        |  48 | 6/15/2011 13:37 | 0.85 | 12415 | Australia | 1 | FALSE |  40.8 |\n",
       "| 4 | 543989 | 20973 | 12 PENCIL SMALL TUBE WOODLAND | 384 | 2/15/2011 9:52  | 0.55 | 12415 | Australia | 1 | FALSE | 211.2 |\n",
       "| 5 | 547659 | 20984 | 12 PENCILS TALL TUBE POSY     |  12 | 3/24/2011 13:05 | 0.85 | 12434 | Australia | 1 | FALSE |  10.2 |\n",
       "| 6 | 556917 | 20984 | 12 PENCILS TALL TUBE POSY     | 240 | 6/15/2011 13:37 | 0.29 | 12415 | Australia | 1 | FALSE |  69.6 |\n",
       "\n"
      ],
      "text/plain": [
       "  InvoiceNo StockCode Description                   Quantity InvoiceDate    \n",
       "1 563614    23345      DOLLY GIRL BEAKER            200      8/18/2011 8:51 \n",
       "2 568708    23391      I LOVE LONDON MINI BACKPACK    4      9/28/2011 15:41\n",
       "3 556917    22418     10 COLOUR SPACEBOY PEN         48      6/15/2011 13:37\n",
       "4 543989    20973     12 PENCIL SMALL TUBE WOODLAND 384      2/15/2011 9:52 \n",
       "5 547659    20984     12 PENCILS TALL TUBE POSY      12      3/24/2011 13:05\n",
       "6 556917    20984     12 PENCILS TALL TUBE POSY     240      6/15/2011 13:37\n",
       "  UnitPrice CustomerID Country   CanceledQty Matches Sales_Tot\n",
       "1 1.08      12415      Australia 1           FALSE   216.0    \n",
       "2 4.15      12393      Australia 1           FALSE    16.6    \n",
       "3 0.85      12415      Australia 1           FALSE    40.8    \n",
       "4 0.55      12415      Australia 1           FALSE   211.2    \n",
       "5 0.85      12434      Australia 1           FALSE    10.2    \n",
       "6 0.29      12415      Australia 1           FALSE    69.6    "
      ]
     },
     "metadata": {},
     "output_type": "display_data"
    }
   ],
   "source": [
    "\n",
    "sales_wo_uk$Sales_Tot<-sales_wo_uk$Quantity*sales_wo_uk$UnitPrice\n",
    "head(sales_wo_uk)"
   ]
  },
  {
   "cell_type": "markdown",
   "metadata": {},
   "source": [
    "# If you had to combine two data frames:\n",
    "\n",
    "+ There is `cbind`: which works columnwise, meaning it forms an abuttment.\n",
    "    + Otherwise, you have `rbind`: which would just append to end of rows"
   ]
  },
  {
   "cell_type": "code",
   "execution_count": 8,
   "metadata": {},
   "outputs": [
    {
     "data": {
      "text/html": [
       "<table>\n",
       "<caption>A data.frame: 6 × 19</caption>\n",
       "<thead>\n",
       "\t<tr><th></th><th scope=col>InvoiceNo</th><th scope=col>StockCode</th><th scope=col>Description</th><th scope=col>Quantity</th><th scope=col>InvoiceDate</th><th scope=col>UnitPrice</th><th scope=col>CustomerID</th><th scope=col>Country</th><th scope=col>CanceledQty</th><th scope=col>Matches</th><th scope=col>Sales_Tot</th><th scope=col>date</th><th scope=col>hour</th><th scope=col>day</th><th scope=col>month</th><th scope=col>year</th><th scope=col>month_year</th><th scope=col>month_abbrv</th><th scope=col>day_of_week</th></tr>\n",
       "\t<tr><th></th><th scope=col>&lt;int&gt;</th><th scope=col>&lt;chr&gt;</th><th scope=col>&lt;chr&gt;</th><th scope=col>&lt;int&gt;</th><th scope=col>&lt;chr&gt;</th><th scope=col>&lt;dbl&gt;</th><th scope=col>&lt;int&gt;</th><th scope=col>&lt;chr&gt;</th><th scope=col>&lt;int&gt;</th><th scope=col>&lt;lgl&gt;</th><th scope=col>&lt;dbl&gt;</th><th scope=col>&lt;dttm&gt;</th><th scope=col>&lt;chr&gt;</th><th scope=col>&lt;chr&gt;</th><th scope=col>&lt;chr&gt;</th><th scope=col>&lt;chr&gt;</th><th scope=col>&lt;chr&gt;</th><th scope=col>&lt;chr&gt;</th><th scope=col>&lt;chr&gt;</th></tr>\n",
       "</thead>\n",
       "<tbody>\n",
       "\t<tr><th scope=row>1</th><td>563614</td><td>23345</td><td> DOLLY GIRL BEAKER           </td><td>200</td><td>8/18/2011 8:51 </td><td>1.08</td><td>12415</td><td>Australia</td><td>1</td><td>FALSE</td><td>216.0</td><td>2011-08-18 08:51:00</td><td>08</td><td>18</td><td>08</td><td>2011</td><td>08/2011</td><td>Aug</td><td>Thursday </td></tr>\n",
       "\t<tr><th scope=row>2</th><td>568708</td><td>23391</td><td> I LOVE LONDON MINI BACKPACK </td><td>  4</td><td>9/28/2011 15:41</td><td>4.15</td><td>12393</td><td>Australia</td><td>1</td><td>FALSE</td><td> 16.6</td><td>2011-09-28 15:41:00</td><td>15</td><td>28</td><td>09</td><td>2011</td><td>09/2011</td><td>Sep</td><td>Wednesday</td></tr>\n",
       "\t<tr><th scope=row>3</th><td>556917</td><td>22418</td><td>10 COLOUR SPACEBOY PEN       </td><td> 48</td><td>6/15/2011 13:37</td><td>0.85</td><td>12415</td><td>Australia</td><td>1</td><td>FALSE</td><td> 40.8</td><td>2011-06-15 13:37:00</td><td>13</td><td>15</td><td>06</td><td>2011</td><td>06/2011</td><td>Jun</td><td>Wednesday</td></tr>\n",
       "\t<tr><th scope=row>4</th><td>543989</td><td>20973</td><td>12 PENCIL SMALL TUBE WOODLAND</td><td>384</td><td>2/15/2011 9:52 </td><td>0.55</td><td>12415</td><td>Australia</td><td>1</td><td>FALSE</td><td>211.2</td><td>2011-02-15 09:52:00</td><td>09</td><td>15</td><td>02</td><td>2011</td><td>02/2011</td><td>Feb</td><td>Tuesday  </td></tr>\n",
       "\t<tr><th scope=row>5</th><td>547659</td><td>20984</td><td>12 PENCILS TALL TUBE POSY    </td><td> 12</td><td>3/24/2011 13:05</td><td>0.85</td><td>12434</td><td>Australia</td><td>1</td><td>FALSE</td><td> 10.2</td><td>2011-03-24 13:05:00</td><td>13</td><td>24</td><td>03</td><td>2011</td><td>03/2011</td><td>Mar</td><td>Thursday </td></tr>\n",
       "\t<tr><th scope=row>6</th><td>556917</td><td>20984</td><td>12 PENCILS TALL TUBE POSY    </td><td>240</td><td>6/15/2011 13:37</td><td>0.29</td><td>12415</td><td>Australia</td><td>1</td><td>FALSE</td><td> 69.6</td><td>2011-06-15 13:37:00</td><td>13</td><td>15</td><td>06</td><td>2011</td><td>06/2011</td><td>Jun</td><td>Wednesday</td></tr>\n",
       "</tbody>\n",
       "</table>\n"
      ],
      "text/latex": [
       "A data.frame: 6 × 19\n",
       "\\begin{tabular}{r|lllllllllllllllllll}\n",
       "  & InvoiceNo & StockCode & Description & Quantity & InvoiceDate & UnitPrice & CustomerID & Country & CanceledQty & Matches & Sales\\_Tot & date & hour & day & month & year & month\\_year & month\\_abbrv & day\\_of\\_week\\\\\n",
       "  & <int> & <chr> & <chr> & <int> & <chr> & <dbl> & <int> & <chr> & <int> & <lgl> & <dbl> & <dttm> & <chr> & <chr> & <chr> & <chr> & <chr> & <chr> & <chr>\\\\\n",
       "\\hline\n",
       "\t1 & 563614 & 23345 &  DOLLY GIRL BEAKER            & 200 & 8/18/2011 8:51  & 1.08 & 12415 & Australia & 1 & FALSE & 216.0 & 2011-08-18 08:51:00 & 08 & 18 & 08 & 2011 & 08/2011 & Aug & Thursday \\\\\n",
       "\t2 & 568708 & 23391 &  I LOVE LONDON MINI BACKPACK  &   4 & 9/28/2011 15:41 & 4.15 & 12393 & Australia & 1 & FALSE &  16.6 & 2011-09-28 15:41:00 & 15 & 28 & 09 & 2011 & 09/2011 & Sep & Wednesday\\\\\n",
       "\t3 & 556917 & 22418 & 10 COLOUR SPACEBOY PEN        &  48 & 6/15/2011 13:37 & 0.85 & 12415 & Australia & 1 & FALSE &  40.8 & 2011-06-15 13:37:00 & 13 & 15 & 06 & 2011 & 06/2011 & Jun & Wednesday\\\\\n",
       "\t4 & 543989 & 20973 & 12 PENCIL SMALL TUBE WOODLAND & 384 & 2/15/2011 9:52  & 0.55 & 12415 & Australia & 1 & FALSE & 211.2 & 2011-02-15 09:52:00 & 09 & 15 & 02 & 2011 & 02/2011 & Feb & Tuesday  \\\\\n",
       "\t5 & 547659 & 20984 & 12 PENCILS TALL TUBE POSY     &  12 & 3/24/2011 13:05 & 0.85 & 12434 & Australia & 1 & FALSE &  10.2 & 2011-03-24 13:05:00 & 13 & 24 & 03 & 2011 & 03/2011 & Mar & Thursday \\\\\n",
       "\t6 & 556917 & 20984 & 12 PENCILS TALL TUBE POSY     & 240 & 6/15/2011 13:37 & 0.29 & 12415 & Australia & 1 & FALSE &  69.6 & 2011-06-15 13:37:00 & 13 & 15 & 06 & 2011 & 06/2011 & Jun & Wednesday\\\\\n",
       "\\end{tabular}\n"
      ],
      "text/markdown": [
       "\n",
       "A data.frame: 6 × 19\n",
       "\n",
       "| <!--/--> | InvoiceNo &lt;int&gt; | StockCode &lt;chr&gt; | Description &lt;chr&gt; | Quantity &lt;int&gt; | InvoiceDate &lt;chr&gt; | UnitPrice &lt;dbl&gt; | CustomerID &lt;int&gt; | Country &lt;chr&gt; | CanceledQty &lt;int&gt; | Matches &lt;lgl&gt; | Sales_Tot &lt;dbl&gt; | date &lt;dttm&gt; | hour &lt;chr&gt; | day &lt;chr&gt; | month &lt;chr&gt; | year &lt;chr&gt; | month_year &lt;chr&gt; | month_abbrv &lt;chr&gt; | day_of_week &lt;chr&gt; |\n",
       "|---|---|---|---|---|---|---|---|---|---|---|---|---|---|---|---|---|---|---|---|\n",
       "| 1 | 563614 | 23345 |  DOLLY GIRL BEAKER            | 200 | 8/18/2011 8:51  | 1.08 | 12415 | Australia | 1 | FALSE | 216.0 | 2011-08-18 08:51:00 | 08 | 18 | 08 | 2011 | 08/2011 | Aug | Thursday  |\n",
       "| 2 | 568708 | 23391 |  I LOVE LONDON MINI BACKPACK  |   4 | 9/28/2011 15:41 | 4.15 | 12393 | Australia | 1 | FALSE |  16.6 | 2011-09-28 15:41:00 | 15 | 28 | 09 | 2011 | 09/2011 | Sep | Wednesday |\n",
       "| 3 | 556917 | 22418 | 10 COLOUR SPACEBOY PEN        |  48 | 6/15/2011 13:37 | 0.85 | 12415 | Australia | 1 | FALSE |  40.8 | 2011-06-15 13:37:00 | 13 | 15 | 06 | 2011 | 06/2011 | Jun | Wednesday |\n",
       "| 4 | 543989 | 20973 | 12 PENCIL SMALL TUBE WOODLAND | 384 | 2/15/2011 9:52  | 0.55 | 12415 | Australia | 1 | FALSE | 211.2 | 2011-02-15 09:52:00 | 09 | 15 | 02 | 2011 | 02/2011 | Feb | Tuesday   |\n",
       "| 5 | 547659 | 20984 | 12 PENCILS TALL TUBE POSY     |  12 | 3/24/2011 13:05 | 0.85 | 12434 | Australia | 1 | FALSE |  10.2 | 2011-03-24 13:05:00 | 13 | 24 | 03 | 2011 | 03/2011 | Mar | Thursday  |\n",
       "| 6 | 556917 | 20984 | 12 PENCILS TALL TUBE POSY     | 240 | 6/15/2011 13:37 | 0.29 | 12415 | Australia | 1 | FALSE |  69.6 | 2011-06-15 13:37:00 | 13 | 15 | 06 | 2011 | 06/2011 | Jun | Wednesday |\n",
       "\n"
      ],
      "text/plain": [
       "  InvoiceNo StockCode Description                   Quantity InvoiceDate    \n",
       "1 563614    23345      DOLLY GIRL BEAKER            200      8/18/2011 8:51 \n",
       "2 568708    23391      I LOVE LONDON MINI BACKPACK    4      9/28/2011 15:41\n",
       "3 556917    22418     10 COLOUR SPACEBOY PEN         48      6/15/2011 13:37\n",
       "4 543989    20973     12 PENCIL SMALL TUBE WOODLAND 384      2/15/2011 9:52 \n",
       "5 547659    20984     12 PENCILS TALL TUBE POSY      12      3/24/2011 13:05\n",
       "6 556917    20984     12 PENCILS TALL TUBE POSY     240      6/15/2011 13:37\n",
       "  UnitPrice CustomerID Country   CanceledQty Matches Sales_Tot\n",
       "1 1.08      12415      Australia 1           FALSE   216.0    \n",
       "2 4.15      12393      Australia 1           FALSE    16.6    \n",
       "3 0.85      12415      Australia 1           FALSE    40.8    \n",
       "4 0.55      12415      Australia 1           FALSE   211.2    \n",
       "5 0.85      12434      Australia 1           FALSE    10.2    \n",
       "6 0.29      12415      Australia 1           FALSE    69.6    \n",
       "  date                hour day month year month_year month_abbrv day_of_week\n",
       "1 2011-08-18 08:51:00 08   18  08    2011 08/2011    Aug         Thursday   \n",
       "2 2011-09-28 15:41:00 15   28  09    2011 09/2011    Sep         Wednesday  \n",
       "3 2011-06-15 13:37:00 13   15  06    2011 06/2011    Jun         Wednesday  \n",
       "4 2011-02-15 09:52:00 09   15  02    2011 02/2011    Feb         Tuesday    \n",
       "5 2011-03-24 13:05:00 13   24  03    2011 03/2011    Mar         Thursday   \n",
       "6 2011-06-15 13:37:00 13   15  06    2011 06/2011    Jun         Wednesday  "
      ]
     },
     "metadata": {},
     "output_type": "display_data"
    }
   ],
   "source": [
    "sales_orders_expanded<-cbind(sales_wo_uk,dates_fix)\n",
    "\n",
    "head(sales_orders_expanded)"
   ]
  },
  {
   "cell_type": "markdown",
   "metadata": {},
   "source": [
    "# Change Layout of Data :\n",
    "\n",
    "For the first few examples, lets evaluate these data as `CustomerID`, `SalesTot`, `Monthyear`\n",
    "to create a new table"
   ]
  },
  {
   "cell_type": "code",
   "execution_count": 9,
   "metadata": {},
   "outputs": [
    {
     "data": {
      "text/html": [
       "<table>\n",
       "<caption>A data.frame: 6 × 3</caption>\n",
       "<thead>\n",
       "\t<tr><th></th><th scope=col>CustomerID</th><th scope=col>Sales_Tot</th><th scope=col>day_of_week</th></tr>\n",
       "\t<tr><th></th><th scope=col>&lt;int&gt;</th><th scope=col>&lt;dbl&gt;</th><th scope=col>&lt;chr&gt;</th></tr>\n",
       "</thead>\n",
       "<tbody>\n",
       "\t<tr><th scope=row>1</th><td>12415</td><td>216.0</td><td>Thursday </td></tr>\n",
       "\t<tr><th scope=row>2</th><td>12393</td><td> 16.6</td><td>Wednesday</td></tr>\n",
       "\t<tr><th scope=row>3</th><td>12415</td><td> 40.8</td><td>Wednesday</td></tr>\n",
       "\t<tr><th scope=row>4</th><td>12415</td><td>211.2</td><td>Tuesday  </td></tr>\n",
       "\t<tr><th scope=row>5</th><td>12434</td><td> 10.2</td><td>Thursday </td></tr>\n",
       "\t<tr><th scope=row>6</th><td>12415</td><td> 69.6</td><td>Wednesday</td></tr>\n",
       "</tbody>\n",
       "</table>\n"
      ],
      "text/latex": [
       "A data.frame: 6 × 3\n",
       "\\begin{tabular}{r|lll}\n",
       "  & CustomerID & Sales\\_Tot & day\\_of\\_week\\\\\n",
       "  & <int> & <dbl> & <chr>\\\\\n",
       "\\hline\n",
       "\t1 & 12415 & 216.0 & Thursday \\\\\n",
       "\t2 & 12393 &  16.6 & Wednesday\\\\\n",
       "\t3 & 12415 &  40.8 & Wednesday\\\\\n",
       "\t4 & 12415 & 211.2 & Tuesday  \\\\\n",
       "\t5 & 12434 &  10.2 & Thursday \\\\\n",
       "\t6 & 12415 &  69.6 & Wednesday\\\\\n",
       "\\end{tabular}\n"
      ],
      "text/markdown": [
       "\n",
       "A data.frame: 6 × 3\n",
       "\n",
       "| <!--/--> | CustomerID &lt;int&gt; | Sales_Tot &lt;dbl&gt; | day_of_week &lt;chr&gt; |\n",
       "|---|---|---|---|\n",
       "| 1 | 12415 | 216.0 | Thursday  |\n",
       "| 2 | 12393 |  16.6 | Wednesday |\n",
       "| 3 | 12415 |  40.8 | Wednesday |\n",
       "| 4 | 12415 | 211.2 | Tuesday   |\n",
       "| 5 | 12434 |  10.2 | Thursday  |\n",
       "| 6 | 12415 |  69.6 | Wednesday |\n",
       "\n"
      ],
      "text/plain": [
       "  CustomerID Sales_Tot day_of_week\n",
       "1 12415      216.0     Thursday   \n",
       "2 12393       16.6     Wednesday  \n",
       "3 12415       40.8     Wednesday  \n",
       "4 12415      211.2     Tuesday    \n",
       "5 12434       10.2     Thursday   \n",
       "6 12415       69.6     Wednesday  "
      ]
     },
     "metadata": {},
     "output_type": "display_data"
    }
   ],
   "source": [
    "sub<-c('CustomerID','Sales_Tot','day_of_week')\n",
    "head(sales_orders_expanded[sub])"
   ]
  },
  {
   "cell_type": "markdown",
   "metadata": {},
   "source": [
    "# *Reshape*: using `tidyr` which is found in `tidyverse`\n",
    "\n",
    "`----------------------------------------------------`"
   ]
  },
  {
   "cell_type": "markdown",
   "metadata": {},
   "source": [
    "# `Gather`: Wide to Long\n",
    "\n",
    "\n"
   ]
  },
  {
   "cell_type": "code",
   "execution_count": 146,
   "metadata": {},
   "outputs": [
    {
     "data": {
      "text/html": [
       "<table>\n",
       "<caption>A data.frame: 5 × 3</caption>\n",
       "<thead>\n",
       "\t<tr><th scope=col>items</th><th scope=col>mean_</th><th scope=col>sd_</th></tr>\n",
       "\t<tr><th scope=col>&lt;chr&gt;</th><th scope=col>&lt;dbl&gt;</th><th scope=col>&lt;dbl&gt;</th></tr>\n",
       "</thead>\n",
       "<tbody>\n",
       "\t<tr><td>a</td><td>60</td><td>2</td></tr>\n",
       "\t<tr><td>a</td><td>50</td><td>1</td></tr>\n",
       "\t<tr><td>b</td><td>40</td><td>3</td></tr>\n",
       "\t<tr><td>c</td><td>30</td><td>2</td></tr>\n",
       "\t<tr><td>d</td><td>10</td><td>4</td></tr>\n",
       "</tbody>\n",
       "</table>\n"
      ],
      "text/latex": [
       "A data.frame: 5 × 3\n",
       "\\begin{tabular}{lll}\n",
       " items & mean\\_ & sd\\_\\\\\n",
       " <chr> & <dbl> & <dbl>\\\\\n",
       "\\hline\n",
       "\t a & 60 & 2\\\\\n",
       "\t a & 50 & 1\\\\\n",
       "\t b & 40 & 3\\\\\n",
       "\t c & 30 & 2\\\\\n",
       "\t d & 10 & 4\\\\\n",
       "\\end{tabular}\n"
      ],
      "text/markdown": [
       "\n",
       "A data.frame: 5 × 3\n",
       "\n",
       "| items &lt;chr&gt; | mean_ &lt;dbl&gt; | sd_ &lt;dbl&gt; |\n",
       "|---|---|---|\n",
       "| a | 60 | 2 |\n",
       "| a | 50 | 1 |\n",
       "| b | 40 | 3 |\n",
       "| c | 30 | 2 |\n",
       "| d | 10 | 4 |\n",
       "\n"
      ],
      "text/plain": [
       "  items mean_ sd_\n",
       "1 a     60    2  \n",
       "2 a     50    1  \n",
       "3 b     40    3  \n",
       "4 c     30    2  \n",
       "5 d     10    4  "
      ]
     },
     "metadata": {},
     "output_type": "display_data"
    },
    {
     "data": {
      "text/html": [
       "<table>\n",
       "<caption>A data.frame: 10 × 3</caption>\n",
       "<thead>\n",
       "\t<tr><th scope=col>items</th><th scope=col>keys</th><th scope=col>vals</th></tr>\n",
       "\t<tr><th scope=col>&lt;chr&gt;</th><th scope=col>&lt;chr&gt;</th><th scope=col>&lt;dbl&gt;</th></tr>\n",
       "</thead>\n",
       "<tbody>\n",
       "\t<tr><td>a</td><td>mean_</td><td>60</td></tr>\n",
       "\t<tr><td>a</td><td>mean_</td><td>50</td></tr>\n",
       "\t<tr><td>b</td><td>mean_</td><td>40</td></tr>\n",
       "\t<tr><td>c</td><td>mean_</td><td>30</td></tr>\n",
       "\t<tr><td>d</td><td>mean_</td><td>10</td></tr>\n",
       "\t<tr><td>a</td><td>sd_  </td><td> 2</td></tr>\n",
       "\t<tr><td>a</td><td>sd_  </td><td> 1</td></tr>\n",
       "\t<tr><td>b</td><td>sd_  </td><td> 3</td></tr>\n",
       "\t<tr><td>c</td><td>sd_  </td><td> 2</td></tr>\n",
       "\t<tr><td>d</td><td>sd_  </td><td> 4</td></tr>\n",
       "</tbody>\n",
       "</table>\n"
      ],
      "text/latex": [
       "A data.frame: 10 × 3\n",
       "\\begin{tabular}{lll}\n",
       " items & keys & vals\\\\\n",
       " <chr> & <chr> & <dbl>\\\\\n",
       "\\hline\n",
       "\t a & mean\\_ & 60\\\\\n",
       "\t a & mean\\_ & 50\\\\\n",
       "\t b & mean\\_ & 40\\\\\n",
       "\t c & mean\\_ & 30\\\\\n",
       "\t d & mean\\_ & 10\\\\\n",
       "\t a & sd\\_   &  2\\\\\n",
       "\t a & sd\\_   &  1\\\\\n",
       "\t b & sd\\_   &  3\\\\\n",
       "\t c & sd\\_   &  2\\\\\n",
       "\t d & sd\\_   &  4\\\\\n",
       "\\end{tabular}\n"
      ],
      "text/markdown": [
       "\n",
       "A data.frame: 10 × 3\n",
       "\n",
       "| items &lt;chr&gt; | keys &lt;chr&gt; | vals &lt;dbl&gt; |\n",
       "|---|---|---|\n",
       "| a | mean_ | 60 |\n",
       "| a | mean_ | 50 |\n",
       "| b | mean_ | 40 |\n",
       "| c | mean_ | 30 |\n",
       "| d | mean_ | 10 |\n",
       "| a | sd_   |  2 |\n",
       "| a | sd_   |  1 |\n",
       "| b | sd_   |  3 |\n",
       "| c | sd_   |  2 |\n",
       "| d | sd_   |  4 |\n",
       "\n"
      ],
      "text/plain": [
       "   items keys  vals\n",
       "1  a     mean_ 60  \n",
       "2  a     mean_ 50  \n",
       "3  b     mean_ 40  \n",
       "4  c     mean_ 30  \n",
       "5  d     mean_ 10  \n",
       "6  a     sd_    2  \n",
       "7  a     sd_    1  \n",
       "8  b     sd_    3  \n",
       "9  c     sd_    2  \n",
       "10 d     sd_    4  "
      ]
     },
     "metadata": {},
     "output_type": "display_data"
    }
   ],
   "source": [
    "mean_<-c(60,50,40,30,10)\n",
    "sd_<-c(2,1,3,2,4)\n",
    "items<-c('a','a','b','c','d')\n",
    "df_1<-data.frame(items,mean_,sd_)\n",
    "\n",
    "df_1\n",
    "\n",
    "gather(df_1,mean_,sd_,key='keys',value='vals')"
   ]
  },
  {
   "cell_type": "markdown",
   "metadata": {},
   "source": [
    "# `separate`: Make Long Data Wide\n",
    "\n",
    "+ spliting 1 column into multiple columns"
   ]
  },
  {
   "cell_type": "code",
   "execution_count": 147,
   "metadata": {},
   "outputs": [
    {
     "data": {
      "text/html": [
       "<table>\n",
       "<caption>A data.frame: 6 × 14</caption>\n",
       "<thead>\n",
       "\t<tr><th></th><th scope=col>InvoiceNo</th><th scope=col>StockCode</th><th scope=col>Description</th><th scope=col>Quantity</th><th scope=col>month</th><th scope=col>day</th><th scope=col>Year</th><th scope=col>hour</th><th scope=col>min</th><th scope=col>UnitPrice</th><th scope=col>CustomerID</th><th scope=col>Country</th><th scope=col>CanceledQty</th><th scope=col>Matches</th></tr>\n",
       "\t<tr><th></th><th scope=col>&lt;int&gt;</th><th scope=col>&lt;chr&gt;</th><th scope=col>&lt;chr&gt;</th><th scope=col>&lt;int&gt;</th><th scope=col>&lt;chr&gt;</th><th scope=col>&lt;chr&gt;</th><th scope=col>&lt;chr&gt;</th><th scope=col>&lt;chr&gt;</th><th scope=col>&lt;chr&gt;</th><th scope=col>&lt;dbl&gt;</th><th scope=col>&lt;int&gt;</th><th scope=col>&lt;chr&gt;</th><th scope=col>&lt;int&gt;</th><th scope=col>&lt;lgl&gt;</th></tr>\n",
       "</thead>\n",
       "<tbody>\n",
       "\t<tr><th scope=row>1</th><td>563614</td><td>23345</td><td> DOLLY GIRL BEAKER           </td><td>200</td><td>8</td><td>18</td><td>2011</td><td>8 </td><td>51</td><td>1.08</td><td>12415</td><td>Australia</td><td>1</td><td>FALSE</td></tr>\n",
       "\t<tr><th scope=row>2</th><td>568708</td><td>23391</td><td> I LOVE LONDON MINI BACKPACK </td><td>  4</td><td>9</td><td>28</td><td>2011</td><td>15</td><td>41</td><td>4.15</td><td>12393</td><td>Australia</td><td>1</td><td>FALSE</td></tr>\n",
       "\t<tr><th scope=row>3</th><td>556917</td><td>22418</td><td>10 COLOUR SPACEBOY PEN       </td><td> 48</td><td>6</td><td>15</td><td>2011</td><td>13</td><td>37</td><td>0.85</td><td>12415</td><td>Australia</td><td>1</td><td>FALSE</td></tr>\n",
       "\t<tr><th scope=row>4</th><td>543989</td><td>20973</td><td>12 PENCIL SMALL TUBE WOODLAND</td><td>384</td><td>2</td><td>15</td><td>2011</td><td>9 </td><td>52</td><td>0.55</td><td>12415</td><td>Australia</td><td>1</td><td>FALSE</td></tr>\n",
       "\t<tr><th scope=row>5</th><td>547659</td><td>20984</td><td>12 PENCILS TALL TUBE POSY    </td><td> 12</td><td>3</td><td>24</td><td>2011</td><td>13</td><td>05</td><td>0.85</td><td>12434</td><td>Australia</td><td>1</td><td>FALSE</td></tr>\n",
       "\t<tr><th scope=row>6</th><td>556917</td><td>20984</td><td>12 PENCILS TALL TUBE POSY    </td><td>240</td><td>6</td><td>15</td><td>2011</td><td>13</td><td>37</td><td>0.29</td><td>12415</td><td>Australia</td><td>1</td><td>FALSE</td></tr>\n",
       "</tbody>\n",
       "</table>\n"
      ],
      "text/latex": [
       "A data.frame: 6 × 14\n",
       "\\begin{tabular}{r|llllllllllllll}\n",
       "  & InvoiceNo & StockCode & Description & Quantity & month & day & Year & hour & min & UnitPrice & CustomerID & Country & CanceledQty & Matches\\\\\n",
       "  & <int> & <chr> & <chr> & <int> & <chr> & <chr> & <chr> & <chr> & <chr> & <dbl> & <int> & <chr> & <int> & <lgl>\\\\\n",
       "\\hline\n",
       "\t1 & 563614 & 23345 &  DOLLY GIRL BEAKER            & 200 & 8 & 18 & 2011 & 8  & 51 & 1.08 & 12415 & Australia & 1 & FALSE\\\\\n",
       "\t2 & 568708 & 23391 &  I LOVE LONDON MINI BACKPACK  &   4 & 9 & 28 & 2011 & 15 & 41 & 4.15 & 12393 & Australia & 1 & FALSE\\\\\n",
       "\t3 & 556917 & 22418 & 10 COLOUR SPACEBOY PEN        &  48 & 6 & 15 & 2011 & 13 & 37 & 0.85 & 12415 & Australia & 1 & FALSE\\\\\n",
       "\t4 & 543989 & 20973 & 12 PENCIL SMALL TUBE WOODLAND & 384 & 2 & 15 & 2011 & 9  & 52 & 0.55 & 12415 & Australia & 1 & FALSE\\\\\n",
       "\t5 & 547659 & 20984 & 12 PENCILS TALL TUBE POSY     &  12 & 3 & 24 & 2011 & 13 & 05 & 0.85 & 12434 & Australia & 1 & FALSE\\\\\n",
       "\t6 & 556917 & 20984 & 12 PENCILS TALL TUBE POSY     & 240 & 6 & 15 & 2011 & 13 & 37 & 0.29 & 12415 & Australia & 1 & FALSE\\\\\n",
       "\\end{tabular}\n"
      ],
      "text/markdown": [
       "\n",
       "A data.frame: 6 × 14\n",
       "\n",
       "| <!--/--> | InvoiceNo &lt;int&gt; | StockCode &lt;chr&gt; | Description &lt;chr&gt; | Quantity &lt;int&gt; | month &lt;chr&gt; | day &lt;chr&gt; | Year &lt;chr&gt; | hour &lt;chr&gt; | min &lt;chr&gt; | UnitPrice &lt;dbl&gt; | CustomerID &lt;int&gt; | Country &lt;chr&gt; | CanceledQty &lt;int&gt; | Matches &lt;lgl&gt; |\n",
       "|---|---|---|---|---|---|---|---|---|---|---|---|---|---|---|\n",
       "| 1 | 563614 | 23345 |  DOLLY GIRL BEAKER            | 200 | 8 | 18 | 2011 | 8  | 51 | 1.08 | 12415 | Australia | 1 | FALSE |\n",
       "| 2 | 568708 | 23391 |  I LOVE LONDON MINI BACKPACK  |   4 | 9 | 28 | 2011 | 15 | 41 | 4.15 | 12393 | Australia | 1 | FALSE |\n",
       "| 3 | 556917 | 22418 | 10 COLOUR SPACEBOY PEN        |  48 | 6 | 15 | 2011 | 13 | 37 | 0.85 | 12415 | Australia | 1 | FALSE |\n",
       "| 4 | 543989 | 20973 | 12 PENCIL SMALL TUBE WOODLAND | 384 | 2 | 15 | 2011 | 9  | 52 | 0.55 | 12415 | Australia | 1 | FALSE |\n",
       "| 5 | 547659 | 20984 | 12 PENCILS TALL TUBE POSY     |  12 | 3 | 24 | 2011 | 13 | 05 | 0.85 | 12434 | Australia | 1 | FALSE |\n",
       "| 6 | 556917 | 20984 | 12 PENCILS TALL TUBE POSY     | 240 | 6 | 15 | 2011 | 13 | 37 | 0.29 | 12415 | Australia | 1 | FALSE |\n",
       "\n"
      ],
      "text/plain": [
       "  InvoiceNo StockCode Description                   Quantity month day Year\n",
       "1 563614    23345      DOLLY GIRL BEAKER            200      8     18  2011\n",
       "2 568708    23391      I LOVE LONDON MINI BACKPACK    4      9     28  2011\n",
       "3 556917    22418     10 COLOUR SPACEBOY PEN         48      6     15  2011\n",
       "4 543989    20973     12 PENCIL SMALL TUBE WOODLAND 384      2     15  2011\n",
       "5 547659    20984     12 PENCILS TALL TUBE POSY      12      3     24  2011\n",
       "6 556917    20984     12 PENCILS TALL TUBE POSY     240      6     15  2011\n",
       "  hour min UnitPrice CustomerID Country   CanceledQty Matches\n",
       "1 8    51  1.08      12415      Australia 1           FALSE  \n",
       "2 15   41  4.15      12393      Australia 1           FALSE  \n",
       "3 13   37  0.85      12415      Australia 1           FALSE  \n",
       "4 9    52  0.55      12415      Australia 1           FALSE  \n",
       "5 13   05  0.85      12434      Australia 1           FALSE  \n",
       "6 13   37  0.29      12415      Australia 1           FALSE  "
      ]
     },
     "metadata": {},
     "output_type": "display_data"
    }
   ],
   "source": [
    "# `separate`: Make Long Data Wide, spliting 1 column into multiple columns\n",
    "\n",
    "\n",
    "# sub_<-c('Country','CustomerID','Sales_Tot','day_of_week')\n",
    "# head(sales_orders_expanded[sub_])\n",
    "long_to_wide<-separate(sales_orders,'InvoiceDate',c('month','day','Year','hour','min'))\n",
    "\n",
    "head(long_to_wide)"
   ]
  },
  {
   "cell_type": "markdown",
   "metadata": {},
   "source": [
    "# `Unite`: make 2 variables into 1\n",
    "\n",
    "+ creating a time of hour and minutes together\n",
    "\n",
    "if you do not put a separator, by default you will have an underscore "
   ]
  },
  {
   "cell_type": "code",
   "execution_count": 11,
   "metadata": {},
   "outputs": [
    {
     "data": {
      "text/html": [
       "<table>\n",
       "<caption>A data.frame: 387255 × 13</caption>\n",
       "<thead>\n",
       "\t<tr><th scope=col>InvoiceNo</th><th scope=col>StockCode</th><th scope=col>Description</th><th scope=col>Quantity</th><th scope=col>month</th><th scope=col>day</th><th scope=col>Year</th><th scope=col>Time</th><th scope=col>UnitPrice</th><th scope=col>CustomerID</th><th scope=col>Country</th><th scope=col>CanceledQty</th><th scope=col>Matches</th></tr>\n",
       "\t<tr><th scope=col>&lt;int&gt;</th><th scope=col>&lt;chr&gt;</th><th scope=col>&lt;chr&gt;</th><th scope=col>&lt;int&gt;</th><th scope=col>&lt;chr&gt;</th><th scope=col>&lt;chr&gt;</th><th scope=col>&lt;chr&gt;</th><th scope=col>&lt;chr&gt;</th><th scope=col>&lt;dbl&gt;</th><th scope=col>&lt;int&gt;</th><th scope=col>&lt;chr&gt;</th><th scope=col>&lt;int&gt;</th><th scope=col>&lt;lgl&gt;</th></tr>\n",
       "</thead>\n",
       "<tbody>\n",
       "\t<tr><td>563614</td><td>23345</td><td> DOLLY GIRL BEAKER                </td><td>200</td><td>8 </td><td>18</td><td>2011</td><td>8:51 </td><td> 1.08</td><td>12415</td><td>Australia</td><td>1</td><td>FALSE</td></tr>\n",
       "\t<tr><td>568708</td><td>23391</td><td> I LOVE LONDON MINI BACKPACK      </td><td>  4</td><td>9 </td><td>28</td><td>2011</td><td>15:41</td><td> 4.15</td><td>12393</td><td>Australia</td><td>1</td><td>FALSE</td></tr>\n",
       "\t<tr><td>556917</td><td>22418</td><td>10 COLOUR SPACEBOY PEN            </td><td> 48</td><td>6 </td><td>15</td><td>2011</td><td>13:37</td><td> 0.85</td><td>12415</td><td>Australia</td><td>1</td><td>FALSE</td></tr>\n",
       "\t<tr><td>543989</td><td>20973</td><td>12 PENCIL SMALL TUBE WOODLAND     </td><td>384</td><td>2 </td><td>15</td><td>2011</td><td>9:52 </td><td> 0.55</td><td>12415</td><td>Australia</td><td>1</td><td>FALSE</td></tr>\n",
       "\t<tr><td>547659</td><td>20984</td><td>12 PENCILS TALL TUBE POSY         </td><td> 12</td><td>3 </td><td>24</td><td>2011</td><td>13:05</td><td> 0.85</td><td>12434</td><td>Australia</td><td>1</td><td>FALSE</td></tr>\n",
       "\t<tr><td>556917</td><td>20984</td><td>12 PENCILS TALL TUBE POSY         </td><td>240</td><td>6 </td><td>15</td><td>2011</td><td>13:37</td><td> 0.29</td><td>12415</td><td>Australia</td><td>1</td><td>FALSE</td></tr>\n",
       "\t<tr><td>547659</td><td>20983</td><td>12 PENCILS TALL TUBE RED RETROSPOT</td><td> 12</td><td>3 </td><td>24</td><td>2011</td><td>13:05</td><td> 0.85</td><td>12434</td><td>Australia</td><td>1</td><td>FALSE</td></tr>\n",
       "\t<tr><td>553546</td><td>23253</td><td>16 PIECE CUTLERY SET PANTRY DESIGN</td><td> 24</td><td>5 </td><td>17</td><td>2011</td><td>15:42</td><td>12.50</td><td>12415</td><td>Australia</td><td>1</td><td>FALSE</td></tr>\n",
       "\t<tr><td>537676</td><td>22567</td><td>20 DOLLY PEGS RETROSPOT           </td><td> 24</td><td>12</td><td>8 </td><td>2010</td><td>9:53 </td><td> 1.25</td><td>12386</td><td>Australia</td><td>1</td><td>FALSE</td></tr>\n",
       "\t<tr><td>540700</td><td>22244</td><td>3 HOOK HANGER MAGIC GARDEN        </td><td> 12</td><td>1 </td><td>11</td><td>2011</td><td>9:47 </td><td> 1.95</td><td>12393</td><td>Australia</td><td>1</td><td>FALSE</td></tr>\n",
       "\t<tr><td>556917</td><td>22150</td><td>3 STRIPEY MICE FELTCRAFT          </td><td>120</td><td>6 </td><td>15</td><td>2011</td><td>13:37</td><td> 1.65</td><td>12415</td><td>Australia</td><td>1</td><td>FALSE</td></tr>\n",
       "\t<tr><td>563614</td><td>22150</td><td>3 STRIPEY MICE FELTCRAFT          </td><td> 80</td><td>8 </td><td>18</td><td>2011</td><td>8:51 </td><td> 1.65</td><td>12415</td><td>Australia</td><td>1</td><td>FALSE</td></tr>\n",
       "\t<tr><td>545475</td><td>22839</td><td>3 TIER CAKE TIN GREEN AND CREAM   </td><td> 32</td><td>3 </td><td>3 </td><td>2011</td><td>10:59</td><td>12.75</td><td>12415</td><td>Australia</td><td>1</td><td>FALSE</td></tr>\n",
       "\t<tr><td>545475</td><td>22838</td><td>3 TIER CAKE TIN RED AND CREAM     </td><td> 20</td><td>3 </td><td>3 </td><td>2011</td><td>10:59</td><td>14.95</td><td>12415</td><td>Australia</td><td>1</td><td>FALSE</td></tr>\n",
       "\t<tr><td>554037</td><td>22838</td><td>3 TIER CAKE TIN RED AND CREAM     </td><td> 28</td><td>5 </td><td>20</td><td>2011</td><td>14:13</td><td>14.95</td><td>12415</td><td>Australia</td><td>1</td><td>FALSE</td></tr>\n",
       "\t<tr><td>563614</td><td>22950</td><td>36 DOILIES VINTAGE CHRISTMAS      </td><td>288</td><td>8 </td><td>18</td><td>2011</td><td>8:51 </td><td> 1.25</td><td>12415</td><td>Australia</td><td>1</td><td>FALSE</td></tr>\n",
       "\t<tr><td>556917</td><td>20979</td><td>36 PENCILS TUBE RED RETROSPOT     </td><td>128</td><td>6 </td><td>15</td><td>2011</td><td>13:37</td><td> 1.06</td><td>12415</td><td>Australia</td><td>1</td><td>FALSE</td></tr>\n",
       "\t<tr><td>563614</td><td>20979</td><td>36 PENCILS TUBE RED RETROSPOT     </td><td>128</td><td>8 </td><td>18</td><td>2011</td><td>8:51 </td><td> 1.06</td><td>12415</td><td>Australia</td><td>1</td><td>FALSE</td></tr>\n",
       "\t<tr><td>569650</td><td>20979</td><td>36 PENCILS TUBE RED RETROSPOT     </td><td>128</td><td>10</td><td>5 </td><td>2011</td><td>12:44</td><td> 1.06</td><td>12415</td><td>Australia</td><td>1</td><td>FALSE</td></tr>\n",
       "\t<tr><td>569650</td><td>20978</td><td>36 PENCILS TUBE SKULLS            </td><td>128</td><td>10</td><td>5 </td><td>2011</td><td>12:44</td><td> 1.06</td><td>12415</td><td>Australia</td><td>1</td><td>FALSE</td></tr>\n",
       "\t<tr><td>540267</td><td>22620</td><td>4 TRADITIONAL SPINNING TOPS       </td><td>160</td><td>1 </td><td>6 </td><td>2011</td><td>11:12</td><td> 1.06</td><td>12415</td><td>Australia</td><td>1</td><td>FALSE</td></tr>\n",
       "\t<tr><td>545475</td><td>22620</td><td>4 TRADITIONAL SPINNING TOPS       </td><td>160</td><td>3 </td><td>3 </td><td>2011</td><td>10:59</td><td> 1.06</td><td>12415</td><td>Australia</td><td>1</td><td>FALSE</td></tr>\n",
       "\t<tr><td>553546</td><td>22620</td><td>4 TRADITIONAL SPINNING TOPS       </td><td>320</td><td>5 </td><td>17</td><td>2011</td><td>15:42</td><td> 1.25</td><td>12415</td><td>Australia</td><td>1</td><td>FALSE</td></tr>\n",
       "\t<tr><td>568708</td><td>22620</td><td>4 TRADITIONAL SPINNING TOPS       </td><td> 12</td><td>9 </td><td>28</td><td>2011</td><td>15:41</td><td> 1.45</td><td>12393</td><td>Australia</td><td>1</td><td>FALSE</td></tr>\n",
       "\t<tr><td>569650</td><td>22620</td><td>4 TRADITIONAL SPINNING TOPS       </td><td> 48</td><td>10</td><td>5 </td><td>2011</td><td>12:44</td><td> 1.45</td><td>12415</td><td>Australia</td><td>1</td><td>FALSE</td></tr>\n",
       "\t<tr><td>563614</td><td>23353</td><td>6 GIFT TAGS VINTAGE CHRISTMAS     </td><td>216</td><td>8 </td><td>18</td><td>2011</td><td>8:51 </td><td> 0.72</td><td>12415</td><td>Australia</td><td>1</td><td>FALSE</td></tr>\n",
       "\t<tr><td>540267</td><td>22077</td><td>6 RIBBONS RUSTIC CHARM            </td><td>144</td><td>1 </td><td>6 </td><td>2011</td><td>11:12</td><td> 1.45</td><td>12415</td><td>Australia</td><td>1</td><td>FALSE</td></tr>\n",
       "\t<tr><td>563614</td><td>22952</td><td>60 CAKE CASES VINTAGE CHRISTMAS   </td><td>240</td><td>8 </td><td>18</td><td>2011</td><td>8:51 </td><td> 0.42</td><td>12415</td><td>Australia</td><td>1</td><td>FALSE</td></tr>\n",
       "\t<tr><td>569650</td><td>23542</td><td>70'S ALPHABET WALL ART            </td><td>  6</td><td>10</td><td>5 </td><td>2011</td><td>12:44</td><td> 7.45</td><td>12415</td><td>Australia</td><td>1</td><td>FALSE</td></tr>\n",
       "\t<tr><td>576394</td><td>84992</td><td>72 SWEETHEART FAIRY CAKE CASES    </td><td>120</td><td>11</td><td>15</td><td>2011</td><td>10:32</td><td> 0.42</td><td>12415</td><td>Australia</td><td>1</td><td>FALSE</td></tr>\n",
       "\t<tr><td>⋮</td><td>⋮</td><td>⋮</td><td>⋮</td><td>⋮</td><td>⋮</td><td>⋮</td><td>⋮</td><td>⋮</td><td>⋮</td><td>⋮</td><td>⋮</td><td>⋮</td></tr>\n",
       "\t<tr><td>572215</td><td>22423</td><td>REGENCY CAKESTAND 3 TIER           </td><td> 3</td><td>10</td><td>21</td><td>2011</td><td>12:52</td><td>12.75</td><td>12646</td><td>USA</td><td>1</td><td>FALSE</td></tr>\n",
       "\t<tr><td>572215</td><td>23175</td><td>REGENCY MILK JUG PINK              </td><td> 4</td><td>10</td><td>21</td><td>2011</td><td>12:52</td><td> 3.25</td><td>12646</td><td>USA</td><td>1</td><td>FALSE</td></tr>\n",
       "\t<tr><td>572215</td><td>23174</td><td>REGENCY SUGAR BOWL GREEN           </td><td> 4</td><td>10</td><td>21</td><td>2011</td><td>12:52</td><td> 4.15</td><td>12646</td><td>USA</td><td>1</td><td>FALSE</td></tr>\n",
       "\t<tr><td>572215</td><td>23173</td><td>REGENCY TEAPOT ROSES               </td><td> 4</td><td>10</td><td>21</td><td>2011</td><td>12:52</td><td> 9.95</td><td>12646</td><td>USA</td><td>1</td><td>FALSE</td></tr>\n",
       "\t<tr><td>572215</td><td>23366</td><td>SET 12 COLOURING PENCILS DOILY     </td><td>16</td><td>10</td><td>21</td><td>2011</td><td>12:52</td><td> 0.65</td><td>12646</td><td>USA</td><td>1</td><td>FALSE</td></tr>\n",
       "\t<tr><td>580553</td><td>23366</td><td>SET 12 COLOURING PENCILS DOILY     </td><td>72</td><td>12</td><td>5 </td><td>2011</td><td>10:14</td><td> 0.65</td><td>12646</td><td>USA</td><td>1</td><td>FALSE</td></tr>\n",
       "\t<tr><td>550644</td><td>22989</td><td>SET 2 PANTRY DESIGN TEA TOWELS     </td><td> 6</td><td>4 </td><td>19</td><td>2011</td><td>16:19</td><td> 3.25</td><td>12733</td><td>USA</td><td>1</td><td>FALSE</td></tr>\n",
       "\t<tr><td>580553</td><td>23305</td><td>SET 4 PICNIC CUTLERY BLUEBERRY     </td><td>12</td><td>12</td><td>5 </td><td>2011</td><td>10:14</td><td> 1.95</td><td>12646</td><td>USA</td><td>1</td><td>FALSE</td></tr>\n",
       "\t<tr><td>580553</td><td>23304</td><td>SET 4 PICNIC CUTLERY CHERRY        </td><td>12</td><td>12</td><td>5 </td><td>2011</td><td>10:14</td><td> 1.95</td><td>12646</td><td>USA</td><td>1</td><td>FALSE</td></tr>\n",
       "\t<tr><td>580553</td><td>23303</td><td>SET 4 PICNIC CUTLERY FONDANT       </td><td>12</td><td>12</td><td>5 </td><td>2011</td><td>10:14</td><td> 1.95</td><td>12646</td><td>USA</td><td>1</td><td>FALSE</td></tr>\n",
       "\t<tr><td>572215</td><td>23328</td><td>SET 6 SCHOOL MILK BOTTLES IN CRATE </td><td>24</td><td>10</td><td>21</td><td>2011</td><td>12:52</td><td> 3.39</td><td>12646</td><td>USA</td><td>1</td><td>FALSE</td></tr>\n",
       "\t<tr><td>580553</td><td>23328</td><td>SET 6 SCHOOL MILK BOTTLES IN CRATE </td><td>24</td><td>12</td><td>5 </td><td>2011</td><td>10:14</td><td> 3.39</td><td>12646</td><td>USA</td><td>1</td><td>FALSE</td></tr>\n",
       "\t<tr><td>572215</td><td>23293</td><td>SET OF 12 FAIRY CAKE BAKING CASES  </td><td>32</td><td>10</td><td>21</td><td>2011</td><td>12:52</td><td> 0.83</td><td>12646</td><td>USA</td><td>1</td><td>FALSE</td></tr>\n",
       "\t<tr><td>572215</td><td>23295</td><td>SET OF 12 MINI LOAF BAKING CASES   </td><td>24</td><td>10</td><td>21</td><td>2011</td><td>12:52</td><td> 0.83</td><td>12646</td><td>USA</td><td>1</td><td>FALSE</td></tr>\n",
       "\t<tr><td>550644</td><td>22720</td><td>SET OF 3 CAKE TINS PANTRY DESIGN   </td><td> 1</td><td>4 </td><td>19</td><td>2011</td><td>16:19</td><td> 4.95</td><td>12733</td><td>USA</td><td>1</td><td>FALSE</td></tr>\n",
       "\t<tr><td>572215</td><td>23245</td><td>SET OF 3 REGENCY CAKE TINS         </td><td> 4</td><td>10</td><td>21</td><td>2011</td><td>12:52</td><td> 4.95</td><td>12646</td><td>USA</td><td>1</td><td>FALSE</td></tr>\n",
       "\t<tr><td>550644</td><td>84987</td><td>SET OF 36 TEATIME PAPER DOILIES    </td><td> 3</td><td>4 </td><td>19</td><td>2011</td><td>16:19</td><td> 1.45</td><td>12733</td><td>USA</td><td>1</td><td>FALSE</td></tr>\n",
       "\t<tr><td>550644</td><td>22993</td><td>SET OF 4 PANTRY JELLY MOULDS       </td><td> 1</td><td>4 </td><td>19</td><td>2011</td><td>16:19</td><td> 1.25</td><td>12733</td><td>USA</td><td>1</td><td>FALSE</td></tr>\n",
       "\t<tr><td>572215</td><td>22734</td><td>SET OF 6 RIBBONS VINTAGE CHRISTMAS </td><td> 6</td><td>10</td><td>21</td><td>2011</td><td>12:52</td><td> 2.89</td><td>12646</td><td>USA</td><td>1</td><td>FALSE</td></tr>\n",
       "\t<tr><td>572215</td><td>23294</td><td>SET OF 6 SNACK LOAF BAKING CASES   </td><td>24</td><td>10</td><td>21</td><td>2011</td><td>12:52</td><td> 0.83</td><td>12646</td><td>USA</td><td>1</td><td>FALSE</td></tr>\n",
       "\t<tr><td>550644</td><td>22722</td><td>SET OF 6 SPICE TINS PANTRY DESIGN  </td><td> 7</td><td>4 </td><td>19</td><td>2011</td><td>16:19</td><td> 3.95</td><td>12733</td><td>USA</td><td>1</td><td>FALSE</td></tr>\n",
       "\t<tr><td>572215</td><td>23296</td><td>SET OF 6 TEA TIME BAKING CASES     </td><td>32</td><td>10</td><td>21</td><td>2011</td><td>12:52</td><td> 1.25</td><td>12646</td><td>USA</td><td>1</td><td>FALSE</td></tr>\n",
       "\t<tr><td>572215</td><td>21124</td><td>SET/10 BLUE POLKADOT PARTY CANDLES </td><td>48</td><td>10</td><td>21</td><td>2011</td><td>12:52</td><td> 1.25</td><td>12646</td><td>USA</td><td>1</td><td>FALSE</td></tr>\n",
       "\t<tr><td>572215</td><td>21123</td><td>SET/10 IVORY POLKADOT PARTY CANDLES</td><td>48</td><td>10</td><td>21</td><td>2011</td><td>12:52</td><td> 1.25</td><td>12646</td><td>USA</td><td>1</td><td>FALSE</td></tr>\n",
       "\t<tr><td>572215</td><td>21122</td><td>SET/10 PINK POLKADOT PARTY CANDLES </td><td>48</td><td>10</td><td>21</td><td>2011</td><td>12:52</td><td> 1.25</td><td>12646</td><td>USA</td><td>1</td><td>FALSE</td></tr>\n",
       "\t<tr><td>572215</td><td>21121</td><td>SET/10 RED POLKADOT PARTY CANDLES  </td><td>48</td><td>10</td><td>21</td><td>2011</td><td>12:52</td><td> 1.25</td><td>12646</td><td>USA</td><td>1</td><td>FALSE</td></tr>\n",
       "\t<tr><td>550644</td><td>47580</td><td>TEA TIME DES TEA COSY              </td><td> 3</td><td>4 </td><td>19</td><td>2011</td><td>16:19</td><td> 2.55</td><td>12733</td><td>USA</td><td>1</td><td>FALSE</td></tr>\n",
       "\t<tr><td>550644</td><td>37501</td><td>TEA TIME TEA SET IN GIFT BOX       </td><td> 5</td><td>4 </td><td>19</td><td>2011</td><td>16:19</td><td> 6.95</td><td>12733</td><td>USA</td><td>1</td><td>FALSE</td></tr>\n",
       "\t<tr><td>550644</td><td>37500</td><td>TEA TIME TEAPOT IN GIFT BOX        </td><td> 4</td><td>4 </td><td>19</td><td>2011</td><td>16:19</td><td> 4.95</td><td>12733</td><td>USA</td><td>1</td><td>FALSE</td></tr>\n",
       "\t<tr><td>550644</td><td>21067</td><td>VINTAGE RED TEATIME MUG            </td><td> 6</td><td>4 </td><td>19</td><td>2011</td><td>16:19</td><td> 1.25</td><td>12733</td><td>USA</td><td>1</td><td>FALSE</td></tr>\n",
       "</tbody>\n",
       "</table>\n"
      ],
      "text/latex": [
       "A data.frame: 387255 × 13\n",
       "\\begin{tabular}{lllllllllllll}\n",
       " InvoiceNo & StockCode & Description & Quantity & month & day & Year & Time & UnitPrice & CustomerID & Country & CanceledQty & Matches\\\\\n",
       " <int> & <chr> & <chr> & <int> & <chr> & <chr> & <chr> & <chr> & <dbl> & <int> & <chr> & <int> & <lgl>\\\\\n",
       "\\hline\n",
       "\t 563614 & 23345 &  DOLLY GIRL BEAKER                 & 200 & 8  & 18 & 2011 & 8:51  &  1.08 & 12415 & Australia & 1 & FALSE\\\\\n",
       "\t 568708 & 23391 &  I LOVE LONDON MINI BACKPACK       &   4 & 9  & 28 & 2011 & 15:41 &  4.15 & 12393 & Australia & 1 & FALSE\\\\\n",
       "\t 556917 & 22418 & 10 COLOUR SPACEBOY PEN             &  48 & 6  & 15 & 2011 & 13:37 &  0.85 & 12415 & Australia & 1 & FALSE\\\\\n",
       "\t 543989 & 20973 & 12 PENCIL SMALL TUBE WOODLAND      & 384 & 2  & 15 & 2011 & 9:52  &  0.55 & 12415 & Australia & 1 & FALSE\\\\\n",
       "\t 547659 & 20984 & 12 PENCILS TALL TUBE POSY          &  12 & 3  & 24 & 2011 & 13:05 &  0.85 & 12434 & Australia & 1 & FALSE\\\\\n",
       "\t 556917 & 20984 & 12 PENCILS TALL TUBE POSY          & 240 & 6  & 15 & 2011 & 13:37 &  0.29 & 12415 & Australia & 1 & FALSE\\\\\n",
       "\t 547659 & 20983 & 12 PENCILS TALL TUBE RED RETROSPOT &  12 & 3  & 24 & 2011 & 13:05 &  0.85 & 12434 & Australia & 1 & FALSE\\\\\n",
       "\t 553546 & 23253 & 16 PIECE CUTLERY SET PANTRY DESIGN &  24 & 5  & 17 & 2011 & 15:42 & 12.50 & 12415 & Australia & 1 & FALSE\\\\\n",
       "\t 537676 & 22567 & 20 DOLLY PEGS RETROSPOT            &  24 & 12 & 8  & 2010 & 9:53  &  1.25 & 12386 & Australia & 1 & FALSE\\\\\n",
       "\t 540700 & 22244 & 3 HOOK HANGER MAGIC GARDEN         &  12 & 1  & 11 & 2011 & 9:47  &  1.95 & 12393 & Australia & 1 & FALSE\\\\\n",
       "\t 556917 & 22150 & 3 STRIPEY MICE FELTCRAFT           & 120 & 6  & 15 & 2011 & 13:37 &  1.65 & 12415 & Australia & 1 & FALSE\\\\\n",
       "\t 563614 & 22150 & 3 STRIPEY MICE FELTCRAFT           &  80 & 8  & 18 & 2011 & 8:51  &  1.65 & 12415 & Australia & 1 & FALSE\\\\\n",
       "\t 545475 & 22839 & 3 TIER CAKE TIN GREEN AND CREAM    &  32 & 3  & 3  & 2011 & 10:59 & 12.75 & 12415 & Australia & 1 & FALSE\\\\\n",
       "\t 545475 & 22838 & 3 TIER CAKE TIN RED AND CREAM      &  20 & 3  & 3  & 2011 & 10:59 & 14.95 & 12415 & Australia & 1 & FALSE\\\\\n",
       "\t 554037 & 22838 & 3 TIER CAKE TIN RED AND CREAM      &  28 & 5  & 20 & 2011 & 14:13 & 14.95 & 12415 & Australia & 1 & FALSE\\\\\n",
       "\t 563614 & 22950 & 36 DOILIES VINTAGE CHRISTMAS       & 288 & 8  & 18 & 2011 & 8:51  &  1.25 & 12415 & Australia & 1 & FALSE\\\\\n",
       "\t 556917 & 20979 & 36 PENCILS TUBE RED RETROSPOT      & 128 & 6  & 15 & 2011 & 13:37 &  1.06 & 12415 & Australia & 1 & FALSE\\\\\n",
       "\t 563614 & 20979 & 36 PENCILS TUBE RED RETROSPOT      & 128 & 8  & 18 & 2011 & 8:51  &  1.06 & 12415 & Australia & 1 & FALSE\\\\\n",
       "\t 569650 & 20979 & 36 PENCILS TUBE RED RETROSPOT      & 128 & 10 & 5  & 2011 & 12:44 &  1.06 & 12415 & Australia & 1 & FALSE\\\\\n",
       "\t 569650 & 20978 & 36 PENCILS TUBE SKULLS             & 128 & 10 & 5  & 2011 & 12:44 &  1.06 & 12415 & Australia & 1 & FALSE\\\\\n",
       "\t 540267 & 22620 & 4 TRADITIONAL SPINNING TOPS        & 160 & 1  & 6  & 2011 & 11:12 &  1.06 & 12415 & Australia & 1 & FALSE\\\\\n",
       "\t 545475 & 22620 & 4 TRADITIONAL SPINNING TOPS        & 160 & 3  & 3  & 2011 & 10:59 &  1.06 & 12415 & Australia & 1 & FALSE\\\\\n",
       "\t 553546 & 22620 & 4 TRADITIONAL SPINNING TOPS        & 320 & 5  & 17 & 2011 & 15:42 &  1.25 & 12415 & Australia & 1 & FALSE\\\\\n",
       "\t 568708 & 22620 & 4 TRADITIONAL SPINNING TOPS        &  12 & 9  & 28 & 2011 & 15:41 &  1.45 & 12393 & Australia & 1 & FALSE\\\\\n",
       "\t 569650 & 22620 & 4 TRADITIONAL SPINNING TOPS        &  48 & 10 & 5  & 2011 & 12:44 &  1.45 & 12415 & Australia & 1 & FALSE\\\\\n",
       "\t 563614 & 23353 & 6 GIFT TAGS VINTAGE CHRISTMAS      & 216 & 8  & 18 & 2011 & 8:51  &  0.72 & 12415 & Australia & 1 & FALSE\\\\\n",
       "\t 540267 & 22077 & 6 RIBBONS RUSTIC CHARM             & 144 & 1  & 6  & 2011 & 11:12 &  1.45 & 12415 & Australia & 1 & FALSE\\\\\n",
       "\t 563614 & 22952 & 60 CAKE CASES VINTAGE CHRISTMAS    & 240 & 8  & 18 & 2011 & 8:51  &  0.42 & 12415 & Australia & 1 & FALSE\\\\\n",
       "\t 569650 & 23542 & 70'S ALPHABET WALL ART             &   6 & 10 & 5  & 2011 & 12:44 &  7.45 & 12415 & Australia & 1 & FALSE\\\\\n",
       "\t 576394 & 84992 & 72 SWEETHEART FAIRY CAKE CASES     & 120 & 11 & 15 & 2011 & 10:32 &  0.42 & 12415 & Australia & 1 & FALSE\\\\\n",
       "\t ⋮ & ⋮ & ⋮ & ⋮ & ⋮ & ⋮ & ⋮ & ⋮ & ⋮ & ⋮ & ⋮ & ⋮ & ⋮\\\\\n",
       "\t 572215 & 22423 & REGENCY CAKESTAND 3 TIER            &  3 & 10 & 21 & 2011 & 12:52 & 12.75 & 12646 & USA & 1 & FALSE\\\\\n",
       "\t 572215 & 23175 & REGENCY MILK JUG PINK               &  4 & 10 & 21 & 2011 & 12:52 &  3.25 & 12646 & USA & 1 & FALSE\\\\\n",
       "\t 572215 & 23174 & REGENCY SUGAR BOWL GREEN            &  4 & 10 & 21 & 2011 & 12:52 &  4.15 & 12646 & USA & 1 & FALSE\\\\\n",
       "\t 572215 & 23173 & REGENCY TEAPOT ROSES                &  4 & 10 & 21 & 2011 & 12:52 &  9.95 & 12646 & USA & 1 & FALSE\\\\\n",
       "\t 572215 & 23366 & SET 12 COLOURING PENCILS DOILY      & 16 & 10 & 21 & 2011 & 12:52 &  0.65 & 12646 & USA & 1 & FALSE\\\\\n",
       "\t 580553 & 23366 & SET 12 COLOURING PENCILS DOILY      & 72 & 12 & 5  & 2011 & 10:14 &  0.65 & 12646 & USA & 1 & FALSE\\\\\n",
       "\t 550644 & 22989 & SET 2 PANTRY DESIGN TEA TOWELS      &  6 & 4  & 19 & 2011 & 16:19 &  3.25 & 12733 & USA & 1 & FALSE\\\\\n",
       "\t 580553 & 23305 & SET 4 PICNIC CUTLERY BLUEBERRY      & 12 & 12 & 5  & 2011 & 10:14 &  1.95 & 12646 & USA & 1 & FALSE\\\\\n",
       "\t 580553 & 23304 & SET 4 PICNIC CUTLERY CHERRY         & 12 & 12 & 5  & 2011 & 10:14 &  1.95 & 12646 & USA & 1 & FALSE\\\\\n",
       "\t 580553 & 23303 & SET 4 PICNIC CUTLERY FONDANT        & 12 & 12 & 5  & 2011 & 10:14 &  1.95 & 12646 & USA & 1 & FALSE\\\\\n",
       "\t 572215 & 23328 & SET 6 SCHOOL MILK BOTTLES IN CRATE  & 24 & 10 & 21 & 2011 & 12:52 &  3.39 & 12646 & USA & 1 & FALSE\\\\\n",
       "\t 580553 & 23328 & SET 6 SCHOOL MILK BOTTLES IN CRATE  & 24 & 12 & 5  & 2011 & 10:14 &  3.39 & 12646 & USA & 1 & FALSE\\\\\n",
       "\t 572215 & 23293 & SET OF 12 FAIRY CAKE BAKING CASES   & 32 & 10 & 21 & 2011 & 12:52 &  0.83 & 12646 & USA & 1 & FALSE\\\\\n",
       "\t 572215 & 23295 & SET OF 12 MINI LOAF BAKING CASES    & 24 & 10 & 21 & 2011 & 12:52 &  0.83 & 12646 & USA & 1 & FALSE\\\\\n",
       "\t 550644 & 22720 & SET OF 3 CAKE TINS PANTRY DESIGN    &  1 & 4  & 19 & 2011 & 16:19 &  4.95 & 12733 & USA & 1 & FALSE\\\\\n",
       "\t 572215 & 23245 & SET OF 3 REGENCY CAKE TINS          &  4 & 10 & 21 & 2011 & 12:52 &  4.95 & 12646 & USA & 1 & FALSE\\\\\n",
       "\t 550644 & 84987 & SET OF 36 TEATIME PAPER DOILIES     &  3 & 4  & 19 & 2011 & 16:19 &  1.45 & 12733 & USA & 1 & FALSE\\\\\n",
       "\t 550644 & 22993 & SET OF 4 PANTRY JELLY MOULDS        &  1 & 4  & 19 & 2011 & 16:19 &  1.25 & 12733 & USA & 1 & FALSE\\\\\n",
       "\t 572215 & 22734 & SET OF 6 RIBBONS VINTAGE CHRISTMAS  &  6 & 10 & 21 & 2011 & 12:52 &  2.89 & 12646 & USA & 1 & FALSE\\\\\n",
       "\t 572215 & 23294 & SET OF 6 SNACK LOAF BAKING CASES    & 24 & 10 & 21 & 2011 & 12:52 &  0.83 & 12646 & USA & 1 & FALSE\\\\\n",
       "\t 550644 & 22722 & SET OF 6 SPICE TINS PANTRY DESIGN   &  7 & 4  & 19 & 2011 & 16:19 &  3.95 & 12733 & USA & 1 & FALSE\\\\\n",
       "\t 572215 & 23296 & SET OF 6 TEA TIME BAKING CASES      & 32 & 10 & 21 & 2011 & 12:52 &  1.25 & 12646 & USA & 1 & FALSE\\\\\n",
       "\t 572215 & 21124 & SET/10 BLUE POLKADOT PARTY CANDLES  & 48 & 10 & 21 & 2011 & 12:52 &  1.25 & 12646 & USA & 1 & FALSE\\\\\n",
       "\t 572215 & 21123 & SET/10 IVORY POLKADOT PARTY CANDLES & 48 & 10 & 21 & 2011 & 12:52 &  1.25 & 12646 & USA & 1 & FALSE\\\\\n",
       "\t 572215 & 21122 & SET/10 PINK POLKADOT PARTY CANDLES  & 48 & 10 & 21 & 2011 & 12:52 &  1.25 & 12646 & USA & 1 & FALSE\\\\\n",
       "\t 572215 & 21121 & SET/10 RED POLKADOT PARTY CANDLES   & 48 & 10 & 21 & 2011 & 12:52 &  1.25 & 12646 & USA & 1 & FALSE\\\\\n",
       "\t 550644 & 47580 & TEA TIME DES TEA COSY               &  3 & 4  & 19 & 2011 & 16:19 &  2.55 & 12733 & USA & 1 & FALSE\\\\\n",
       "\t 550644 & 37501 & TEA TIME TEA SET IN GIFT BOX        &  5 & 4  & 19 & 2011 & 16:19 &  6.95 & 12733 & USA & 1 & FALSE\\\\\n",
       "\t 550644 & 37500 & TEA TIME TEAPOT IN GIFT BOX         &  4 & 4  & 19 & 2011 & 16:19 &  4.95 & 12733 & USA & 1 & FALSE\\\\\n",
       "\t 550644 & 21067 & VINTAGE RED TEATIME MUG             &  6 & 4  & 19 & 2011 & 16:19 &  1.25 & 12733 & USA & 1 & FALSE\\\\\n",
       "\\end{tabular}\n"
      ],
      "text/markdown": [
       "\n",
       "A data.frame: 387255 × 13\n",
       "\n",
       "| InvoiceNo &lt;int&gt; | StockCode &lt;chr&gt; | Description &lt;chr&gt; | Quantity &lt;int&gt; | month &lt;chr&gt; | day &lt;chr&gt; | Year &lt;chr&gt; | Time &lt;chr&gt; | UnitPrice &lt;dbl&gt; | CustomerID &lt;int&gt; | Country &lt;chr&gt; | CanceledQty &lt;int&gt; | Matches &lt;lgl&gt; |\n",
       "|---|---|---|---|---|---|---|---|---|---|---|---|---|\n",
       "| 563614 | 23345 |  DOLLY GIRL BEAKER                 | 200 | 8  | 18 | 2011 | 8:51  |  1.08 | 12415 | Australia | 1 | FALSE |\n",
       "| 568708 | 23391 |  I LOVE LONDON MINI BACKPACK       |   4 | 9  | 28 | 2011 | 15:41 |  4.15 | 12393 | Australia | 1 | FALSE |\n",
       "| 556917 | 22418 | 10 COLOUR SPACEBOY PEN             |  48 | 6  | 15 | 2011 | 13:37 |  0.85 | 12415 | Australia | 1 | FALSE |\n",
       "| 543989 | 20973 | 12 PENCIL SMALL TUBE WOODLAND      | 384 | 2  | 15 | 2011 | 9:52  |  0.55 | 12415 | Australia | 1 | FALSE |\n",
       "| 547659 | 20984 | 12 PENCILS TALL TUBE POSY          |  12 | 3  | 24 | 2011 | 13:05 |  0.85 | 12434 | Australia | 1 | FALSE |\n",
       "| 556917 | 20984 | 12 PENCILS TALL TUBE POSY          | 240 | 6  | 15 | 2011 | 13:37 |  0.29 | 12415 | Australia | 1 | FALSE |\n",
       "| 547659 | 20983 | 12 PENCILS TALL TUBE RED RETROSPOT |  12 | 3  | 24 | 2011 | 13:05 |  0.85 | 12434 | Australia | 1 | FALSE |\n",
       "| 553546 | 23253 | 16 PIECE CUTLERY SET PANTRY DESIGN |  24 | 5  | 17 | 2011 | 15:42 | 12.50 | 12415 | Australia | 1 | FALSE |\n",
       "| 537676 | 22567 | 20 DOLLY PEGS RETROSPOT            |  24 | 12 | 8  | 2010 | 9:53  |  1.25 | 12386 | Australia | 1 | FALSE |\n",
       "| 540700 | 22244 | 3 HOOK HANGER MAGIC GARDEN         |  12 | 1  | 11 | 2011 | 9:47  |  1.95 | 12393 | Australia | 1 | FALSE |\n",
       "| 556917 | 22150 | 3 STRIPEY MICE FELTCRAFT           | 120 | 6  | 15 | 2011 | 13:37 |  1.65 | 12415 | Australia | 1 | FALSE |\n",
       "| 563614 | 22150 | 3 STRIPEY MICE FELTCRAFT           |  80 | 8  | 18 | 2011 | 8:51  |  1.65 | 12415 | Australia | 1 | FALSE |\n",
       "| 545475 | 22839 | 3 TIER CAKE TIN GREEN AND CREAM    |  32 | 3  | 3  | 2011 | 10:59 | 12.75 | 12415 | Australia | 1 | FALSE |\n",
       "| 545475 | 22838 | 3 TIER CAKE TIN RED AND CREAM      |  20 | 3  | 3  | 2011 | 10:59 | 14.95 | 12415 | Australia | 1 | FALSE |\n",
       "| 554037 | 22838 | 3 TIER CAKE TIN RED AND CREAM      |  28 | 5  | 20 | 2011 | 14:13 | 14.95 | 12415 | Australia | 1 | FALSE |\n",
       "| 563614 | 22950 | 36 DOILIES VINTAGE CHRISTMAS       | 288 | 8  | 18 | 2011 | 8:51  |  1.25 | 12415 | Australia | 1 | FALSE |\n",
       "| 556917 | 20979 | 36 PENCILS TUBE RED RETROSPOT      | 128 | 6  | 15 | 2011 | 13:37 |  1.06 | 12415 | Australia | 1 | FALSE |\n",
       "| 563614 | 20979 | 36 PENCILS TUBE RED RETROSPOT      | 128 | 8  | 18 | 2011 | 8:51  |  1.06 | 12415 | Australia | 1 | FALSE |\n",
       "| 569650 | 20979 | 36 PENCILS TUBE RED RETROSPOT      | 128 | 10 | 5  | 2011 | 12:44 |  1.06 | 12415 | Australia | 1 | FALSE |\n",
       "| 569650 | 20978 | 36 PENCILS TUBE SKULLS             | 128 | 10 | 5  | 2011 | 12:44 |  1.06 | 12415 | Australia | 1 | FALSE |\n",
       "| 540267 | 22620 | 4 TRADITIONAL SPINNING TOPS        | 160 | 1  | 6  | 2011 | 11:12 |  1.06 | 12415 | Australia | 1 | FALSE |\n",
       "| 545475 | 22620 | 4 TRADITIONAL SPINNING TOPS        | 160 | 3  | 3  | 2011 | 10:59 |  1.06 | 12415 | Australia | 1 | FALSE |\n",
       "| 553546 | 22620 | 4 TRADITIONAL SPINNING TOPS        | 320 | 5  | 17 | 2011 | 15:42 |  1.25 | 12415 | Australia | 1 | FALSE |\n",
       "| 568708 | 22620 | 4 TRADITIONAL SPINNING TOPS        |  12 | 9  | 28 | 2011 | 15:41 |  1.45 | 12393 | Australia | 1 | FALSE |\n",
       "| 569650 | 22620 | 4 TRADITIONAL SPINNING TOPS        |  48 | 10 | 5  | 2011 | 12:44 |  1.45 | 12415 | Australia | 1 | FALSE |\n",
       "| 563614 | 23353 | 6 GIFT TAGS VINTAGE CHRISTMAS      | 216 | 8  | 18 | 2011 | 8:51  |  0.72 | 12415 | Australia | 1 | FALSE |\n",
       "| 540267 | 22077 | 6 RIBBONS RUSTIC CHARM             | 144 | 1  | 6  | 2011 | 11:12 |  1.45 | 12415 | Australia | 1 | FALSE |\n",
       "| 563614 | 22952 | 60 CAKE CASES VINTAGE CHRISTMAS    | 240 | 8  | 18 | 2011 | 8:51  |  0.42 | 12415 | Australia | 1 | FALSE |\n",
       "| 569650 | 23542 | 70'S ALPHABET WALL ART             |   6 | 10 | 5  | 2011 | 12:44 |  7.45 | 12415 | Australia | 1 | FALSE |\n",
       "| 576394 | 84992 | 72 SWEETHEART FAIRY CAKE CASES     | 120 | 11 | 15 | 2011 | 10:32 |  0.42 | 12415 | Australia | 1 | FALSE |\n",
       "| ⋮ | ⋮ | ⋮ | ⋮ | ⋮ | ⋮ | ⋮ | ⋮ | ⋮ | ⋮ | ⋮ | ⋮ | ⋮ |\n",
       "| 572215 | 22423 | REGENCY CAKESTAND 3 TIER            |  3 | 10 | 21 | 2011 | 12:52 | 12.75 | 12646 | USA | 1 | FALSE |\n",
       "| 572215 | 23175 | REGENCY MILK JUG PINK               |  4 | 10 | 21 | 2011 | 12:52 |  3.25 | 12646 | USA | 1 | FALSE |\n",
       "| 572215 | 23174 | REGENCY SUGAR BOWL GREEN            |  4 | 10 | 21 | 2011 | 12:52 |  4.15 | 12646 | USA | 1 | FALSE |\n",
       "| 572215 | 23173 | REGENCY TEAPOT ROSES                |  4 | 10 | 21 | 2011 | 12:52 |  9.95 | 12646 | USA | 1 | FALSE |\n",
       "| 572215 | 23366 | SET 12 COLOURING PENCILS DOILY      | 16 | 10 | 21 | 2011 | 12:52 |  0.65 | 12646 | USA | 1 | FALSE |\n",
       "| 580553 | 23366 | SET 12 COLOURING PENCILS DOILY      | 72 | 12 | 5  | 2011 | 10:14 |  0.65 | 12646 | USA | 1 | FALSE |\n",
       "| 550644 | 22989 | SET 2 PANTRY DESIGN TEA TOWELS      |  6 | 4  | 19 | 2011 | 16:19 |  3.25 | 12733 | USA | 1 | FALSE |\n",
       "| 580553 | 23305 | SET 4 PICNIC CUTLERY BLUEBERRY      | 12 | 12 | 5  | 2011 | 10:14 |  1.95 | 12646 | USA | 1 | FALSE |\n",
       "| 580553 | 23304 | SET 4 PICNIC CUTLERY CHERRY         | 12 | 12 | 5  | 2011 | 10:14 |  1.95 | 12646 | USA | 1 | FALSE |\n",
       "| 580553 | 23303 | SET 4 PICNIC CUTLERY FONDANT        | 12 | 12 | 5  | 2011 | 10:14 |  1.95 | 12646 | USA | 1 | FALSE |\n",
       "| 572215 | 23328 | SET 6 SCHOOL MILK BOTTLES IN CRATE  | 24 | 10 | 21 | 2011 | 12:52 |  3.39 | 12646 | USA | 1 | FALSE |\n",
       "| 580553 | 23328 | SET 6 SCHOOL MILK BOTTLES IN CRATE  | 24 | 12 | 5  | 2011 | 10:14 |  3.39 | 12646 | USA | 1 | FALSE |\n",
       "| 572215 | 23293 | SET OF 12 FAIRY CAKE BAKING CASES   | 32 | 10 | 21 | 2011 | 12:52 |  0.83 | 12646 | USA | 1 | FALSE |\n",
       "| 572215 | 23295 | SET OF 12 MINI LOAF BAKING CASES    | 24 | 10 | 21 | 2011 | 12:52 |  0.83 | 12646 | USA | 1 | FALSE |\n",
       "| 550644 | 22720 | SET OF 3 CAKE TINS PANTRY DESIGN    |  1 | 4  | 19 | 2011 | 16:19 |  4.95 | 12733 | USA | 1 | FALSE |\n",
       "| 572215 | 23245 | SET OF 3 REGENCY CAKE TINS          |  4 | 10 | 21 | 2011 | 12:52 |  4.95 | 12646 | USA | 1 | FALSE |\n",
       "| 550644 | 84987 | SET OF 36 TEATIME PAPER DOILIES     |  3 | 4  | 19 | 2011 | 16:19 |  1.45 | 12733 | USA | 1 | FALSE |\n",
       "| 550644 | 22993 | SET OF 4 PANTRY JELLY MOULDS        |  1 | 4  | 19 | 2011 | 16:19 |  1.25 | 12733 | USA | 1 | FALSE |\n",
       "| 572215 | 22734 | SET OF 6 RIBBONS VINTAGE CHRISTMAS  |  6 | 10 | 21 | 2011 | 12:52 |  2.89 | 12646 | USA | 1 | FALSE |\n",
       "| 572215 | 23294 | SET OF 6 SNACK LOAF BAKING CASES    | 24 | 10 | 21 | 2011 | 12:52 |  0.83 | 12646 | USA | 1 | FALSE |\n",
       "| 550644 | 22722 | SET OF 6 SPICE TINS PANTRY DESIGN   |  7 | 4  | 19 | 2011 | 16:19 |  3.95 | 12733 | USA | 1 | FALSE |\n",
       "| 572215 | 23296 | SET OF 6 TEA TIME BAKING CASES      | 32 | 10 | 21 | 2011 | 12:52 |  1.25 | 12646 | USA | 1 | FALSE |\n",
       "| 572215 | 21124 | SET/10 BLUE POLKADOT PARTY CANDLES  | 48 | 10 | 21 | 2011 | 12:52 |  1.25 | 12646 | USA | 1 | FALSE |\n",
       "| 572215 | 21123 | SET/10 IVORY POLKADOT PARTY CANDLES | 48 | 10 | 21 | 2011 | 12:52 |  1.25 | 12646 | USA | 1 | FALSE |\n",
       "| 572215 | 21122 | SET/10 PINK POLKADOT PARTY CANDLES  | 48 | 10 | 21 | 2011 | 12:52 |  1.25 | 12646 | USA | 1 | FALSE |\n",
       "| 572215 | 21121 | SET/10 RED POLKADOT PARTY CANDLES   | 48 | 10 | 21 | 2011 | 12:52 |  1.25 | 12646 | USA | 1 | FALSE |\n",
       "| 550644 | 47580 | TEA TIME DES TEA COSY               |  3 | 4  | 19 | 2011 | 16:19 |  2.55 | 12733 | USA | 1 | FALSE |\n",
       "| 550644 | 37501 | TEA TIME TEA SET IN GIFT BOX        |  5 | 4  | 19 | 2011 | 16:19 |  6.95 | 12733 | USA | 1 | FALSE |\n",
       "| 550644 | 37500 | TEA TIME TEAPOT IN GIFT BOX         |  4 | 4  | 19 | 2011 | 16:19 |  4.95 | 12733 | USA | 1 | FALSE |\n",
       "| 550644 | 21067 | VINTAGE RED TEATIME MUG             |  6 | 4  | 19 | 2011 | 16:19 |  1.25 | 12733 | USA | 1 | FALSE |\n",
       "\n"
      ],
      "text/plain": [
       "       InvoiceNo StockCode Description                         Quantity month\n",
       "1      563614    23345      DOLLY GIRL BEAKER                  200      8    \n",
       "2      568708    23391      I LOVE LONDON MINI BACKPACK          4      9    \n",
       "3      556917    22418     10 COLOUR SPACEBOY PEN               48      6    \n",
       "4      543989    20973     12 PENCIL SMALL TUBE WOODLAND       384      2    \n",
       "5      547659    20984     12 PENCILS TALL TUBE POSY            12      3    \n",
       "6      556917    20984     12 PENCILS TALL TUBE POSY           240      6    \n",
       "7      547659    20983     12 PENCILS TALL TUBE RED RETROSPOT   12      3    \n",
       "8      553546    23253     16 PIECE CUTLERY SET PANTRY DESIGN   24      5    \n",
       "9      537676    22567     20 DOLLY PEGS RETROSPOT              24      12   \n",
       "10     540700    22244     3 HOOK HANGER MAGIC GARDEN           12      1    \n",
       "11     556917    22150     3 STRIPEY MICE FELTCRAFT            120      6    \n",
       "12     563614    22150     3 STRIPEY MICE FELTCRAFT             80      8    \n",
       "13     545475    22839     3 TIER CAKE TIN GREEN AND CREAM      32      3    \n",
       "14     545475    22838     3 TIER CAKE TIN RED AND CREAM        20      3    \n",
       "15     554037    22838     3 TIER CAKE TIN RED AND CREAM        28      5    \n",
       "16     563614    22950     36 DOILIES VINTAGE CHRISTMAS        288      8    \n",
       "17     556917    20979     36 PENCILS TUBE RED RETROSPOT       128      6    \n",
       "18     563614    20979     36 PENCILS TUBE RED RETROSPOT       128      8    \n",
       "19     569650    20979     36 PENCILS TUBE RED RETROSPOT       128      10   \n",
       "20     569650    20978     36 PENCILS TUBE SKULLS              128      10   \n",
       "21     540267    22620     4 TRADITIONAL SPINNING TOPS         160      1    \n",
       "22     545475    22620     4 TRADITIONAL SPINNING TOPS         160      3    \n",
       "23     553546    22620     4 TRADITIONAL SPINNING TOPS         320      5    \n",
       "24     568708    22620     4 TRADITIONAL SPINNING TOPS          12      9    \n",
       "25     569650    22620     4 TRADITIONAL SPINNING TOPS          48      10   \n",
       "26     563614    23353     6 GIFT TAGS VINTAGE CHRISTMAS       216      8    \n",
       "27     540267    22077     6 RIBBONS RUSTIC CHARM              144      1    \n",
       "28     563614    22952     60 CAKE CASES VINTAGE CHRISTMAS     240      8    \n",
       "29     569650    23542     70'S ALPHABET WALL ART                6      10   \n",
       "30     576394    84992     72 SWEETHEART FAIRY CAKE CASES      120      11   \n",
       "⋮      ⋮         ⋮         ⋮                                   ⋮        ⋮    \n",
       "387226 572215    22423     REGENCY CAKESTAND 3 TIER             3       10   \n",
       "387227 572215    23175     REGENCY MILK JUG PINK                4       10   \n",
       "387228 572215    23174     REGENCY SUGAR BOWL GREEN             4       10   \n",
       "387229 572215    23173     REGENCY TEAPOT ROSES                 4       10   \n",
       "387230 572215    23366     SET 12 COLOURING PENCILS DOILY      16       10   \n",
       "387231 580553    23366     SET 12 COLOURING PENCILS DOILY      72       12   \n",
       "387232 550644    22989     SET 2 PANTRY DESIGN TEA TOWELS       6       4    \n",
       "387233 580553    23305     SET 4 PICNIC CUTLERY BLUEBERRY      12       12   \n",
       "387234 580553    23304     SET 4 PICNIC CUTLERY CHERRY         12       12   \n",
       "387235 580553    23303     SET 4 PICNIC CUTLERY FONDANT        12       12   \n",
       "387236 572215    23328     SET 6 SCHOOL MILK BOTTLES IN CRATE  24       10   \n",
       "387237 580553    23328     SET 6 SCHOOL MILK BOTTLES IN CRATE  24       12   \n",
       "387238 572215    23293     SET OF 12 FAIRY CAKE BAKING CASES   32       10   \n",
       "387239 572215    23295     SET OF 12 MINI LOAF BAKING CASES    24       10   \n",
       "387240 550644    22720     SET OF 3 CAKE TINS PANTRY DESIGN     1       4    \n",
       "387241 572215    23245     SET OF 3 REGENCY CAKE TINS           4       10   \n",
       "387242 550644    84987     SET OF 36 TEATIME PAPER DOILIES      3       4    \n",
       "387243 550644    22993     SET OF 4 PANTRY JELLY MOULDS         1       4    \n",
       "387244 572215    22734     SET OF 6 RIBBONS VINTAGE CHRISTMAS   6       10   \n",
       "387245 572215    23294     SET OF 6 SNACK LOAF BAKING CASES    24       10   \n",
       "387246 550644    22722     SET OF 6 SPICE TINS PANTRY DESIGN    7       4    \n",
       "387247 572215    23296     SET OF 6 TEA TIME BAKING CASES      32       10   \n",
       "387248 572215    21124     SET/10 BLUE POLKADOT PARTY CANDLES  48       10   \n",
       "387249 572215    21123     SET/10 IVORY POLKADOT PARTY CANDLES 48       10   \n",
       "387250 572215    21122     SET/10 PINK POLKADOT PARTY CANDLES  48       10   \n",
       "387251 572215    21121     SET/10 RED POLKADOT PARTY CANDLES   48       10   \n",
       "387252 550644    47580     TEA TIME DES TEA COSY                3       4    \n",
       "387253 550644    37501     TEA TIME TEA SET IN GIFT BOX         5       4    \n",
       "387254 550644    37500     TEA TIME TEAPOT IN GIFT BOX          4       4    \n",
       "387255 550644    21067     VINTAGE RED TEATIME MUG              6       4    \n",
       "       day Year Time  UnitPrice CustomerID Country   CanceledQty Matches\n",
       "1      18  2011 8:51   1.08     12415      Australia 1           FALSE  \n",
       "2      28  2011 15:41  4.15     12393      Australia 1           FALSE  \n",
       "3      15  2011 13:37  0.85     12415      Australia 1           FALSE  \n",
       "4      15  2011 9:52   0.55     12415      Australia 1           FALSE  \n",
       "5      24  2011 13:05  0.85     12434      Australia 1           FALSE  \n",
       "6      15  2011 13:37  0.29     12415      Australia 1           FALSE  \n",
       "7      24  2011 13:05  0.85     12434      Australia 1           FALSE  \n",
       "8      17  2011 15:42 12.50     12415      Australia 1           FALSE  \n",
       "9      8   2010 9:53   1.25     12386      Australia 1           FALSE  \n",
       "10     11  2011 9:47   1.95     12393      Australia 1           FALSE  \n",
       "11     15  2011 13:37  1.65     12415      Australia 1           FALSE  \n",
       "12     18  2011 8:51   1.65     12415      Australia 1           FALSE  \n",
       "13     3   2011 10:59 12.75     12415      Australia 1           FALSE  \n",
       "14     3   2011 10:59 14.95     12415      Australia 1           FALSE  \n",
       "15     20  2011 14:13 14.95     12415      Australia 1           FALSE  \n",
       "16     18  2011 8:51   1.25     12415      Australia 1           FALSE  \n",
       "17     15  2011 13:37  1.06     12415      Australia 1           FALSE  \n",
       "18     18  2011 8:51   1.06     12415      Australia 1           FALSE  \n",
       "19     5   2011 12:44  1.06     12415      Australia 1           FALSE  \n",
       "20     5   2011 12:44  1.06     12415      Australia 1           FALSE  \n",
       "21     6   2011 11:12  1.06     12415      Australia 1           FALSE  \n",
       "22     3   2011 10:59  1.06     12415      Australia 1           FALSE  \n",
       "23     17  2011 15:42  1.25     12415      Australia 1           FALSE  \n",
       "24     28  2011 15:41  1.45     12393      Australia 1           FALSE  \n",
       "25     5   2011 12:44  1.45     12415      Australia 1           FALSE  \n",
       "26     18  2011 8:51   0.72     12415      Australia 1           FALSE  \n",
       "27     6   2011 11:12  1.45     12415      Australia 1           FALSE  \n",
       "28     18  2011 8:51   0.42     12415      Australia 1           FALSE  \n",
       "29     5   2011 12:44  7.45     12415      Australia 1           FALSE  \n",
       "30     15  2011 10:32  0.42     12415      Australia 1           FALSE  \n",
       "⋮      ⋮   ⋮    ⋮     ⋮         ⋮          ⋮         ⋮           ⋮      \n",
       "387226 21  2011 12:52 12.75     12646      USA       1           FALSE  \n",
       "387227 21  2011 12:52  3.25     12646      USA       1           FALSE  \n",
       "387228 21  2011 12:52  4.15     12646      USA       1           FALSE  \n",
       "387229 21  2011 12:52  9.95     12646      USA       1           FALSE  \n",
       "387230 21  2011 12:52  0.65     12646      USA       1           FALSE  \n",
       "387231 5   2011 10:14  0.65     12646      USA       1           FALSE  \n",
       "387232 19  2011 16:19  3.25     12733      USA       1           FALSE  \n",
       "387233 5   2011 10:14  1.95     12646      USA       1           FALSE  \n",
       "387234 5   2011 10:14  1.95     12646      USA       1           FALSE  \n",
       "387235 5   2011 10:14  1.95     12646      USA       1           FALSE  \n",
       "387236 21  2011 12:52  3.39     12646      USA       1           FALSE  \n",
       "387237 5   2011 10:14  3.39     12646      USA       1           FALSE  \n",
       "387238 21  2011 12:52  0.83     12646      USA       1           FALSE  \n",
       "387239 21  2011 12:52  0.83     12646      USA       1           FALSE  \n",
       "387240 19  2011 16:19  4.95     12733      USA       1           FALSE  \n",
       "387241 21  2011 12:52  4.95     12646      USA       1           FALSE  \n",
       "387242 19  2011 16:19  1.45     12733      USA       1           FALSE  \n",
       "387243 19  2011 16:19  1.25     12733      USA       1           FALSE  \n",
       "387244 21  2011 12:52  2.89     12646      USA       1           FALSE  \n",
       "387245 21  2011 12:52  0.83     12646      USA       1           FALSE  \n",
       "387246 19  2011 16:19  3.95     12733      USA       1           FALSE  \n",
       "387247 21  2011 12:52  1.25     12646      USA       1           FALSE  \n",
       "387248 21  2011 12:52  1.25     12646      USA       1           FALSE  \n",
       "387249 21  2011 12:52  1.25     12646      USA       1           FALSE  \n",
       "387250 21  2011 12:52  1.25     12646      USA       1           FALSE  \n",
       "387251 21  2011 12:52  1.25     12646      USA       1           FALSE  \n",
       "387252 19  2011 16:19  2.55     12733      USA       1           FALSE  \n",
       "387253 19  2011 16:19  6.95     12733      USA       1           FALSE  \n",
       "387254 19  2011 16:19  4.95     12733      USA       1           FALSE  \n",
       "387255 19  2011 16:19  1.25     12733      USA       1           FALSE  "
      ]
     },
     "metadata": {},
     "output_type": "display_data"
    }
   ],
   "source": [
    "long_to_wide %>% unite(Time,hour,min,sep=':')"
   ]
  },
  {
   "cell_type": "markdown",
   "metadata": {},
   "source": [
    "# `Seperate_rows`: Convert 1 column into more rows from an invidual cell\n"
   ]
  },
  {
   "cell_type": "code",
   "execution_count": 35,
   "metadata": {},
   "outputs": [
    {
     "data": {
      "text/html": [
       "<table>\n",
       "<caption>A data.frame: 6 × 3</caption>\n",
       "<thead>\n",
       "\t<tr><th scope=col>shoe_types</th><th scope=col>arch_type</th><th scope=col>size_s</th></tr>\n",
       "\t<tr><th scope=col>&lt;chr&gt;</th><th scope=col>&lt;chr&gt;</th><th scope=col>&lt;dbl&gt;</th></tr>\n",
       "</thead>\n",
       "<tbody>\n",
       "\t<tr><td>trail, street,hybrid</td><td>high       </td><td> 9</td></tr>\n",
       "\t<tr><td>track,sandals       </td><td>low        </td><td>10</td></tr>\n",
       "\t<tr><td>walking             </td><td>flat       </td><td>11</td></tr>\n",
       "\t<tr><td>high heels          </td><td>medium     </td><td>12</td></tr>\n",
       "\t<tr><td>pumps               </td><td>extra crazy</td><td>13</td></tr>\n",
       "\t<tr><td>boots               </td><td>who knows  </td><td> 7</td></tr>\n",
       "</tbody>\n",
       "</table>\n"
      ],
      "text/latex": [
       "A data.frame: 6 × 3\n",
       "\\begin{tabular}{lll}\n",
       " shoe\\_types & arch\\_type & size\\_s\\\\\n",
       " <chr> & <chr> & <dbl>\\\\\n",
       "\\hline\n",
       "\t trail, street,hybrid & high        &  9\\\\\n",
       "\t track,sandals        & low         & 10\\\\\n",
       "\t walking              & flat        & 11\\\\\n",
       "\t high heels           & medium      & 12\\\\\n",
       "\t pumps                & extra crazy & 13\\\\\n",
       "\t boots                & who knows   &  7\\\\\n",
       "\\end{tabular}\n"
      ],
      "text/markdown": [
       "\n",
       "A data.frame: 6 × 3\n",
       "\n",
       "| shoe_types &lt;chr&gt; | arch_type &lt;chr&gt; | size_s &lt;dbl&gt; |\n",
       "|---|---|---|\n",
       "| trail, street,hybrid | high        |  9 |\n",
       "| track,sandals        | low         | 10 |\n",
       "| walking              | flat        | 11 |\n",
       "| high heels           | medium      | 12 |\n",
       "| pumps                | extra crazy | 13 |\n",
       "| boots                | who knows   |  7 |\n",
       "\n"
      ],
      "text/plain": [
       "  shoe_types           arch_type   size_s\n",
       "1 trail, street,hybrid high         9    \n",
       "2 track,sandals        low         10    \n",
       "3 walking              flat        11    \n",
       "4 high heels           medium      12    \n",
       "5 pumps                extra crazy 13    \n",
       "6 boots                who knows    7    "
      ]
     },
     "metadata": {},
     "output_type": "display_data"
    }
   ],
   "source": [
    "shoe_types<-c('trail, street,hybrid','track,sandals','walking','high heels',\n",
    "              -'pumps','boots')\n",
    "arch_type<-c('high','low','flat','medium','extra crazy','who knows')\n",
    "size_s<-c(9,10,11,12,13,7)\n",
    "\n",
    "shoes_stuff<-data.frame(shoe_types,arch_type,size_s)\n",
    "shoes_stuff"
   ]
  },
  {
   "cell_type": "code",
   "execution_count": 37,
   "metadata": {},
   "outputs": [
    {
     "data": {
      "text/html": [
       "<table>\n",
       "<caption>A tibble: 9 × 3</caption>\n",
       "<thead>\n",
       "\t<tr><th scope=col>shoe_types</th><th scope=col>arch_type</th><th scope=col>size_s</th></tr>\n",
       "\t<tr><th scope=col>&lt;chr&gt;</th><th scope=col>&lt;chr&gt;</th><th scope=col>&lt;dbl&gt;</th></tr>\n",
       "</thead>\n",
       "<tbody>\n",
       "\t<tr><td>trail     </td><td>high       </td><td> 9</td></tr>\n",
       "\t<tr><td> street   </td><td>high       </td><td> 9</td></tr>\n",
       "\t<tr><td>hybrid    </td><td>high       </td><td> 9</td></tr>\n",
       "\t<tr><td>track     </td><td>low        </td><td>10</td></tr>\n",
       "\t<tr><td>sandals   </td><td>low        </td><td>10</td></tr>\n",
       "\t<tr><td>walking   </td><td>flat       </td><td>11</td></tr>\n",
       "\t<tr><td>high heels</td><td>medium     </td><td>12</td></tr>\n",
       "\t<tr><td>pumps     </td><td>extra crazy</td><td>13</td></tr>\n",
       "\t<tr><td>boots     </td><td>who knows  </td><td> 7</td></tr>\n",
       "</tbody>\n",
       "</table>\n"
      ],
      "text/latex": [
       "A tibble: 9 × 3\n",
       "\\begin{tabular}{lll}\n",
       " shoe\\_types & arch\\_type & size\\_s\\\\\n",
       " <chr> & <chr> & <dbl>\\\\\n",
       "\\hline\n",
       "\t trail      & high        &  9\\\\\n",
       "\t  street    & high        &  9\\\\\n",
       "\t hybrid     & high        &  9\\\\\n",
       "\t track      & low         & 10\\\\\n",
       "\t sandals    & low         & 10\\\\\n",
       "\t walking    & flat        & 11\\\\\n",
       "\t high heels & medium      & 12\\\\\n",
       "\t pumps      & extra crazy & 13\\\\\n",
       "\t boots      & who knows   &  7\\\\\n",
       "\\end{tabular}\n"
      ],
      "text/markdown": [
       "\n",
       "A tibble: 9 × 3\n",
       "\n",
       "| shoe_types &lt;chr&gt; | arch_type &lt;chr&gt; | size_s &lt;dbl&gt; |\n",
       "|---|---|---|\n",
       "| trail      | high        |  9 |\n",
       "|  street    | high        |  9 |\n",
       "| hybrid     | high        |  9 |\n",
       "| track      | low         | 10 |\n",
       "| sandals    | low         | 10 |\n",
       "| walking    | flat        | 11 |\n",
       "| high heels | medium      | 12 |\n",
       "| pumps      | extra crazy | 13 |\n",
       "| boots      | who knows   |  7 |\n",
       "\n"
      ],
      "text/plain": [
       "  shoe_types arch_type   size_s\n",
       "1 trail      high         9    \n",
       "2  street    high         9    \n",
       "3 hybrid     high         9    \n",
       "4 track      low         10    \n",
       "5 sandals    low         10    \n",
       "6 walking    flat        11    \n",
       "7 high heels medium      12    \n",
       "8 pumps      extra crazy 13    \n",
       "9 boots      who knows    7    "
      ]
     },
     "metadata": {},
     "output_type": "display_data"
    }
   ],
   "source": [
    "shoes_stuff %>% separate_rows(shoe_types,sep=',')"
   ]
  },
  {
   "cell_type": "markdown",
   "metadata": {},
   "source": [
    "#  `Spread`:  separates each cell into a column\n",
    "\n",
    "Think of using a two columns: one as a key, other as a values. then you take the column that was a key and expand that into more columns based on unique row values. "
   ]
  },
  {
   "cell_type": "code",
   "execution_count": 45,
   "metadata": {},
   "outputs": [
    {
     "data": {
      "text/html": [
       "<table>\n",
       "<caption>A tibble: 6 × 10</caption>\n",
       "<thead>\n",
       "\t<tr><th scope=col>arch_type</th><th scope=col> street</th><th scope=col>boots</th><th scope=col>high heels</th><th scope=col>hybrid</th><th scope=col>pumps</th><th scope=col>sandals</th><th scope=col>track</th><th scope=col>trail</th><th scope=col>walking</th></tr>\n",
       "\t<tr><th scope=col>&lt;chr&gt;</th><th scope=col>&lt;dbl&gt;</th><th scope=col>&lt;dbl&gt;</th><th scope=col>&lt;dbl&gt;</th><th scope=col>&lt;dbl&gt;</th><th scope=col>&lt;dbl&gt;</th><th scope=col>&lt;dbl&gt;</th><th scope=col>&lt;dbl&gt;</th><th scope=col>&lt;dbl&gt;</th><th scope=col>&lt;dbl&gt;</th></tr>\n",
       "</thead>\n",
       "<tbody>\n",
       "\t<tr><td>extra crazy</td><td>NA</td><td>NA</td><td>NA</td><td>NA</td><td>13</td><td>NA</td><td>NA</td><td>NA</td><td>NA</td></tr>\n",
       "\t<tr><td>flat       </td><td>NA</td><td>NA</td><td>NA</td><td>NA</td><td>NA</td><td>NA</td><td>NA</td><td>NA</td><td>11</td></tr>\n",
       "\t<tr><td>high       </td><td> 9</td><td>NA</td><td>NA</td><td> 9</td><td>NA</td><td>NA</td><td>NA</td><td> 9</td><td>NA</td></tr>\n",
       "\t<tr><td>low        </td><td>NA</td><td>NA</td><td>NA</td><td>NA</td><td>NA</td><td>10</td><td>10</td><td>NA</td><td>NA</td></tr>\n",
       "\t<tr><td>medium     </td><td>NA</td><td>NA</td><td>12</td><td>NA</td><td>NA</td><td>NA</td><td>NA</td><td>NA</td><td>NA</td></tr>\n",
       "\t<tr><td>who knows  </td><td>NA</td><td> 7</td><td>NA</td><td>NA</td><td>NA</td><td>NA</td><td>NA</td><td>NA</td><td>NA</td></tr>\n",
       "</tbody>\n",
       "</table>\n"
      ],
      "text/latex": [
       "A tibble: 6 × 10\n",
       "\\begin{tabular}{llllllllll}\n",
       " arch\\_type &  street & boots & high heels & hybrid & pumps & sandals & track & trail & walking\\\\\n",
       " <chr> & <dbl> & <dbl> & <dbl> & <dbl> & <dbl> & <dbl> & <dbl> & <dbl> & <dbl>\\\\\n",
       "\\hline\n",
       "\t extra crazy & NA & NA & NA & NA & 13 & NA & NA & NA & NA\\\\\n",
       "\t flat        & NA & NA & NA & NA & NA & NA & NA & NA & 11\\\\\n",
       "\t high        &  9 & NA & NA &  9 & NA & NA & NA &  9 & NA\\\\\n",
       "\t low         & NA & NA & NA & NA & NA & 10 & 10 & NA & NA\\\\\n",
       "\t medium      & NA & NA & 12 & NA & NA & NA & NA & NA & NA\\\\\n",
       "\t who knows   & NA &  7 & NA & NA & NA & NA & NA & NA & NA\\\\\n",
       "\\end{tabular}\n"
      ],
      "text/markdown": [
       "\n",
       "A tibble: 6 × 10\n",
       "\n",
       "| arch_type &lt;chr&gt; |  street &lt;dbl&gt; | boots &lt;dbl&gt; | high heels &lt;dbl&gt; | hybrid &lt;dbl&gt; | pumps &lt;dbl&gt; | sandals &lt;dbl&gt; | track &lt;dbl&gt; | trail &lt;dbl&gt; | walking &lt;dbl&gt; |\n",
       "|---|---|---|---|---|---|---|---|---|---|\n",
       "| extra crazy | NA | NA | NA | NA | 13 | NA | NA | NA | NA |\n",
       "| flat        | NA | NA | NA | NA | NA | NA | NA | NA | 11 |\n",
       "| high        |  9 | NA | NA |  9 | NA | NA | NA |  9 | NA |\n",
       "| low         | NA | NA | NA | NA | NA | 10 | 10 | NA | NA |\n",
       "| medium      | NA | NA | 12 | NA | NA | NA | NA | NA | NA |\n",
       "| who knows   | NA |  7 | NA | NA | NA | NA | NA | NA | NA |\n",
       "\n"
      ],
      "text/plain": [
       "  arch_type    street boots high heels hybrid pumps sandals track trail walking\n",
       "1 extra crazy NA      NA    NA         NA     13    NA      NA    NA    NA     \n",
       "2 flat        NA      NA    NA         NA     NA    NA      NA    NA    11     \n",
       "3 high         9      NA    NA          9     NA    NA      NA     9    NA     \n",
       "4 low         NA      NA    NA         NA     NA    10      10    NA    NA     \n",
       "5 medium      NA      NA    12         NA     NA    NA      NA    NA    NA     \n",
       "6 who knows   NA       7    NA         NA     NA    NA      NA    NA    NA     "
      ]
     },
     "metadata": {},
     "output_type": "display_data"
    }
   ],
   "source": [
    "ww<-shoes_stuff %>% separate_rows(shoe_types,sep=',')\n",
    "ww%>% spread(shoe_types,size_s) "
   ]
  },
  {
   "cell_type": "markdown",
   "metadata": {},
   "source": [
    "# `Complete`: takes a set of cloumns and finds all combinations that are unique. *It will fill in NA values  when neccessary*."
   ]
  },
  {
   "cell_type": "code",
   "execution_count": 18,
   "metadata": {},
   "outputs": [
    {
     "data": {
      "text/html": [
       "<table>\n",
       "<caption>A tibble: 15 × 4</caption>\n",
       "<thead>\n",
       "\t<tr><th scope=col>date_col_asfactor</th><th scope=col>CustomerID</th><th scope=col>Sales_Tot</th><th scope=col>month_year</th></tr>\n",
       "\t<tr><th scope=col>&lt;fct&gt;</th><th scope=col>&lt;int&gt;</th><th scope=col>&lt;dbl&gt;</th><th scope=col>&lt;chr&gt;</th></tr>\n",
       "</thead>\n",
       "<tbody>\n",
       "\t<tr><td>01/2011</td><td>12393</td><td> 23.4</td><td>01/2011</td></tr>\n",
       "\t<tr><td>02/2011</td><td>12415</td><td>211.2</td><td>02/2011</td></tr>\n",
       "\t<tr><td>03/2011</td><td>12434</td><td> 10.2</td><td>03/2011</td></tr>\n",
       "\t<tr><td>03/2011</td><td>12434</td><td> 10.2</td><td>03/2011</td></tr>\n",
       "\t<tr><td>04/2011</td><td>   NA</td><td>   NA</td><td>NA     </td></tr>\n",
       "\t<tr><td>05/2011</td><td>12415</td><td>300.0</td><td>05/2011</td></tr>\n",
       "\t<tr><td>06/2011</td><td>12415</td><td> 40.8</td><td>06/2011</td></tr>\n",
       "\t<tr><td>06/2011</td><td>12415</td><td> 69.6</td><td>06/2011</td></tr>\n",
       "\t<tr><td>07/2011</td><td>   NA</td><td>   NA</td><td>NA     </td></tr>\n",
       "\t<tr><td>08/2011</td><td>12415</td><td>216.0</td><td>08/2011</td></tr>\n",
       "\t<tr><td>09/2011</td><td>12393</td><td> 16.6</td><td>09/2011</td></tr>\n",
       "\t<tr><td>10/2011</td><td>   NA</td><td>   NA</td><td>NA     </td></tr>\n",
       "\t<tr><td>11/2011</td><td>   NA</td><td>   NA</td><td>NA     </td></tr>\n",
       "\t<tr><td>12/2010</td><td>12386</td><td> 30.0</td><td>12/2010</td></tr>\n",
       "\t<tr><td>12/2011</td><td>   NA</td><td>   NA</td><td>NA     </td></tr>\n",
       "</tbody>\n",
       "</table>\n"
      ],
      "text/latex": [
       "A tibble: 15 × 4\n",
       "\\begin{tabular}{llll}\n",
       " date\\_col\\_asfactor & CustomerID & Sales\\_Tot & month\\_year\\\\\n",
       " <fct> & <int> & <dbl> & <chr>\\\\\n",
       "\\hline\n",
       "\t 01/2011 & 12393 &  23.4 & 01/2011\\\\\n",
       "\t 02/2011 & 12415 & 211.2 & 02/2011\\\\\n",
       "\t 03/2011 & 12434 &  10.2 & 03/2011\\\\\n",
       "\t 03/2011 & 12434 &  10.2 & 03/2011\\\\\n",
       "\t 04/2011 &    NA &    NA & NA     \\\\\n",
       "\t 05/2011 & 12415 & 300.0 & 05/2011\\\\\n",
       "\t 06/2011 & 12415 &  40.8 & 06/2011\\\\\n",
       "\t 06/2011 & 12415 &  69.6 & 06/2011\\\\\n",
       "\t 07/2011 &    NA &    NA & NA     \\\\\n",
       "\t 08/2011 & 12415 & 216.0 & 08/2011\\\\\n",
       "\t 09/2011 & 12393 &  16.6 & 09/2011\\\\\n",
       "\t 10/2011 &    NA &    NA & NA     \\\\\n",
       "\t 11/2011 &    NA &    NA & NA     \\\\\n",
       "\t 12/2010 & 12386 &  30.0 & 12/2010\\\\\n",
       "\t 12/2011 &    NA &    NA & NA     \\\\\n",
       "\\end{tabular}\n"
      ],
      "text/markdown": [
       "\n",
       "A tibble: 15 × 4\n",
       "\n",
       "| date_col_asfactor &lt;fct&gt; | CustomerID &lt;int&gt; | Sales_Tot &lt;dbl&gt; | month_year &lt;chr&gt; |\n",
       "|---|---|---|---|\n",
       "| 01/2011 | 12393 |  23.4 | 01/2011 |\n",
       "| 02/2011 | 12415 | 211.2 | 02/2011 |\n",
       "| 03/2011 | 12434 |  10.2 | 03/2011 |\n",
       "| 03/2011 | 12434 |  10.2 | 03/2011 |\n",
       "| 04/2011 |    NA |    NA | NA      |\n",
       "| 05/2011 | 12415 | 300.0 | 05/2011 |\n",
       "| 06/2011 | 12415 |  40.8 | 06/2011 |\n",
       "| 06/2011 | 12415 |  69.6 | 06/2011 |\n",
       "| 07/2011 |    NA |    NA | NA      |\n",
       "| 08/2011 | 12415 | 216.0 | 08/2011 |\n",
       "| 09/2011 | 12393 |  16.6 | 09/2011 |\n",
       "| 10/2011 |    NA |    NA | NA      |\n",
       "| 11/2011 |    NA |    NA | NA      |\n",
       "| 12/2010 | 12386 |  30.0 | 12/2010 |\n",
       "| 12/2011 |    NA |    NA | NA      |\n",
       "\n"
      ],
      "text/plain": [
       "   date_col_asfactor CustomerID Sales_Tot month_year\n",
       "1  01/2011           12393       23.4     01/2011   \n",
       "2  02/2011           12415      211.2     02/2011   \n",
       "3  03/2011           12434       10.2     03/2011   \n",
       "4  03/2011           12434       10.2     03/2011   \n",
       "5  04/2011              NA         NA     NA        \n",
       "6  05/2011           12415      300.0     05/2011   \n",
       "7  06/2011           12415       40.8     06/2011   \n",
       "8  06/2011           12415       69.6     06/2011   \n",
       "9  07/2011              NA         NA     NA        \n",
       "10 08/2011           12415      216.0     08/2011   \n",
       "11 09/2011           12393       16.6     09/2011   \n",
       "12 10/2011              NA         NA     NA        \n",
       "13 11/2011              NA         NA     NA        \n",
       "14 12/2010           12386       30.0     12/2010   \n",
       "15 12/2011              NA         NA     NA        "
      ]
     },
     "metadata": {},
     "output_type": "display_data"
    }
   ],
   "source": [
    "sub_w<-c('CustomerID','Sales_Tot','month_year')\n",
    "a<-as.factor(sales_orders_expanded[sub_w]$month_year)\n",
    "cc<-sales_orders_expanded[sub_w]\n",
    "cc$date_col_asfactor<-a\n",
    "\n",
    "complete(data = head(cc,10 ),date_col_asfactor)\n",
    "\n",
    "# Notice that the datatypes 'classes' are not the same"
   ]
  },
  {
   "cell_type": "code",
   "execution_count": null,
   "metadata": {},
   "outputs": [],
   "source": [
    "# read.csv('online_sales.csv')"
   ]
  },
  {
   "cell_type": "markdown",
   "metadata": {},
   "source": [
    "# What is `Dplyr`: it is a package inside `tidyverse` allowing us to manipulate and transform our data\n",
    "\n",
    "+ As an artifact you are able to write code that is readable for humans and cogent. \n",
    "+ There are 5 very common functions (\"verbs\") that you will use when using `dplyr`\n",
    "    + `filter`\n",
    "    + `select`\n",
    "    + `arrange`\n",
    "    + `mutate`\n",
    "    + `summarise`\n",
    "    \n",
    "\n",
    "\n",
    "https://programminghistorian.org/en/lessons/data_wrangling_and_management_in_R"
   ]
  },
  {
   "cell_type": "markdown",
   "metadata": {},
   "source": [
    "# Let's find the shoes in stock in a certain size range:\n",
    "\n",
    "+ Using: `filter and select`\n",
    "\n",
    "`filter`: works by row\n",
    "\n",
    "`select`: columnwise"
   ]
  },
  {
   "cell_type": "code",
   "execution_count": 94,
   "metadata": {},
   "outputs": [
    {
     "data": {
      "text/html": [
       "<table>\n",
       "<caption>A tibble: 3 × 3</caption>\n",
       "<thead>\n",
       "\t<tr><th scope=col>shoe_types</th><th scope=col>arch_type</th><th scope=col>size_s</th></tr>\n",
       "\t<tr><th scope=col>&lt;chr&gt;</th><th scope=col>&lt;chr&gt;</th><th scope=col>&lt;dbl&gt;</th></tr>\n",
       "</thead>\n",
       "<tbody>\n",
       "\t<tr><td>track  </td><td>low </td><td>10</td></tr>\n",
       "\t<tr><td>sandals</td><td>low </td><td>10</td></tr>\n",
       "\t<tr><td>walking</td><td>flat</td><td>11</td></tr>\n",
       "</tbody>\n",
       "</table>\n"
      ],
      "text/latex": [
       "A tibble: 3 × 3\n",
       "\\begin{tabular}{lll}\n",
       " shoe\\_types & arch\\_type & size\\_s\\\\\n",
       " <chr> & <chr> & <dbl>\\\\\n",
       "\\hline\n",
       "\t track   & low  & 10\\\\\n",
       "\t sandals & low  & 10\\\\\n",
       "\t walking & flat & 11\\\\\n",
       "\\end{tabular}\n"
      ],
      "text/markdown": [
       "\n",
       "A tibble: 3 × 3\n",
       "\n",
       "| shoe_types &lt;chr&gt; | arch_type &lt;chr&gt; | size_s &lt;dbl&gt; |\n",
       "|---|---|---|\n",
       "| track   | low  | 10 |\n",
       "| sandals | low  | 10 |\n",
       "| walking | flat | 11 |\n",
       "\n"
      ],
      "text/plain": [
       "  shoe_types arch_type size_s\n",
       "1 track      low       10    \n",
       "2 sandals    low       10    \n",
       "3 walking    flat      11    "
      ]
     },
     "metadata": {},
     "output_type": "display_data"
    }
   ],
   "source": [
    "shoes_long_<-shoes_stuff %>% separate_rows(shoe_types,sep=',')\n",
    "\n",
    "shoes_by_size_range <- shoes_long_ %>%\n",
    "  filter(size_s >9 & size_s <12) %>%\n",
    "  select(shoe_types,arch_type,size_s)\n",
    "\n",
    "shoes_by_size_range\n",
    "\n",
    "\n"
   ]
  },
  {
   "cell_type": "markdown",
   "metadata": {},
   "source": [
    "# `Arrange`: will arrange rows by a specific column value"
   ]
  },
  {
   "cell_type": "code",
   "execution_count": 102,
   "metadata": {},
   "outputs": [
    {
     "data": {
      "text/html": [
       "<table>\n",
       "<caption>A tibble: 9 × 3</caption>\n",
       "<thead>\n",
       "\t<tr><th scope=col>shoe_types</th><th scope=col>arch_type</th><th scope=col>size_s</th></tr>\n",
       "\t<tr><th scope=col>&lt;chr&gt;</th><th scope=col>&lt;chr&gt;</th><th scope=col>&lt;dbl&gt;</th></tr>\n",
       "</thead>\n",
       "<tbody>\n",
       "\t<tr><td>pumps     </td><td>extra crazy</td><td>13</td></tr>\n",
       "\t<tr><td>high heels</td><td>medium     </td><td>12</td></tr>\n",
       "\t<tr><td>walking   </td><td>flat       </td><td>11</td></tr>\n",
       "\t<tr><td>track     </td><td>low        </td><td>10</td></tr>\n",
       "\t<tr><td>sandals   </td><td>low        </td><td>10</td></tr>\n",
       "\t<tr><td>trail     </td><td>high       </td><td> 9</td></tr>\n",
       "\t<tr><td> street   </td><td>high       </td><td> 9</td></tr>\n",
       "\t<tr><td>hybrid    </td><td>high       </td><td> 9</td></tr>\n",
       "\t<tr><td>boots     </td><td>who knows  </td><td> 7</td></tr>\n",
       "</tbody>\n",
       "</table>\n"
      ],
      "text/latex": [
       "A tibble: 9 × 3\n",
       "\\begin{tabular}{lll}\n",
       " shoe\\_types & arch\\_type & size\\_s\\\\\n",
       " <chr> & <chr> & <dbl>\\\\\n",
       "\\hline\n",
       "\t pumps      & extra crazy & 13\\\\\n",
       "\t high heels & medium      & 12\\\\\n",
       "\t walking    & flat        & 11\\\\\n",
       "\t track      & low         & 10\\\\\n",
       "\t sandals    & low         & 10\\\\\n",
       "\t trail      & high        &  9\\\\\n",
       "\t  street    & high        &  9\\\\\n",
       "\t hybrid     & high        &  9\\\\\n",
       "\t boots      & who knows   &  7\\\\\n",
       "\\end{tabular}\n"
      ],
      "text/markdown": [
       "\n",
       "A tibble: 9 × 3\n",
       "\n",
       "| shoe_types &lt;chr&gt; | arch_type &lt;chr&gt; | size_s &lt;dbl&gt; |\n",
       "|---|---|---|\n",
       "| pumps      | extra crazy | 13 |\n",
       "| high heels | medium      | 12 |\n",
       "| walking    | flat        | 11 |\n",
       "| track      | low         | 10 |\n",
       "| sandals    | low         | 10 |\n",
       "| trail      | high        |  9 |\n",
       "|  street    | high        |  9 |\n",
       "| hybrid     | high        |  9 |\n",
       "| boots      | who knows   |  7 |\n",
       "\n"
      ],
      "text/plain": [
       "  shoe_types arch_type   size_s\n",
       "1 pumps      extra crazy 13    \n",
       "2 high heels medium      12    \n",
       "3 walking    flat        11    \n",
       "4 track      low         10    \n",
       "5 sandals    low         10    \n",
       "6 trail      high         9    \n",
       "7  street    high         9    \n",
       "8 hybrid     high         9    \n",
       "9 boots      who knows    7    "
      ]
     },
     "metadata": {},
     "output_type": "display_data"
    }
   ],
   "source": [
    "# Going from descending order of shoes by size\n",
    "shoes_long_ %>% arrange(desc(size_s))"
   ]
  },
  {
   "cell_type": "code",
   "execution_count": 149,
   "metadata": {},
   "outputs": [
    {
     "data": {
      "text/html": [
       "<table>\n",
       "<caption>A data.frame: 6 × 10</caption>\n",
       "<thead>\n",
       "\t<tr><th></th><th scope=col>InvoiceNo</th><th scope=col>StockCode</th><th scope=col>Description</th><th scope=col>Quantity</th><th scope=col>InvoiceDate</th><th scope=col>UnitPrice</th><th scope=col>CustomerID</th><th scope=col>Country</th><th scope=col>CanceledQty</th><th scope=col>Matches</th></tr>\n",
       "\t<tr><th></th><th scope=col>&lt;int&gt;</th><th scope=col>&lt;chr&gt;</th><th scope=col>&lt;chr&gt;</th><th scope=col>&lt;int&gt;</th><th scope=col>&lt;date&gt;</th><th scope=col>&lt;dbl&gt;</th><th scope=col>&lt;int&gt;</th><th scope=col>&lt;chr&gt;</th><th scope=col>&lt;int&gt;</th><th scope=col>&lt;lgl&gt;</th></tr>\n",
       "</thead>\n",
       "<tbody>\n",
       "\t<tr><th scope=row>1</th><td>580553</td><td>20975 </td><td>12 PENCILS SMALL TUBE RED RETROSPOT</td><td>72</td><td>2011-12-05</td><td>0.65</td><td>12646</td><td>USA</td><td>1</td><td>FALSE</td></tr>\n",
       "\t<tr><th scope=row>2</th><td>580553</td><td>20675 </td><td>BLUE POLKADOT BOWL                 </td><td>16</td><td>2011-12-05</td><td>1.25</td><td>12646</td><td>USA</td><td>1</td><td>FALSE</td></tr>\n",
       "\t<tr><th scope=row>3</th><td>580553</td><td>21240 </td><td>BLUE POLKADOT CUP                  </td><td>16</td><td>2011-12-05</td><td>0.85</td><td>12646</td><td>USA</td><td>1</td><td>FALSE</td></tr>\n",
       "\t<tr><th scope=row>4</th><td>580553</td><td>84997C</td><td>CHILDRENS CUTLERY POLKADOT BLUE    </td><td> 8</td><td>2011-12-05</td><td>4.15</td><td>12646</td><td>USA</td><td>1</td><td>FALSE</td></tr>\n",
       "\t<tr><th scope=row>5</th><td>580553</td><td>84997A</td><td>CHILDRENS CUTLERY POLKADOT GREEN   </td><td> 8</td><td>2011-12-05</td><td>4.15</td><td>12646</td><td>USA</td><td>1</td><td>FALSE</td></tr>\n",
       "\t<tr><th scope=row>6</th><td>580553</td><td>84997D</td><td>CHILDRENS CUTLERY POLKADOT PINK    </td><td> 8</td><td>2011-12-05</td><td>4.15</td><td>12646</td><td>USA</td><td>1</td><td>FALSE</td></tr>\n",
       "</tbody>\n",
       "</table>\n"
      ],
      "text/latex": [
       "A data.frame: 6 × 10\n",
       "\\begin{tabular}{r|llllllllll}\n",
       "  & InvoiceNo & StockCode & Description & Quantity & InvoiceDate & UnitPrice & CustomerID & Country & CanceledQty & Matches\\\\\n",
       "  & <int> & <chr> & <chr> & <int> & <date> & <dbl> & <int> & <chr> & <int> & <lgl>\\\\\n",
       "\\hline\n",
       "\t1 & 580553 & 20975  & 12 PENCILS SMALL TUBE RED RETROSPOT & 72 & 2011-12-05 & 0.65 & 12646 & USA & 1 & FALSE\\\\\n",
       "\t2 & 580553 & 20675  & BLUE POLKADOT BOWL                  & 16 & 2011-12-05 & 1.25 & 12646 & USA & 1 & FALSE\\\\\n",
       "\t3 & 580553 & 21240  & BLUE POLKADOT CUP                   & 16 & 2011-12-05 & 0.85 & 12646 & USA & 1 & FALSE\\\\\n",
       "\t4 & 580553 & 84997C & CHILDRENS CUTLERY POLKADOT BLUE     &  8 & 2011-12-05 & 4.15 & 12646 & USA & 1 & FALSE\\\\\n",
       "\t5 & 580553 & 84997A & CHILDRENS CUTLERY POLKADOT GREEN    &  8 & 2011-12-05 & 4.15 & 12646 & USA & 1 & FALSE\\\\\n",
       "\t6 & 580553 & 84997D & CHILDRENS CUTLERY POLKADOT PINK     &  8 & 2011-12-05 & 4.15 & 12646 & USA & 1 & FALSE\\\\\n",
       "\\end{tabular}\n"
      ],
      "text/markdown": [
       "\n",
       "A data.frame: 6 × 10\n",
       "\n",
       "| <!--/--> | InvoiceNo &lt;int&gt; | StockCode &lt;chr&gt; | Description &lt;chr&gt; | Quantity &lt;int&gt; | InvoiceDate &lt;date&gt; | UnitPrice &lt;dbl&gt; | CustomerID &lt;int&gt; | Country &lt;chr&gt; | CanceledQty &lt;int&gt; | Matches &lt;lgl&gt; |\n",
       "|---|---|---|---|---|---|---|---|---|---|---|\n",
       "| 1 | 580553 | 20975  | 12 PENCILS SMALL TUBE RED RETROSPOT | 72 | 2011-12-05 | 0.65 | 12646 | USA | 1 | FALSE |\n",
       "| 2 | 580553 | 20675  | BLUE POLKADOT BOWL                  | 16 | 2011-12-05 | 1.25 | 12646 | USA | 1 | FALSE |\n",
       "| 3 | 580553 | 21240  | BLUE POLKADOT CUP                   | 16 | 2011-12-05 | 0.85 | 12646 | USA | 1 | FALSE |\n",
       "| 4 | 580553 | 84997C | CHILDRENS CUTLERY POLKADOT BLUE     |  8 | 2011-12-05 | 4.15 | 12646 | USA | 1 | FALSE |\n",
       "| 5 | 580553 | 84997A | CHILDRENS CUTLERY POLKADOT GREEN    |  8 | 2011-12-05 | 4.15 | 12646 | USA | 1 | FALSE |\n",
       "| 6 | 580553 | 84997D | CHILDRENS CUTLERY POLKADOT PINK     |  8 | 2011-12-05 | 4.15 | 12646 | USA | 1 | FALSE |\n",
       "\n"
      ],
      "text/plain": [
       "  InvoiceNo StockCode Description                         Quantity InvoiceDate\n",
       "1 580553    20975     12 PENCILS SMALL TUBE RED RETROSPOT 72       2011-12-05 \n",
       "2 580553    20675     BLUE POLKADOT BOWL                  16       2011-12-05 \n",
       "3 580553    21240     BLUE POLKADOT CUP                   16       2011-12-05 \n",
       "4 580553    84997C    CHILDRENS CUTLERY POLKADOT BLUE      8       2011-12-05 \n",
       "5 580553    84997A    CHILDRENS CUTLERY POLKADOT GREEN     8       2011-12-05 \n",
       "6 580553    84997D    CHILDRENS CUTLERY POLKADOT PINK      8       2011-12-05 \n",
       "  UnitPrice CustomerID Country CanceledQty Matches\n",
       "1 0.65      12646      USA     1           FALSE  \n",
       "2 1.25      12646      USA     1           FALSE  \n",
       "3 0.85      12646      USA     1           FALSE  \n",
       "4 4.15      12646      USA     1           FALSE  \n",
       "5 4.15      12646      USA     1           FALSE  \n",
       "6 4.15      12646      USA     1           FALSE  "
      ]
     },
     "metadata": {},
     "output_type": "display_data"
    }
   ],
   "source": [
    "# Alt. Example with 2 variables:\n",
    "head(date_t_01 %>% arrange(desc(Country),desc(InvoiceDate)))"
   ]
  },
  {
   "cell_type": "markdown",
   "metadata": {},
   "source": [
    "# `Mutate`: Add a new variable to DF, think column"
   ]
  },
  {
   "cell_type": "code",
   "execution_count": 111,
   "metadata": {},
   "outputs": [
    {
     "data": {
      "text/html": [
       "<table>\n",
       "<caption>A data.frame: 6 × 11</caption>\n",
       "<thead>\n",
       "\t<tr><th></th><th scope=col>InvoiceNo</th><th scope=col>StockCode</th><th scope=col>Description</th><th scope=col>Quantity</th><th scope=col>InvoiceDate</th><th scope=col>UnitPrice</th><th scope=col>CustomerID</th><th scope=col>Country</th><th scope=col>CanceledQty</th><th scope=col>Matches</th><th scope=col>SalesTotsYay</th></tr>\n",
       "\t<tr><th></th><th scope=col>&lt;int&gt;</th><th scope=col>&lt;chr&gt;</th><th scope=col>&lt;chr&gt;</th><th scope=col>&lt;int&gt;</th><th scope=col>&lt;date&gt;</th><th scope=col>&lt;dbl&gt;</th><th scope=col>&lt;int&gt;</th><th scope=col>&lt;chr&gt;</th><th scope=col>&lt;int&gt;</th><th scope=col>&lt;lgl&gt;</th><th scope=col>&lt;dbl&gt;</th></tr>\n",
       "</thead>\n",
       "<tbody>\n",
       "\t<tr><th scope=row>1</th><td>563614</td><td>23345</td><td> DOLLY GIRL BEAKER           </td><td>200</td><td>2011-08-18</td><td>1.08</td><td>12415</td><td>Australia</td><td>1</td><td>FALSE</td><td>216.0</td></tr>\n",
       "\t<tr><th scope=row>2</th><td>568708</td><td>23391</td><td> I LOVE LONDON MINI BACKPACK </td><td>  4</td><td>2011-09-28</td><td>4.15</td><td>12393</td><td>Australia</td><td>1</td><td>FALSE</td><td> 16.6</td></tr>\n",
       "\t<tr><th scope=row>3</th><td>556917</td><td>22418</td><td>10 COLOUR SPACEBOY PEN       </td><td> 48</td><td>2011-06-15</td><td>0.85</td><td>12415</td><td>Australia</td><td>1</td><td>FALSE</td><td> 40.8</td></tr>\n",
       "\t<tr><th scope=row>4</th><td>543989</td><td>20973</td><td>12 PENCIL SMALL TUBE WOODLAND</td><td>384</td><td>2011-02-15</td><td>0.55</td><td>12415</td><td>Australia</td><td>1</td><td>FALSE</td><td>211.2</td></tr>\n",
       "\t<tr><th scope=row>5</th><td>547659</td><td>20984</td><td>12 PENCILS TALL TUBE POSY    </td><td> 12</td><td>2011-03-24</td><td>0.85</td><td>12434</td><td>Australia</td><td>1</td><td>FALSE</td><td> 10.2</td></tr>\n",
       "\t<tr><th scope=row>6</th><td>556917</td><td>20984</td><td>12 PENCILS TALL TUBE POSY    </td><td>240</td><td>2011-06-15</td><td>0.29</td><td>12415</td><td>Australia</td><td>1</td><td>FALSE</td><td> 69.6</td></tr>\n",
       "</tbody>\n",
       "</table>\n"
      ],
      "text/latex": [
       "A data.frame: 6 × 11\n",
       "\\begin{tabular}{r|lllllllllll}\n",
       "  & InvoiceNo & StockCode & Description & Quantity & InvoiceDate & UnitPrice & CustomerID & Country & CanceledQty & Matches & SalesTotsYay\\\\\n",
       "  & <int> & <chr> & <chr> & <int> & <date> & <dbl> & <int> & <chr> & <int> & <lgl> & <dbl>\\\\\n",
       "\\hline\n",
       "\t1 & 563614 & 23345 &  DOLLY GIRL BEAKER            & 200 & 2011-08-18 & 1.08 & 12415 & Australia & 1 & FALSE & 216.0\\\\\n",
       "\t2 & 568708 & 23391 &  I LOVE LONDON MINI BACKPACK  &   4 & 2011-09-28 & 4.15 & 12393 & Australia & 1 & FALSE &  16.6\\\\\n",
       "\t3 & 556917 & 22418 & 10 COLOUR SPACEBOY PEN        &  48 & 2011-06-15 & 0.85 & 12415 & Australia & 1 & FALSE &  40.8\\\\\n",
       "\t4 & 543989 & 20973 & 12 PENCIL SMALL TUBE WOODLAND & 384 & 2011-02-15 & 0.55 & 12415 & Australia & 1 & FALSE & 211.2\\\\\n",
       "\t5 & 547659 & 20984 & 12 PENCILS TALL TUBE POSY     &  12 & 2011-03-24 & 0.85 & 12434 & Australia & 1 & FALSE &  10.2\\\\\n",
       "\t6 & 556917 & 20984 & 12 PENCILS TALL TUBE POSY     & 240 & 2011-06-15 & 0.29 & 12415 & Australia & 1 & FALSE &  69.6\\\\\n",
       "\\end{tabular}\n"
      ],
      "text/markdown": [
       "\n",
       "A data.frame: 6 × 11\n",
       "\n",
       "| <!--/--> | InvoiceNo &lt;int&gt; | StockCode &lt;chr&gt; | Description &lt;chr&gt; | Quantity &lt;int&gt; | InvoiceDate &lt;date&gt; | UnitPrice &lt;dbl&gt; | CustomerID &lt;int&gt; | Country &lt;chr&gt; | CanceledQty &lt;int&gt; | Matches &lt;lgl&gt; | SalesTotsYay &lt;dbl&gt; |\n",
       "|---|---|---|---|---|---|---|---|---|---|---|---|\n",
       "| 1 | 563614 | 23345 |  DOLLY GIRL BEAKER            | 200 | 2011-08-18 | 1.08 | 12415 | Australia | 1 | FALSE | 216.0 |\n",
       "| 2 | 568708 | 23391 |  I LOVE LONDON MINI BACKPACK  |   4 | 2011-09-28 | 4.15 | 12393 | Australia | 1 | FALSE |  16.6 |\n",
       "| 3 | 556917 | 22418 | 10 COLOUR SPACEBOY PEN        |  48 | 2011-06-15 | 0.85 | 12415 | Australia | 1 | FALSE |  40.8 |\n",
       "| 4 | 543989 | 20973 | 12 PENCIL SMALL TUBE WOODLAND | 384 | 2011-02-15 | 0.55 | 12415 | Australia | 1 | FALSE | 211.2 |\n",
       "| 5 | 547659 | 20984 | 12 PENCILS TALL TUBE POSY     |  12 | 2011-03-24 | 0.85 | 12434 | Australia | 1 | FALSE |  10.2 |\n",
       "| 6 | 556917 | 20984 | 12 PENCILS TALL TUBE POSY     | 240 | 2011-06-15 | 0.29 | 12415 | Australia | 1 | FALSE |  69.6 |\n",
       "\n"
      ],
      "text/plain": [
       "  InvoiceNo StockCode Description                   Quantity InvoiceDate\n",
       "1 563614    23345      DOLLY GIRL BEAKER            200      2011-08-18 \n",
       "2 568708    23391      I LOVE LONDON MINI BACKPACK    4      2011-09-28 \n",
       "3 556917    22418     10 COLOUR SPACEBOY PEN         48      2011-06-15 \n",
       "4 543989    20973     12 PENCIL SMALL TUBE WOODLAND 384      2011-02-15 \n",
       "5 547659    20984     12 PENCILS TALL TUBE POSY      12      2011-03-24 \n",
       "6 556917    20984     12 PENCILS TALL TUBE POSY     240      2011-06-15 \n",
       "  UnitPrice CustomerID Country   CanceledQty Matches SalesTotsYay\n",
       "1 1.08      12415      Australia 1           FALSE   216.0       \n",
       "2 4.15      12393      Australia 1           FALSE    16.6       \n",
       "3 0.85      12415      Australia 1           FALSE    40.8       \n",
       "4 0.55      12415      Australia 1           FALSE   211.2       \n",
       "5 0.85      12434      Australia 1           FALSE    10.2       \n",
       "6 0.29      12415      Australia 1           FALSE    69.6       "
      ]
     },
     "metadata": {},
     "output_type": "display_data"
    }
   ],
   "source": [
    "head(date_t_01 %>% mutate(SalesTotsYay=Quantity*UnitPrice))"
   ]
  },
  {
   "cell_type": "markdown",
   "metadata": {},
   "source": [
    "# `Summarize`: \n",
    "\n",
    "Creates a new dataframe that will have one or more rows for grouping, you are using a function to count, calculate the mean etc as a new column.\n",
    "\n",
    "https://dplyr.tidyverse.org/reference/summarise.html"
   ]
  },
  {
   "cell_type": "code",
   "execution_count": 132,
   "metadata": {},
   "outputs": [
    {
     "name": "stderr",
     "output_type": "stream",
     "text": [
      "`summarise()` ungrouping output (override with `.groups` argument)\n",
      "\n"
     ]
    },
    {
     "data": {
      "text/html": [
       "<table>\n",
       "<caption>A tibble: 6 × 2</caption>\n",
       "<thead>\n",
       "\t<tr><th scope=col>size_s</th><th scope=col>n</th></tr>\n",
       "\t<tr><th scope=col>&lt;dbl&gt;</th><th scope=col>&lt;int&gt;</th></tr>\n",
       "</thead>\n",
       "<tbody>\n",
       "\t<tr><td> 7</td><td>1</td></tr>\n",
       "\t<tr><td> 9</td><td>3</td></tr>\n",
       "\t<tr><td>10</td><td>2</td></tr>\n",
       "\t<tr><td>11</td><td>1</td></tr>\n",
       "\t<tr><td>12</td><td>1</td></tr>\n",
       "\t<tr><td>13</td><td>1</td></tr>\n",
       "</tbody>\n",
       "</table>\n"
      ],
      "text/latex": [
       "A tibble: 6 × 2\n",
       "\\begin{tabular}{ll}\n",
       " size\\_s & n\\\\\n",
       " <dbl> & <int>\\\\\n",
       "\\hline\n",
       "\t  7 & 1\\\\\n",
       "\t  9 & 3\\\\\n",
       "\t 10 & 2\\\\\n",
       "\t 11 & 1\\\\\n",
       "\t 12 & 1\\\\\n",
       "\t 13 & 1\\\\\n",
       "\\end{tabular}\n"
      ],
      "text/markdown": [
       "\n",
       "A tibble: 6 × 2\n",
       "\n",
       "| size_s &lt;dbl&gt; | n &lt;int&gt; |\n",
       "|---|---|\n",
       "|  7 | 1 |\n",
       "|  9 | 3 |\n",
       "| 10 | 2 |\n",
       "| 11 | 1 |\n",
       "| 12 | 1 |\n",
       "| 13 | 1 |\n",
       "\n"
      ],
      "text/plain": [
       "  size_s n\n",
       "1  7     1\n",
       "2  9     3\n",
       "3 10     2\n",
       "4 11     1\n",
       "5 12     1\n",
       "6 13     1"
      ]
     },
     "metadata": {},
     "output_type": "display_data"
    },
    {
     "data": {
      "text/html": [
       "<table>\n",
       "<caption>A tibble: 9 × 3</caption>\n",
       "<thead>\n",
       "\t<tr><th scope=col>shoe_types</th><th scope=col>arch_type</th><th scope=col>size_s</th></tr>\n",
       "\t<tr><th scope=col>&lt;chr&gt;</th><th scope=col>&lt;chr&gt;</th><th scope=col>&lt;dbl&gt;</th></tr>\n",
       "</thead>\n",
       "<tbody>\n",
       "\t<tr><td>trail     </td><td>high       </td><td> 9</td></tr>\n",
       "\t<tr><td> street   </td><td>high       </td><td> 9</td></tr>\n",
       "\t<tr><td>hybrid    </td><td>high       </td><td> 9</td></tr>\n",
       "\t<tr><td>track     </td><td>low        </td><td>10</td></tr>\n",
       "\t<tr><td>sandals   </td><td>low        </td><td>10</td></tr>\n",
       "\t<tr><td>walking   </td><td>flat       </td><td>11</td></tr>\n",
       "\t<tr><td>high heels</td><td>medium     </td><td>12</td></tr>\n",
       "\t<tr><td>pumps     </td><td>extra crazy</td><td>13</td></tr>\n",
       "\t<tr><td>boots     </td><td>who knows  </td><td> 7</td></tr>\n",
       "</tbody>\n",
       "</table>\n"
      ],
      "text/latex": [
       "A tibble: 9 × 3\n",
       "\\begin{tabular}{lll}\n",
       " shoe\\_types & arch\\_type & size\\_s\\\\\n",
       " <chr> & <chr> & <dbl>\\\\\n",
       "\\hline\n",
       "\t trail      & high        &  9\\\\\n",
       "\t  street    & high        &  9\\\\\n",
       "\t hybrid     & high        &  9\\\\\n",
       "\t track      & low         & 10\\\\\n",
       "\t sandals    & low         & 10\\\\\n",
       "\t walking    & flat        & 11\\\\\n",
       "\t high heels & medium      & 12\\\\\n",
       "\t pumps      & extra crazy & 13\\\\\n",
       "\t boots      & who knows   &  7\\\\\n",
       "\\end{tabular}\n"
      ],
      "text/markdown": [
       "\n",
       "A tibble: 9 × 3\n",
       "\n",
       "| shoe_types &lt;chr&gt; | arch_type &lt;chr&gt; | size_s &lt;dbl&gt; |\n",
       "|---|---|---|\n",
       "| trail      | high        |  9 |\n",
       "|  street    | high        |  9 |\n",
       "| hybrid     | high        |  9 |\n",
       "| track      | low         | 10 |\n",
       "| sandals    | low         | 10 |\n",
       "| walking    | flat        | 11 |\n",
       "| high heels | medium      | 12 |\n",
       "| pumps      | extra crazy | 13 |\n",
       "| boots      | who knows   |  7 |\n",
       "\n"
      ],
      "text/plain": [
       "  shoe_types arch_type   size_s\n",
       "1 trail      high         9    \n",
       "2  street    high         9    \n",
       "3 hybrid     high         9    \n",
       "4 track      low         10    \n",
       "5 sandals    low         10    \n",
       "6 walking    flat        11    \n",
       "7 high heels medium      12    \n",
       "8 pumps      extra crazy 13    \n",
       "9 boots      who knows    7    "
      ]
     },
     "metadata": {},
     "output_type": "display_data"
    },
    {
     "name": "stderr",
     "output_type": "stream",
     "text": [
      "`summarise()` regrouping output by 'size_s' (override with `.groups` argument)\n",
      "\n"
     ]
    },
    {
     "data": {
      "text/html": [
       "<table>\n",
       "<caption>A grouped_df: 6 × 3</caption>\n",
       "<thead>\n",
       "\t<tr><th scope=col>size_s</th><th scope=col>arch_type</th><th scope=col>n</th></tr>\n",
       "\t<tr><th scope=col>&lt;dbl&gt;</th><th scope=col>&lt;chr&gt;</th><th scope=col>&lt;int&gt;</th></tr>\n",
       "</thead>\n",
       "<tbody>\n",
       "\t<tr><td> 7</td><td>who knows  </td><td>1</td></tr>\n",
       "\t<tr><td> 9</td><td>high       </td><td>3</td></tr>\n",
       "\t<tr><td>10</td><td>low        </td><td>2</td></tr>\n",
       "\t<tr><td>11</td><td>flat       </td><td>1</td></tr>\n",
       "\t<tr><td>12</td><td>medium     </td><td>1</td></tr>\n",
       "\t<tr><td>13</td><td>extra crazy</td><td>1</td></tr>\n",
       "</tbody>\n",
       "</table>\n"
      ],
      "text/latex": [
       "A grouped\\_df: 6 × 3\n",
       "\\begin{tabular}{lll}\n",
       " size\\_s & arch\\_type & n\\\\\n",
       " <dbl> & <chr> & <int>\\\\\n",
       "\\hline\n",
       "\t  7 & who knows   & 1\\\\\n",
       "\t  9 & high        & 3\\\\\n",
       "\t 10 & low         & 2\\\\\n",
       "\t 11 & flat        & 1\\\\\n",
       "\t 12 & medium      & 1\\\\\n",
       "\t 13 & extra crazy & 1\\\\\n",
       "\\end{tabular}\n"
      ],
      "text/markdown": [
       "\n",
       "A grouped_df: 6 × 3\n",
       "\n",
       "| size_s &lt;dbl&gt; | arch_type &lt;chr&gt; | n &lt;int&gt; |\n",
       "|---|---|---|\n",
       "|  7 | who knows   | 1 |\n",
       "|  9 | high        | 3 |\n",
       "| 10 | low         | 2 |\n",
       "| 11 | flat        | 1 |\n",
       "| 12 | medium      | 1 |\n",
       "| 13 | extra crazy | 1 |\n",
       "\n"
      ],
      "text/plain": [
       "  size_s arch_type   n\n",
       "1  7     who knows   1\n",
       "2  9     high        3\n",
       "3 10     low         2\n",
       "4 11     flat        1\n",
       "5 12     medium      1\n",
       "6 13     extra crazy 1"
      ]
     },
     "metadata": {},
     "output_type": "display_data"
    }
   ],
   "source": [
    "\n",
    "\n",
    "ss<-shoes_long_   %>% \n",
    "  tibble::as_tibble() \n",
    "\n",
    "# count number of shoes based on size\n",
    "ss %>%\n",
    "  group_by(size_s) %>%\n",
    "  summarise( n = n())\n",
    "\n",
    "ss # print just the original data\n",
    "\n",
    "# Group by shoe size and arch_type then count numbers available\n",
    "ss %>%\n",
    "  group_by(size_s,arch_type) %>%\n",
    "  summarise( n = n())"
   ]
  },
  {
   "cell_type": "markdown",
   "metadata": {},
   "source": [
    "# `Nest & Chop`: \n",
    "\n",
    "+ `Nest`: creates a list of column dataframes\n",
    "    + There is a reverse of this called `unnest`\n",
    "    \n",
    "+ `Chop`: preserve the width of a DF, it is converting row lists into columns\n",
    "    \n",
    "https://tidyr.tidyverse.org/reference/chop.html"
   ]
  },
  {
   "cell_type": "code",
   "execution_count": 150,
   "metadata": {},
   "outputs": [
    {
     "data": {
      "text/html": [
       "<table>\n",
       "<caption>A tibble: 9 × 3</caption>\n",
       "<thead>\n",
       "\t<tr><th scope=col>shoe_types</th><th scope=col>arch_type</th><th scope=col>size_s</th></tr>\n",
       "\t<tr><th scope=col>&lt;chr&gt;</th><th scope=col>&lt;chr&gt;</th><th scope=col>&lt;dbl&gt;</th></tr>\n",
       "</thead>\n",
       "<tbody>\n",
       "\t<tr><td>trail     </td><td>high       </td><td> 9</td></tr>\n",
       "\t<tr><td> street   </td><td>high       </td><td> 9</td></tr>\n",
       "\t<tr><td>hybrid    </td><td>high       </td><td> 9</td></tr>\n",
       "\t<tr><td>track     </td><td>low        </td><td>10</td></tr>\n",
       "\t<tr><td>sandals   </td><td>low        </td><td>10</td></tr>\n",
       "\t<tr><td>walking   </td><td>flat       </td><td>11</td></tr>\n",
       "\t<tr><td>high heels</td><td>medium     </td><td>12</td></tr>\n",
       "\t<tr><td>pumps     </td><td>extra crazy</td><td>13</td></tr>\n",
       "\t<tr><td>boots     </td><td>who knows  </td><td> 7</td></tr>\n",
       "</tbody>\n",
       "</table>\n"
      ],
      "text/latex": [
       "A tibble: 9 × 3\n",
       "\\begin{tabular}{lll}\n",
       " shoe\\_types & arch\\_type & size\\_s\\\\\n",
       " <chr> & <chr> & <dbl>\\\\\n",
       "\\hline\n",
       "\t trail      & high        &  9\\\\\n",
       "\t  street    & high        &  9\\\\\n",
       "\t hybrid     & high        &  9\\\\\n",
       "\t track      & low         & 10\\\\\n",
       "\t sandals    & low         & 10\\\\\n",
       "\t walking    & flat        & 11\\\\\n",
       "\t high heels & medium      & 12\\\\\n",
       "\t pumps      & extra crazy & 13\\\\\n",
       "\t boots      & who knows   &  7\\\\\n",
       "\\end{tabular}\n"
      ],
      "text/markdown": [
       "\n",
       "A tibble: 9 × 3\n",
       "\n",
       "| shoe_types &lt;chr&gt; | arch_type &lt;chr&gt; | size_s &lt;dbl&gt; |\n",
       "|---|---|---|\n",
       "| trail      | high        |  9 |\n",
       "|  street    | high        |  9 |\n",
       "| hybrid     | high        |  9 |\n",
       "| track      | low         | 10 |\n",
       "| sandals    | low         | 10 |\n",
       "| walking    | flat        | 11 |\n",
       "| high heels | medium      | 12 |\n",
       "| pumps      | extra crazy | 13 |\n",
       "| boots      | who knows   |  7 |\n",
       "\n"
      ],
      "text/plain": [
       "  shoe_types arch_type   size_s\n",
       "1 trail      high         9    \n",
       "2  street    high         9    \n",
       "3 hybrid     high         9    \n",
       "4 track      low         10    \n",
       "5 sandals    low         10    \n",
       "6 walking    flat        11    \n",
       "7 high heels medium      12    \n",
       "8 pumps      extra crazy 13    \n",
       "9 boots      who knows    7    "
      ]
     },
     "metadata": {},
     "output_type": "display_data"
    },
    {
     "data": {
      "text/html": [
       "<table>\n",
       "<caption>A tibble: 6 × 2</caption>\n",
       "<thead>\n",
       "\t<tr><th scope=col>size_s</th><th scope=col>size_arch</th></tr>\n",
       "\t<tr><th scope=col>&lt;dbl&gt;</th><th scope=col>&lt;list&gt;</th></tr>\n",
       "</thead>\n",
       "<tbody>\n",
       "\t<tr><td> 9</td><td>trail  ,  street, hybrid , high   , high   , high   </td></tr>\n",
       "\t<tr><td>10</td><td>track  , sandals, low    , low    </td></tr>\n",
       "\t<tr><td>11</td><td>walking, flat   </td></tr>\n",
       "\t<tr><td>12</td><td>high heels, medium    </td></tr>\n",
       "\t<tr><td>13</td><td>pumps      , extra crazy</td></tr>\n",
       "\t<tr><td> 7</td><td>boots    , who knows</td></tr>\n",
       "</tbody>\n",
       "</table>\n"
      ],
      "text/latex": [
       "A tibble: 6 × 2\n",
       "\\begin{tabular}{ll}\n",
       " size\\_s & size\\_arch\\\\\n",
       " <dbl> & <list>\\\\\n",
       "\\hline\n",
       "\t  9 & trail  ,  street, hybrid , high   , high   , high   \\\\\n",
       "\t 10 & track  , sandals, low    , low    \\\\\n",
       "\t 11 & walking, flat   \\\\\n",
       "\t 12 & high heels, medium    \\\\\n",
       "\t 13 & pumps      , extra crazy\\\\\n",
       "\t  7 & boots    , who knows\\\\\n",
       "\\end{tabular}\n"
      ],
      "text/markdown": [
       "\n",
       "A tibble: 6 × 2\n",
       "\n",
       "| size_s &lt;dbl&gt; | size_arch &lt;list&gt; |\n",
       "|---|---|\n",
       "|  9 | trail  ,  street, hybrid , high   , high   , high    |\n",
       "| 10 | track  , sandals, low    , low     |\n",
       "| 11 | walking, flat    |\n",
       "| 12 | high heels, medium     |\n",
       "| 13 | pumps      , extra crazy |\n",
       "|  7 | boots    , who knows |\n",
       "\n"
      ],
      "text/plain": [
       "  size_s size_arch                                           \n",
       "1  9     trail  ,  street, hybrid , high   , high   , high   \n",
       "2 10     track  , sandals, low    , low                      \n",
       "3 11     walking, flat                                       \n",
       "4 12     high heels, medium                                  \n",
       "5 13     pumps      , extra crazy                            \n",
       "6  7     boots    , who knows                                "
      ]
     },
     "metadata": {},
     "output_type": "display_data"
    },
    {
     "data": {
      "text/html": [
       "<table>\n",
       "<caption>A tibble: 6 × 3</caption>\n",
       "<thead>\n",
       "\t<tr><th scope=col>size_s</th><th scope=col>shoe_types</th><th scope=col>arch_type</th></tr>\n",
       "\t<tr><th scope=col>&lt;dbl&gt;</th><th scope=col>&lt;list&lt;chr&gt;&gt;</th><th scope=col>&lt;list&lt;chr&gt;&gt;</th></tr>\n",
       "</thead>\n",
       "<tbody>\n",
       "\t<tr><td> 9</td><td>trail  ,  street, hybrid </td><td>high, high, high</td></tr>\n",
       "\t<tr><td>10</td><td>track  , sandals</td><td>low, low</td></tr>\n",
       "\t<tr><td>11</td><td>walking</td><td>flat</td></tr>\n",
       "\t<tr><td>12</td><td>high heels</td><td>medium</td></tr>\n",
       "\t<tr><td>13</td><td>pumps</td><td>extra crazy</td></tr>\n",
       "\t<tr><td> 7</td><td>boots</td><td>who knows</td></tr>\n",
       "</tbody>\n",
       "</table>\n"
      ],
      "text/latex": [
       "A tibble: 6 × 3\n",
       "\\begin{tabular}{lll}\n",
       " size\\_s & shoe\\_types & arch\\_type\\\\\n",
       " <dbl> & <list<chr>> & <list<chr>>\\\\\n",
       "\\hline\n",
       "\t  9 & trail  ,  street, hybrid  & high, high, high\\\\\n",
       "\t 10 & track  , sandals & low, low\\\\\n",
       "\t 11 & walking & flat\\\\\n",
       "\t 12 & high heels & medium\\\\\n",
       "\t 13 & pumps & extra crazy\\\\\n",
       "\t  7 & boots & who knows\\\\\n",
       "\\end{tabular}\n"
      ],
      "text/markdown": [
       "\n",
       "A tibble: 6 × 3\n",
       "\n",
       "| size_s &lt;dbl&gt; | shoe_types &lt;list&lt;chr&gt;&gt; | arch_type &lt;list&lt;chr&gt;&gt; |\n",
       "|---|---|---|\n",
       "|  9 | trail  ,  street, hybrid  | high, high, high |\n",
       "| 10 | track  , sandals | low, low |\n",
       "| 11 | walking | flat |\n",
       "| 12 | high heels | medium |\n",
       "| 13 | pumps | extra crazy |\n",
       "|  7 | boots | who knows |\n",
       "\n"
      ],
      "text/plain": [
       "  size_s shoe_types                arch_type       \n",
       "1  9     trail  ,  street, hybrid  high, high, high\n",
       "2 10     track  , sandals          low, low        \n",
       "3 11     walking                   flat            \n",
       "4 12     high heels                medium          \n",
       "5 13     pumps                     extra crazy     \n",
       "6  7     boots                     who knows       "
      ]
     },
     "metadata": {},
     "output_type": "display_data"
    }
   ],
   "source": [
    "# Originsl data:\n",
    "ss\n",
    "# Nest:\n",
    "ss %>% nest(size_arch = c(shoe_types, arch_type))\n",
    "\n",
    "# Chop:\n",
    "ss %>% chop( c(shoe_types, arch_type))\n"
   ]
  },
  {
   "cell_type": "markdown",
   "metadata": {},
   "source": [
    "# Alt Example:"
   ]
  },
  {
   "cell_type": "code",
   "execution_count": 136,
   "metadata": {},
   "outputs": [
    {
     "data": {
      "text/html": [
       "<table>\n",
       "<caption>A tibble: 3 × 2</caption>\n",
       "<thead>\n",
       "\t<tr><th scope=col>x</th><th scope=col>data</th></tr>\n",
       "\t<tr><th scope=col>&lt;dbl&gt;</th><th scope=col>&lt;list&gt;</th></tr>\n",
       "</thead>\n",
       "<tbody>\n",
       "\t<tr><td>1</td><td>1, 2, 3, 6, 5, 4</td></tr>\n",
       "\t<tr><td>2</td><td>4, 5, 3, 2</td></tr>\n",
       "\t<tr><td>3</td><td>6, 1</td></tr>\n",
       "</tbody>\n",
       "</table>\n"
      ],
      "text/latex": [
       "A tibble: 3 × 2\n",
       "\\begin{tabular}{ll}\n",
       " x & data\\\\\n",
       " <dbl> & <list>\\\\\n",
       "\\hline\n",
       "\t 1 & 1, 2, 3, 6, 5, 4\\\\\n",
       "\t 2 & 4, 5, 3, 2\\\\\n",
       "\t 3 & 6, 1\\\\\n",
       "\\end{tabular}\n"
      ],
      "text/markdown": [
       "\n",
       "A tibble: 3 × 2\n",
       "\n",
       "| x &lt;dbl&gt; | data &lt;list&gt; |\n",
       "|---|---|\n",
       "| 1 | 1, 2, 3, 6, 5, 4 |\n",
       "| 2 | 4, 5, 3, 2 |\n",
       "| 3 | 6, 1 |\n",
       "\n"
      ],
      "text/plain": [
       "  x data            \n",
       "1 1 1, 2, 3, 6, 5, 4\n",
       "2 2 4, 5, 3, 2      \n",
       "3 3 6, 1            "
      ]
     },
     "metadata": {},
     "output_type": "display_data"
    },
    {
     "data": {
      "text/html": [
       "<table>\n",
       "<caption>A tibble: 3 × 3</caption>\n",
       "<thead>\n",
       "\t<tr><th scope=col>x</th><th scope=col>y</th><th scope=col>z</th></tr>\n",
       "\t<tr><th scope=col>&lt;dbl&gt;</th><th scope=col>&lt;list&lt;int&gt;&gt;</th><th scope=col>&lt;list&lt;int&gt;&gt;</th></tr>\n",
       "</thead>\n",
       "<tbody>\n",
       "\t<tr><td>1</td><td>1, 2, 3</td><td>6, 5, 4</td></tr>\n",
       "\t<tr><td>2</td><td>4, 5</td><td>3, 2</td></tr>\n",
       "\t<tr><td>3</td><td>6</td><td>1</td></tr>\n",
       "</tbody>\n",
       "</table>\n"
      ],
      "text/latex": [
       "A tibble: 3 × 3\n",
       "\\begin{tabular}{lll}\n",
       " x & y & z\\\\\n",
       " <dbl> & <list<int>> & <list<int>>\\\\\n",
       "\\hline\n",
       "\t 1 & 1, 2, 3 & 6, 5, 4\\\\\n",
       "\t 2 & 4, 5 & 3, 2\\\\\n",
       "\t 3 & 6 & 1\\\\\n",
       "\\end{tabular}\n"
      ],
      "text/markdown": [
       "\n",
       "A tibble: 3 × 3\n",
       "\n",
       "| x &lt;dbl&gt; | y &lt;list&lt;int&gt;&gt; | z &lt;list&lt;int&gt;&gt; |\n",
       "|---|---|---|\n",
       "| 1 | 1, 2, 3 | 6, 5, 4 |\n",
       "| 2 | 4, 5 | 3, 2 |\n",
       "| 3 | 6 | 1 |\n",
       "\n"
      ],
      "text/plain": [
       "  x y       z      \n",
       "1 1 1, 2, 3 6, 5, 4\n",
       "2 2 4, 5    3, 2   \n",
       "3 3 6       1      "
      ]
     },
     "metadata": {},
     "output_type": "display_data"
    },
    {
     "data": {
      "text/html": [
       "<table>\n",
       "<caption>A tibble: 6 × 3</caption>\n",
       "<thead>\n",
       "\t<tr><th scope=col>x</th><th scope=col>y</th><th scope=col>z</th></tr>\n",
       "\t<tr><th scope=col>&lt;dbl&gt;</th><th scope=col>&lt;int&gt;</th><th scope=col>&lt;int&gt;</th></tr>\n",
       "</thead>\n",
       "<tbody>\n",
       "\t<tr><td>1</td><td>1</td><td>6</td></tr>\n",
       "\t<tr><td>1</td><td>2</td><td>5</td></tr>\n",
       "\t<tr><td>1</td><td>3</td><td>4</td></tr>\n",
       "\t<tr><td>2</td><td>4</td><td>3</td></tr>\n",
       "\t<tr><td>2</td><td>5</td><td>2</td></tr>\n",
       "\t<tr><td>3</td><td>6</td><td>1</td></tr>\n",
       "</tbody>\n",
       "</table>\n"
      ],
      "text/latex": [
       "A tibble: 6 × 3\n",
       "\\begin{tabular}{lll}\n",
       " x & y & z\\\\\n",
       " <dbl> & <int> & <int>\\\\\n",
       "\\hline\n",
       "\t 1 & 1 & 6\\\\\n",
       "\t 1 & 2 & 5\\\\\n",
       "\t 1 & 3 & 4\\\\\n",
       "\t 2 & 4 & 3\\\\\n",
       "\t 2 & 5 & 2\\\\\n",
       "\t 3 & 6 & 1\\\\\n",
       "\\end{tabular}\n"
      ],
      "text/markdown": [
       "\n",
       "A tibble: 6 × 3\n",
       "\n",
       "| x &lt;dbl&gt; | y &lt;int&gt; | z &lt;int&gt; |\n",
       "|---|---|---|\n",
       "| 1 | 1 | 6 |\n",
       "| 1 | 2 | 5 |\n",
       "| 1 | 3 | 4 |\n",
       "| 2 | 4 | 3 |\n",
       "| 2 | 5 | 2 |\n",
       "| 3 | 6 | 1 |\n",
       "\n"
      ],
      "text/plain": [
       "  x y z\n",
       "1 1 1 6\n",
       "2 1 2 5\n",
       "3 1 3 4\n",
       "4 2 4 3\n",
       "5 2 5 2\n",
       "6 3 6 1"
      ]
     },
     "metadata": {},
     "output_type": "display_data"
    }
   ],
   "source": [
    "df <- tibble(x = c(1, 1, 1, 2, 2, 3), y = 1:6, z = 6:1)\n",
    "# Note that we get one row of output for each unique combination of\n",
    "# non-nested variables\n",
    "df %>% nest(data = c(y, z))\n",
    "df %>% chop(c(y, z))\n",
    "df\n",
    "\n",
    "# https://tidyr.tidyverse.org/reference/nest.html (this example came from here)"
   ]
  },
  {
   "cell_type": "markdown",
   "metadata": {},
   "source": [
    "# Pivot from Wide to Long: `pivot_longer`\n"
   ]
  },
  {
   "cell_type": "code",
   "execution_count": 67,
   "metadata": {},
   "outputs": [
    {
     "data": {
      "text/html": [
       "<table>\n",
       "<caption>A tibble: 6 × 10</caption>\n",
       "<thead>\n",
       "\t<tr><th scope=col>arch_type</th><th scope=col> street</th><th scope=col>boots</th><th scope=col>high heels</th><th scope=col>hybrid</th><th scope=col>pumps</th><th scope=col>sandals</th><th scope=col>track</th><th scope=col>trail</th><th scope=col>walking</th></tr>\n",
       "\t<tr><th scope=col>&lt;chr&gt;</th><th scope=col>&lt;dbl&gt;</th><th scope=col>&lt;dbl&gt;</th><th scope=col>&lt;dbl&gt;</th><th scope=col>&lt;dbl&gt;</th><th scope=col>&lt;dbl&gt;</th><th scope=col>&lt;dbl&gt;</th><th scope=col>&lt;dbl&gt;</th><th scope=col>&lt;dbl&gt;</th><th scope=col>&lt;dbl&gt;</th></tr>\n",
       "</thead>\n",
       "<tbody>\n",
       "\t<tr><td>extra crazy</td><td>NA</td><td>NA</td><td>NA</td><td>NA</td><td>13</td><td>NA</td><td>NA</td><td>NA</td><td>NA</td></tr>\n",
       "\t<tr><td>flat       </td><td>NA</td><td>NA</td><td>NA</td><td>NA</td><td>NA</td><td>NA</td><td>NA</td><td>NA</td><td>11</td></tr>\n",
       "\t<tr><td>high       </td><td> 9</td><td>NA</td><td>NA</td><td> 9</td><td>NA</td><td>NA</td><td>NA</td><td> 9</td><td>NA</td></tr>\n",
       "\t<tr><td>low        </td><td>NA</td><td>NA</td><td>NA</td><td>NA</td><td>NA</td><td>10</td><td>10</td><td>NA</td><td>NA</td></tr>\n",
       "\t<tr><td>medium     </td><td>NA</td><td>NA</td><td>12</td><td>NA</td><td>NA</td><td>NA</td><td>NA</td><td>NA</td><td>NA</td></tr>\n",
       "\t<tr><td>who knows  </td><td>NA</td><td> 7</td><td>NA</td><td>NA</td><td>NA</td><td>NA</td><td>NA</td><td>NA</td><td>NA</td></tr>\n",
       "</tbody>\n",
       "</table>\n"
      ],
      "text/latex": [
       "A tibble: 6 × 10\n",
       "\\begin{tabular}{llllllllll}\n",
       " arch\\_type &  street & boots & high heels & hybrid & pumps & sandals & track & trail & walking\\\\\n",
       " <chr> & <dbl> & <dbl> & <dbl> & <dbl> & <dbl> & <dbl> & <dbl> & <dbl> & <dbl>\\\\\n",
       "\\hline\n",
       "\t extra crazy & NA & NA & NA & NA & 13 & NA & NA & NA & NA\\\\\n",
       "\t flat        & NA & NA & NA & NA & NA & NA & NA & NA & 11\\\\\n",
       "\t high        &  9 & NA & NA &  9 & NA & NA & NA &  9 & NA\\\\\n",
       "\t low         & NA & NA & NA & NA & NA & 10 & 10 & NA & NA\\\\\n",
       "\t medium      & NA & NA & 12 & NA & NA & NA & NA & NA & NA\\\\\n",
       "\t who knows   & NA &  7 & NA & NA & NA & NA & NA & NA & NA\\\\\n",
       "\\end{tabular}\n"
      ],
      "text/markdown": [
       "\n",
       "A tibble: 6 × 10\n",
       "\n",
       "| arch_type &lt;chr&gt; |  street &lt;dbl&gt; | boots &lt;dbl&gt; | high heels &lt;dbl&gt; | hybrid &lt;dbl&gt; | pumps &lt;dbl&gt; | sandals &lt;dbl&gt; | track &lt;dbl&gt; | trail &lt;dbl&gt; | walking &lt;dbl&gt; |\n",
       "|---|---|---|---|---|---|---|---|---|---|\n",
       "| extra crazy | NA | NA | NA | NA | 13 | NA | NA | NA | NA |\n",
       "| flat        | NA | NA | NA | NA | NA | NA | NA | NA | 11 |\n",
       "| high        |  9 | NA | NA |  9 | NA | NA | NA |  9 | NA |\n",
       "| low         | NA | NA | NA | NA | NA | 10 | 10 | NA | NA |\n",
       "| medium      | NA | NA | 12 | NA | NA | NA | NA | NA | NA |\n",
       "| who knows   | NA |  7 | NA | NA | NA | NA | NA | NA | NA |\n",
       "\n"
      ],
      "text/plain": [
       "  arch_type    street boots high heels hybrid pumps sandals track trail walking\n",
       "1 extra crazy NA      NA    NA         NA     13    NA      NA    NA    NA     \n",
       "2 flat        NA      NA    NA         NA     NA    NA      NA    NA    11     \n",
       "3 high         9      NA    NA          9     NA    NA      NA     9    NA     \n",
       "4 low         NA      NA    NA         NA     NA    10      10    NA    NA     \n",
       "5 medium      NA      NA    12         NA     NA    NA      NA    NA    NA     \n",
       "6 who knows   NA       7    NA         NA     NA    NA      NA    NA    NA     "
      ]
     },
     "metadata": {},
     "output_type": "display_data"
    }
   ],
   "source": [
    "#starting data: wide format\n",
    "wide_shoes<-ww%>% spread(shoe_types,size_s) \n",
    "wide_shoes"
   ]
  },
  {
   "cell_type": "code",
   "execution_count": 71,
   "metadata": {},
   "outputs": [
    {
     "data": {
      "text/html": [
       "<table>\n",
       "<caption>A tibble: 54 × 3</caption>\n",
       "<thead>\n",
       "\t<tr><th scope=col>arch_type</th><th scope=col>Quarter</th><th scope=col>Delay</th></tr>\n",
       "\t<tr><th scope=col>&lt;chr&gt;</th><th scope=col>&lt;chr&gt;</th><th scope=col>&lt;dbl&gt;</th></tr>\n",
       "</thead>\n",
       "<tbody>\n",
       "\t<tr><td>extra crazy</td><td> street   </td><td>NA</td></tr>\n",
       "\t<tr><td>extra crazy</td><td>boots     </td><td>NA</td></tr>\n",
       "\t<tr><td>extra crazy</td><td>high heels</td><td>NA</td></tr>\n",
       "\t<tr><td>extra crazy</td><td>hybrid    </td><td>NA</td></tr>\n",
       "\t<tr><td>extra crazy</td><td>pumps     </td><td>13</td></tr>\n",
       "\t<tr><td>extra crazy</td><td>sandals   </td><td>NA</td></tr>\n",
       "\t<tr><td>extra crazy</td><td>track     </td><td>NA</td></tr>\n",
       "\t<tr><td>extra crazy</td><td>trail     </td><td>NA</td></tr>\n",
       "\t<tr><td>extra crazy</td><td>walking   </td><td>NA</td></tr>\n",
       "\t<tr><td>flat       </td><td> street   </td><td>NA</td></tr>\n",
       "\t<tr><td>flat       </td><td>boots     </td><td>NA</td></tr>\n",
       "\t<tr><td>flat       </td><td>high heels</td><td>NA</td></tr>\n",
       "\t<tr><td>flat       </td><td>hybrid    </td><td>NA</td></tr>\n",
       "\t<tr><td>flat       </td><td>pumps     </td><td>NA</td></tr>\n",
       "\t<tr><td>flat       </td><td>sandals   </td><td>NA</td></tr>\n",
       "\t<tr><td>flat       </td><td>track     </td><td>NA</td></tr>\n",
       "\t<tr><td>flat       </td><td>trail     </td><td>NA</td></tr>\n",
       "\t<tr><td>flat       </td><td>walking   </td><td>11</td></tr>\n",
       "\t<tr><td>high       </td><td> street   </td><td> 9</td></tr>\n",
       "\t<tr><td>high       </td><td>boots     </td><td>NA</td></tr>\n",
       "\t<tr><td>high       </td><td>high heels</td><td>NA</td></tr>\n",
       "\t<tr><td>high       </td><td>hybrid    </td><td> 9</td></tr>\n",
       "\t<tr><td>high       </td><td>pumps     </td><td>NA</td></tr>\n",
       "\t<tr><td>high       </td><td>sandals   </td><td>NA</td></tr>\n",
       "\t<tr><td>high       </td><td>track     </td><td>NA</td></tr>\n",
       "\t<tr><td>high       </td><td>trail     </td><td> 9</td></tr>\n",
       "\t<tr><td>high       </td><td>walking   </td><td>NA</td></tr>\n",
       "\t<tr><td>low        </td><td> street   </td><td>NA</td></tr>\n",
       "\t<tr><td>low        </td><td>boots     </td><td>NA</td></tr>\n",
       "\t<tr><td>low        </td><td>high heels</td><td>NA</td></tr>\n",
       "\t<tr><td>low        </td><td>hybrid    </td><td>NA</td></tr>\n",
       "\t<tr><td>low        </td><td>pumps     </td><td>NA</td></tr>\n",
       "\t<tr><td>low        </td><td>sandals   </td><td>10</td></tr>\n",
       "\t<tr><td>low        </td><td>track     </td><td>10</td></tr>\n",
       "\t<tr><td>low        </td><td>trail     </td><td>NA</td></tr>\n",
       "\t<tr><td>low        </td><td>walking   </td><td>NA</td></tr>\n",
       "\t<tr><td>medium     </td><td> street   </td><td>NA</td></tr>\n",
       "\t<tr><td>medium     </td><td>boots     </td><td>NA</td></tr>\n",
       "\t<tr><td>medium     </td><td>high heels</td><td>12</td></tr>\n",
       "\t<tr><td>medium     </td><td>hybrid    </td><td>NA</td></tr>\n",
       "\t<tr><td>medium     </td><td>pumps     </td><td>NA</td></tr>\n",
       "\t<tr><td>medium     </td><td>sandals   </td><td>NA</td></tr>\n",
       "\t<tr><td>medium     </td><td>track     </td><td>NA</td></tr>\n",
       "\t<tr><td>medium     </td><td>trail     </td><td>NA</td></tr>\n",
       "\t<tr><td>medium     </td><td>walking   </td><td>NA</td></tr>\n",
       "\t<tr><td>who knows  </td><td> street   </td><td>NA</td></tr>\n",
       "\t<tr><td>who knows  </td><td>boots     </td><td> 7</td></tr>\n",
       "\t<tr><td>who knows  </td><td>high heels</td><td>NA</td></tr>\n",
       "\t<tr><td>who knows  </td><td>hybrid    </td><td>NA</td></tr>\n",
       "\t<tr><td>who knows  </td><td>pumps     </td><td>NA</td></tr>\n",
       "\t<tr><td>who knows  </td><td>sandals   </td><td>NA</td></tr>\n",
       "\t<tr><td>who knows  </td><td>track     </td><td>NA</td></tr>\n",
       "\t<tr><td>who knows  </td><td>trail     </td><td>NA</td></tr>\n",
       "\t<tr><td>who knows  </td><td>walking   </td><td>NA</td></tr>\n",
       "</tbody>\n",
       "</table>\n"
      ],
      "text/latex": [
       "A tibble: 54 × 3\n",
       "\\begin{tabular}{lll}\n",
       " arch\\_type & Quarter & Delay\\\\\n",
       " <chr> & <chr> & <dbl>\\\\\n",
       "\\hline\n",
       "\t extra crazy &  street    & NA\\\\\n",
       "\t extra crazy & boots      & NA\\\\\n",
       "\t extra crazy & high heels & NA\\\\\n",
       "\t extra crazy & hybrid     & NA\\\\\n",
       "\t extra crazy & pumps      & 13\\\\\n",
       "\t extra crazy & sandals    & NA\\\\\n",
       "\t extra crazy & track      & NA\\\\\n",
       "\t extra crazy & trail      & NA\\\\\n",
       "\t extra crazy & walking    & NA\\\\\n",
       "\t flat        &  street    & NA\\\\\n",
       "\t flat        & boots      & NA\\\\\n",
       "\t flat        & high heels & NA\\\\\n",
       "\t flat        & hybrid     & NA\\\\\n",
       "\t flat        & pumps      & NA\\\\\n",
       "\t flat        & sandals    & NA\\\\\n",
       "\t flat        & track      & NA\\\\\n",
       "\t flat        & trail      & NA\\\\\n",
       "\t flat        & walking    & 11\\\\\n",
       "\t high        &  street    &  9\\\\\n",
       "\t high        & boots      & NA\\\\\n",
       "\t high        & high heels & NA\\\\\n",
       "\t high        & hybrid     &  9\\\\\n",
       "\t high        & pumps      & NA\\\\\n",
       "\t high        & sandals    & NA\\\\\n",
       "\t high        & track      & NA\\\\\n",
       "\t high        & trail      &  9\\\\\n",
       "\t high        & walking    & NA\\\\\n",
       "\t low         &  street    & NA\\\\\n",
       "\t low         & boots      & NA\\\\\n",
       "\t low         & high heels & NA\\\\\n",
       "\t low         & hybrid     & NA\\\\\n",
       "\t low         & pumps      & NA\\\\\n",
       "\t low         & sandals    & 10\\\\\n",
       "\t low         & track      & 10\\\\\n",
       "\t low         & trail      & NA\\\\\n",
       "\t low         & walking    & NA\\\\\n",
       "\t medium      &  street    & NA\\\\\n",
       "\t medium      & boots      & NA\\\\\n",
       "\t medium      & high heels & 12\\\\\n",
       "\t medium      & hybrid     & NA\\\\\n",
       "\t medium      & pumps      & NA\\\\\n",
       "\t medium      & sandals    & NA\\\\\n",
       "\t medium      & track      & NA\\\\\n",
       "\t medium      & trail      & NA\\\\\n",
       "\t medium      & walking    & NA\\\\\n",
       "\t who knows   &  street    & NA\\\\\n",
       "\t who knows   & boots      &  7\\\\\n",
       "\t who knows   & high heels & NA\\\\\n",
       "\t who knows   & hybrid     & NA\\\\\n",
       "\t who knows   & pumps      & NA\\\\\n",
       "\t who knows   & sandals    & NA\\\\\n",
       "\t who knows   & track      & NA\\\\\n",
       "\t who knows   & trail      & NA\\\\\n",
       "\t who knows   & walking    & NA\\\\\n",
       "\\end{tabular}\n"
      ],
      "text/markdown": [
       "\n",
       "A tibble: 54 × 3\n",
       "\n",
       "| arch_type &lt;chr&gt; | Quarter &lt;chr&gt; | Delay &lt;dbl&gt; |\n",
       "|---|---|---|\n",
       "| extra crazy |  street    | NA |\n",
       "| extra crazy | boots      | NA |\n",
       "| extra crazy | high heels | NA |\n",
       "| extra crazy | hybrid     | NA |\n",
       "| extra crazy | pumps      | 13 |\n",
       "| extra crazy | sandals    | NA |\n",
       "| extra crazy | track      | NA |\n",
       "| extra crazy | trail      | NA |\n",
       "| extra crazy | walking    | NA |\n",
       "| flat        |  street    | NA |\n",
       "| flat        | boots      | NA |\n",
       "| flat        | high heels | NA |\n",
       "| flat        | hybrid     | NA |\n",
       "| flat        | pumps      | NA |\n",
       "| flat        | sandals    | NA |\n",
       "| flat        | track      | NA |\n",
       "| flat        | trail      | NA |\n",
       "| flat        | walking    | 11 |\n",
       "| high        |  street    |  9 |\n",
       "| high        | boots      | NA |\n",
       "| high        | high heels | NA |\n",
       "| high        | hybrid     |  9 |\n",
       "| high        | pumps      | NA |\n",
       "| high        | sandals    | NA |\n",
       "| high        | track      | NA |\n",
       "| high        | trail      |  9 |\n",
       "| high        | walking    | NA |\n",
       "| low         |  street    | NA |\n",
       "| low         | boots      | NA |\n",
       "| low         | high heels | NA |\n",
       "| low         | hybrid     | NA |\n",
       "| low         | pumps      | NA |\n",
       "| low         | sandals    | 10 |\n",
       "| low         | track      | 10 |\n",
       "| low         | trail      | NA |\n",
       "| low         | walking    | NA |\n",
       "| medium      |  street    | NA |\n",
       "| medium      | boots      | NA |\n",
       "| medium      | high heels | 12 |\n",
       "| medium      | hybrid     | NA |\n",
       "| medium      | pumps      | NA |\n",
       "| medium      | sandals    | NA |\n",
       "| medium      | track      | NA |\n",
       "| medium      | trail      | NA |\n",
       "| medium      | walking    | NA |\n",
       "| who knows   |  street    | NA |\n",
       "| who knows   | boots      |  7 |\n",
       "| who knows   | high heels | NA |\n",
       "| who knows   | hybrid     | NA |\n",
       "| who knows   | pumps      | NA |\n",
       "| who knows   | sandals    | NA |\n",
       "| who knows   | track      | NA |\n",
       "| who knows   | trail      | NA |\n",
       "| who knows   | walking    | NA |\n",
       "\n"
      ],
      "text/plain": [
       "   arch_type   Quarter    Delay\n",
       "1  extra crazy  street    NA   \n",
       "2  extra crazy boots      NA   \n",
       "3  extra crazy high heels NA   \n",
       "4  extra crazy hybrid     NA   \n",
       "5  extra crazy pumps      13   \n",
       "6  extra crazy sandals    NA   \n",
       "7  extra crazy track      NA   \n",
       "8  extra crazy trail      NA   \n",
       "9  extra crazy walking    NA   \n",
       "10 flat         street    NA   \n",
       "11 flat        boots      NA   \n",
       "12 flat        high heels NA   \n",
       "13 flat        hybrid     NA   \n",
       "14 flat        pumps      NA   \n",
       "15 flat        sandals    NA   \n",
       "16 flat        track      NA   \n",
       "17 flat        trail      NA   \n",
       "18 flat        walking    11   \n",
       "19 high         street     9   \n",
       "20 high        boots      NA   \n",
       "21 high        high heels NA   \n",
       "22 high        hybrid      9   \n",
       "23 high        pumps      NA   \n",
       "24 high        sandals    NA   \n",
       "25 high        track      NA   \n",
       "26 high        trail       9   \n",
       "27 high        walking    NA   \n",
       "28 low          street    NA   \n",
       "29 low         boots      NA   \n",
       "30 low         high heels NA   \n",
       "31 low         hybrid     NA   \n",
       "32 low         pumps      NA   \n",
       "33 low         sandals    10   \n",
       "34 low         track      10   \n",
       "35 low         trail      NA   \n",
       "36 low         walking    NA   \n",
       "37 medium       street    NA   \n",
       "38 medium      boots      NA   \n",
       "39 medium      high heels 12   \n",
       "40 medium      hybrid     NA   \n",
       "41 medium      pumps      NA   \n",
       "42 medium      sandals    NA   \n",
       "43 medium      track      NA   \n",
       "44 medium      trail      NA   \n",
       "45 medium      walking    NA   \n",
       "46 who knows    street    NA   \n",
       "47 who knows   boots       7   \n",
       "48 who knows   high heels NA   \n",
       "49 who knows   hybrid     NA   \n",
       "50 who knows   pumps      NA   \n",
       "51 who knows   sandals    NA   \n",
       "52 who knows   track      NA   \n",
       "53 who knows   trail      NA   \n",
       "54 who knows   walking    NA   "
      ]
     },
     "metadata": {},
     "output_type": "display_data"
    }
   ],
   "source": [
    "#convert to long data with pivot_longer:\n",
    "wide_shoes %>% pivot_longer(cols=2:10, names_to = \"Quarter\", values_to = \"Delay\")"
   ]
  },
  {
   "cell_type": "markdown",
   "metadata": {},
   "source": [
    "# Going in reverse: Long to Wide using `pivot_wider`"
   ]
  },
  {
   "cell_type": "code",
   "execution_count": 155,
   "metadata": {},
   "outputs": [
    {
     "data": {
      "text/html": [
       "<table>\n",
       "<caption>A tibble: 6 × 10</caption>\n",
       "<thead>\n",
       "\t<tr><th scope=col>arch_type</th><th scope=col> street</th><th scope=col>boots</th><th scope=col>high heels</th><th scope=col>hybrid</th><th scope=col>pumps</th><th scope=col>sandals</th><th scope=col>track</th><th scope=col>trail</th><th scope=col>walking</th></tr>\n",
       "\t<tr><th scope=col>&lt;chr&gt;</th><th scope=col>&lt;dbl&gt;</th><th scope=col>&lt;dbl&gt;</th><th scope=col>&lt;dbl&gt;</th><th scope=col>&lt;dbl&gt;</th><th scope=col>&lt;dbl&gt;</th><th scope=col>&lt;dbl&gt;</th><th scope=col>&lt;dbl&gt;</th><th scope=col>&lt;dbl&gt;</th><th scope=col>&lt;dbl&gt;</th></tr>\n",
       "</thead>\n",
       "<tbody>\n",
       "\t<tr><td>extra crazy</td><td>NA</td><td>NA</td><td>NA</td><td>NA</td><td>13</td><td>NA</td><td>NA</td><td>NA</td><td>NA</td></tr>\n",
       "\t<tr><td>flat       </td><td>NA</td><td>NA</td><td>NA</td><td>NA</td><td>NA</td><td>NA</td><td>NA</td><td>NA</td><td>11</td></tr>\n",
       "\t<tr><td>high       </td><td> 9</td><td>NA</td><td>NA</td><td> 9</td><td>NA</td><td>NA</td><td>NA</td><td> 9</td><td>NA</td></tr>\n",
       "\t<tr><td>low        </td><td>NA</td><td>NA</td><td>NA</td><td>NA</td><td>NA</td><td>10</td><td>10</td><td>NA</td><td>NA</td></tr>\n",
       "\t<tr><td>medium     </td><td>NA</td><td>NA</td><td>12</td><td>NA</td><td>NA</td><td>NA</td><td>NA</td><td>NA</td><td>NA</td></tr>\n",
       "\t<tr><td>who knows  </td><td>NA</td><td> 7</td><td>NA</td><td>NA</td><td>NA</td><td>NA</td><td>NA</td><td>NA</td><td>NA</td></tr>\n",
       "</tbody>\n",
       "</table>\n"
      ],
      "text/latex": [
       "A tibble: 6 × 10\n",
       "\\begin{tabular}{llllllllll}\n",
       " arch\\_type &  street & boots & high heels & hybrid & pumps & sandals & track & trail & walking\\\\\n",
       " <chr> & <dbl> & <dbl> & <dbl> & <dbl> & <dbl> & <dbl> & <dbl> & <dbl> & <dbl>\\\\\n",
       "\\hline\n",
       "\t extra crazy & NA & NA & NA & NA & 13 & NA & NA & NA & NA\\\\\n",
       "\t flat        & NA & NA & NA & NA & NA & NA & NA & NA & 11\\\\\n",
       "\t high        &  9 & NA & NA &  9 & NA & NA & NA &  9 & NA\\\\\n",
       "\t low         & NA & NA & NA & NA & NA & 10 & 10 & NA & NA\\\\\n",
       "\t medium      & NA & NA & 12 & NA & NA & NA & NA & NA & NA\\\\\n",
       "\t who knows   & NA &  7 & NA & NA & NA & NA & NA & NA & NA\\\\\n",
       "\\end{tabular}\n"
      ],
      "text/markdown": [
       "\n",
       "A tibble: 6 × 10\n",
       "\n",
       "| arch_type &lt;chr&gt; |  street &lt;dbl&gt; | boots &lt;dbl&gt; | high heels &lt;dbl&gt; | hybrid &lt;dbl&gt; | pumps &lt;dbl&gt; | sandals &lt;dbl&gt; | track &lt;dbl&gt; | trail &lt;dbl&gt; | walking &lt;dbl&gt; |\n",
       "|---|---|---|---|---|---|---|---|---|---|\n",
       "| extra crazy | NA | NA | NA | NA | 13 | NA | NA | NA | NA |\n",
       "| flat        | NA | NA | NA | NA | NA | NA | NA | NA | 11 |\n",
       "| high        |  9 | NA | NA |  9 | NA | NA | NA |  9 | NA |\n",
       "| low         | NA | NA | NA | NA | NA | 10 | 10 | NA | NA |\n",
       "| medium      | NA | NA | 12 | NA | NA | NA | NA | NA | NA |\n",
       "| who knows   | NA |  7 | NA | NA | NA | NA | NA | NA | NA |\n",
       "\n"
      ],
      "text/plain": [
       "  arch_type    street boots high heels hybrid pumps sandals track trail walking\n",
       "1 extra crazy NA      NA    NA         NA     13    NA      NA    NA    NA     \n",
       "2 flat        NA      NA    NA         NA     NA    NA      NA    NA    11     \n",
       "3 high         9      NA    NA          9     NA    NA      NA     9    NA     \n",
       "4 low         NA      NA    NA         NA     NA    10      10    NA    NA     \n",
       "5 medium      NA      NA    12         NA     NA    NA      NA    NA    NA     \n",
       "6 who knows   NA       7    NA         NA     NA    NA      NA    NA    NA     "
      ]
     },
     "metadata": {},
     "output_type": "display_data"
    }
   ],
   "source": [
    "# shoes_stuff %>% separate_rows(shoe_types,sep=',')\n",
    "long_shoes<-wide_shoes %>% pivot_longer(cols=2:10, names_to = \"Footwear\",\n",
    "                                        values_to = \"Sizes\")\n",
    "\n",
    "# pivot_wider: convert long->wide\n",
    "long_shoes%>% pivot_wider( names_from = Footwear, values_from = Sizes) \n"
   ]
  },
  {
   "cell_type": "markdown",
   "metadata": {},
   "source": [
    "`----------------------------`\n",
    "\n",
    "# <font color=red>LIKE</font>, Share &\n",
    "\n",
    "# <font color=red>SUB</font>scribe"
   ]
  },
  {
   "cell_type": "markdown",
   "metadata": {},
   "source": [
    "# Citations & Help:\n",
    "\n",
    "# <font size=6>◔̯◔</font>\n",
    "\n",
    "`Cheat Sheets`\n",
    "\n",
    "https://rstudio.com/wp-content/uploads/2015/02/data-wrangling-cheatsheet.pdf?utm_campaign=Data%2BElixir&utm_medium=web&utm_source=Data_Elixir_19#:~:text=Tidy%20Data%20%2D%20A%20foundation%20for,works%20as%20intuitively%20with%20R.&text=tidyr%3A%3Agather(cases%2C%20%22,4)%20Gather%20columns%20into%20rows\n",
    "\n",
    "https://github.com/rstudio/cheatsheets/blob/master/data-import.pdf \n",
    "\n",
    "https://rstudio.com/resources/cheatsheets/\n",
    "\n",
    "`Good Examples and documentation`\n",
    "\n",
    "https://bookdown.org/mikemahoney218/IDEAR/data-wrangling.html\n",
    "\n",
    "https://rstudio-pubs-static.s3.amazonaws.com/221386_a6b7054b6536462fb3ba49e0341142e5.html\n",
    "\n",
    "https://uc-r.github.io/tidyr\n",
    "\n",
    "http://biostat.mc.vanderbilt.edu/wiki/pub/Main/ColeBeck/datestimes.pdf\n",
    "\n",
    "https://medium.com/analytics-vidhya/advanced-data-wrangling-in-r-4-f98693b92851"
   ]
  }
 ],
 "metadata": {
  "kernelspec": {
   "display_name": "R",
   "language": "R",
   "name": "ir"
  },
  "language_info": {
   "codemirror_mode": "r",
   "file_extension": ".r",
   "mimetype": "text/x-r-source",
   "name": "R",
   "pygments_lexer": "r",
   "version": "4.0.0"
  }
 },
 "nbformat": 4,
 "nbformat_minor": 4
}
