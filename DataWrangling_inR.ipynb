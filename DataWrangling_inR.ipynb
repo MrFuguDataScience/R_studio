{
 "cells": [
  {
   "cell_type": "markdown",
   "metadata": {},
   "source": [
    "# R-Studio Data Wrangling and Cleaning:\n",
    "\n",
    "# <font color=red>Mr Fugu Data Science</font>\n",
    "\n",
    "# (◕‿◕✿)\n",
    "\n",
    "\n",
    "# Purpose & Outcome:\n",
    "\n",
    "+ Learn Different Techniques to manipulate your data\n",
    "\n",
    "+ Extend your skills and learn something useful, and remember: `always, be leery of steely-eyed orange guys with weird hair and fake news.`\n",
    "\n",
    "**Disclaimer**: always, evaluate your data and look at examples as just that; and NOT a savior to all your problems. These are tools to aid you NOT answer every concernt that comes up, because they are all different. \n"
   ]
  },
  {
   "cell_type": "code",
   "execution_count": 1,
   "metadata": {},
   "outputs": [
    {
     "name": "stderr",
     "output_type": "stream",
     "text": [
      "── \u001b[1mAttaching packages\u001b[22m ─────────────────────────────────────── tidyverse 1.3.0 ──\n",
      "\n",
      "\u001b[32m✔\u001b[39m \u001b[34mggplot2\u001b[39m 3.3.2     \u001b[32m✔\u001b[39m \u001b[34mpurrr  \u001b[39m 0.3.4\n",
      "\u001b[32m✔\u001b[39m \u001b[34mtibble \u001b[39m 3.0.1     \u001b[32m✔\u001b[39m \u001b[34mdplyr  \u001b[39m 1.0.0\n",
      "\u001b[32m✔\u001b[39m \u001b[34mtidyr  \u001b[39m 1.1.0     \u001b[32m✔\u001b[39m \u001b[34mstringr\u001b[39m 1.4.0\n",
      "\u001b[32m✔\u001b[39m \u001b[34mreadr  \u001b[39m 1.3.1     \u001b[32m✔\u001b[39m \u001b[34mforcats\u001b[39m 0.5.0\n",
      "\n",
      "── \u001b[1mConflicts\u001b[22m ────────────────────────────────────────── tidyverse_conflicts() ──\n",
      "\u001b[31m✖\u001b[39m \u001b[34mdplyr\u001b[39m::\u001b[32mfilter()\u001b[39m masks \u001b[34mstats\u001b[39m::filter()\n",
      "\u001b[31m✖\u001b[39m \u001b[34mdplyr\u001b[39m::\u001b[32mlag()\u001b[39m    masks \u001b[34mstats\u001b[39m::lag()\n",
      "\n"
     ]
    }
   ],
   "source": [
    "library(tidyverse)\n",
    "library(knitr) # \n"
   ]
  },
  {
   "cell_type": "markdown",
   "metadata": {},
   "source": [
    "# Sales Data With Removed Canceled Orders:\n",
    " "
   ]
  },
  {
   "cell_type": "code",
   "execution_count": null,
   "metadata": {},
   "outputs": [],
   "source": [
    "sales_orders<-read.csv('SalesDataNoCancels.csv')\n",
    "\n",
    "# head(sales_orders)\n",
    "\n",
    "# head(subset(sales_orders$Country!='United Kingdom'))\n",
    "# sales_wo_uk<-subset(sales_orders, Country!='United Kingdom')"
   ]
  },
  {
   "cell_type": "code",
   "execution_count": null,
   "metadata": {},
   "outputs": [],
   "source": [
    "# One Way To Change to Date Format:\n",
    "date_t_01<-sales_orders%>% mutate_at(vars(InvoiceDate), as.Date, format=\"%m/%d/%Y %H:%M\")\n",
    "head(date_t_01)"
   ]
  },
  {
   "cell_type": "code",
   "execution_count": null,
   "metadata": {},
   "outputs": [],
   "source": [
    "# the UK dwarfs the data, that is why I remove it here:\n",
    "sales_wo_uk<-subset(sales_orders, Country!='United Kingdom')"
   ]
  },
  {
   "cell_type": "markdown",
   "metadata": {},
   "source": [
    "# Parsing the dates from the data for our examples today."
   ]
  },
  {
   "cell_type": "code",
   "execution_count": null,
   "metadata": {},
   "outputs": [],
   "source": [
    "# Taking the Date column and converting from char -> date/time\n",
    "time_<-strptime(sales_wo_uk$InvoiceDate, \"%m/%d/%Y %H:%M\")\n",
    "\n",
    "time_conversion<-as.POSIXct(time_) # convert object to class: date/time\n",
    "\n",
    "dates_fix<-data.frame(\n",
    "   date=time_conversion,\n",
    "   hour=format(time_conversion, \"%H\"),\n",
    "   day=format(time_conversion,\"%d\"),\n",
    "   month=format(time_conversion,\"%m\"),\n",
    "   year=format(time_conversion,\"%Y\"),\n",
    "month_year=format(time_conversion,\"%m/%Y\"))\n",
    "\n",
    "\n",
    "\n",
    "head(dates_fix)"
   ]
  },
  {
   "cell_type": "code",
   "execution_count": null,
   "metadata": {},
   "outputs": [],
   "source": [
    "# Month Name:\n",
    "dates_fix$month_abbrv<-month.abb[as.numeric(dates_fix$month)]\n",
    "\n",
    "\n",
    "# Day of Week Names\n",
    "dates_fix$day_of_week<-strftime(dates_fix$date,'%A')\n",
    "head(dates_fix)"
   ]
  },
  {
   "cell_type": "markdown",
   "metadata": {},
   "source": [
    "# Create a new column of `Sales totals=Qty*Price`\n",
    "\n",
    "+ This is just 1 way of doing this by the way"
   ]
  },
  {
   "cell_type": "code",
   "execution_count": null,
   "metadata": {},
   "outputs": [],
   "source": [
    "\n",
    "sales_wo_uk$Sales_Tot<-sales_wo_uk$Quantity*sales_wo_uk$UnitPrice\n",
    "head(sales_wo_uk)"
   ]
  },
  {
   "cell_type": "markdown",
   "metadata": {},
   "source": [
    "# If you had to combine two data frames:\n",
    "\n",
    "+ There is `cbind`: which works columnwise, meaning it forms an abuttment.\n",
    "    + Otherwise, you have `rbind`: which would just append to end of rows"
   ]
  },
  {
   "cell_type": "code",
   "execution_count": null,
   "metadata": {},
   "outputs": [],
   "source": [
    "sales_orders_expanded<-cbind(sales_wo_uk,dates_fix)\n",
    "\n",
    "head(sales_orders_expanded)"
   ]
  },
  {
   "cell_type": "markdown",
   "metadata": {},
   "source": [
    "# Change Layout of Data :\n",
    "\n",
    "For the first few examples, lets evaluate these data as `CustomerID`, `SalesTot`, `Monthyear`\n",
    "to create a new table"
   ]
  },
  {
   "cell_type": "code",
   "execution_count": null,
   "metadata": {},
   "outputs": [],
   "source": [
    "sub<-c('CustomerID','Sales_Tot','day_of_week')\n",
    "head(sales_orders_expanded[sub])"
   ]
  },
  {
   "cell_type": "markdown",
   "metadata": {},
   "source": [
    "# *Reshape*: using `tidyr` which is found in `tidyverse`\n",
    "\n",
    "`----------------------------------------------------`"
   ]
  },
  {
   "cell_type": "markdown",
   "metadata": {},
   "source": [
    "# `Gather`: Wide to Long\n",
    "\n",
    "\n"
   ]
  },
  {
   "cell_type": "code",
   "execution_count": null,
   "metadata": {},
   "outputs": [],
   "source": [
    "mean_<-c(60,50,40,30,10)\n",
    "sd_<-c(2,1,3,2,4)\n",
    "items<-c('a','a','b','c','d')\n",
    "df_1<-data.frame(items,mean_,sd_)\n",
    "\n",
    "df_1\n",
    "\n",
    "gather(df_1,mean_,sd_,key='keys',value='vals')"
   ]
  },
  {
   "cell_type": "markdown",
   "metadata": {},
   "source": [
    "# `separate`: Make Long Data Wide\n",
    "\n",
    "+ spliting 1 column into multiple columns"
   ]
  },
  {
   "cell_type": "code",
   "execution_count": null,
   "metadata": {},
   "outputs": [],
   "source": [
    "# `separate`: Make Long Data Wide, spliting 1 column into multiple columns\n",
    "\n",
    "\n",
    "# sub_<-c('Country','CustomerID','Sales_Tot','day_of_week')\n",
    "# head(sales_orders_expanded[sub_])\n",
    "long_to_wide<-separate(sales_orders,'InvoiceDate',c('month','day','Year','hour','min'))\n",
    "\n",
    "head(long_to_wide)"
   ]
  },
  {
   "cell_type": "markdown",
   "metadata": {},
   "source": [
    "# `Unite`: make 2 variables into 1\n",
    "\n",
    "+ creating a time of hour and minutes together\n",
    "\n",
    "if you do not put a separator, by default you will have an underscore "
   ]
  },
  {
   "cell_type": "code",
   "execution_count": null,
   "metadata": {},
   "outputs": [],
   "source": [
    "long_to_wide %>% unite(Time,hour,min,sep=':')"
   ]
  },
  {
   "cell_type": "markdown",
   "metadata": {},
   "source": [
    "# `Seperate_rows`: Convert 1 column into more rows from an invidual cell\n"
   ]
  },
  {
   "cell_type": "code",
   "execution_count": null,
   "metadata": {},
   "outputs": [],
   "source": [
    "shoe_types<-c('trail, street,hybrid','track,sandals','walking','high heels',\n",
    "              -'pumps','boots')\n",
    "arch_type<-c('high','low','flat','medium','extra crazy','who knows')\n",
    "size_s<-c(9,10,11,12,13,7)\n",
    "\n",
    "shoes_stuff<-data.frame(shoe_types,arch_type,size_s)\n",
    "shoes_stuff"
   ]
  },
  {
   "cell_type": "code",
   "execution_count": null,
   "metadata": {},
   "outputs": [],
   "source": [
    "shoes_stuff %>% separate_rows(shoe_types,sep=',')"
   ]
  },
  {
   "cell_type": "markdown",
   "metadata": {},
   "source": [
    "#  `Spread`:  separates each cell into a column\n",
    "\n",
    "Think of using a two columns: one as a key, other as a values. then you take the column that was a key and expand that into more columns based on unique row values. "
   ]
  },
  {
   "cell_type": "code",
   "execution_count": null,
   "metadata": {},
   "outputs": [],
   "source": [
    "ww<-shoes_stuff %>% separate_rows(shoe_types,sep=',')\n",
    "ww%>% spread(shoe_types,size_s) "
   ]
  },
  {
   "cell_type": "markdown",
   "metadata": {},
   "source": [
    "# `Complete`: takes a set of cloumns and finds all combinations that are unique. *It will fill in NA values  when neccessary*."
   ]
  },
  {
   "cell_type": "code",
   "execution_count": null,
   "metadata": {},
   "outputs": [],
   "source": [
    "sub_w<-c('CustomerID','Sales_Tot','month_year')\n",
    "a<-as.factor(sales_orders_expanded[sub_w]$month_year)\n",
    "cc<-sales_orders_expanded[sub_w]\n",
    "cc$date_col_asfactor<-a\n",
    "\n",
    "complete(data = head(cc,10 ),date_col_asfactor)\n",
    "\n",
    "# Notice that the datatypes 'classes' are not the same"
   ]
  },
  {
   "cell_type": "code",
   "execution_count": null,
   "metadata": {},
   "outputs": [],
   "source": [
    "# read.csv('online_sales.csv')"
   ]
  },
  {
   "cell_type": "markdown",
   "metadata": {},
   "source": [
    "# What is `Dplyr`: it is a package inside `tidyverse` allowing us to manipulate and transform our data\n",
    "\n",
    "+ As an artifact you are able to write code that is readable for humans and cogent. \n",
    "+ There are 5 very common functions (\"verbs\") that you will use when using `dplyr`\n",
    "    + `filter`\n",
    "    + `select`\n",
    "    + `arrange`\n",
    "    + `mutate`\n",
    "    + `summarise`\n",
    "    \n",
    "\n",
    "\n",
    "https://programminghistorian.org/en/lessons/data_wrangling_and_management_in_R"
   ]
  },
  {
   "cell_type": "markdown",
   "metadata": {},
   "source": [
    "# Let's find the shoes in stock in a certain size range:\n",
    "\n",
    "+ Using: `filter and select`\n",
    "\n",
    "`filter`: works by row\n",
    "\n",
    "`select`: columnwise"
   ]
  },
  {
   "cell_type": "code",
   "execution_count": null,
   "metadata": {},
   "outputs": [],
   "source": [
    "shoes_long_<-shoes_stuff %>% separate_rows(shoe_types,sep=',')\n",
    "\n",
    "shoes_by_size_range <- shoes_long_ %>%\n",
    "  filter(size_s >9 & size_s <12) %>%\n",
    "  select(shoe_types,arch_type,size_s)\n",
    "\n",
    "shoes_by_size_range\n",
    "\n",
    "\n"
   ]
  },
  {
   "cell_type": "markdown",
   "metadata": {},
   "source": [
    "# `Arrange`: will arrange rows by a specific column value"
   ]
  },
  {
   "cell_type": "code",
   "execution_count": null,
   "metadata": {},
   "outputs": [],
   "source": [
    "# Going from descending order of shoes by size\n",
    "shoes_long_ %>% arrange(desc(size_s))"
   ]
  },
  {
   "cell_type": "code",
   "execution_count": null,
   "metadata": {},
   "outputs": [],
   "source": [
    "# Alt. Example with 2 variables:\n",
    "head(date_t_01 %>% arrange(desc(Country),desc(InvoiceDate)))"
   ]
  },
  {
   "cell_type": "markdown",
   "metadata": {},
   "source": [
    "# `Mutate`: Add a new variable to DF, think column"
   ]
  },
  {
   "cell_type": "code",
   "execution_count": null,
   "metadata": {},
   "outputs": [],
   "source": [
    "head(date_t_01 %>% mutate(SalesTotsYay=Quantity*UnitPrice))"
   ]
  },
  {
   "cell_type": "markdown",
   "metadata": {},
   "source": [
    "# `Summarize`: \n",
    "\n",
    "Creates a new dataframe that will have one or more rows for grouping, you are using a function to count, calculate the mean etc as a new column.\n",
    "\n",
    "https://dplyr.tidyverse.org/reference/summarise.html"
   ]
  },
  {
   "cell_type": "code",
   "execution_count": null,
   "metadata": {},
   "outputs": [],
   "source": [
    "\n",
    "\n",
    "ss<-shoes_long_   %>% \n",
    "  tibble::as_tibble() \n",
    "\n",
    "# count number of shoes based on size\n",
    "ss %>%\n",
    "  group_by(size_s) %>%\n",
    "  summarise( n = n())\n",
    "\n",
    "ss # print just the original data\n",
    "\n",
    "# Group by shoe size and arch_type then count numbers available\n",
    "ss %>%\n",
    "  group_by(size_s,arch_type) %>%\n",
    "  summarise( n = n())"
   ]
  },
  {
   "cell_type": "markdown",
   "metadata": {},
   "source": [
    "# `Nest & Chop`: \n",
    "\n",
    "+ `Nest`: creates a list of column dataframes\n",
    "    + There is a reverse of this called `unnest`\n",
    "    \n",
    "+ `Chop`: preserve the width of a DF, it is converting row lists into columns\n",
    "    \n",
    "https://tidyr.tidyverse.org/reference/chop.html"
   ]
  },
  {
   "cell_type": "code",
   "execution_count": null,
   "metadata": {},
   "outputs": [],
   "source": [
    "# Originsl data:\n",
    "ss\n",
    "# Nest:\n",
    "ss %>% nest(size_arch = c(shoe_types, arch_type))\n",
    "\n",
    "# Chop:\n",
    "ss %>% chop( c(shoe_types, arch_type))\n"
   ]
  },
  {
   "cell_type": "markdown",
   "metadata": {},
   "source": [
    "# Alt Example:"
   ]
  },
  {
   "cell_type": "code",
   "execution_count": null,
   "metadata": {},
   "outputs": [],
   "source": [
    "df <- tibble(x = c(1, 1, 1, 2, 2, 3), y = 1:6, z = 6:1)\n",
    "# Note that we get one row of output for each unique combination of\n",
    "# non-nested variables\n",
    "df %>% nest(data = c(y, z))\n",
    "df %>% chop(c(y, z))\n",
    "df\n",
    "\n",
    "# https://tidyr.tidyverse.org/reference/nest.html (this example came from here)"
   ]
  },
  {
   "cell_type": "markdown",
   "metadata": {},
   "source": [
    "# Pivot from Wide to Long: `pivot_longer`\n"
   ]
  },
  {
   "cell_type": "code",
   "execution_count": null,
   "metadata": {},
   "outputs": [],
   "source": [
    "#starting data: wide format\n",
    "wide_shoes<-ww%>% spread(shoe_types,size_s) \n",
    "wide_shoes"
   ]
  },
  {
   "cell_type": "code",
   "execution_count": null,
   "metadata": {},
   "outputs": [],
   "source": [
    "#convert to long data with pivot_longer:\n",
    "wide_shoes %>% pivot_longer(cols=2:10, names_to = \"Quarter\", values_to = \"Delay\")"
   ]
  },
  {
   "cell_type": "markdown",
   "metadata": {},
   "source": [
    "# Going in reverse: Long to Wide using `pivot_wider`"
   ]
  },
  {
   "cell_type": "code",
   "execution_count": null,
   "metadata": {},
   "outputs": [],
   "source": [
    "# shoes_stuff %>% separate_rows(shoe_types,sep=',')\n",
    "long_shoes<-wide_shoes %>% pivot_longer(cols=2:10, names_to = \"Footwear\",\n",
    "                                        values_to = \"Sizes\")\n",
    "\n",
    "# pivot_wider: convert long->wide\n",
    "long_shoes%>% pivot_wider( names_from = Footwear, values_from = Sizes) \n"
   ]
  },
  {
   "cell_type": "markdown",
   "metadata": {},
   "source": [
    "`----------------------------`\n",
    "\n",
    "# <font color=red>LIKE</font>, Share &\n",
    "\n",
    "# <font color=red>SUB</font>scribe"
   ]
  },
  {
   "cell_type": "markdown",
   "metadata": {},
   "source": [
    "# Citations & Help:\n",
    "\n",
    "# <font size=6>◔̯◔</font>\n",
    "\n",
    "`Cheat Sheets`\n",
    "\n",
    "https://rstudio.com/wp-content/uploads/2015/02/data-wrangling-cheatsheet.pdf?utm_campaign=Data%2BElixir&utm_medium=web&utm_source=Data_Elixir_19#:~:text=Tidy%20Data%20%2D%20A%20foundation%20for,works%20as%20intuitively%20with%20R.&text=tidyr%3A%3Agather(cases%2C%20%22,4)%20Gather%20columns%20into%20rows\n",
    "\n",
    "https://github.com/rstudio/cheatsheets/blob/master/data-import.pdf \n",
    "\n",
    "https://rstudio.com/resources/cheatsheets/\n",
    "\n",
    "`Good Examples and documentation`\n",
    "\n",
    "https://bookdown.org/mikemahoney218/IDEAR/data-wrangling.html\n",
    "\n",
    "https://rstudio-pubs-static.s3.amazonaws.com/221386_a6b7054b6536462fb3ba49e0341142e5.html\n",
    "\n",
    "https://uc-r.github.io/tidyr\n",
    "\n",
    "http://biostat.mc.vanderbilt.edu/wiki/pub/Main/ColeBeck/datestimes.pdf\n",
    "\n",
    "https://medium.com/analytics-vidhya/advanced-data-wrangling-in-r-4-f98693b92851"
   ]
  }
 ],
 "metadata": {
  "kernelspec": {
   "display_name": "R",
   "language": "R",
   "name": "ir"
  },
  "language_info": {
   "codemirror_mode": "r",
   "file_extension": ".r",
   "mimetype": "text/x-r-source",
   "name": "R",
   "pygments_lexer": "r",
   "version": "4.0.0"
  }
 },
 "nbformat": 4,
 "nbformat_minor": 4
}
